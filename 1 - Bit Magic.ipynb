{
  "nbformat": 4,
  "nbformat_minor": 0,
  "metadata": {
    "colab": {
      "provenance": [],
      "authorship_tag": "ABX9TyNq5NXnvYEsR3T4O4McZnpj",
      "include_colab_link": true
    },
    "kernelspec": {
      "name": "python3",
      "display_name": "Python 3"
    },
    "language_info": {
      "name": "python"
    }
  },
  "cells": [
    {
      "cell_type": "markdown",
      "metadata": {
        "id": "view-in-github",
        "colab_type": "text"
      },
      "source": [
        "<a href=\"https://colab.research.google.com/github/Thrishankkuntimaddi/Data-Structures-and-Algorithms-Advanced-/blob/main/1%20-%20Bit%20Magic.ipynb\" target=\"_parent\"><img src=\"https://colab.research.google.com/assets/colab-badge.svg\" alt=\"Open In Colab\"/></a>"
      ]
    },
    {
      "cell_type": "markdown",
      "source": [
        "# Bit Magic\n",
        "\n",
        "### Binary Representation of Negative Numbers\n",
        "\n",
        "-> Negative numbers are represented in 2's complement form\n",
        "\n",
        "-> Range of numbers : [-2^(n-1) to 2^(n-1)-1] : n - no.of bits\n",
        "\n",
        "-> Steps to get 2's Complement\n",
        "\n",
        "1. Invert all Bits\n",
        "\n",
        "2. Add 1\n",
        "\n",
        "Direct Formula = 2^n - x\n",
        "\n",
        "--------------------\n",
        "\n",
        "Example : n = 4\n",
        "\n",
        "Range : [-2^3 to 2^3 - 1]\n",
        "\n",
        "Binary Representation of x = 3\n",
        "\n",
        "3 : 0011\n",
        "\n",
        "2's complement = (1100 + 1) = 1101\n",
        "\n",
        "\n",
        "Why 2's complement form..?\n",
        "\n",
        "1. we have only one representation of zero\n",
        "\n",
        "2. The arithematic operations are easier to perform. Actually 2's complement form is dervied from the idea of 0-x\n",
        "\n",
        "3. The leading bit is always 1\n"
      ],
      "metadata": {
        "id": "7gXeBu7g5kV1"
      }
    },
    {
      "cell_type": "markdown",
      "source": [
        "## Bitwise Operations\n",
        "\n",
        "-> Decimal to Binary  \n",
        "\n",
        "-> Binary to Decimal\n",
        "\n",
        "-> Bitwise Operator's:\n",
        "\n",
        "      -> Bitwise AND : &\n",
        "\n",
        "      -> Bitwise OR : |\n",
        "\n",
        "      -> Bitwise XOR : ^\n",
        "\n",
        "      -> Left shift Operator (Zero inserted at left side)\n",
        "\n",
        "      -> Right Shift Operator (Zero inserted at Right side)\n",
        "\n",
        "      -> Bitwise NOT : ~"
      ],
      "metadata": {
        "id": "CzKe3IxW67HG"
      }
    },
    {
      "cell_type": "markdown",
      "source": [
        "# Check the kth bit is set or not\n",
        "\n",
        "I/P : n = 5; k = 1\n",
        "\n",
        "O/P : Yes\n",
        "\n",
        "k <= No.of bits in Binary Representation"
      ],
      "metadata": {
        "id": "s3-X3Qqi7xBm"
      }
    },
    {
      "cell_type": "code",
      "execution_count": null,
      "metadata": {
        "colab": {
          "base_uri": "https://localhost:8080/"
        },
        "id": "P_uW28805hbL",
        "outputId": "a3fbd8f6-940e-4631-ed2b-dbd0339bc1b3"
      },
      "outputs": [
        {
          "output_type": "stream",
          "name": "stdout",
          "text": [
            "SET\n",
            "NOT SET\n"
          ]
        }
      ],
      "source": [
        "def iskth(n, k):\n",
        "  if n & (1<<(k-1)):\n",
        "    print(\"SET\")\n",
        "  else:\n",
        "    print(\"NOT SET\")\n",
        "\n",
        "iskth(5, 3)\n",
        "iskth(5, 2)"
      ]
    },
    {
      "cell_type": "code",
      "source": [
        "def iskth(n, k):\n",
        "  if n >> (k-1) & 1:\n",
        "    print(\"SET\")\n",
        "  else:\n",
        "    print(\"NOT SET\")\n",
        "\n",
        "iskth(5, 3)\n",
        "iskth(5, 2)"
      ],
      "metadata": {
        "colab": {
          "base_uri": "https://localhost:8080/"
        },
        "id": "YRwZMY7l-N_Z",
        "outputId": "79fd958f-700f-4598-c1c4-1099cc56decf"
      },
      "execution_count": null,
      "outputs": [
        {
          "output_type": "stream",
          "name": "stdout",
          "text": [
            "SET\n",
            "NOT SET\n"
          ]
        }
      ]
    },
    {
      "cell_type": "markdown",
      "source": [
        "# Count Set Bits\n",
        "\n",
        "I/P : n = 5\n",
        "\n",
        "O/P : 2\n",
        "\n",
        "\n",
        "Naive Solution\n",
        "\n",
        "LSB : Least Significant Bit\n",
        "\n",
        "MSB : Most Significant Bit\n",
        "\n",
        "1. Initialize res = 0\n",
        "\n",
        "2. Traverse through all bits from LSB to MSB and increment res for set bits\n",
        "\n",
        "3. return res\n",
        "\n",
        "Hint : we get LSB of n using n%2"
      ],
      "metadata": {
        "id": "1_2-z-wT_EJ2"
      }
    },
    {
      "cell_type": "code",
      "source": [
        "# Naive Solution\n",
        "\n",
        "def countBits(n):\n",
        "  res = 0\n",
        "  while n:\n",
        "    if n%2 == 1:\n",
        "      res += 1\n",
        "    n = n//2\n",
        "\n",
        "  return res\n",
        "\n",
        "# Time Complexity : O(no.of bits)\n",
        "\n",
        "countBits(9)"
      ],
      "metadata": {
        "colab": {
          "base_uri": "https://localhost:8080/"
        },
        "id": "uA13Ns0f-7E9",
        "outputId": "2d7a6463-e1d0-48de-dd1f-f0e3f3b56d50"
      },
      "execution_count": null,
      "outputs": [
        {
          "output_type": "execute_result",
          "data": {
            "text/plain": [
              "2"
            ]
          },
          "metadata": {},
          "execution_count": 10
        }
      ]
    },
    {
      "cell_type": "code",
      "source": [
        "# Efficient Solution : Brian Kernigam's Algorithm\n",
        "\n",
        "# Idea : Traverse only through set bits\n",
        "\n",
        "def countBits(n):\n",
        "  res = 0\n",
        "  while n:\n",
        "    n = n & (n-1)\n",
        "    res = res + 1      # This Expression should make last set bit as 0\n",
        "\n",
        "  return res\n",
        "\n",
        "\n",
        "countBits(9)\n",
        "\n",
        "# Time Complexity : O(Set Bits)"
      ],
      "metadata": {
        "colab": {
          "base_uri": "https://localhost:8080/"
        },
        "id": "IlY_I-tj_xMd",
        "outputId": "361928ef-d69c-4bbd-941a-4c1827ba30e6"
      },
      "execution_count": null,
      "outputs": [
        {
          "output_type": "execute_result",
          "data": {
            "text/plain": [
              "2"
            ]
          },
          "metadata": {},
          "execution_count": 12
        }
      ]
    },
    {
      "cell_type": "markdown",
      "source": [
        "# Lookup Table Solution\n",
        "\n",
        "- Constant Time Preprocessing\n",
        "\n",
        "- Works for 32 bit numbers"
      ],
      "metadata": {
        "id": "2JIWNv1XAs6H"
      }
    },
    {
      "cell_type": "code",
      "source": [
        "n = 13\n",
        "\n",
        "tbl = [0] * 256\n",
        "\n",
        "def initialize():\n",
        "  for i in range(256):\n",
        "    tbl[i] = (i&1) + tbl[i//2]\n",
        "\n",
        "def countsetBits(n):\n",
        "    return tbl[n & 0xff] + tbl[(n >> 8) & 0xff] + tbl[(n >> 16) & 0xff] + tbl[(n >> 24) & 0xff]\n",
        "\n",
        "initialize()\n",
        "countsetBits(n)\n",
        "\n",
        "# Time Complexity : O(1)"
      ],
      "metadata": {
        "colab": {
          "base_uri": "https://localhost:8080/"
        },
        "id": "rKWrmidoA6dz",
        "outputId": "d0bfa241-1915-424e-c13c-8dd50484ff04"
      },
      "execution_count": null,
      "outputs": [
        {
          "output_type": "execute_result",
          "data": {
            "text/plain": [
              "3"
            ]
          },
          "metadata": {},
          "execution_count": 16
        }
      ]
    },
    {
      "cell_type": "markdown",
      "source": [
        "# Find the Only Odd\n",
        "\n",
        "I/P : l = [10, 30, 30, 10, 30, 30, 20]\n",
        "\n",
        "O/P : 20"
      ],
      "metadata": {
        "id": "jU-GLtGZB16Y"
      }
    },
    {
      "cell_type": "code",
      "source": [
        "# Method 1 (Simple)\n",
        "\n",
        "# Traverse every element in list\n",
        "\n",
        "def findOdd(l):\n",
        "  res = None\n",
        "  for x in l:\n",
        "    count = l.count(x)\n",
        "    if count%2 != 0:\n",
        "      res = x\n",
        "      break\n",
        "  return res\n",
        "\n",
        "l = [10, 10, 20, 20, 30]\n",
        "findOdd(l)\n",
        "\n",
        "# Time Complexity : O(n)"
      ],
      "metadata": {
        "colab": {
          "base_uri": "https://localhost:8080/"
        },
        "id": "eBXTelhyBbIA",
        "outputId": "ef342612-9385-41d3-ac3d-e57d213d2457"
      },
      "execution_count": null,
      "outputs": [
        {
          "output_type": "execute_result",
          "data": {
            "text/plain": [
              "30"
            ]
          },
          "metadata": {},
          "execution_count": 17
        }
      ]
    },
    {
      "cell_type": "code",
      "source": [
        "# Method 2 (Bitwise XOR)\n",
        "'''\n",
        "\n",
        "XOR Properties\n",
        "    X^0 = X\n",
        "    X^X = X\n",
        "\n",
        "'''\n",
        "\n",
        "l = [10, 10, 20, 20, 30]\n",
        "\n",
        "def findOdd(l):\n",
        "  res = 0\n",
        "  for x in l:\n",
        "    res = res^x\n",
        "\n",
        "  return res\n",
        "\n",
        "findOdd(l)"
      ],
      "metadata": {
        "colab": {
          "base_uri": "https://localhost:8080/"
        },
        "id": "1U63OdEoCo0n",
        "outputId": "75c4f17a-285e-4a60-801b-38712c1b63be"
      },
      "execution_count": null,
      "outputs": [
        {
          "output_type": "execute_result",
          "data": {
            "text/plain": [
              "30"
            ]
          },
          "metadata": {},
          "execution_count": 18
        }
      ]
    },
    {
      "cell_type": "markdown",
      "source": [
        "# Power of 2\n",
        "\n",
        "I/P : n = 4\n",
        "\n",
        "O/P : Yes"
      ],
      "metadata": {
        "id": "UqWBrKjtDrXl"
      }
    },
    {
      "cell_type": "code",
      "source": [
        "# Naive Solution\n",
        "\n",
        "def pow(n):\n",
        "  if n == 0:\n",
        "    return False\n",
        "  while n != 1:\n",
        "    if n%2 != 0:\n",
        "      return False\n",
        "    n = n//2\n",
        "  return True\n",
        "\n",
        "pow(4)"
      ],
      "metadata": {
        "colab": {
          "base_uri": "https://localhost:8080/"
        },
        "id": "FUB8U-svDNu9",
        "outputId": "aa0dc392-7ab0-4a56-e1ba-22bf2930f4bb"
      },
      "execution_count": null,
      "outputs": [
        {
          "output_type": "execute_result",
          "data": {
            "text/plain": [
              "True"
            ]
          },
          "metadata": {},
          "execution_count": 19
        }
      ]
    },
    {
      "cell_type": "code",
      "source": [
        "# Efficient Solution\n",
        "\n",
        "def pow(n):\n",
        "  if n == 0:\n",
        "    return False\n",
        "  return (n & (n-1) == 0)\n",
        "\n",
        "pow(3)"
      ],
      "metadata": {
        "colab": {
          "base_uri": "https://localhost:8080/"
        },
        "id": "UmZ0kWs6ECEw",
        "outputId": "cf0d7332-ec0f-4926-98ef-fdfb580022db"
      },
      "execution_count": null,
      "outputs": [
        {
          "output_type": "execute_result",
          "data": {
            "text/plain": [
              "False"
            ]
          },
          "metadata": {},
          "execution_count": 20
        }
      ]
    },
    {
      "cell_type": "markdown",
      "source": [
        "# Find the Only One Odd Occuring\n",
        "\n",
        "I/P : [4, 3, 4, 4, 4, 5, 5]\n",
        "\n",
        "O/P : 3"
      ],
      "metadata": {
        "id": "MWlbwCAbERiy"
      }
    },
    {
      "cell_type": "code",
      "source": [
        "# Naive Solution\n",
        "\n",
        "def findoneOdd(arr):\n",
        "  for i in arr:\n",
        "    c = 0\n",
        "    for j in arr:\n",
        "      if i == j:\n",
        "        c += 1\n",
        "    if c%2 != 0:\n",
        "      return i\n",
        "\n",
        "findoneOdd([4, 3, 4, 4, 4, 5, 5])\n",
        "\n",
        "# Time Complexity : O(n^2)"
      ],
      "metadata": {
        "colab": {
          "base_uri": "https://localhost:8080/"
        },
        "id": "NKmgK7xjEOuY",
        "outputId": "5e94792f-7ba3-45f2-fcb6-64e45806a748"
      },
      "execution_count": null,
      "outputs": [
        {
          "output_type": "execute_result",
          "data": {
            "text/plain": [
              "3"
            ]
          },
          "metadata": {},
          "execution_count": 21
        }
      ]
    },
    {
      "cell_type": "code",
      "source": [
        "# Efficient Solution\n",
        "\n",
        "def findoneOdd(arr):\n",
        "  res = 0\n",
        "  for i in arr:\n",
        "    res = res ^ i\n",
        "  return res\n",
        "\n",
        "findoneOdd([4, 3, 4, 4, 4, 5, 5])\n",
        "\n",
        "# Time Complexity : O(n)"
      ],
      "metadata": {
        "colab": {
          "base_uri": "https://localhost:8080/"
        },
        "id": "qiWpKXR4Ezy0",
        "outputId": "7a901c33-7e1e-4148-9f25-91d088b0e4d1"
      },
      "execution_count": null,
      "outputs": [
        {
          "output_type": "execute_result",
          "data": {
            "text/plain": [
              "3"
            ]
          },
          "metadata": {},
          "execution_count": 22
        }
      ]
    },
    {
      "cell_type": "markdown",
      "source": [
        "# Find the Two Odd occuring Elements\n",
        "\n",
        "I/P : arr = [3, 4, 3, 4, 5, 4, 4, 6, 7, 7]\n",
        "\n",
        "O/P : 5 6"
      ],
      "metadata": {
        "id": "NkAL0nCTFJZr"
      }
    },
    {
      "cell_type": "code",
      "source": [
        "# Naive Solution\n",
        "\n",
        "def OddApp(arr):\n",
        "  for i in arr:\n",
        "    c = 0\n",
        "    for j in arr:\n",
        "      if i == j:\n",
        "        c += 1\n",
        "    if c%2 != 0:\n",
        "      print(i, end = \" \")\n",
        "\n",
        "OddApp([3, 4, 3, 4, 5, 4, 4, 6, 7, 7])\n",
        "\n",
        "# Time Complexity : O(n^2)"
      ],
      "metadata": {
        "colab": {
          "base_uri": "https://localhost:8080/"
        },
        "id": "x1f-bgO1FCjE",
        "outputId": "7930fd88-aa35-4b58-b01d-68c62b97d422"
      },
      "execution_count": null,
      "outputs": [
        {
          "output_type": "stream",
          "name": "stdout",
          "text": [
            "5 6 "
          ]
        }
      ]
    },
    {
      "cell_type": "code",
      "source": [
        "# Efficient Solution\n",
        "\n",
        "def OddApp(arr):\n",
        "  xors = 0\n",
        "  res1 = 0\n",
        "  res2 = 0\n",
        "\n",
        "  for i in arr:\n",
        "    xors = xors ^ i\n",
        "\n",
        "  sn = xors & ~(xors - 1)\n",
        "\n",
        "  for i in arr:\n",
        "    if i & sn != 0:\n",
        "      res1 = res1 ^ i\n",
        "    else:\n",
        "      res2 = res2 ^ i\n",
        "\n",
        "  print(res1, res2)\n",
        "\n",
        "OddApp([3, 4, 3, 4, 5, 4, 4, 6, 7, 7])\n",
        "\n",
        "# Time Complexity : O(n)"
      ],
      "metadata": {
        "colab": {
          "base_uri": "https://localhost:8080/"
        },
        "id": "6rafC6c9Fme_",
        "outputId": "e1cf5976-4ea8-400e-b35e-a640ba0fec5e"
      },
      "execution_count": null,
      "outputs": [
        {
          "output_type": "stream",
          "name": "stdout",
          "text": [
            "5 6\n"
          ]
        }
      ]
    },
    {
      "cell_type": "markdown",
      "source": [
        "# Power Set using Bitwise\n",
        "\n",
        "s = \"abc\", n = 3\n",
        "\n",
        "we consider binary representations of numbers from 0 to 7\n",
        "\n",
        "     0    0 0 0    \" \"   \n",
        "\n",
        "     1    0 0 1    \"a\"\n",
        "     \n",
        "     2    0 1 0    \"b\"\n",
        "     \n",
        "     3    0 1 1    \"ab\"\n",
        "     \n",
        "     4    1 0 0    \"c\"\n",
        "     \n",
        "     5    1 0 1    \"ac\"\n",
        "     \n",
        "     6    1 1 0    \"bc\"\n",
        "     \n",
        "     7    1 1 1    \"abc\""
      ],
      "metadata": {
        "id": "HPXt-sAKGsCx"
      }
    },
    {
      "cell_type": "code",
      "source": [
        "def printPowset(s):\n",
        "  n = len(s)\n",
        "  psize = (1 << n)\n",
        "\n",
        "  for i in range(psize):\n",
        "    for j in range(n):\n",
        "      if ((i & (1 << j)) != 0):\n",
        "        print(s[j], end = \" \")\n",
        "\n",
        "    print()\n",
        "\n",
        "# Time Complexity : O(n*2^n)"
      ],
      "metadata": {
        "id": "wwvej6FUGVRM"
      },
      "execution_count": null,
      "outputs": []
    }
  ]
}