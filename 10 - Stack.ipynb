{
  "nbformat": 4,
  "nbformat_minor": 0,
  "metadata": {
    "colab": {
      "provenance": [],
      "authorship_tag": "ABX9TyN/xCIijsuiICUO5VvX5hAD",
      "include_colab_link": true
    },
    "kernelspec": {
      "name": "python3",
      "display_name": "Python 3"
    },
    "language_info": {
      "name": "python"
    }
  },
  "cells": [
    {
      "cell_type": "markdown",
      "metadata": {
        "id": "view-in-github",
        "colab_type": "text"
      },
      "source": [
        "<a href=\"https://colab.research.google.com/github/Thrishankkuntimaddi/Data-Structures-and-Algorithms-Advanced/blob/main/10%20-%20Stack.ipynb\" target=\"_parent\"><img src=\"https://colab.research.google.com/assets/colab-badge.svg\" alt=\"Open In Colab\"/></a>"
      ]
    },
    {
      "cell_type": "markdown",
      "source": [
        "# Implement Two Stacks in an Array\n",
        "\n",
        "\n",
        "### Naive Solution\n",
        "\n",
        "-> We divide the array from middle use first half for stack1 and second half for stack2\n",
        "\n",
        "-> Inefficient use of space : If we add 5 items to stack1, and no items to stack2, then we cannot add any more items to stack1 even if we have space in the array\n",
        "\n",
        "-> Begin both stacks from the two corners of the array\n",
        "\n",
        "-> Now we can insert items in any stack as long as we have space"
      ],
      "metadata": {
        "id": "iJ16OTFgA1TO"
      }
    },
    {
      "cell_type": "code",
      "execution_count": null,
      "metadata": {
        "id": "xjj2SeIUAvzv"
      },
      "outputs": [],
      "source": [
        "class TwoStacks:\n",
        "    def __init__(self, n):\n",
        "        self.size = n\n",
        "        self.arr = [None] * n\n",
        "        self.top1 = -1\n",
        "        self.top2 = self.size\n",
        "\n",
        "    def push1(self, x):\n",
        "        if self.top1 < self.top2 - 1:\n",
        "            self.top1 += 1\n",
        "            self.arr[self.top1] = x\n",
        "            return True\n",
        "        return False\n",
        "\n",
        "    def push2(self, x):\n",
        "        if self.top1 < self.top2 - 1:\n",
        "            self.top2 -= 1\n",
        "            self.arr[self.top2] = x\n",
        "            return True\n",
        "        return False\n",
        "\n",
        "    def pop1(self):\n",
        "        if self.top1 >= 0:\n",
        "            x = self.arr[self.top1]\n",
        "            self.top1 -= 1\n",
        "            return x\n",
        "        return None\n",
        "\n",
        "    def pop2(self):\n",
        "        if self.top2 < self.size:\n",
        "            x = self.arr[self.top2]\n",
        "            self.top2 += 1\n",
        "            return x\n",
        "        return None\n",
        "\n",
        "    def size1(self):\n",
        "        return self.top1 + 1\n",
        "\n",
        "    def size2(self):\n",
        "        return self.size - self.top2"
      ]
    },
    {
      "cell_type": "code",
      "source": [
        "if __name__ == \"__main__\":\n",
        "    stacks = TwoStacks(10)\n",
        "\n",
        "    stacks.push1(5)\n",
        "    stacks.push1(10)\n",
        "    stacks.push1(15)\n",
        "\n",
        "    stacks.push2(20)\n",
        "    stacks.push2(25)\n",
        "    stacks.push2(30)\n",
        "\n",
        "    print(stacks.pop1())\n",
        "    print(stacks.pop1())\n",
        "\n",
        "    print(stacks.pop2())\n",
        "    print(stacks.pop2())\n",
        "\n",
        "    print(stacks.size1())\n",
        "    print(stacks.size2())"
      ],
      "metadata": {
        "colab": {
          "base_uri": "https://localhost:8080/"
        },
        "id": "jzxgtqTvDi9P",
        "outputId": "afbaa3f0-52c4-46cc-d0e2-51e66a432e18"
      },
      "execution_count": null,
      "outputs": [
        {
          "output_type": "stream",
          "name": "stdout",
          "text": [
            "15\n",
            "10\n",
            "30\n",
            "25\n",
            "1\n",
            "1\n"
          ]
        }
      ]
    },
    {
      "cell_type": "markdown",
      "source": [
        "# Implement K Stacks in an array\n",
        "\n",
        "sn = stack number with value in the below range\n",
        "\n",
        "## Idea for the Solution\n",
        "\n",
        "We maintain two arrays and an extra variable\n",
        "\n",
        "arr= [_, _, _, _, _, _]\n",
        "\n",
        "n = 6\n",
        "\n",
        "top = [-1, -1, -1]\n",
        "\n",
        "To maintain indexes of Top items. -1 means empty\n",
        "\n",
        "next = [1, 2, 3, 4, 5, -1]\n",
        "\n",
        "To maintain index of next item (or item just below) in the stacks\n",
        "\n",
        "free_top = 0\n",
        "\n",
        "To maintain top of free stack (stack to maintain free slots)"
      ],
      "metadata": {
        "id": "UNnzi0gVD7tb"
      }
    },
    {
      "cell_type": "code",
      "source": [
        "# Implementation\n",
        "\n",
        "class kStacks:\n",
        "    def __init__(self, n, k):\n",
        "        self.cap = n\n",
        "        self.k = k\n",
        "        self.arr = [None] * n\n",
        "        self.top = [-1] * k\n",
        "        self.next = [i + 1 for i in range(n)]\n",
        "        self.next[n - 1] = -1\n",
        "        self.free_top = 0\n",
        "\n",
        "    def push(self, x, sn):\n",
        "        if self.isFull():\n",
        "            print(\"Stack Overflow\")\n",
        "            return\n",
        "\n",
        "        i = self.free_top\n",
        "        self.free_top = self.next[i]\n",
        "        self.arr[i] = x\n",
        "        self.next[i] = self.top[sn]\n",
        "        self.top[sn] = i\n",
        "\n",
        "    def pop(self, sn):\n",
        "        if self.isEmpty(sn):\n",
        "            print(\"Stack Underflow\")\n",
        "            return None\n",
        "\n",
        "        i = self.top[sn]\n",
        "        self.top[sn] = self.next[i]\n",
        "        self.next[i] = self.free_top\n",
        "        self.free_top = i\n",
        "        return self.arr[i]\n",
        "\n",
        "    def isEmpty(self, sn):\n",
        "        return self.top[sn] == -1\n",
        "\n",
        "    def isFull(self):\n",
        "        return self.free_top == -1"
      ],
      "metadata": {
        "id": "A5ZrMy5BD1S_"
      },
      "execution_count": null,
      "outputs": []
    },
    {
      "cell_type": "code",
      "source": [
        "if __name__ == \"__main__\":\n",
        "\n",
        "    stacks = kStacks(10, 3)\n",
        "\n",
        "    stacks.push(15, 0)\n",
        "    stacks.push(45, 1)\n",
        "    stacks.push(17, 0)\n",
        "    stacks.push(39, 1)\n",
        "    stacks.push(11, 2)\n",
        "\n",
        "    print(stacks.pop(0))\n",
        "    print(stacks.pop(1))\n",
        "    print(stacks.pop(2))"
      ],
      "metadata": {
        "colab": {
          "base_uri": "https://localhost:8080/"
        },
        "id": "eyGWapRv3aCR",
        "outputId": "4cbc36ac-a22e-4a6b-a15f-a4208f11bed0"
      },
      "execution_count": null,
      "outputs": [
        {
          "output_type": "stream",
          "name": "stdout",
          "text": [
            "17\n",
            "39\n",
            "11\n"
          ]
        }
      ]
    },
    {
      "cell_type": "markdown",
      "source": [
        "# Stock Span Problem\n",
        "\n",
        "I/P : arr[] = {13, 15, 12, 14, 16, 8, 6, 4, 10, 30}\n",
        "\n",
        "O/P : 1 2 1 2 5 1 1 1 4 10\n",
        "\n"
      ],
      "metadata": {
        "id": "dCiH15QT3nUQ"
      }
    },
    {
      "cell_type": "code",
      "source": [
        "# Naive Solution\n",
        "\n",
        "def printSpan(arr):\n",
        "    for i in range(len(arr)):\n",
        "        span = 1\n",
        "        j = i - 1\n",
        "\n",
        "        while j >= 0 and arr[i] >= arr[j]:\n",
        "            span += 1\n",
        "            j -= 1\n",
        "\n",
        "        print(span, end=\" \")\n",
        "\n",
        "arr = [10, 4, 5, 90, 120, 80]\n",
        "printSpan(arr)\n",
        "\n",
        "\n",
        "# Time Complexity : O(n^2)\n",
        "# Space Complexity : O(1)"
      ],
      "metadata": {
        "colab": {
          "base_uri": "https://localhost:8080/"
        },
        "id": "RN8kOxME3dfZ",
        "outputId": "7e682f9b-793c-48b7-d10a-3552f01f0cee"
      },
      "execution_count": null,
      "outputs": [
        {
          "output_type": "stream",
          "name": "stdout",
          "text": [
            "1 1 2 4 5 1 "
          ]
        }
      ]
    },
    {
      "cell_type": "code",
      "source": [
        "# Efficient Solution\n",
        "\n",
        "def printSpan(arr):\n",
        "    st = []\n",
        "    st.append(0)\n",
        "    n = len(arr)\n",
        "    print(1, end=\" \")\n",
        "\n",
        "    for i in range(1, n):\n",
        "        while len(st) > 0 and arr[st[-1]] <= arr[i]:\n",
        "            st.pop()\n",
        "\n",
        "        span = (i + 1) if len(st) == 0 else i - st[-1]\n",
        "\n",
        "        print(span, end=\" \")\n",
        "\n",
        "        st.append(i)\n",
        "\n",
        "    print(\"\\nStack state:\", st)\n",
        "\n",
        "arr = [10, 4, 5, 90, 120, 80]\n",
        "printSpan(arr)\n",
        "\n",
        "# Time Complexity : Theta(n)\n",
        "# Space Complexity : O(n)"
      ],
      "metadata": {
        "colab": {
          "base_uri": "https://localhost:8080/"
        },
        "id": "sAGCC2c34_30",
        "outputId": "aaf299f6-dea5-4e3b-f300-88ded9ba8d8d"
      },
      "execution_count": null,
      "outputs": [
        {
          "output_type": "stream",
          "name": "stdout",
          "text": [
            "1 1 2 4 5 1 \n",
            "Stack state: [4, 5]\n"
          ]
        }
      ]
    },
    {
      "cell_type": "markdown",
      "source": [
        "# Previous Greater Element\n",
        "\n",
        "I/P : arr[] = {15, 10, 18, 12, 4, 6, 2, 8}\n",
        "\n",
        "O/P : -1, 15, -1, 18, 12, 12, 6, 12\n"
      ],
      "metadata": {
        "id": "xoeHCqeDZRhU"
      }
    },
    {
      "cell_type": "code",
      "source": [
        "# Naive Solution\n",
        "\n",
        "def prevGreater(arr):\n",
        "  for i in range(len(arr)):\n",
        "    pg = -1\n",
        "    for j in range(i-1, -1, -1):\n",
        "      if arr[j] > arr[i]:\n",
        "        pg = arr[j]\n",
        "        break\n",
        "    print(pg, end = \" \")\n",
        "\n",
        "arr = [10, 4, 5, 90, 120, 80]\n",
        "prevGreater(arr)\n",
        "\n",
        "# Time Complexity : O(n^2)\n",
        "# Space Complexity : O(1)"
      ],
      "metadata": {
        "id": "gFRtp9x27YCr",
        "colab": {
          "base_uri": "https://localhost:8080/"
        },
        "outputId": "28872afd-f9c3-4e1e-cc07-abd31cc9ac11"
      },
      "execution_count": 3,
      "outputs": [
        {
          "output_type": "stream",
          "name": "stdout",
          "text": [
            "-1 10 10 -1 -1 120 "
          ]
        }
      ]
    },
    {
      "cell_type": "code",
      "source": [
        "# Efficient Solution\n",
        "\n",
        "def prevGreater(arr):\n",
        "  st = []\n",
        "\n",
        "  for i in range(len(arr)):\n",
        "    while len(st) > 0 and st[-1] <= arr[i]:\n",
        "      st.pop()\n",
        "\n",
        "    pg = -1 if (len(st) == 0) else st[-1]\n",
        "\n",
        "    print(pg, end = \" \")\n",
        "\n",
        "    st.append(arr[i])\n",
        "\n",
        "arr = [10, 4, 5, 90, 120, 80]\n",
        "prevGreater(arr)\n",
        "\n",
        "# Time Complexity : Theta(n)\n",
        "# Space Complexity : O(n)"
      ],
      "metadata": {
        "colab": {
          "base_uri": "https://localhost:8080/"
        },
        "id": "Q_1Uu_LpZtpV",
        "outputId": "a5faa17f-d1db-4429-bffe-194dcdd7b843"
      },
      "execution_count": 4,
      "outputs": [
        {
          "output_type": "stream",
          "name": "stdout",
          "text": [
            "-1 10 10 -1 -1 120 "
          ]
        }
      ]
    },
    {
      "cell_type": "markdown",
      "source": [
        "# Next Greater Element\n",
        "\n",
        "I/P : arr = [5, 15, 10, 8, 12, 7]\n",
        "\n",
        "O/P : 15, -1, 12, 12, 12, -1, -1\n",
        "\n"
      ],
      "metadata": {
        "id": "ykjAd5GTabA4"
      }
    },
    {
      "cell_type": "code",
      "source": [
        "# Naive Solution\n",
        "\n",
        "def nextGreater(arr):\n",
        "  for i in range(len(arr)):\n",
        "    ng = -1\n",
        "\n",
        "    for j in range(i+1, len(arr)):\n",
        "      if arr[j] > arr[i]:\n",
        "        ng = arr[j]\n",
        "        break\n",
        "\n",
        "    print(ng, end = \" \")\n",
        "\n",
        "arr = [10, 4, 5, 90, 120, 80]\n",
        "nextGreater(arr)\n",
        "\n",
        "# Time Complexity : O(n^2)\n",
        "# Space Complexity : O(1)"
      ],
      "metadata": {
        "colab": {
          "base_uri": "https://localhost:8080/"
        },
        "id": "LMYyx3HXaVe1",
        "outputId": "92922e3b-3f8c-4de7-83fc-7e9fcd2aa0b4"
      },
      "execution_count": 5,
      "outputs": [
        {
          "output_type": "stream",
          "name": "stdout",
          "text": [
            "90 5 90 120 -1 -1 "
          ]
        }
      ]
    },
    {
      "cell_type": "code",
      "source": [
        "# Efficient Solution\n",
        "\n",
        "def nextGreater(arr):\n",
        "  st = []\n",
        "  res = [None] * len(arr)\n",
        "  n = len(arr)\n",
        "\n",
        "  for i in range(n-1, -1, -1):\n",
        "    while len(st) > 0 and st[-1] <= arr[i]:\n",
        "      st.pop()\n",
        "\n",
        "    res[i] = -1 if len(st) == 0 else st[-1]\n",
        "\n",
        "    st.append(arr[i])\n",
        "\n",
        "  for x in res:\n",
        "    print(x, end = \" \")\n",
        "\n",
        "arr = [10, 4, 5, 90, 120, 80]\n",
        "nextGreater(arr)\n",
        "\n",
        "# Time Complexity : Theta(n)\n",
        "# Space Complexity : Theta(n)"
      ],
      "metadata": {
        "colab": {
          "base_uri": "https://localhost:8080/"
        },
        "id": "Lmiz5Sd8a-Gq",
        "outputId": "85160106-6aaa-4fe1-b94f-e0a2ecebf05a"
      },
      "execution_count": 7,
      "outputs": [
        {
          "output_type": "stream",
          "name": "stdout",
          "text": [
            "90 5 90 120 -1 -1 "
          ]
        }
      ]
    },
    {
      "cell_type": "markdown",
      "source": [
        "# Largest Rectangular Area in a Histogram\n",
        "\n",
        "I/P : arr[] = [6, 2, 5, 4, 1, 5, 6]\n",
        "\n",
        "O/P : 10"
      ],
      "metadata": {
        "id": "L89KuKKscEY8"
      }
    },
    {
      "cell_type": "code",
      "source": [
        "# Naive Solution\n",
        "\n",
        "def getMaxArea(arr):\n",
        "  res = 0\n",
        "  n = len(arr)\n",
        "\n",
        "  for i in range(n):\n",
        "    curr = arr[i]\n",
        "\n",
        "    for j in range(i-1, -1, -1):\n",
        "      if arr[j] >= arr[i]:\n",
        "        curr += arr[i]\n",
        "      else:\n",
        "        break\n",
        "\n",
        "    for j in range(i+1, n):\n",
        "      if arr[j] >= arr[i]:\n",
        "        curr += arr[i]\n",
        "      else:\n",
        "        break\n",
        "\n",
        "    res = max(res, curr)\n",
        "\n",
        "arr = [10, 4, 5, 90, 120, 80]\n",
        "getMaxArea(arr)\n",
        "\n",
        "# Time Complexity : O(n^2)\n",
        "# Space Complexity : O(1)"
      ],
      "metadata": {
        "id": "q5bcCiwtb-l9"
      },
      "execution_count": 8,
      "outputs": []
    },
    {
      "cell_type": "code",
      "source": [
        "# Better Solution\n",
        "'''\n",
        "-> Initialize res = 0\n",
        "-> Find previous smaller element for every element\n",
        "-> Find Next smaller element for every element\n",
        "-> Do following for every element arr[i]\n",
        "      curr = arr[i]\n",
        "      curr += (i-ps[i]-1) * arr[i]\n",
        "      curr += (ns[i]-i-1) * arr[i]\n",
        "      res = max(res, curr)\n",
        "-> return res\n",
        "'''"
      ],
      "metadata": {
        "colab": {
          "base_uri": "https://localhost:8080/",
          "height": 53
        },
        "id": "JlSH9_Blcu4p",
        "outputId": "b6ca96f1-95f7-4b48-82b3-19f0ad964e4e"
      },
      "execution_count": 9,
      "outputs": [
        {
          "output_type": "execute_result",
          "data": {
            "text/plain": [
              "'\\n-> Initialize res = 0 \\n-> Find previous smaller element for every element \\n-> Find Next smaller element for every element \\n-> Do following for every element arr[i]\\n      curr = arr[i]\\n      curr += (i-ps[i]-1) * arr[i]\\n      curr += (ns[i]-i-1) * arr[i]\\n      res = max(res, curr)\\n-> return res \\n'"
            ],
            "application/vnd.google.colaboratory.intrinsic+json": {
              "type": "string"
            }
          },
          "metadata": {},
          "execution_count": 9
        }
      ]
    },
    {
      "cell_type": "code",
      "source": [
        "# Efficient Solution\n",
        "\n",
        "def getMaxArea(arr):\n",
        "  st = []\n",
        "  res = 0\n",
        "\n",
        "  for i in range(len(arr)):\n",
        "    while st and arr[st[-1]] >= arr[i]:\n",
        "      tp = st[-1]\n",
        "      st.pop()\n",
        "      curr_width = (i-st[-1]-1) if st else i\n",
        "      res = max(res, curr_width * arr[tp])\n",
        "\n",
        "    st.append(i)\n",
        "\n",
        "  while st:\n",
        "    tp = st[-1]\n",
        "    st.pop()\n",
        "    curr_width = (len(arr) - st[-1] - 1) if st else len(arr)\n",
        "    res = max(res, curr_width * arr[tp])\n",
        "\n",
        "  return res\n",
        "\n",
        "arr = [10, 4, 5, 90, 120, 80]\n",
        "getMaxArea(arr)\n",
        "\n",
        "# Time Complexity : O(n)\n",
        "# Space Complexity : O(n)"
      ],
      "metadata": {
        "colab": {
          "base_uri": "https://localhost:8080/"
        },
        "id": "7qGQgzjwdZNj",
        "outputId": "97de2f42-f23d-48dc-c161-9e963d5027f5"
      },
      "execution_count": 10,
      "outputs": [
        {
          "output_type": "execute_result",
          "data": {
            "text/plain": [
              "240"
            ]
          },
          "metadata": {},
          "execution_count": 10
        }
      ]
    },
    {
      "cell_type": "markdown",
      "source": [
        "# Largest Rectangle with all 1s\n",
        "\n",
        "I/P : mat =\n",
        "\n",
        "    [[0, 1, 1, 0],\n",
        "     [1, 1, 1, 1],\n",
        "     [1, 1, 1, 1],\n",
        "     [1, 1, 0, 0]]\n",
        "\n",
        "\n",
        "O/P : 8\n",
        "\n",
        "\n",
        "\n"
      ],
      "metadata": {
        "id": "qe8fS6bQeRBz"
      }
    },
    {
      "cell_type": "code",
      "source": [
        "# Naive Solution\n",
        "'''\n",
        "-> Consider every cell as a starting point\n",
        "\n",
        "-> consider all sizes of rectangles with current cell as a starting point\n",
        "\n",
        "-> for the current rectangle, check if it has all 1s, If yes then update the res, if the current size is more\n",
        "\n",
        "'''\n",
        "\n",
        "# Time Complexity : O(R^3 * C^3)"
      ],
      "metadata": {
        "colab": {
          "base_uri": "https://localhost:8080/",
          "height": 53
        },
        "id": "RmvYA37AeH9a",
        "outputId": "aaaedd01-dcee-41ee-9b2e-09f5b72f66a9"
      },
      "execution_count": 12,
      "outputs": [
        {
          "output_type": "execute_result",
          "data": {
            "text/plain": [
              "'\\n-> Consider every cell as a starting point \\n\\n-> consider all sizes of rectangles with current cell as a starting point \\n\\n-> for the current rectangle, check if it has all 1s, If yes then update the res, if the current size is more \\n\\n'"
            ],
            "application/vnd.google.colaboratory.intrinsic+json": {
              "type": "string"
            }
          },
          "metadata": {},
          "execution_count": 12
        }
      ]
    },
    {
      "cell_type": "code",
      "source": [
        "def largeHist(heights):\n",
        "    stack = []\n",
        "    max_area = 0\n",
        "    heights.append(0)\n",
        "\n",
        "    for i in range(len(heights)):\n",
        "        while stack and heights[i] < heights[stack[-1]]:\n",
        "            h = heights[stack.pop()]\n",
        "            w = i if not stack else i - stack[-1] - 1\n",
        "            max_area = max(max_area, h * w)\n",
        "        stack.append(i)\n",
        "\n",
        "    heights.pop()\n",
        "    return max_area\n",
        "\n",
        "def large(mat):\n",
        "    if not mat:\n",
        "        return 0\n",
        "\n",
        "    R, C = len(mat), len(mat[0])\n",
        "    height = [0] * C\n",
        "    max_area = 0\n",
        "\n",
        "    for i in range(R):\n",
        "        for j in range(C):\n",
        "            height[j] = height[j] + 1 if mat[i][j] == 1 else 0\n",
        "        max_area = max(max_area, largeHist(height))\n",
        "\n",
        "    return max_area\n",
        "\n",
        "mat = [\n",
        "    [0, 1, 1, 0],\n",
        "    [1, 1, 1, 1],\n",
        "    [1, 1, 1, 1],\n",
        "    [1, 1, 0, 0]\n",
        "]\n",
        "\n",
        "print(large(mat))"
      ],
      "metadata": {
        "colab": {
          "base_uri": "https://localhost:8080/"
        },
        "id": "NF-jbq3IfLJt",
        "outputId": "7880279e-65c1-4187-cafe-c03f5721c63f"
      },
      "execution_count": 15,
      "outputs": [
        {
          "output_type": "stream",
          "name": "stdout",
          "text": [
            "8\n"
          ]
        }
      ]
    },
    {
      "cell_type": "code",
      "source": [
        "# Efficient Solution\n",
        "'''\n",
        "-> Recap of the Largest Rectangular Area problem\n",
        "\n",
        "Idea\n",
        "\n",
        "Run a loop from o to R-1\n",
        "\n",
        "-> update the histogram for current row\n",
        "\n",
        "-> Find the largest area in the histogram and update the result if required\n",
        "'''"
      ],
      "metadata": {
        "colab": {
          "base_uri": "https://localhost:8080/",
          "height": 53
        },
        "id": "QShZ0VwLfRKp",
        "outputId": "26b5646b-aa25-45a8-a415-45d8226b5cb5"
      },
      "execution_count": 16,
      "outputs": [
        {
          "output_type": "execute_result",
          "data": {
            "text/plain": [
              "'\\n-> Recap of the Largest Rectangular Area problem \\n\\nIdea \\n\\nRun a loop from o to R-1\\n\\n-> update the histogram for current row\\n\\n-> Find the largest area in the histogram and update the result if required \\n'"
            ],
            "application/vnd.google.colaboratory.intrinsic+json": {
              "type": "string"
            }
          },
          "metadata": {},
          "execution_count": 16
        }
      ]
    },
    {
      "cell_type": "code",
      "source": [
        "# Efficient Solution\n",
        "\n",
        "def largestHistogram(heights):\n",
        "    stack = []\n",
        "    max_area = 0\n",
        "    index = 0\n",
        "\n",
        "    while index < len(heights):\n",
        "        if not stack or heights[stack[-1]] <= heights[index]:\n",
        "            stack.append(index)\n",
        "            index += 1\n",
        "        else:\n",
        "            top_of_stack = stack.pop()\n",
        "            area = (heights[top_of_stack] *\n",
        "                    ((index - stack[-1] - 1) if stack else index))\n",
        "            max_area = max(max_area, area)\n",
        "\n",
        "    while stack:\n",
        "        top_of_stack = stack.pop()\n",
        "        area = (heights[top_of_stack] *\n",
        "                ((index - stack[-1] - 1) if stack else index))\n",
        "        max_area = max(max_area, area)\n",
        "\n",
        "    return max_area\n",
        "\n",
        "def largestList(heights):\n",
        "    return largestHistogram(heights)\n",
        "\n",
        "def MaxRectangle(mat):\n",
        "    if not mat or not mat[0]:\n",
        "        return 0\n",
        "    res = largestList(mat[0])\n",
        "\n",
        "    for i in range(1, len(mat)):\n",
        "        for j in range(len(mat[i])):\n",
        "            if mat[i][j]:\n",
        "                mat[i][j] += mat[i-1][j]\n",
        "        res = max(res, largestHistogram(mat[i]))\n",
        "\n",
        "    return res\n",
        "\n",
        "mat = [\n",
        "    [0, 1, 1, 0],\n",
        "    [1, 1, 1, 1],\n",
        "    [1, 1, 1, 1],\n",
        "    [1, 1, 0, 0]\n",
        "]\n",
        "\n",
        "print(MaxRectangle(mat))  # Output: 8\n",
        "\n",
        "\n",
        "# Time Complexity : Theta(R + C)"
      ],
      "metadata": {
        "colab": {
          "base_uri": "https://localhost:8080/"
        },
        "id": "LpUykXfsfyCc",
        "outputId": "1e26700c-bdde-4bf2-d330-697b22bd0df2"
      },
      "execution_count": 17,
      "outputs": [
        {
          "output_type": "stream",
          "name": "stdout",
          "text": [
            "8\n"
          ]
        }
      ]
    },
    {
      "cell_type": "markdown",
      "source": [
        "# Design a Stack that supports getMin()\n",
        "\n",
        "I/P : push(20), push(10), getMin(), push(5), getMin(), getMin()\n",
        "\n",
        "O/P : 10 5 10 20"
      ],
      "metadata": {
        "id": "u6zGzBFkgmJN"
      }
    },
    {
      "cell_type": "code",
      "source": [
        "# Naive Solution\n",
        "\n",
        "class NaiveMinStack:\n",
        "    def __init__(self):\n",
        "        self.stack = []\n",
        "\n",
        "    def push(self, x):\n",
        "        self.stack.append(x)\n",
        "\n",
        "    def pop(self):\n",
        "        if self.stack:\n",
        "            return self.stack.pop()\n",
        "        return None\n",
        "\n",
        "    def top(self):\n",
        "        if self.stack:\n",
        "            return self.stack[-1]\n",
        "        return None\n",
        "\n",
        "    def getMin(self):\n",
        "        if self.stack:\n",
        "            return min(self.stack)\n",
        "        return None\n",
        "\n",
        "stack = NaiveMinStack()\n",
        "stack.push(20)\n",
        "stack.push(10)\n",
        "print(stack.getMin())\n",
        "stack.push(5)\n",
        "print(stack.getMin())\n",
        "stack.pop()\n",
        "print(stack.getMin())\n",
        "stack.pop()\n",
        "print(stack.getMin())"
      ],
      "metadata": {
        "colab": {
          "base_uri": "https://localhost:8080/"
        },
        "id": "aW34gtPnqwkG",
        "outputId": "4273347f-0332-4cba-ca5a-3e4b2b3183ab"
      },
      "execution_count": 21,
      "outputs": [
        {
          "output_type": "stream",
          "name": "stdout",
          "text": [
            "10\n",
            "5\n",
            "10\n",
            "20\n"
          ]
        }
      ]
    },
    {
      "cell_type": "code",
      "source": [
        "# Efficient Solution\n",
        "\n",
        "class MinStack:\n",
        "    def __init__(self):\n",
        "        self.main_stack = []\n",
        "        self.min_stack = []\n",
        "\n",
        "    def push(self, x):\n",
        "        self.main_stack.append(x)\n",
        "\n",
        "        if not self.min_stack or x <= self.min_stack[-1]:\n",
        "            self.min_stack.append(x)\n",
        "        else:\n",
        "            self.min_stack.append(self.min_stack[-1])\n",
        "\n",
        "    def pop(self):\n",
        "        if self.main_stack:\n",
        "            self.main_stack.pop()\n",
        "            self.min_stack.pop()\n",
        "\n",
        "    def top(self):\n",
        "        if self.main_stack:\n",
        "            return self.main_stack[-1]\n",
        "        return None\n",
        "\n",
        "    def getMin(self):\n",
        "        if self.min_stack:\n",
        "            return self.min_stack[-1]\n",
        "        return None"
      ],
      "metadata": {
        "id": "a3KCTc92gfq-"
      },
      "execution_count": 19,
      "outputs": []
    },
    {
      "cell_type": "code",
      "source": [
        "stack = MinStack()\n",
        "stack.push(20)\n",
        "stack.push(10)\n",
        "print(stack.getMin())\n",
        "stack.push(5)\n",
        "print(stack.getMin())\n",
        "stack.pop()\n",
        "print(stack.getMin())\n",
        "stack.pop()\n",
        "print(stack.getMin())"
      ],
      "metadata": {
        "colab": {
          "base_uri": "https://localhost:8080/"
        },
        "id": "4YFzrDL7qtqk",
        "outputId": "fd81b5f1-4772-4bfd-ed14-ae2739e85209"
      },
      "execution_count": 20,
      "outputs": [
        {
          "output_type": "stream",
          "name": "stdout",
          "text": [
            "10\n",
            "5\n",
            "10\n",
            "20\n"
          ]
        }
      ]
    },
    {
      "cell_type": "markdown",
      "source": [
        "# Design a stack with getMin() in O(1) Space"
      ],
      "metadata": {
        "id": "4QSr5HhVrLwX"
      }
    },
    {
      "cell_type": "code",
      "source": [
        "class MinStackO1Space:\n",
        "    def __init__(self):\n",
        "        self.stack = []\n",
        "        self.minEle = None\n",
        "\n",
        "    def push(self, x):\n",
        "        if not self.stack:\n",
        "            self.stack.append(x)\n",
        "            self.minEle = x\n",
        "        else:\n",
        "            if x < self.minEle:\n",
        "                self.stack.append(2*x - self.minEle)\n",
        "                self.minEle = x\n",
        "            else:\n",
        "                self.stack.append(x)\n",
        "\n",
        "    def pop(self):\n",
        "        if not self.stack:\n",
        "            return None\n",
        "\n",
        "        top = self.stack.pop()\n",
        "\n",
        "        if top < self.minEle:\n",
        "            original_min = self.minEle\n",
        "            self.minEle = 2*self.minEle - top\n",
        "            return original_min\n",
        "        else:\n",
        "            return top\n",
        "\n",
        "    def top(self):\n",
        "        if not self.stack:\n",
        "            return None\n",
        "\n",
        "        top = self.stack[-1]\n",
        "        if top < self.minEle:\n",
        "            return self.minEle\n",
        "        else:\n",
        "            return top\n",
        "\n",
        "    def getMin(self):\n",
        "        if not self.stack:\n",
        "            return None\n",
        "        return self.minEle\n",
        "\n",
        "stack = MinStackO1Space()\n",
        "stack.push(20)\n",
        "stack.push(10)\n",
        "print(stack.getMin())\n",
        "stack.push(5)\n",
        "print(stack.getMin())\n",
        "stack.pop()\n",
        "print(stack.getMin())\n",
        "stack.pop()\n",
        "print(stack.getMin())"
      ],
      "metadata": {
        "colab": {
          "base_uri": "https://localhost:8080/"
        },
        "id": "UrJtgIOjqush",
        "outputId": "298cc7d7-fc3a-42d6-a957-d387ac677deb"
      },
      "execution_count": 22,
      "outputs": [
        {
          "output_type": "stream",
          "name": "stdout",
          "text": [
            "10\n",
            "5\n",
            "10\n",
            "20\n"
          ]
        }
      ]
    },
    {
      "cell_type": "code",
      "source": [
        "# Handling Negatives\n",
        "\n",
        "class MinStackO1Space:\n",
        "    def __init__(self):\n",
        "        self.stack = []\n",
        "        self.minEle = None\n",
        "\n",
        "    def push(self, x):\n",
        "        if not self.stack:\n",
        "            self.stack.append(x)\n",
        "            self.minEle = x\n",
        "        else:\n",
        "            if x < self.minEle:\n",
        "                self.stack.append(2*x - self.minEle)\n",
        "                self.minEle = x\n",
        "            else:\n",
        "                self.stack.append(x)\n",
        "\n",
        "    def pop(self):\n",
        "        if not self.stack:\n",
        "            return None\n",
        "\n",
        "        top = self.stack.pop()\n",
        "\n",
        "        if top < self.minEle:\n",
        "            original_min = self.minEle\n",
        "            self.minEle = 2*self.minEle - top\n",
        "            return original_min\n",
        "        else:\n",
        "            return top\n",
        "\n",
        "    def top(self):\n",
        "        if not self.stack:\n",
        "            return None\n",
        "\n",
        "        top = self.stack[-1]\n",
        "        if top < self.minEle:\n",
        "            return self.minEle\n",
        "        else:\n",
        "            return top\n",
        "\n",
        "    def getMin(self):\n",
        "        if not self.stack:\n",
        "            return None\n",
        "        return self.minEle\n",
        "\n",
        "stack = MinStackO1Space()\n",
        "stack.push(-2)\n",
        "stack.push(0)\n",
        "stack.push(-3)\n",
        "print(stack.getMin())\n",
        "stack.pop()\n",
        "print(stack.getMin())\n",
        "stack.pop()\n",
        "print(stack.getMin())"
      ],
      "metadata": {
        "id": "lKUEpNqzr6Lt"
      },
      "execution_count": null,
      "outputs": []
    }
  ]
}