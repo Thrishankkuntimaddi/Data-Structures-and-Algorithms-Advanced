{
  "nbformat": 4,
  "nbformat_minor": 0,
  "metadata": {
    "colab": {
      "provenance": [],
      "authorship_tag": "ABX9TyNIXZlwH+5p5Qyi4rBWqMua",
      "include_colab_link": true
    },
    "kernelspec": {
      "name": "python3",
      "display_name": "Python 3"
    },
    "language_info": {
      "name": "python"
    }
  },
  "cells": [
    {
      "cell_type": "markdown",
      "metadata": {
        "id": "view-in-github",
        "colab_type": "text"
      },
      "source": [
        "<a href=\"https://colab.research.google.com/github/Thrishankkuntimaddi/Data-Structures-and-Algorithms-Advanced/blob/main/11%20-%20Infix%2C%20Postfix%2C%20Prefix.ipynb\" target=\"_parent\"><img src=\"https://colab.research.google.com/assets/colab-badge.svg\" alt=\"Open In Colab\"/></a>"
      ]
    },
    {
      "cell_type": "markdown",
      "source": [
        "    Infix : x + y\n",
        "\n",
        "    Postfix : x y +\n",
        "\n",
        "    Prefix : + x y\n",
        "\n",
        "--------------------\n",
        "### Advantages of prefix and postfix\n",
        "\n",
        "    -> Do not require parenthesis, precedence rules and associativity rules\n",
        "\n",
        "    -> can be evaluated by writing a program that traverses the given expression exactly once\n",
        "--------------------\n",
        "\n",
        "### Precedence and Associativity\n",
        "\n",
        "    Precedence : 10 + 20 * 2 => 10 + 40 => 50\n",
        "\n",
        "    Associativity (L to R) : 10 + 2 - 3 => 12 - 3 => 9\n",
        "\n",
        "    Associativity (R to L) : 2 ^ 1 ^ 2 => 2 ^ 1 => 2\n",
        "\n",
        "--------------------\n",
        "\n",
        "      Operators   |   Associativity    ^\n",
        "                                       |\n",
        "          ^              R to L        |  Precedence\n",
        "        *, /             L to R        |\n",
        "        +, -             L to R        |\n",
        "\n",
        "--------------------\n",
        "\n",
        "## Prefix and Postfix\n",
        "\n",
        "    Infix : x + y * z => (x + y) * z\n",
        "\n",
        "    Prefix : + x * y z => * + x y z\n",
        "\n",
        "    Postfix : x y z * + => x y + z *\n",
        "--------------------\n",
        "\n",
        "### Steps for Postfix Conversion\n",
        "\n",
        "x + y * z = (x + ( y * z ) ) => ( x + ( y z * ) ) => x y z * +\n",
        "\n",
        "--------------------\n",
        "\n"
      ],
      "metadata": {
        "id": "i-_H_qzRs6LV"
      }
    },
    {
      "cell_type": "markdown",
      "source": [
        "# Infix to Prefix Conversion\n",
        "\n",
        "I/P : infix = \" a + b * c \"\n",
        "\n",
        "O/P : postfix = \" b c * a + \"\n",
        "\n",
        "\n",
        "### Idea\n",
        "\n",
        "-> create an empty stack\n",
        "\n",
        "-> Do following for every character x from left to right\n",
        "\n",
        "-> If x is:\n",
        "\n",
        "a) operand : output it\n",
        "\n",
        "b) left parenthesis : push to st\n",
        "\n",
        "c) right parenthesis : pop from st until left parenthesis is found, output the popped operations\n",
        "\n",
        "d) Operator:\n",
        "\n",
        "If st is empty, push x to st:\n",
        "\n",
        "(i) Higher precedence (than st top), push to st\n",
        "\n",
        "(ii) Lower precedence, pop st top and output until a Higher precedence operator is found. Then push s to st.\n",
        "\n",
        "\n",
        "(iii) Equal parenthesis, use associativity\n",
        "\n",
        "-> pop and output everything from st"
      ],
      "metadata": {
        "id": "kXKnO8JGvfc2"
      }
    },
    {
      "cell_type": "code",
      "execution_count": null,
      "metadata": {
        "colab": {
          "base_uri": "https://localhost:8080/"
        },
        "id": "c0xJjhvEs11D",
        "outputId": "a6953571-b10b-435f-9f3f-8e8aee043094"
      },
      "outputs": [
        {
          "output_type": "stream",
          "name": "stdout",
          "text": [
            "abc*+\n"
          ]
        }
      ],
      "source": [
        "# Implementation\n",
        "\n",
        "def precedence(op):\n",
        "    if op == '+' or op == '-':\n",
        "        return 1\n",
        "    if op == '*' or op == '/':\n",
        "        return 2\n",
        "    return 0\n",
        "\n",
        "def is_operand(char):\n",
        "    return char.isalpha() or char.isdigit()\n",
        "\n",
        "def infix_to_postfix(expression):\n",
        "    stack = []\n",
        "    output = []\n",
        "\n",
        "    for char in expression:\n",
        "        if is_operand(char):\n",
        "            output.append(char)\n",
        "        elif char == '(':\n",
        "            stack.append(char)\n",
        "        elif char == ')':\n",
        "            while stack and stack[-1] != '(':\n",
        "                output.append(stack.pop())\n",
        "            stack.pop()\n",
        "        else:\n",
        "            while stack and precedence(stack[-1]) >= precedence(char):\n",
        "                output.append(stack.pop())\n",
        "            stack.append(char)\n",
        "\n",
        "    while stack:\n",
        "        output.append(stack.pop())\n",
        "\n",
        "    return ''.join(output)\n",
        "\n",
        "expression = \"a+b*c\"\n",
        "print(infix_to_postfix(expression))\n",
        "\n",
        "# Time Complexity : O(n)\n",
        "# Space Complexity : O(n)"
      ]
    },
    {
      "cell_type": "markdown",
      "source": [
        "# Evaluation of Postfix\n",
        "\n",
        "I/P : 10 2 * 3 + => (10 * 2) + 3\n",
        "\n",
        "O/P : 20 + 3 => 23\n",
        "\n",
        "\n",
        "### Algorithm\n",
        "\n",
        "-> create an empty stack st\n",
        "\n",
        "-> Traverse through every symbol x of given postfix\n",
        "\n",
        "1. If x is an operand, push to st\n",
        "\n",
        "2. Else (x is an operator)\n",
        "\n",
        "(i) op1 = st.pop()\n",
        "\n",
        "(ii) op2 = st.pop()\n",
        "\n",
        "(iii) compute op2 * op1 and push the result to st\n",
        "\n",
        "-> return st"
      ],
      "metadata": {
        "id": "IjMX7hGuxP9g"
      }
    },
    {
      "cell_type": "code",
      "source": [
        "def evaluate_postfix(expression):\n",
        "    stack = []\n",
        "\n",
        "    for symbol in expression.split():\n",
        "        if symbol.isdigit():\n",
        "            stack.append(int(symbol))\n",
        "        else:\n",
        "            op1 = stack.pop()\n",
        "            op2 = stack.pop()\n",
        "            if symbol == '+':\n",
        "                stack.append(op2 + op1)\n",
        "            elif symbol == '-':\n",
        "                stack.append(op2 - op1)\n",
        "            elif symbol == '*':\n",
        "                stack.append(op2 * op1)\n",
        "            elif symbol == '/':\n",
        "                stack.append(op2 / op1)\n",
        "\n",
        "    return stack.pop()\n",
        "\n",
        "postfix_expression = \"10 2 * 3 +\"\n",
        "result = evaluate_postfix(postfix_expression)\n",
        "print(result)\n",
        "\n",
        "# Time Complexity : O(n)\n",
        "# Space Complexity : O(n)"
      ],
      "metadata": {
        "colab": {
          "base_uri": "https://localhost:8080/"
        },
        "id": "X64NZqsoxKAb",
        "outputId": "fdbe3883-7e26-4b99-e2db-2d03815d678d"
      },
      "execution_count": null,
      "outputs": [
        {
          "output_type": "stream",
          "name": "stdout",
          "text": [
            "23\n"
          ]
        }
      ]
    },
    {
      "cell_type": "markdown",
      "source": [
        "# Infix to prefix Conversion\n",
        "\n",
        "    I/P : infix : x + y * z\n",
        "\n",
        "    O/P : prefix : + x * y z\n",
        "\n",
        "    ### Algorithm\n",
        "\n",
        "        Two steps\n",
        "\n",
        "            -> Fully parenthesis\n",
        "\n",
        "            -> start converting from innocent to outermost\n",
        "\n",
        "\n",
        "## Infix to Prefix using stack\n",
        "\n",
        "    1. create an empty stack, st\n",
        "\n",
        "    2. create an empty string, prefix\n",
        "\n",
        "    3. Do following for every character '(' from right to left\n",
        "\n",
        "    4. If '(' is\n",
        "\n",
        "          a) Operand : push it to prefix\n",
        "\n",
        "          b) Right parenthesis : push to st\n",
        "\n",
        "          c) Left parenthesis : pop from st until right parenthesis is found. append the popped character to prefix\n",
        "\n",
        "          d) operator : If st is empty, push '(' to st, else compare with st top\n",
        "\n",
        "              (i) Higher precedence (than st top) : push '(' to st\n",
        "\n",
        "              (ii) Lower precedence : pop st top and append the popped item to prefix until a higher precedence operator is found (or st becomes empty) : push '(' ro st\n",
        "\n",
        "              (iii) equal precedence : use associativity\n",
        "\n",
        "    5. pop everything from st and append to prefix\n",
        "\n",
        "    6. return reverse of prefix"
      ],
      "metadata": {
        "id": "BwjqNBm2yFR9"
      }
    },
    {
      "cell_type": "code",
      "source": [
        "# Implementation\n",
        "\n",
        "def precedence(op):\n",
        "    if op == '+' or op == '-':\n",
        "        return 1\n",
        "    if op == '*' or op == '/':\n",
        "        return 2\n",
        "    return 0\n",
        "\n",
        "def is_operand(char):\n",
        "    return char.isalpha() or char.isdigit()\n",
        "\n",
        "def infix_to_prefix(expression):\n",
        "    stack = []\n",
        "    prefix = []\n",
        "\n",
        "    expression = expression[::-1]\n",
        "    for char in expression:\n",
        "        if is_operand(char):\n",
        "            prefix.append(char)\n",
        "        elif char == ')':\n",
        "            stack.append(char)\n",
        "        elif char == '(':\n",
        "            while stack and stack[-1] != ')':\n",
        "                prefix.append(stack.pop())\n",
        "            stack.pop()\n",
        "        else:\n",
        "            while (stack and precedence(stack[-1]) > precedence(char)):\n",
        "                prefix.append(stack.pop())\n",
        "            stack.append(char)\n",
        "\n",
        "    while stack:\n",
        "        prefix.append(stack.pop())\n",
        "\n",
        "    return ''.join(prefix[::-1])\n",
        "\n",
        "infix_expression = \"x + y * z\"\n",
        "result = infix_to_prefix(infix_expression)\n",
        "print(result)\n",
        "\n",
        "# Time Complexity : O(n)\n",
        "# Space Complexity : O(n)"
      ],
      "metadata": {
        "colab": {
          "base_uri": "https://localhost:8080/"
        },
        "id": "BZK2EfI-x-o0",
        "outputId": "699bf1d6-4694-4218-b35b-74847c2afa09"
      },
      "execution_count": null,
      "outputs": [
        {
          "output_type": "stream",
          "name": "stdout",
          "text": [
            "    x+y*z\n"
          ]
        }
      ]
    },
    {
      "cell_type": "code",
      "source": [],
      "metadata": {
        "id": "DwoKoYK40Hqn"
      },
      "execution_count": null,
      "outputs": []
    }
  ]
}