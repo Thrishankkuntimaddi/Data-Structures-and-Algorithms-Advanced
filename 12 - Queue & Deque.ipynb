{
  "nbformat": 4,
  "nbformat_minor": 0,
  "metadata": {
    "colab": {
      "provenance": [],
      "authorship_tag": "ABX9TyNZ+Olal0gNn9rhGPqbznJW",
      "include_colab_link": true
    },
    "kernelspec": {
      "name": "python3",
      "display_name": "Python 3"
    },
    "language_info": {
      "name": "python"
    }
  },
  "cells": [
    {
      "cell_type": "markdown",
      "metadata": {
        "id": "view-in-github",
        "colab_type": "text"
      },
      "source": [
        "<a href=\"https://colab.research.google.com/github/Thrishankkuntimaddi/Data-Structures-and-Algorithms-Advanced/blob/main/12%20-%20Queue%20%26%20Deque.ipynb\" target=\"_parent\"><img src=\"https://colab.research.google.com/assets/colab-badge.svg\" alt=\"Open In Colab\"/></a>"
      ]
    },
    {
      "cell_type": "markdown",
      "source": [
        "# Queue"
      ],
      "metadata": {
        "id": "uLLqM_561ODc"
      }
    },
    {
      "cell_type": "markdown",
      "source": [
        "# Reverse a Queue\n",
        "\n",
        "I/P : q = [20, 10, 15, 30]\n",
        "\n",
        "O/P : [30, 15, 10, 20]\n",
        "\n",
        "\n",
        "### Iterative\n",
        "\n",
        "-> create an empty stack\n",
        "\n",
        "-> move all items of q to stack\n",
        "\n",
        "-> move all items back to the q\n",
        "\n"
      ],
      "metadata": {
        "id": "alRhQmYe1Q2f"
      }
    },
    {
      "cell_type": "code",
      "execution_count": 3,
      "metadata": {
        "colab": {
          "base_uri": "https://localhost:8080/"
        },
        "id": "MAKDuIUw1Mi3",
        "outputId": "77e56dc1-5019-438b-bb3e-b3bce6b0acf3"
      },
      "outputs": [
        {
          "output_type": "stream",
          "name": "stdout",
          "text": [
            "[30, 15, 10, 20]\n"
          ]
        }
      ],
      "source": [
        "# Iterative\n",
        "\n",
        "from collections import deque\n",
        "\n",
        "def reverseq(q):\n",
        "  st = []\n",
        "  while q:\n",
        "    st.append(q.popleft())\n",
        "\n",
        "  while st:\n",
        "    q.append(st.pop())\n",
        "\n",
        "q = deque([20, 10, 15, 30])\n",
        "reverseq(q)\n",
        "\n",
        "print(list(q))\n",
        "\n",
        "# Time Complexity : Theta(n)"
      ]
    },
    {
      "cell_type": "code",
      "source": [
        "# Recursive\n",
        "\n",
        "from collections import deque\n",
        "\n",
        "def reverseq(q):\n",
        "    if not q:\n",
        "        return\n",
        "    front = q.popleft()\n",
        "    reverseq(q)\n",
        "    q.append(front)\n",
        "\n",
        "q = deque([20, 10, 15, 30])\n",
        "reverseq(q)\n",
        "\n",
        "print(list(q))\n",
        "\n",
        "# Time Complexity : Θ(n)"
      ],
      "metadata": {
        "colab": {
          "base_uri": "https://localhost:8080/"
        },
        "id": "sHijH5V312Gq",
        "outputId": "67808367-bd42-494d-875c-7649371cee31"
      },
      "execution_count": 4,
      "outputs": [
        {
          "output_type": "stream",
          "name": "stdout",
          "text": [
            "[30, 15, 10, 20]\n"
          ]
        }
      ]
    },
    {
      "cell_type": "markdown",
      "source": [
        "# Generate first n numbers with given Digits\n",
        "\n",
        "I/P : n = 10 ; [5, 6]\n",
        "\n",
        "O/P : 5 6 55 56 65 66 555 556 565 566\n",
        "\n",
        "\n",
        "### Naive Solution\n",
        "\n",
        "-> Traverse through all natural numbers while we have not generated the n numbers\n",
        "\n",
        "-> For every traversed number, check if it has digits as 5 and 6 only. If yes, print the number and increment the count"
      ],
      "metadata": {
        "id": "9kxrzmRH2TT1"
      }
    },
    {
      "cell_type": "code",
      "source": [
        "# Naive Solution\n",
        "\n",
        "def given_digits(num, digits):\n",
        "    while num > 0:\n",
        "        if num % 10 not in digits:\n",
        "            return False\n",
        "        num //= 10\n",
        "    return True\n",
        "\n",
        "def generate(n, digits):\n",
        "    count = 0\n",
        "    num = 1\n",
        "    result = []\n",
        "\n",
        "    while count < n:\n",
        "        if given_digits(num, digits):\n",
        "            result.append(num)\n",
        "            count += 1\n",
        "        num += 1\n",
        "\n",
        "    return result\n",
        "\n",
        "n = 10\n",
        "digits = [5, 6]\n",
        "result = generate(n, digits)\n",
        "print(result)\n",
        "\n",
        "# Time Complexity : Θ(Largest Number)"
      ],
      "metadata": {
        "colab": {
          "base_uri": "https://localhost:8080/"
        },
        "id": "wLXo8Oam2NWf",
        "outputId": "8bfbbc37-4239-4c84-ada6-cbf444b3a882"
      },
      "execution_count": 5,
      "outputs": [
        {
          "output_type": "stream",
          "name": "stdout",
          "text": [
            "[5, 6, 55, 56, 65, 66, 555, 556, 565, 566]\n"
          ]
        }
      ]
    },
    {
      "cell_type": "markdown",
      "source": [
        "# Idea for Efficient Solution\n",
        "\n",
        "    -> create an empty queue, q\n",
        "\n",
        "    -> Add 5 and 6 to q\n",
        "\n",
        "    -> Run a loop n times\n",
        "\n",
        "      -> take out an item from q\n",
        "\n",
        "      -> print item\n",
        "\n",
        "      -> append 5 to the item and add the new number to q.\n",
        "\n",
        "      -> append 6 to the item and add the new number to q.\n",
        "\n"
      ],
      "metadata": {
        "id": "0D0NGgTu3UyF"
      }
    },
    {
      "cell_type": "code",
      "source": [
        "# Implementation\n",
        "\n",
        "from collections import deque\n",
        "\n",
        "def printSeries(n):\n",
        "  q = deque()\n",
        "  q.append('5')\n",
        "  q.append('6')\n",
        "\n",
        "  for i in range(n):\n",
        "    curr = q.popleft()\n",
        "    print(curr, end = \" \")\n",
        "\n",
        "    q.append(curr + \"5\")\n",
        "    q.append(curr + \"6\")\n",
        "\n",
        "n = 10\n",
        "printSeries(n)\n",
        "\n",
        "# Time Complexity : O(n)"
      ],
      "metadata": {
        "colab": {
          "base_uri": "https://localhost:8080/"
        },
        "id": "ms2JhWzO3Isp",
        "outputId": "e74abb17-2180-4fa7-f89e-b6bce7e3cca6"
      },
      "execution_count": 6,
      "outputs": [
        {
          "output_type": "stream",
          "name": "stdout",
          "text": [
            "5 6 55 56 65 66 555 556 565 566 "
          ]
        }
      ]
    },
    {
      "cell_type": "code",
      "source": [
        "# Better Implementation\n",
        "\n",
        "from collections import deque\n",
        "\n",
        "def printSeries(n):\n",
        "  q = deque()\n",
        "  q.append('5')\n",
        "  q.append('6')\n",
        "  i = 0\n",
        "\n",
        "  while i < n:\n",
        "        curr = q.popleft()\n",
        "        print(curr, end=\" \")\n",
        "\n",
        "        q.append(curr + \"5\")\n",
        "        q.append(curr + \"6\")\n",
        "        i += 1\n",
        "\n",
        "n = 10\n",
        "printSeries(n)"
      ],
      "metadata": {
        "colab": {
          "base_uri": "https://localhost:8080/"
        },
        "id": "Ou4sW7w-4L46",
        "outputId": "5f531e9f-4701-42b2-a0a0-dfc39f994651"
      },
      "execution_count": 10,
      "outputs": [
        {
          "output_type": "stream",
          "name": "stdout",
          "text": [
            "5 6 55 56 65 66 555 556 565 566 "
          ]
        }
      ]
    },
    {
      "cell_type": "markdown",
      "source": [
        "# Data Structure with min/max operations\n",
        "\n",
        "-> Design a data structure that supports following operations in O(1) time Complexity\n",
        "\n",
        "1. insertMin(x)\n",
        "2. insertMax(x)\n",
        "3. getMin()\n",
        "4. getMax()\n",
        "5. extractMin()\n",
        "6. extractMax()"
      ],
      "metadata": {
        "id": "v43_sc_h4_lS"
      }
    },
    {
      "cell_type": "code",
      "source": [
        "# Implementation\n",
        "\n",
        "class MinMaxStack:\n",
        "    def __init__(self):\n",
        "        self.dq = deque()\n",
        "\n",
        "    def insertMin(self, x):\n",
        "        self.dq.appendleft(x)\n",
        "\n",
        "    def insertMax(self, x):\n",
        "        self.dq.append(x)\n",
        "\n",
        "    def getMin(self):\n",
        "        return self.dq[0]\n",
        "\n",
        "    def getMax(self):\n",
        "        return self.dq[-1]\n",
        "\n",
        "    def extractMin(self):\n",
        "        return self.dq.popleft()\n",
        "\n",
        "    def extractMax(self):\n",
        "        return self.dq.pop()\n",
        "\n",
        "mm_stack = MinMaxStack()\n",
        "mm_stack.insertMin(5)\n",
        "mm_stack.insertMax(10)\n",
        "mm_stack.insertMin(3)\n",
        "mm_stack.insertMax(12)\n",
        "\n",
        "print(\"Current Min:\", mm_stack.getMin())\n",
        "print(\"Current Max:\", mm_stack.getMax())\n",
        "\n",
        "print(\"Extract Min:\", mm_stack.extractMin())\n",
        "print(\"Current Min:\", mm_stack.getMin())\n",
        "\n",
        "print(\"Extract Max:\", mm_stack.extractMax())\n",
        "print(\"Current Max:\", mm_stack.getMax())"
      ],
      "metadata": {
        "colab": {
          "base_uri": "https://localhost:8080/"
        },
        "id": "ubk4_XqG4erQ",
        "outputId": "cac1c940-bf6d-468d-bdb7-a466450a5653"
      },
      "execution_count": 13,
      "outputs": [
        {
          "output_type": "stream",
          "name": "stdout",
          "text": [
            "Current Min: 3\n",
            "Current Max: 12\n",
            "Extract Min: 3\n",
            "Current Min: 5\n",
            "Extract Max: 12\n",
            "Current Max: 10\n"
          ]
        }
      ]
    },
    {
      "cell_type": "markdown",
      "source": [
        "# Maximums of all subarrays of size k\n",
        "\n",
        "I/P : arr[] = [10, 8, 5, 12, 15, 7, 6] ; k = 3\n",
        "\n",
        "O/P : 10, 12, 15, 15, 15"
      ],
      "metadata": {
        "id": "zzCeOXqW6C2Z"
      }
    },
    {
      "cell_type": "code",
      "source": [
        "# Naive Solution\n",
        "\n",
        "def printMaxk(arr, k):\n",
        "    n = len(arr)\n",
        "    for i in range(n - k + 1):\n",
        "        res = arr[i]\n",
        "        for j in range(i + 1, i + k):\n",
        "            res = max(res, arr[j])\n",
        "        print(res, end=\" \")\n",
        "\n",
        "arr = [10, 8, 5, 12, 15, 7, 6]\n",
        "k = 3\n",
        "printMaxk(arr, k)\n",
        "\n",
        "# Time Complexity : O(n * k)\n",
        "# Space Complexity : O(1)"
      ],
      "metadata": {
        "colab": {
          "base_uri": "https://localhost:8080/"
        },
        "id": "IyGyxAjf5iRv",
        "outputId": "76a52ffb-03c2-46ad-b109-f7a9bf5025b7"
      },
      "execution_count": 17,
      "outputs": [
        {
          "output_type": "stream",
          "name": "stdout",
          "text": [
            "10 12 15 15 15 "
          ]
        }
      ]
    },
    {
      "cell_type": "code",
      "source": [
        "# Efficient Solution\n",
        "\n",
        "from collections import deque\n",
        "\n",
        "def printMaxk(arr, k):\n",
        "    n = len(arr)\n",
        "    dq = deque()\n",
        "\n",
        "    for i in range(k):\n",
        "        while dq and arr[i] >= arr[dq[-1]]:\n",
        "            dq.pop()\n",
        "        dq.append(i)\n",
        "\n",
        "    print(arr[dq[0]], end=\" \")\n",
        "\n",
        "    for i in range(k, n):\n",
        "        while dq and dq[0] <= i - k:\n",
        "            dq.popleft()\n",
        "\n",
        "        while dq and arr[i] >= arr[dq[-1]]:\n",
        "            dq.pop()\n",
        "\n",
        "        dq.append(i)\n",
        "        print(arr[dq[0]], end=\" \")\n",
        "\n",
        "arr = [10, 8, 5, 12, 15, 7, 6]\n",
        "k = 3\n",
        "printMaxk(arr, k)\n",
        "\n",
        "# Time Complexity : O(n)"
      ],
      "metadata": {
        "colab": {
          "base_uri": "https://localhost:8080/"
        },
        "id": "jKUJhOgn6jR1",
        "outputId": "5e6a6d1a-7f4a-4860-ed93-9ca58b90a822"
      },
      "execution_count": 19,
      "outputs": [
        {
          "output_type": "stream",
          "name": "stdout",
          "text": [
            "10 12 15 15 15 "
          ]
        }
      ]
    },
    {
      "cell_type": "markdown",
      "source": [
        "# First Circular Tour\n",
        "\n",
        "I/P : petrol = [4, 8, 7, 4] ; dist = [6, 5, 3, 5]\n",
        "\n",
        "O/P : 2"
      ],
      "metadata": {
        "id": "6OsxAhBl7hFZ"
      }
    },
    {
      "cell_type": "code",
      "source": [
        "# Naive Solution\n",
        "\n",
        "def printTour(pet, dist):\n",
        "  n = len(pet)\n",
        "\n",
        "  for start in range(n):\n",
        "    curr_pet = 0\n",
        "    end = start\n",
        "\n",
        "    while True:\n",
        "      curr_pet += pet[end] - dist[end]\n",
        "\n",
        "      if curr_pet < 0:\n",
        "        break\n",
        "\n",
        "      end = (end + 1) % n\n",
        "\n",
        "      if end == start:\n",
        "        return start + 1\n",
        "\n",
        "  return -1\n",
        "\n",
        "petrol = [4, 8, 7, 4]\n",
        "dist = [6, 5, 3, 5]\n",
        "printTour(petrol, dist)\n",
        "\n",
        "# Time Complexity : Theta(n^2)"
      ],
      "metadata": {
        "colab": {
          "base_uri": "https://localhost:8080/"
        },
        "id": "eMbbytm87XlW",
        "outputId": "a2e1659d-692b-4f2c-d88b-769c3187fdee"
      },
      "execution_count": 20,
      "outputs": [
        {
          "output_type": "execute_result",
          "data": {
            "text/plain": [
              "2"
            ]
          },
          "metadata": {},
          "execution_count": 20
        }
      ]
    },
    {
      "cell_type": "code",
      "source": [
        "# Efficient Solution\n",
        "\n",
        "# If curr_petrol becomes negative at pi, then none of the petrol pumps from p0 to pi can be solution\n",
        "\n",
        "# Let pi be the first petrol pump where current petrol becomes negative, then\n",
        "\n",
        "# curr_petrol = sum from j=0 to i  (petrol[j] - dist[j])\n",
        "\n",
        "def printTour(pet, dist):\n",
        "  start = 0\n",
        "  curr_pet = 0\n",
        "  prev_pet = 0\n",
        "  n = len(pet)\n",
        "\n",
        "  for i in range(n):\n",
        "    curr_pet += pet[i] - dist[i]\n",
        "\n",
        "    if curr_pet < 0:\n",
        "      start = i + 1\n",
        "      prev_pet += curr_pet\n",
        "      curr_pet = 0\n",
        "\n",
        "  return (start + 1) if ((curr_pet + prev_pet) >= 0 ) else -1\n",
        "\n",
        "petrol = [4, 8, 7, 4]\n",
        "dist = [6, 5, 3, 5]\n",
        "printTour(petrol, dist)\n",
        "\n",
        "# Time Complexity : Theta(n)\n",
        "# Space Complexity : Theta(1)"
      ],
      "metadata": {
        "colab": {
          "base_uri": "https://localhost:8080/"
        },
        "id": "tzVNHW6R8KF_",
        "outputId": "c1c4f8c5-c3b5-4c8a-b3c0-d5e68fc874b1"
      },
      "execution_count": 23,
      "outputs": [
        {
          "output_type": "execute_result",
          "data": {
            "text/plain": [
              "2"
            ]
          },
          "metadata": {},
          "execution_count": 23
        }
      ]
    },
    {
      "cell_type": "code",
      "source": [],
      "metadata": {
        "id": "G7q0pWrT9NER"
      },
      "execution_count": null,
      "outputs": []
    }
  ]
}