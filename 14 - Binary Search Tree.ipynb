{
  "nbformat": 4,
  "nbformat_minor": 0,
  "metadata": {
    "colab": {
      "provenance": [],
      "authorship_tag": "ABX9TyPWi0SRY0XUr5qepRBio7Xl",
      "include_colab_link": true
    },
    "kernelspec": {
      "name": "python3",
      "display_name": "Python 3"
    },
    "language_info": {
      "name": "python"
    }
  },
  "cells": [
    {
      "cell_type": "markdown",
      "metadata": {
        "id": "view-in-github",
        "colab_type": "text"
      },
      "source": [
        "<a href=\"https://colab.research.google.com/github/Thrishankkuntimaddi/Data-Structures-and-Algorithms-Advanced/blob/main/14%20-%20Binary%20Search%20Tree.ipynb\" target=\"_parent\"><img src=\"https://colab.research.google.com/assets/colab-badge.svg\" alt=\"Open In Colab\"/></a>"
      ]
    },
    {
      "cell_type": "markdown",
      "source": [
        "# Ceiling on the Left Side\n",
        "\n",
        "I/P : arr = [2, 8, 30, 15, 25, 12]\n",
        "\n",
        "O/P : -1 -1 -1 30 30 15\n",
        "\n",
        "I/P : arr = [30, 20, 10]\n",
        "\n",
        "O/P : -1 30 20"
      ],
      "metadata": {
        "id": "FMCp3uNh01Cp"
      }
    },
    {
      "cell_type": "code",
      "execution_count": 1,
      "metadata": {
        "colab": {
          "base_uri": "https://localhost:8080/"
        },
        "id": "akWv_5ii0pUu",
        "outputId": "58067ae0-1db0-4467-9924-b8d555197530"
      },
      "outputs": [
        {
          "output_type": "stream",
          "name": "stdout",
          "text": [
            "-1 -1 -1 30 30 15 "
          ]
        }
      ],
      "source": [
        "# Naive Solution\n",
        "\n",
        "import sys\n",
        "\n",
        "def printCeiling(arr):\n",
        "    n = len(arr)\n",
        "    print(\"-1\", end=\" \")\n",
        "\n",
        "    for i in range(1, n):\n",
        "        diff = sys.maxsize\n",
        "\n",
        "        for j in range(i):\n",
        "            if arr[j] >= arr[i]:\n",
        "                diff = min(diff, arr[j] - arr[i])\n",
        "\n",
        "        if diff == sys.maxsize:\n",
        "            print(\"-1\", end=\" \")\n",
        "        else:\n",
        "            print(arr[i] + diff, end=\" \")\n",
        "\n",
        "arr = [2, 8, 30, 15, 25, 12]\n",
        "printCeiling(arr)\n",
        "\n",
        "# Time Complexity : O(n^2)\n",
        "# Space Complexity : O(1)"
      ]
    },
    {
      "cell_type": "code",
      "source": [
        "# Efficient Solution\n",
        "\n",
        "def printCeil(arr):\n",
        "  n = len(arr)\n",
        "  print(\"-1\", end = \" \")\n",
        "  s = set()\n",
        "  s.add(arr[0])\n",
        "\n",
        "  for i in range(1, n):\n",
        "    it = [x for x in s if x >= arr[i]]\n",
        "\n",
        "    if len(it) == 0:\n",
        "      print(\"-1\", end = \" \")\n",
        "    else:\n",
        "      print(min(it), end = \" \")\n",
        "\n",
        "    s.add(arr[i])\n",
        "\n",
        "printCeil(arr)\n",
        "\n",
        "# Time Complexity : O(n logn)"
      ],
      "metadata": {
        "colab": {
          "base_uri": "https://localhost:8080/"
        },
        "id": "mtsZWH1917nF",
        "outputId": "ac417119-6e60-4ecb-8be4-f462999f4e67"
      },
      "execution_count": 3,
      "outputs": [
        {
          "output_type": "stream",
          "name": "stdout",
          "text": [
            "-1 -1 -1 30 30 15 "
          ]
        }
      ]
    },
    {
      "cell_type": "markdown",
      "source": [
        "# Find the Kth Smallest in BST\n",
        "\n",
        "Creating a sample tree:\n",
        "\n",
        "          20\n",
        "         /  \\\n",
        "        8    22\n",
        "       / \\\n",
        "      4  12\n",
        "        /  \\\n",
        "       10  14"
      ],
      "metadata": {
        "id": "J_sYMB6F2bHE"
      }
    },
    {
      "cell_type": "code",
      "source": [
        "# Naive Solution\n",
        "\n",
        "class Node:\n",
        "    def __init__(self, key):\n",
        "        self.key = key\n",
        "        self.left = None\n",
        "        self.right = None\n",
        "\n",
        "def printkth(root, k):\n",
        "    if root is not None:\n",
        "        printkth(root.left, k)\n",
        "        printkth.count += 1\n",
        "\n",
        "        if printkth.count == k:\n",
        "            print(root.key)\n",
        "            return\n",
        "\n",
        "        printkth(root.right, k)\n",
        "\n",
        "printkth.count = 0\n",
        "\n",
        "root = Node(20)\n",
        "root.left = Node(8)\n",
        "root.right = Node(22)\n",
        "root.left.left = Node(4)\n",
        "root.left.right = Node(12)\n",
        "root.left.right.left = Node(10)\n",
        "root.left.right.right = Node(14)\n",
        "\n",
        "k = 3\n",
        "printkth(root, k)\n",
        "\n",
        "# Time Complexity : O(n)"
      ],
      "metadata": {
        "colab": {
          "base_uri": "https://localhost:8080/"
        },
        "id": "MytLB6gF2Ud1",
        "outputId": "4ad1ec76-96bd-405f-aeab-aae7af620d94"
      },
      "execution_count": 5,
      "outputs": [
        {
          "output_type": "stream",
          "name": "stdout",
          "text": [
            "10\n"
          ]
        }
      ]
    },
    {
      "cell_type": "code",
      "source": [
        "# Efficient Solution\n",
        "\n",
        "class Node:\n",
        "    def __init__(self, key):\n",
        "        self.key = key\n",
        "        self.left = None\n",
        "        self.right = None\n",
        "        self.count = 0\n",
        "\n",
        "def insert(root, x):\n",
        "    if root is None:\n",
        "        return Node(x)\n",
        "\n",
        "    if x < root.key:\n",
        "        root.left = insert(root.left, x)\n",
        "        root.count += 1\n",
        "\n",
        "    elif x > root.key:\n",
        "        root.right = insert(root.right, x)\n",
        "\n",
        "    return root\n",
        "\n",
        "def kthsmall(root, k):\n",
        "    if root is None:\n",
        "        return None\n",
        "\n",
        "    count = root.count + 1\n",
        "\n",
        "    if count == k:\n",
        "        return root\n",
        "\n",
        "    if count > k:\n",
        "        return kthsmall(root.left, k)\n",
        "\n",
        "    return kthsmall(root.right, k - count)\n",
        "\n",
        "root = None\n",
        "arr = [20, 8, 22, 4, 12, 10, 14]\n",
        "\n",
        "for num in arr:\n",
        "    root = insert(root, num)\n",
        "\n",
        "k = 3\n",
        "result = kthsmall(root, k)\n",
        "\n",
        "if result:\n",
        "    print(f\"{result.key}\")\n",
        "else:\n",
        "    print(\"Element not found\")\n",
        "\n",
        "# Time Complexity : O(h)"
      ],
      "metadata": {
        "colab": {
          "base_uri": "https://localhost:8080/"
        },
        "id": "6fgBp2B227Zz",
        "outputId": "14a78af1-6eb9-438a-80ff-1741e75e6674"
      },
      "execution_count": 8,
      "outputs": [
        {
          "output_type": "stream",
          "name": "stdout",
          "text": [
            "10\n"
          ]
        }
      ]
    },
    {
      "cell_type": "markdown",
      "source": [
        "# Check for Binary Search Tree\n",
        "\n",
        "I/P :\n",
        "\n",
        "          20\n",
        "         /  \\\n",
        "        8    22\n",
        "\n",
        "O/P : No\n",
        "\n",
        "-------------------\n",
        "\n",
        "I/P :\n",
        "\n",
        "          10\n",
        "         /  \\\n",
        "        8    22\n",
        "\n",
        "O/P : Yes\n",
        "\n",
        "-------------------\n",
        "\n",
        "### For Every node\n",
        "\n",
        "1. Find minimum in left subtree\n",
        "\n",
        "2. Find minimum in right subtree\n",
        "\n",
        "3. Check that the value of current node is greater than the maximum and smaller than the minimum"
      ],
      "metadata": {
        "id": "fo5oiUdL4QH9"
      }
    },
    {
      "cell_type": "code",
      "source": [
        "# Naive Solution\n",
        "\n",
        "import sys\n",
        "\n",
        "def maxvalue(root):\n",
        "  if root == None:\n",
        "    return -sys.maxsize\n",
        "\n",
        "  res = root.key\n",
        "\n",
        "  lres = maxvalue(root.left)\n",
        "  rres = maxvalue(root.right)\n",
        "\n",
        "  if lres > res:\n",
        "    res = lres\n",
        "\n",
        "  if rres > res:\n",
        "    res = rres\n",
        "\n",
        "  return res\n",
        "\n",
        "def minvalue(root):\n",
        "  if root == None:\n",
        "    return sys.maxsize\n",
        "\n",
        "  res = root.key\n",
        "\n",
        "  lres = minvalue(root.left)\n",
        "  rres = minvalue(root.right)\n",
        "\n",
        "  if lres < res:\n",
        "    res = lres\n",
        "\n",
        "  if rres < res:\n",
        "    res = rres\n",
        "\n",
        "  return res\n",
        "\n",
        "def isBST(root):\n",
        "  if root == None:\n",
        "    return 1\n",
        "\n",
        "  if root.left != None and maxvalue(root.left) > root.key:\n",
        "    return 0\n",
        "\n",
        "  if root.right != None and minvalue(root.right) < root.key:\n",
        "    return 0\n",
        "\n",
        "  return 1\n",
        "\n",
        "root = Node(20)\n",
        "root.left = Node(8)\n",
        "root.right = Node(22)\n",
        "root.left.left = Node(4)\n",
        "root.left.right = Node(12)\n",
        "root.left.right.left = Node(10)\n",
        "root.left.right.right = Node(14)\n",
        "\n",
        "isBST(root)\n",
        "\n",
        "# Time Complexity : O(n^2)"
      ],
      "metadata": {
        "colab": {
          "base_uri": "https://localhost:8080/"
        },
        "id": "cWBXozWn4Ig1",
        "outputId": "ecd06905-e27c-40a1-bcc4-9c441e525a53"
      },
      "execution_count": 11,
      "outputs": [
        {
          "output_type": "execute_result",
          "data": {
            "text/plain": [
              "1"
            ]
          },
          "metadata": {},
          "execution_count": 11
        }
      ]
    },
    {
      "cell_type": "code",
      "source": [
        "# Better Solution\n",
        "\n",
        "import sys\n",
        "\n",
        "class Node:\n",
        "    def __init__(self, key):\n",
        "        self.key = key\n",
        "        self.left = None\n",
        "        self.right = None\n",
        "\n",
        "def isBST(root, min_key, max_key):\n",
        "    if root is None:\n",
        "        return True\n",
        "\n",
        "    if root.key <= min_key or root.key >= max_key:\n",
        "        return False\n",
        "\n",
        "    return (isBST(root.left, min_key, root.key) and isBST(root.right, root.key, max_key))\n",
        "\n",
        "root = Node(20)\n",
        "root.left = Node(8)\n",
        "root.right = Node(22)\n",
        "root.left.left = Node(4)\n",
        "root.left.right = Node(12)\n",
        "root.left.right.left = Node(10)\n",
        "root.left.right.right = Node(14)\n",
        "\n",
        "print(isBST(root, -sys.maxsize, sys.maxsize))\n",
        "\n",
        "# Time Complexity : O(n)"
      ],
      "metadata": {
        "colab": {
          "base_uri": "https://localhost:8080/"
        },
        "id": "VYC86YvL6BPj",
        "outputId": "62eac680-743f-41f8-eb8c-ea4bf0e52628"
      },
      "execution_count": 14,
      "outputs": [
        {
          "output_type": "stream",
          "name": "stdout",
          "text": [
            "True\n"
          ]
        }
      ]
    },
    {
      "cell_type": "code",
      "source": [
        "# Best Solution\n",
        "\n",
        "prev = -sys.maxsize\n",
        "\n",
        "def isBST1(root):\n",
        "  global prev\n",
        "\n",
        "  if root == None:\n",
        "    return True\n",
        "\n",
        "  if isBST(root.left) == False:\n",
        "    return False\n",
        "\n",
        "  if root.key <= prev:\n",
        "    return False\n",
        "\n",
        "  prev = root.key\n",
        "\n",
        "  return isBST(root.right)\n",
        "\n",
        "isBST1(root)\n",
        "\n",
        "# Time Complexity : O(n)\n",
        "# Space Complexity : O(h)"
      ],
      "metadata": {
        "colab": {
          "base_uri": "https://localhost:8080/"
        },
        "id": "JzVTau-q6qXd",
        "outputId": "9bd7cbef-8370-4782-894f-4d467a14fe78"
      },
      "execution_count": 16,
      "outputs": [
        {
          "output_type": "execute_result",
          "data": {
            "text/plain": [
              "True"
            ]
          },
          "metadata": {},
          "execution_count": 16
        }
      ]
    },
    {
      "cell_type": "markdown",
      "source": [
        "# Fix BST with Two Nodes swapped\n",
        "\n",
        "           20                     20\n",
        "         /    \\                 /    \\\n",
        "       60      80     -->      8     80\n",
        "      /  \\    /  \\            / \\   /  \\\n",
        "     4   10  8   100         4  10 60 100"
      ],
      "metadata": {
        "id": "RuSeypFO7nEK"
      }
    },
    {
      "cell_type": "code",
      "source": [
        "# Implementation\n",
        "\n",
        "class Node:\n",
        "    def __init__(self, key):\n",
        "        self.key = key\n",
        "        self.left = None\n",
        "        self.right = None\n",
        "\n",
        "def inOrder(root):\n",
        "    if root is not None:\n",
        "        inOrder(root.left)\n",
        "        print(root.key, end=\" \")\n",
        "        inOrder(root.right)\n",
        "\n",
        "prev = None\n",
        "first = None\n",
        "second = None\n",
        "\n",
        "def fixBST(root):\n",
        "    global prev, first, second\n",
        "\n",
        "    if root is None:\n",
        "        return\n",
        "\n",
        "    fixBST(root.left)\n",
        "\n",
        "    if prev is not None and root.key < prev.key:\n",
        "        if first is None:\n",
        "            first = prev\n",
        "        second = root\n",
        "\n",
        "    prev = root\n",
        "\n",
        "    fixBST(root.right)\n",
        "\n",
        "def correctBST(root):\n",
        "    global first, second\n",
        "\n",
        "    fixBST(root)\n",
        "\n",
        "    if first and second:\n",
        "        first.key, second.key = second.key, first.key\n",
        "\n",
        "root = Node(6)\n",
        "root.left = Node(3)\n",
        "root.right = Node(4)\n",
        "root.left.left = Node(1)\n",
        "root.left.right = Node(8)\n",
        "root.right.left = Node(7)\n",
        "root.right.right = Node(9)\n",
        "\n",
        "print(\"In-order traversal before fixing the BST:\")\n",
        "inOrder(root)\n",
        "print()\n",
        "\n",
        "#         6\n",
        "#       /   \\\n",
        "#      3     4\n",
        "#     / \\   / \\\n",
        "#    1   8 7   9\n",
        "\n",
        "correctBST(root)\n",
        "\n",
        "print(\"In-order traversal after fixing the BST:\")\n",
        "inOrder(root)\n",
        "print()\n",
        "\n",
        "# Time Complexity : O(n)"
      ],
      "metadata": {
        "colab": {
          "base_uri": "https://localhost:8080/"
        },
        "id": "qkjkEltJ7fq_",
        "outputId": "e55ce2c4-ba0a-4801-9f9f-d4d546e65441"
      },
      "execution_count": 17,
      "outputs": [
        {
          "output_type": "stream",
          "name": "stdout",
          "text": [
            "In-order traversal before fixing the BST:\n",
            "1 3 8 6 7 4 9 \n",
            "In-order traversal after fixing the BST:\n",
            "1 3 4 6 7 8 9 \n"
          ]
        }
      ]
    },
    {
      "cell_type": "markdown",
      "source": [
        "# Pair Sum with Given BST\n",
        "\n",
        "I/P :\n",
        "\n",
        "        20\n",
        "       /  \\\n",
        "      8   40\n",
        "         /\n",
        "        35\n",
        "\n",
        "sum = 49\n",
        "\n",
        "O/P : False\n",
        "\n",
        "\n",
        "### Method 1 (inOrder Traversal)\n",
        "\n",
        "1. Do the inorder traversal of given BST and store it in the array\n",
        "\n",
        "2. Use two pointer approach to find that if array has the pair with given sum\n"
      ],
      "metadata": {
        "id": "PyIdfV49-p6v"
      }
    },
    {
      "cell_type": "code",
      "source": [
        "# Method 1 (inOrder Traversal)\n",
        "\n",
        "class Node:\n",
        "    def __init__(self, key):\n",
        "        self.key = key\n",
        "        self.left = None\n",
        "        self.right = None\n",
        "\n",
        "def inOrder(root, arr):\n",
        "    if root is not None:\n",
        "        inOrder(root.left, arr)\n",
        "        arr.append(root.key)\n",
        "        inOrder(root.right, arr)\n",
        "\n",
        "def findPairWithSum(root, target_sum):\n",
        "    arr = []\n",
        "    inOrder(root, arr)\n",
        "\n",
        "    left = 0\n",
        "    right = len(arr) - 1\n",
        "\n",
        "    while left < right:\n",
        "        current_sum = arr[left] + arr[right]\n",
        "\n",
        "        if current_sum == target_sum:\n",
        "            return (arr[left], arr[right])\n",
        "        elif current_sum < target_sum:\n",
        "            left += 1\n",
        "        else:\n",
        "            right -= 1\n",
        "\n",
        "    return None\n",
        "\n",
        "# Example usage:\n",
        "root = Node(5)\n",
        "root.left = Node(3)\n",
        "root.right = Node(8)\n",
        "root.left.left = Node(1)\n",
        "root.left.right = Node(4)\n",
        "root.right.left = Node(7)\n",
        "root.right.right = Node(9)\n",
        "\n",
        "target_sum = 10\n",
        "result = findPairWithSum(root, target_sum)\n",
        "\n",
        "if result:\n",
        "    print(f\"Pair found: {result}\")\n",
        "else:\n",
        "    print(\"No pair found.\")\n",
        "\n",
        "# Time Complexity : O(n)\n",
        "# Space Complexity : O(n+h)"
      ],
      "metadata": {
        "colab": {
          "base_uri": "https://localhost:8080/"
        },
        "id": "BszyVVZf94X3",
        "outputId": "079ca39f-dfe6-47c9-cdd3-4aff6bfa8408"
      },
      "execution_count": 18,
      "outputs": [
        {
          "output_type": "stream",
          "name": "stdout",
          "text": [
            "Pair found: (1, 9)\n"
          ]
        }
      ]
    },
    {
      "cell_type": "code",
      "source": [
        "# Method 2 (Hashing)\n",
        "\n",
        "class Node:\n",
        "    def __init__(self, key):\n",
        "        self.key = key\n",
        "        self.left = None\n",
        "        self.right = None\n",
        "\n",
        "def ispairSum(root, target_sum, visited):\n",
        "    if root is None:\n",
        "        return False\n",
        "\n",
        "    if ispairSum(root.left, target_sum, visited):\n",
        "        return True\n",
        "\n",
        "    if (target_sum - root.key) in visited:\n",
        "        print(f\"Pair found: ({target_sum - root.key}, {root.key}) with sum {target_sum}\")\n",
        "        return True\n",
        "\n",
        "    visited.add(root.key)\n",
        "\n",
        "    return ispairSum(root.right, target_sum, visited)\n",
        "\n",
        "# Example usage:\n",
        "root = Node(5)\n",
        "root.left = Node(3)\n",
        "root.right = Node(8)\n",
        "root.left.left = Node(1)\n",
        "root.left.right = Node(4)\n",
        "root.right.left = Node(7)\n",
        "root.right.right = Node(9)\n",
        "\n",
        "target_sum = 10\n",
        "visited = set()\n",
        "result = ispairSum(root, target_sum, visited)\n",
        "\n",
        "if not result:\n",
        "    print(\"No pair found.\")\n",
        "\n",
        "# Time Complexity : O(n)\n",
        "# Space Complexity : O(1)"
      ],
      "metadata": {
        "colab": {
          "base_uri": "https://localhost:8080/"
        },
        "id": "IqfrmnKI_bZ8",
        "outputId": "3239770b-c6b7-45a6-8930-9d24573ca952"
      },
      "execution_count": 21,
      "outputs": [
        {
          "output_type": "stream",
          "name": "stdout",
          "text": [
            "Pair found: (3, 7) with sum 10\n"
          ]
        }
      ]
    },
    {
      "cell_type": "code",
      "source": [],
      "metadata": {
        "id": "uES2Blmt_7xR"
      },
      "execution_count": null,
      "outputs": []
    }
  ]
}