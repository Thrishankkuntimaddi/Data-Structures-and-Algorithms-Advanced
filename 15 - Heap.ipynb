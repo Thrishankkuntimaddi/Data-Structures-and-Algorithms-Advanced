{
  "nbformat": 4,
  "nbformat_minor": 0,
  "metadata": {
    "colab": {
      "provenance": [],
      "authorship_tag": "ABX9TyMYHia+TdRZ6G750Lta8u5I",
      "include_colab_link": true
    },
    "kernelspec": {
      "name": "python3",
      "display_name": "Python 3"
    },
    "language_info": {
      "name": "python"
    }
  },
  "cells": [
    {
      "cell_type": "markdown",
      "metadata": {
        "id": "view-in-github",
        "colab_type": "text"
      },
      "source": [
        "<a href=\"https://colab.research.google.com/github/Thrishankkuntimaddi/Data-Structures-and-Algorithms-Advanced/blob/main/15%20-%20Heap.ipynb\" target=\"_parent\"><img src=\"https://colab.research.google.com/assets/colab-badge.svg\" alt=\"Open In Colab\"/></a>"
      ]
    },
    {
      "cell_type": "markdown",
      "source": [
        "# Sort a K-Sorted Array\n",
        "\n",
        "I/P : arr = [9, 8, 7, 18, 19, 17] ; k = 2\n",
        "\n",
        "O/P : [7, 8, 9, 17, 18, 19]"
      ],
      "metadata": {
        "id": "JYLDVGgmCIAd"
      }
    },
    {
      "cell_type": "code",
      "execution_count": 1,
      "metadata": {
        "colab": {
          "base_uri": "https://localhost:8080/"
        },
        "id": "Dcp1ifc_A8lN",
        "outputId": "075fe44d-68d7-40aa-831e-c89a0b74c825"
      },
      "outputs": [
        {
          "output_type": "stream",
          "name": "stdout",
          "text": [
            "Sorted array:\n",
            "2 3 5 6 8 9 10 \n"
          ]
        }
      ],
      "source": [
        "# Implementation\n",
        "\n",
        "import heapq\n",
        "\n",
        "def sortk(arr, k):\n",
        "    n = len(arr)\n",
        "    pq = arr[:k+1]\n",
        "    heapq.heapify(pq)\n",
        "    index = 0\n",
        "\n",
        "    for i in range(k + 1, n):\n",
        "        arr[index] = heapq.heappop(pq)\n",
        "        index += 1\n",
        "        heapq.heappush(pq, arr[i])\n",
        "\n",
        "    while pq:\n",
        "        arr[index] = heapq.heappop(pq)\n",
        "        index += 1\n",
        "\n",
        "def printArray(arr):\n",
        "    for i in arr:\n",
        "        print(i, end=\" \")\n",
        "    print()\n",
        "\n",
        "# Example usage:\n",
        "arr = [6, 5, 3, 2, 8, 10, 9]\n",
        "k = 3\n",
        "sortk(arr, k)\n",
        "print(\"Sorted array:\")\n",
        "printArray(arr)\n",
        "\n",
        "# Time Complexity : O(n + klogk)\n",
        "# Space Complexity : O(k + 1)"
      ]
    },
    {
      "cell_type": "markdown",
      "source": [
        "# Purchase Maximum Items\n",
        "\n",
        "I/P : cost = [1, 12, 5, 111, 200] ; sum = 10\n",
        "\n",
        "O/P : 2"
      ],
      "metadata": {
        "id": "7jddTzTvD4EB"
      }
    },
    {
      "cell_type": "code",
      "source": [
        "# Naive Solution\n",
        "\n",
        "def PMI(cost, sum):\n",
        "  res = 0\n",
        "  cost.sort()\n",
        "\n",
        "  for i in cost:\n",
        "    if i <= sum:\n",
        "      sum -= i\n",
        "      res += 1\n",
        "    else:\n",
        "      break\n",
        "  print(res)\n",
        "\n",
        "cost = [1, 12, 5, 111, 200]\n",
        "sum = 10\n",
        "PMI(cost, sum)\n",
        "\n",
        "# Time Complexity : O(n logn)\n",
        "# Space Complexity : O(1)"
      ],
      "metadata": {
        "colab": {
          "base_uri": "https://localhost:8080/"
        },
        "id": "483IbuwSDewI",
        "outputId": "c04f905f-5ba4-43cd-ad8a-81e3ba99d41c"
      },
      "execution_count": 3,
      "outputs": [
        {
          "output_type": "stream",
          "name": "stdout",
          "text": [
            "2\n"
          ]
        }
      ]
    },
    {
      "cell_type": "code",
      "source": [
        "# Efficient Solution\n",
        "\n",
        "def maxElement(cost, sum):\n",
        "  res = 0\n",
        "  pq = cost\n",
        "  heapq.heapify(pq)\n",
        "\n",
        "  for i in cost:\n",
        "    top = heapq.heappop(pq)\n",
        "    if top <= sum:\n",
        "      sum -= top\n",
        "      res += 1\n",
        "    else:\n",
        "      break\n",
        "\n",
        "  return res\n",
        "\n",
        "cost = [1, 12, 5, 111, 200]\n",
        "sum = 10\n",
        "PMI(cost, sum)\n",
        "\n",
        "# Time Complexity : O(n) + O(res * logn)\n",
        "# Space Complexity : O(1)"
      ],
      "metadata": {
        "colab": {
          "base_uri": "https://localhost:8080/"
        },
        "id": "fBdc92AgExzW",
        "outputId": "e3abab38-c754-4664-8c1c-6f56105588e3"
      },
      "execution_count": 4,
      "outputs": [
        {
          "output_type": "stream",
          "name": "stdout",
          "text": [
            "2\n"
          ]
        }
      ]
    },
    {
      "cell_type": "markdown",
      "source": [
        "# K Largest Elements\n",
        "\n",
        "I/P : arr = [5, 15, 10, 20, 8] ; k = 2\n",
        "\n",
        "O/P : 15 20\n",
        "\n",
        "\n",
        "      1. Build a minHeap of first k items\n",
        "\n",
        "      2. Traverse from (k+1)th element\n",
        "\n",
        "          a. Compare current element with top of heap, If smaller then top, ignore it\n",
        "\n",
        "          b. else remove the top element and insert the current element in the minHeap\n",
        "\n",
        "      3. print contents of minHeap"
      ],
      "metadata": {
        "id": "G5YqYVMDFVf5"
      }
    },
    {
      "cell_type": "code",
      "source": [
        "# Implementation\n",
        "\n",
        "import heapq\n",
        "\n",
        "def k_largest_elements(arr, k):\n",
        "    if k <= 0 or k > len(arr):\n",
        "        return []\n",
        "\n",
        "    # Step 1: Build a min-heap with the first k elements\n",
        "    min_heap = arr[:k]\n",
        "    heapq.heapify(min_heap)\n",
        "\n",
        "    # Step 2: Traverse from the (k + 1)th element\n",
        "    for i in range(k, len(arr)):\n",
        "        if arr[i] > min_heap[0]:                  # Step 2a: Compare current element with the top of the heap\n",
        "            heapq.heappop(min_heap)               # Step 2b: Remove the top element\n",
        "            heapq.heappush(min_heap, arr[i])      # Insert the current element\n",
        "\n",
        "    # Step 3: Print contents of minHeap\n",
        "    return min_heap\n",
        "\n",
        "def printArray(arr):\n",
        "    for i in arr:\n",
        "        print(i, end=\" \")\n",
        "    print()\n",
        "\n",
        "arr = [5, 15, 10, 20, 8]\n",
        "k = 2\n",
        "result = k_largest_elements(arr, k)\n",
        "printArray(result)\n",
        "\n",
        "\n",
        "# Time Complexity : O(k + (n-k) * logk)"
      ],
      "metadata": {
        "colab": {
          "base_uri": "https://localhost:8080/"
        },
        "id": "vLplnmulFPF1",
        "outputId": "45fa2af3-baf4-4e62-d4fb-0ec12e632184"
      },
      "execution_count": 7,
      "outputs": [
        {
          "output_type": "stream",
          "name": "stdout",
          "text": [
            "15 20 \n"
          ]
        }
      ]
    },
    {
      "cell_type": "code",
      "source": [
        "# Comparison with MaxHeap based solution\n",
        "\n",
        "import heapq\n",
        "\n",
        "def k_largest_elements_max_heap(arr, k):\n",
        "    if k <= 0 or k > len(arr):\n",
        "        return []\n",
        "\n",
        "    # Step 1: Build a max-heap of all elements (simulate with negative values)\n",
        "    max_heap = [-x for x in arr]                           # Invert the values for max-heap simulation\n",
        "    heapq.heapify(max_heap)\n",
        "\n",
        "    # Step 2: Extract the k largest elements\n",
        "    largest_elements = []\n",
        "    for _ in range(k):\n",
        "        largest_elements.append(-heapq.heappop(max_heap))  # Invert back to original values\n",
        "\n",
        "    return largest_elements\n",
        "\n",
        "# Example usage:\n",
        "arr = [5, 15, 10, 20, 8]\n",
        "k = 2\n",
        "result = k_largest_elements_max_heap(arr, k)\n",
        "printArray(result)\n",
        "\n",
        "# Time Complexity : O(n logn)"
      ],
      "metadata": {
        "colab": {
          "base_uri": "https://localhost:8080/"
        },
        "id": "se0lq6l6Hcwq",
        "outputId": "06a15be6-f582-4b6d-8965-2d7c7f893410"
      },
      "execution_count": 9,
      "outputs": [
        {
          "output_type": "stream",
          "name": "stdout",
          "text": [
            "20 15 \n"
          ]
        }
      ]
    },
    {
      "cell_type": "markdown",
      "source": [
        "# K Closest Elements\n",
        "\n",
        "I/P : arr = [10, 15, 7, 3, 4] ; x = 8 ; k = 2\n",
        "\n",
        "O/P : 7 10"
      ],
      "metadata": {
        "id": "bYFIwl1wIFSO"
      }
    },
    {
      "cell_type": "code",
      "source": [
        "# Naive Solution\n",
        "\n",
        "def kClosest(arr, k, x):\n",
        "    for i in range(k):\n",
        "        mi = 0\n",
        "\n",
        "        for j in range(1, len(arr)):\n",
        "\n",
        "            if abs(arr[j] - x) < abs(arr[mi] - x): # Check if the current element is closer to x than the current minimum\n",
        "                mi = j\n",
        "\n",
        "        print(arr[mi], end=\" \")                    # Print the closest element\n",
        "\n",
        "        arr.pop(mi)                                # Remove the closest element from the array\n",
        "\n",
        "# Example usage:\n",
        "arr = [5, 15, 10, 20, 8]\n",
        "k = 3\n",
        "x = 12\n",
        "kClosest(arr, k, x)\n",
        "\n",
        "# Time Complexity : O(nk)"
      ],
      "metadata": {
        "colab": {
          "base_uri": "https://localhost:8080/"
        },
        "id": "cZO4S_T7H-o0",
        "outputId": "2f9f5fc8-7e12-470d-dea5-b08e930b6e54"
      },
      "execution_count": 13,
      "outputs": [
        {
          "output_type": "stream",
          "name": "stdout",
          "text": [
            "10 15 8 "
          ]
        }
      ]
    },
    {
      "cell_type": "code",
      "source": [
        "# Efficient Solution\n",
        "\n",
        "# This problem is a variation of k smallest elements problem\n",
        "\n",
        "import heapq\n",
        "\n",
        "def kcloses(arr, x, k):\n",
        "    h = []\n",
        "    n = len(arr)\n",
        "\n",
        "    for i in range(k):\n",
        "        heapq.heappush(h, (-abs(arr[i] - x), i))\n",
        "\n",
        "    for i in range(k, n):\n",
        "        curr = -abs(arr[i] - x)\n",
        "        p = h[0][0]\n",
        "\n",
        "        if curr > p:\n",
        "            heapq.heappop(h)\n",
        "            heapq.heappush(h, (curr, i))\n",
        "\n",
        "    while h:\n",
        "        pipi = heapq.heappop(h)\n",
        "        print(arr[pipi[1]], end=\" \")\n",
        "\n",
        "arr = [5, 15, 10, 20, 8]\n",
        "k = 3\n",
        "x = 12\n",
        "kcloses(arr, x, k)\n",
        "\n",
        "# Time Complexity : O(n logk)"
      ],
      "metadata": {
        "colab": {
          "base_uri": "https://localhost:8080/"
        },
        "id": "aE63u3X_IqJj",
        "outputId": "bf8951f0-9bdb-4d50-ffc0-2fd3b3324abe"
      },
      "execution_count": 18,
      "outputs": [
        {
          "output_type": "stream",
          "name": "stdout",
          "text": [
            "8 15 10 "
          ]
        }
      ]
    },
    {
      "cell_type": "markdown",
      "source": [
        "# Merge K Sorted Arrays\n",
        "\n",
        "I/P : arr =\n",
        "\n",
        "        [[10, 20, 30],\n",
        "         [5, 15],\n",
        "         [1, 9, 11, 18]]\n",
        "\n",
        "O/P : res = [1, 5, 9, 10, 11, 15, 18, 20, 30]\n"
      ],
      "metadata": {
        "id": "r2uTp6hhKnhV"
      }
    },
    {
      "cell_type": "code",
      "source": [
        "# Super Naive Solution\n",
        "'''\n",
        "1. put all elements in res()\n",
        "2. sort res()\n",
        "\n",
        "# Time Complexity : O(nk lognk)\n",
        "n -> maximum no.of elements in an array\n",
        "k -> no.of input arrays\n",
        "'''\n",
        "\n",
        "def mergeKSortedArrays(arrays):\n",
        "    res = []\n",
        "    for array in arrays:\n",
        "        res.extend(array)\n",
        "\n",
        "    res.sort()\n",
        "\n",
        "    return res\n",
        "\n",
        "arrays = [\n",
        "    [10, 20, 30],\n",
        "    [5, 15],\n",
        "    [1, 9, 11, 18]\n",
        "]\n",
        "\n",
        "merged_result = mergeKSortedArrays(arrays)\n",
        "print(\"Merged array:\", merged_result)\n",
        "\n",
        "# Time Complexity : O(nk lognk)"
      ],
      "metadata": {
        "colab": {
          "base_uri": "https://localhost:8080/"
        },
        "id": "XK-gfIvuKMls",
        "outputId": "e6aa78d9-901d-4917-8e70-9b0d6e3c07f0"
      },
      "execution_count": 19,
      "outputs": [
        {
          "output_type": "stream",
          "name": "stdout",
          "text": [
            "Merged array: [1, 5, 9, 10, 11, 15, 18, 20, 30]\n"
          ]
        }
      ]
    },
    {
      "cell_type": "code",
      "source": [
        "# Naive Solution\n",
        "\n",
        "'''\n",
        "1. Copy first array to res[]\n",
        "2. Do following for remaining arrays starting from the second array. merge current array into res[]\n",
        "'''\n",
        "\n",
        "def mergeKSortedArrays(arrays):\n",
        "    res = arrays[0].copy()\n",
        "\n",
        "    for i in range(1, len(arrays)):\n",
        "        res = mergeTwoSortedArrays(res, arrays[i])\n",
        "\n",
        "    return res\n",
        "\n",
        "def mergeTwoSortedArrays(arr1, arr2):\n",
        "    result = []\n",
        "    i, j = 0, 0\n",
        "\n",
        "    while i < len(arr1) and j < len(arr2):\n",
        "        if arr1[i] < arr2[j]:\n",
        "            result.append(arr1[i])\n",
        "            i += 1\n",
        "        else:\n",
        "            result.append(arr2[j])\n",
        "            j += 1\n",
        "\n",
        "    result.extend(arr1[i:])\n",
        "    result.extend(arr2[j:])\n",
        "    return result\n",
        "\n",
        "arrays = [\n",
        "    [10, 20, 30],\n",
        "    [5, 15],\n",
        "    [1, 9, 11, 18]\n",
        "]\n",
        "\n",
        "merged_result = mergeKSortedArrays(arrays)\n",
        "print(\"Merged array:\", merged_result)\n",
        "\n",
        "# Time Complexity : O(n * k^2)"
      ],
      "metadata": {
        "colab": {
          "base_uri": "https://localhost:8080/"
        },
        "id": "XEYIelBdLkLP",
        "outputId": "5e472681-efc4-423a-9d2f-a24e54c7da30"
      },
      "execution_count": 20,
      "outputs": [
        {
          "output_type": "stream",
          "name": "stdout",
          "text": [
            "Merged array: [1, 5, 9, 10, 11, 15, 18, 20, 30]\n"
          ]
        }
      ]
    },
    {
      "cell_type": "code",
      "source": [
        "# Efficient Solution\n",
        "\n",
        "import heapq\n",
        "\n",
        "def mergeK(arrays):\n",
        "    res = []\n",
        "    h = []\n",
        "\n",
        "    for i in range(len(arrays)):\n",
        "        if arrays[i]:\n",
        "            heapq.heappush(h, (arrays[i][0], i, 0))\n",
        "\n",
        "    while h:\n",
        "        val, array_index, value_index = heapq.heappop(h)\n",
        "        res.append(val)\n",
        "\n",
        "        if value_index + 1 < len(arrays[array_index]):\n",
        "            next_value = arrays[array_index][value_index + 1]\n",
        "            heapq.heappush(h, (next_value, array_index, value_index + 1))\n",
        "\n",
        "    return res\n",
        "\n",
        "arrays = [\n",
        "    [10, 20, 30],\n",
        "    [5, 15],\n",
        "    [1, 9, 11, 18]\n",
        "]\n",
        "merged_result = mergeK(arrays)\n",
        "print(\"Merged array:\", merged_result)\n",
        "\n",
        "# Time Complexity : O(nlogk)"
      ],
      "metadata": {
        "colab": {
          "base_uri": "https://localhost:8080/"
        },
        "id": "g5yxKhNxMLSC",
        "outputId": "2fbdb2f6-0865-49ee-96f7-2baff0bf84e9"
      },
      "execution_count": 23,
      "outputs": [
        {
          "output_type": "stream",
          "name": "stdout",
          "text": [
            "Merged array: [1, 5, 9, 10, 11, 15, 18, 20, 30]\n"
          ]
        }
      ]
    },
    {
      "cell_type": "markdown",
      "source": [
        "# Median of a Stream\n",
        "\n",
        "I/P : arr = [25, 7, 10, 15, 20]\n",
        "\n",
        "O/P : 25, 16, 10, 12.5, 15\n",
        "\n",
        "\n",
        "        sequence       median\n",
        "\n",
        "           {20}          20\n",
        "          {20, 10}       15\n",
        "        {20, 10, 30}     20\n",
        "      {20, 10, 30, 7}    15  "
      ],
      "metadata": {
        "id": "JL34PUZ4NZI5"
      }
    },
    {
      "cell_type": "code",
      "source": [
        "# Naive Solution\n",
        "\n",
        "def findMedian(arr):\n",
        "    temp = []\n",
        "    medians = []\n",
        "\n",
        "    for number in arr:\n",
        "        temp.append(number)\n",
        "        temp.sort()\n",
        "\n",
        "        size = len(temp)\n",
        "        if size % 2 != 0:\n",
        "            median = temp[size // 2]\n",
        "        else:\n",
        "            median = (temp[size // 2] + temp[(size // 2) - 1]) / 2\n",
        "\n",
        "        medians.append(median)\n",
        "\n",
        "    return medians\n",
        "\n",
        "arr = [25, 7, 10, 15, 20]\n",
        "medians_result = findMedian(arr)\n",
        "print(\"Medians:\", medians_result)\n",
        "\n",
        "# Time Complexity : O(n^2)"
      ],
      "metadata": {
        "colab": {
          "base_uri": "https://localhost:8080/"
        },
        "id": "GVZFPWptNAPz",
        "outputId": "1438b78b-87d4-40b9-a4a6-cffb072f9c67"
      },
      "execution_count": 24,
      "outputs": [
        {
          "output_type": "stream",
          "name": "stdout",
          "text": [
            "Medians: [25, 16.0, 10, 12.5, 15]\n"
          ]
        }
      ]
    },
    {
      "cell_type": "code",
      "source": [
        "# Better Solution (Augumented BST)\n",
        "'''\n",
        "-> Create an BST\n",
        "-> By add all elements one by one\n",
        "-> Basedon that traverse or decide n/2 value and find median\n",
        "'''\n",
        "\n",
        "class Node:\n",
        "    def __init__(self, key):\n",
        "        self.left = None\n",
        "        self.right = None\n",
        "        self.key = key\n",
        "        self.count = 1\n",
        "\n",
        "class AugmentedBST:\n",
        "    def __init__(self):\n",
        "        self.root = None\n",
        "\n",
        "    def insert(self, root, key):\n",
        "        if root is None:\n",
        "            return Node(key)\n",
        "\n",
        "        if key < root.key:\n",
        "            root.left = self.insert(root.left, key)\n",
        "        elif key > root.key:\n",
        "            root.right = self.insert(root.right, key)\n",
        "\n",
        "        root.count += 1\n",
        "        return root\n",
        "\n",
        "    def findMedian(self):\n",
        "        if self.root is None:\n",
        "            return None\n",
        "\n",
        "        size = self.root.count\n",
        "        if size % 2 == 1:\n",
        "            return self._findKth(self.root, size // 2 + 1)\n",
        "        else:\n",
        "            left_median = self._findKth(self.root, size // 2)\n",
        "            right_median = self._findKth(self.root, size // 2 + 1)\n",
        "            return (left_median + right_median) / 2\n",
        "\n",
        "    def _findKth(self, node, k):\n",
        "        if node is None:\n",
        "            return None\n",
        "\n",
        "        left_size = node.left.count if node.left else 0\n",
        "\n",
        "        if left_size + 1 == k:\n",
        "            return node.key\n",
        "        elif k <= left_size:\n",
        "            return self._findKth(node.left, k)\n",
        "        else:\n",
        "            return self._findKth(node.right, k - left_size - 1)\n",
        "\n",
        "augmented_bst = AugmentedBST()\n",
        "elements = [25, 7, 10, 15, 20]\n",
        "medians = []\n",
        "\n",
        "for elem in elements:\n",
        "    augmented_bst.root = augmented_bst.insert(augmented_bst.root, elem)\n",
        "    median = augmented_bst.findMedian()\n",
        "    medians.append(median)\n",
        "\n",
        "print(\"Medians:\", medians)\n"
      ],
      "metadata": {
        "colab": {
          "base_uri": "https://localhost:8080/"
        },
        "id": "YmZWYxo0VfvO",
        "outputId": "5b6f1352-1964-4fcc-de61-8f1453f82ce4"
      },
      "execution_count": 25,
      "outputs": [
        {
          "output_type": "stream",
          "name": "stdout",
          "text": [
            "Medians: [25, 16.0, 10, 12.5, 15]\n"
          ]
        }
      ]
    },
    {
      "cell_type": "code",
      "source": [
        "# Efficient Solution\n",
        "'''\n",
        "s : maxHeap containing smaller half\n",
        "g : minHeap containing greater half\n",
        "\n",
        "Do the following for every item x:\n",
        "\n",
        "    a) s.push(x)\n",
        "    b) g.push(s.pop())\n",
        "    c) if size(g) > size(s)\n",
        "          s.push(g.pop())\n",
        "    d) if size(s) > size(g)\n",
        "          print(s.top())\n",
        "       else:\n",
        "          print((s.top() + g.top())/2)\n",
        "\n",
        "-> MaxHeap s is implemented using minHeap and negative of every element\n",
        "'''\n",
        "\n",
        "import heapq\n",
        "\n",
        "def streamMed(arr):\n",
        "  s, g = [], []\n",
        "\n",
        "  for i in range(len(arr)):\n",
        "    heapq.heappush(s, -arr[i])\n",
        "    heapq.heappush(g, -heapq.heappop(s))\n",
        "\n",
        "    if len(g) > len(s):\n",
        "      heapq.heappush(s, -heapq.heappop(g))\n",
        "\n",
        "    if len(g) < len(s):\n",
        "      print(-s[0], end = \" \")\n",
        "    else:\n",
        "      print((g[0] - s[0])/2, end = \" \")\n",
        "\n",
        "elements = [25, 7, 10, 15, 20]\n",
        "streamMed(elements)"
      ],
      "metadata": {
        "colab": {
          "base_uri": "https://localhost:8080/"
        },
        "id": "PyHMHRTVV7nC",
        "outputId": "0fd93fdd-1c10-4932-d84f-32d69fae6eb3"
      },
      "execution_count": 29,
      "outputs": [
        {
          "output_type": "stream",
          "name": "stdout",
          "text": [
            "25 16.0 10 12.5 15 "
          ]
        }
      ]
    },
    {
      "cell_type": "code",
      "source": [],
      "metadata": {
        "id": "EOEjgx3eXMGQ"
      },
      "execution_count": null,
      "outputs": []
    }
  ]
}