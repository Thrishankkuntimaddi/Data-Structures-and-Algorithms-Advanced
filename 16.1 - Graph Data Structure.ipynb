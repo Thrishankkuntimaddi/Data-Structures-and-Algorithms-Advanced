{
  "nbformat": 4,
  "nbformat_minor": 0,
  "metadata": {
    "colab": {
      "provenance": [],
      "authorship_tag": "ABX9TyNj46JhdbhQ3fgIG9lmtG62",
      "include_colab_link": true
    },
    "kernelspec": {
      "name": "python3",
      "display_name": "Python 3"
    },
    "language_info": {
      "name": "python"
    }
  },
  "cells": [
    {
      "cell_type": "markdown",
      "metadata": {
        "id": "view-in-github",
        "colab_type": "text"
      },
      "source": [
        "<a href=\"https://colab.research.google.com/github/Thrishankkuntimaddi/Data-Structures-and-Algorithms-Advanced/blob/main/16.1%20-%20Graph%20Data%20Structure.ipynb\" target=\"_parent\"><img src=\"https://colab.research.google.com/assets/colab-badge.svg\" alt=\"Open In Colab\"/></a>"
      ]
    },
    {
      "cell_type": "markdown",
      "source": [
        "# Introduction\n",
        "\n",
        "Graph :\n",
        "\n",
        "      v1 --- v3\n",
        "      |       | \\  \n",
        "      |       |  v5\n",
        "      |       | /\n",
        "      v2 --- v4\n",
        "\n",
        "Tree :\n",
        "\n",
        "        v1\n",
        "       /  \\\n",
        "      v2  v3\n",
        "      \n",
        "\n",
        "Graph = (V, E)\n",
        "\n",
        "V = [v1, v2, v3, v4, v5]\n",
        "\n",
        "E = [(v1, v2), (v1, v3), (v2, v4), (v3, v4), (v3, v5), (v4, v5)]\n",
        "\n"
      ],
      "metadata": {
        "id": "q5siRdTVX_dy"
      }
    },
    {
      "cell_type": "markdown",
      "source": [
        "# Driect and Undirected Graph\n",
        "\n",
        "    Direct Graph :\n",
        "\n",
        "      v1 ---> v3\n",
        "      ^       ^\n",
        "      |       |   \n",
        "      |       |\n",
        "      |       |\n",
        "      v2 ---> v4\n",
        "\n",
        "      indegree(v3) = 2\n",
        "      outdegree(v3) = 0\n",
        "\n",
        "      sum of indegrees = |E|\n",
        "      sum of outdegrees = |E|\n",
        "\n",
        "      Maximum no of edges : |V| * (|V| - 1 )\n",
        "\n",
        "    Undirected Graph :\n",
        "\n",
        "      v1 --- v3\n",
        "      |       | \\  \n",
        "      |       |  v5\n",
        "      |       | /\n",
        "      v2 --- v4\n",
        "\n",
        "      degree(v3) = 3\n",
        "\n",
        "      sum of degrees = 2 * |E|\n",
        "\n",
        "      Maximum no of edges = ( |V| * (|V| - 1 ) ) / 2\n",
        "\n",
        "\n",
        "      Walk : V1, v2, v3, v4\n",
        "\n",
        "      Path : v1, v2, v4\n",
        "\n",
        "      Cyclic : There exists a walk that begins and ends with same vertex\n",
        "\n",
        "      Their are four types :\n",
        "\n",
        "          -> Cyclic Directed\n",
        "          -> Cyclic Undirected\n",
        "          -> Undirected Acyclic Graph\n",
        "          -> Directed Acyclic Graph\n",
        "\n",
        "      \n",
        "      Weighted and Unweighted Graph\n",
        "\n",
        "      Weighted :\n",
        "\n",
        "              10\n",
        "          v1 --- v3\n",
        "          |       | \\ 5\n",
        "       20 |     50|  v5\n",
        "          |       | / 60\n",
        "          v2 --- v4\n",
        "\n",
        "      Unweighted :\n",
        "\n",
        "          v1 --- v3\n",
        "          |       | \\  \n",
        "          |       |  v5\n",
        "          |       | /\n",
        "          v2 --- v4       \n",
        "\n"
      ],
      "metadata": {
        "id": "r8mlnItDmQMV"
      }
    },
    {
      "cell_type": "markdown",
      "source": [
        "# Graph Representation\n",
        "\n",
        "-> Adjacency Matrix\n",
        "\n",
        "-> Adjacency List\n",
        "\n",
        "## Adjacency Matrix (undirected graph)\n",
        "\n",
        "\n",
        "      0 - 1 - 3  \n",
        "      |  /\n",
        "      | /\n",
        "      2\n",
        "\n",
        "           0  1  2  3\n",
        "        ---------------\n",
        "       0 | 0  1  1  0\n",
        "         |\n",
        "       1 | 1  0  1  0\n",
        "         |\n",
        "       2 | 1  1  0  1\n",
        "         |\n",
        "       3 | 0  0  1  0\n",
        "\n",
        "      Size of matrix = |V| * |V|\n",
        "\n",
        "      where, |V| = No.of vertices\n",
        "\n",
        "      mat[i][j] = 1 if there is an edge from vertex i to vertex j\n",
        "\n",
        "                  0 Otherwise\n",
        "\n",
        "\n",
        "      Directed Graph\n",
        "\n",
        "      0 --> 1 --> 3  \n",
        "      |   /\n",
        "      |  /\n",
        "      | /\n",
        "      VV\n",
        "      2\n",
        "\n",
        "           0  1  2  3\n",
        "        ---------------\n",
        "       0 | 0  1  1  0\n",
        "         |\n",
        "       1 | 0  0  1  0\n",
        "         |\n",
        "       2 | 0  0  0  1\n",
        "         |\n",
        "       3 | 0  0  0  0\n",
        "\n",
        "\n",
        "\n",
        "\n"
      ],
      "metadata": {
        "id": "_hLyhFaFoy_3"
      }
    },
    {
      "cell_type": "markdown",
      "source": [
        "# How to handle vertices with arbitary names..?\n",
        "\n",
        "      0 - 1 - 3  \n",
        "      |  /\n",
        "      | /\n",
        "      2\n",
        "\n",
        "           0  1  2  3\n",
        "        ---------------\n",
        "       0 | 0  1  1  0\n",
        "         |\n",
        "       1 | 1  0  1  0\n",
        "         |\n",
        "       2 | 1  1  0  1\n",
        "         |\n",
        "       3 | 0  0  1  0\n",
        "\n",
        "       For array of Strings : For efficient implementation one hash table h would also be required to do reverse mapping\n",
        "\n",
        "       h{0} = 0\n",
        "       h{1} = 1\n",
        "       h{2} = 2\n",
        "       h{3} = 3\n",
        "\n",
        "\n",
        "\n",
        "# Properties of Adjacency matrix Representation\n",
        "\n",
        "Space Required : Θ(V * V)\n",
        "\n",
        "## Operations\n",
        "\n",
        "-> Check if u and v are adjacent : Θ(1)\n",
        "\n",
        "-> Find all vertices adjacent to u : Θ(V)\n",
        "\n",
        "-> Find degree of u : Θ(V)\n",
        "\n",
        "-> Add/Remove an Edge : Θ(1)\n",
        "\n",
        "-> Add/Remove a vertex : Θ(v^2)"
      ],
      "metadata": {
        "id": "R45eVrZTqgeC"
      }
    },
    {
      "cell_type": "markdown",
      "source": [
        "# Adjacency List\n",
        "\n",
        "      0 -- 2 -- 3\n",
        "      |   /\n",
        "      |  /\n",
        "      | /\n",
        "      1\n",
        "\n",
        "\n",
        "    Adjacency Matrix : (stores redendant information)\n",
        "\n",
        "            0  1  2  3\n",
        "          ---------------\n",
        "        0 | 0  1  1  0\n",
        "          |\n",
        "        1 | 1  0  1  0\n",
        "          |\n",
        "        2 | 1  1  0  1\n",
        "          |\n",
        "        3 | 0  0  1  0\n",
        "\n",
        "    Adjacency List :\n",
        "\n",
        "        0 | 1  ---  2\n",
        "\n",
        "        1 | 0  ---  2\n",
        "\n",
        "        2 | 0  ---  1  ---  3\n",
        "\n",
        "        3 | 2\n",
        "\n",
        "    Adjacency List :\n",
        "\n",
        "    An array of lists where list are most populary represented as\n",
        "\n",
        "      1. Dynamic sized arrays\n",
        "\n",
        "      2. Linked Lists\n",
        "\n",
        "\n",
        "    Properties :\n",
        "\n",
        "          Space : Θ(V + E)\n",
        "\n",
        "          Undirected : V + 2 * E\n",
        "\n",
        "          Directed : V + E\n",
        "\n",
        "    Operations:\n",
        "\n",
        "    -> Check if there is an edge from u to v : O(1)\n",
        "\n",
        "    -> Find all adjacent of u : Θ(degree(u))\n",
        "\n",
        "    -> Find degree of u : Θ(1)\n",
        "\n",
        "    -> Add an edge : Θ(1)\n",
        "\n",
        "    -> Remove an edge : O(1)  "
      ],
      "metadata": {
        "id": "7RJpH-V9rn7f"
      }
    },
    {
      "cell_type": "markdown",
      "source": [
        "# Graph Adjacency List Representation\n",
        "\n",
        "      0 -- 2 -- 3\n",
        "      |   /\n",
        "      |  /\n",
        "      | /\n",
        "      1\n",
        "\n",
        "      0 | 1 | 2 |\n",
        "      1 | 0 | 2 | 3 |\n",
        "      2 | 0 | 1 |\n",
        "      3 | 1 |\n"
      ],
      "metadata": {
        "id": "jF4nfYWytc4X"
      }
    },
    {
      "cell_type": "code",
      "execution_count": 2,
      "metadata": {
        "colab": {
          "base_uri": "https://localhost:8080/"
        },
        "id": "OTxRNiVoX8Ql",
        "outputId": "72fac94a-cb10-4aea-c5d2-98e397c99f91"
      },
      "outputs": [
        {
          "output_type": "stream",
          "name": "stdout",
          "text": [
            "[1, 2]\n",
            "[0, 2, 3]\n",
            "[0, 1]\n",
            "[1]\n"
          ]
        }
      ],
      "source": [
        "# Implementation\n",
        "\n",
        "def addEdge(adj, u, v):\n",
        "  adj[u].append(v)\n",
        "  adj[v].append(u)\n",
        "\n",
        "def printGraph(adj):\n",
        "  for l in adj:\n",
        "    print(l)\n",
        "\n",
        "V = 4\n",
        "\n",
        "adj = [[] for i in range(V)]\n",
        "addEdge(adj, 0, 1)\n",
        "addEdge(adj, 0, 2)\n",
        "addEdge(adj, 1, 2)\n",
        "addEdge(adj, 1, 3)\n",
        "printGraph(adj)"
      ]
    },
    {
      "cell_type": "markdown",
      "source": [
        "# Comparison of Adjacency List and Adjacency Matrix\n",
        "\n",
        "\n",
        "                                    |     List       |     Matrix     |\n",
        "      ----------------------------------------------------------------------------\n",
        "               Memory               |    Θ(V + E)    |    Θ(V * V)    |\n",
        "                                    |                |                |  \n",
        "          check if there is an      |      O(V)      |      Θ(1)      |\n",
        "            edge from u to v        |                |                |  \n",
        "                                    |                |                |  \n",
        "          Find all adjacent of u    |  Θ(degree(u))  |      Θ(V)      |\n",
        "                                    |                |                |\n",
        "              Add an Edge           |      Θ(1)      |      Θ(1)      |\n",
        "                                    |                |                |\n",
        "            Remove an Edge          |      O(V)      |       Θ(1)     |\n",
        "                                    |                |                |\n",
        "\n",
        "      Undirected : O <= E <= (V * (V - 1))/2\n",
        "\n",
        "      Directed : O <= E <= V * (V - 1)"
      ],
      "metadata": {
        "id": "IMNQfYDIvgRA"
      }
    },
    {
      "cell_type": "markdown",
      "source": [
        "# Breadth First Search (BFS)\n",
        "\n",
        "First Version : Given an underrated graph and a source vertex 's' print BFS from the given source\n",
        "\n",
        "I/P :\n",
        "\n",
        "        v1\n",
        "       /  \\\n",
        "      v2  v3\n",
        "         /  \\\n",
        "        v4  v5\n",
        "\n",
        "s = v1\n",
        "\n",
        "O/P : v1 v2 v3 v4 v5\n"
      ],
      "metadata": {
        "id": "eU62cp_vxwJs"
      }
    },
    {
      "cell_type": "code",
      "source": [
        "# Implementation\n",
        "\n",
        "from collections import deque\n",
        "\n",
        "def BFS(adj, s):\n",
        "  visited = [False] * len(adj)\n",
        "  q = deque()\n",
        "  q.append(s)\n",
        "  visited[s] = True\n",
        "\n",
        "  while q:\n",
        "    s = q.popleft()\n",
        "    print(s, end = \" \")\n",
        "\n",
        "    for u in adj[s]:\n",
        "      if visited[u] == False:\n",
        "        q.append(u)\n",
        "        visited[u] = True\n",
        "\n",
        "s = 0\n",
        "adj = [[1, 2], [0, 2, 3], [0, 1, 3, 4], [1, 2, 4], [2, 3]]\n",
        "BFS(adj, s)"
      ],
      "metadata": {
        "colab": {
          "base_uri": "https://localhost:8080/"
        },
        "id": "LPAuSWieuXns",
        "outputId": "cee4516d-6348-4106-fec3-9a971e42bbb0"
      },
      "execution_count": 6,
      "outputs": [
        {
          "output_type": "stream",
          "name": "stdout",
          "text": [
            "0 1 2 3 4 "
          ]
        }
      ]
    },
    {
      "cell_type": "markdown",
      "source": [
        "# BFS for Disconnected Graph\n",
        "\n",
        "No source given and graph may be disconnected\n",
        "\n",
        "adj = [[1, 2], [0, 3], [0, 3], [1, 2], [5, 6], [4, 6], [4, 5]]"
      ],
      "metadata": {
        "id": "ak5nNrNB0Fju"
      }
    },
    {
      "cell_type": "code",
      "source": [
        "# Implementation\n",
        "\n",
        "from collections import deque\n",
        "\n",
        "def BFS(adj, s, visited):\n",
        "  q = deque()\n",
        "  q.append(s)\n",
        "  visited[s] = True\n",
        "\n",
        "  while q:\n",
        "    s = q.popleft()\n",
        "    print(s, end = \" \")\n",
        "\n",
        "    for u in adj[s]:\n",
        "      if visited[u] == False:\n",
        "        q.append(u)\n",
        "        visited[u] = True\n",
        "\n",
        "def BFSDis(adj):\n",
        "  visited = [False] * len(adj)\n",
        "\n",
        "  for u in range(len(adj)):\n",
        "    if visited[u] == False:\n",
        "      BFS(adj, u, visited)\n",
        "\n",
        "adj = [[1, 2], [0, 3], [0, 3], [1, 2], [5, 6], [4, 6], [4, 5]]\n",
        "BFSDis(adj)\n",
        "\n",
        "# Time Complexity : O(V + E)"
      ],
      "metadata": {
        "colab": {
          "base_uri": "https://localhost:8080/"
        },
        "id": "qWYGwqe5zz5h",
        "outputId": "b661f49a-1999-4473-9e69-f773a2a33bb5"
      },
      "execution_count": 7,
      "outputs": [
        {
          "output_type": "stream",
          "name": "stdout",
          "text": [
            "0 1 2 3 4 5 6 "
          ]
        }
      ]
    },
    {
      "cell_type": "markdown",
      "source": [
        "# Connected components in an undirected Graph\n",
        "\n",
        "I/P :\n",
        "\n",
        "        0 - 2     3         5\n",
        "        |  /      |        / \\\n",
        "        | /       |       /   \\\n",
        "        1         4      6     7\n",
        "\n",
        "O/P : 3"
      ],
      "metadata": {
        "id": "GxJguYNT5okN"
      }
    },
    {
      "cell_type": "code",
      "source": [
        "from collections import deque\n",
        "\n",
        "def BFS(adj, start, visited):\n",
        "    queue = deque([start])\n",
        "    visited[start] = True\n",
        "\n",
        "    while queue:\n",
        "        u = queue.popleft()\n",
        "        for v in adj[u]:\n",
        "            if not visited[v]:\n",
        "                visited[v] = True\n",
        "                queue.append(v)\n",
        "\n",
        "def BFS2(adj):\n",
        "    visited = [False] * len(adj)\n",
        "    res = 0\n",
        "\n",
        "    for u in range(len(adj)):\n",
        "        if not visited[u]:\n",
        "            res += 1\n",
        "            BFS(adj, u, visited)\n",
        "\n",
        "    return res\n",
        "\n",
        "adj = [\n",
        "    [1, 2],\n",
        "    [0, 3],\n",
        "    [0, 3],\n",
        "    [1, 2],\n",
        "    [5, 6],\n",
        "    [4, 6],\n",
        "    [4, 5]\n",
        "]\n",
        "\n",
        "print(BFS2(adj))"
      ],
      "metadata": {
        "colab": {
          "base_uri": "https://localhost:8080/"
        },
        "id": "x-oIRQeg4oon",
        "outputId": "74d5cbc2-6e7c-492e-a8d0-5c47b2e6bb4e"
      },
      "execution_count": 10,
      "outputs": [
        {
          "output_type": "stream",
          "name": "stdout",
          "text": [
            "2\n"
          ]
        }
      ]
    },
    {
      "cell_type": "markdown",
      "source": [
        "# Applications of BFS\n",
        "\n",
        "      -> Shortest path in an unweighted Graph\n",
        "      -> Crawlers in search Engine\n",
        "      -> Peer to Peer Networks\n",
        "      -> Social Networking search\n",
        "      -> In Garbage collection (Cheney's Algorithm)\n",
        "      -> Cycle Detection\n",
        "      -> Boardcasting\n",
        "      -> Ford Fulkerson Algorithm"
      ],
      "metadata": {
        "id": "kLU8B1eN7NMW"
      }
    },
    {
      "cell_type": "markdown",
      "source": [
        "# Depth First Search (DFS)\n",
        "\n",
        "I/P :\n",
        "\n",
        "        1\n",
        "       / \\\n",
        "      2   3\n",
        "         / \\\n",
        "        4   5\n",
        "\n",
        "s = 1  \n",
        "\n",
        "O/P : 1 2 3 4 5"
      ],
      "metadata": {
        "id": "5-TJapQo713Z"
      }
    },
    {
      "cell_type": "code",
      "source": [
        "# Implementation\n",
        "\n",
        "def DFSRec(adj, s, visited):\n",
        "  visited[s] = True\n",
        "  print(s, end = \" \")\n",
        "  for u in adj[s]:\n",
        "    if visited[u] == False:\n",
        "      DFSRec(adj, u, visited)\n",
        "\n",
        "def DFS(adj, s):\n",
        "  visited = [False] * len(adj)\n",
        "  DFSRec(adj, s, visited)\n",
        "\n",
        "adj = [[1, 2], [0, 3, 4], [0, 3], [1, 2, 4], [1, 3]]\n",
        "DFS(adj, 0)"
      ],
      "metadata": {
        "colab": {
          "base_uri": "https://localhost:8080/"
        },
        "id": "7TMoiapN6fnH",
        "outputId": "8b893d5c-af0c-495e-b353-b60dff1c6fd1"
      },
      "execution_count": 11,
      "outputs": [
        {
          "output_type": "stream",
          "name": "stdout",
          "text": [
            "0 1 3 2 4 "
          ]
        }
      ]
    },
    {
      "cell_type": "markdown",
      "source": [
        "# DFS for Disconnected Graph"
      ],
      "metadata": {
        "id": "MVo4LIHd8_Cy"
      }
    },
    {
      "cell_type": "code",
      "source": [
        "def DFS1(adj):\n",
        "  visited = [False] * len(adj)\n",
        "\n",
        "  for u in range(len(adj)):\n",
        "    if visited[u] == False:\n",
        "      DFSRec(adj, u, visited)\n",
        "\n",
        "DFS1(adj)\n",
        "\n",
        "# Time Complexity : O(V + E)"
      ],
      "metadata": {
        "colab": {
          "base_uri": "https://localhost:8080/"
        },
        "id": "en2ZZgwc84d9",
        "outputId": "e9a33723-46a3-4528-a791-d39880ccab26"
      },
      "execution_count": 13,
      "outputs": [
        {
          "output_type": "stream",
          "name": "stdout",
          "text": [
            "0 1 3 2 4 "
          ]
        }
      ]
    },
    {
      "cell_type": "markdown",
      "source": [
        "# Counting connected componenets in an undirected graph"
      ],
      "metadata": {
        "id": "rzCEGvmg9TKo"
      }
    },
    {
      "cell_type": "code",
      "source": [
        "# Implementation\n",
        "\n",
        "def DFSCC(adj):\n",
        "  visited = [False] * len(adj)\n",
        "  res = 0\n",
        "\n",
        "  for u in range(len(adj)):\n",
        "    if visited[u] == False:\n",
        "      res = res + 1\n",
        "      DFSRec(adj, u, visited)\n",
        "\n",
        "DFSCC(adj)"
      ],
      "metadata": {
        "colab": {
          "base_uri": "https://localhost:8080/"
        },
        "id": "UmuSGEjj9QnZ",
        "outputId": "3d5501e1-a0eb-4acd-c76e-dde73fba0776"
      },
      "execution_count": 14,
      "outputs": [
        {
          "output_type": "stream",
          "name": "stdout",
          "text": [
            "0 1 3 2 4 "
          ]
        }
      ]
    },
    {
      "cell_type": "markdown",
      "source": [
        "# Applications of DFS\n",
        "\n",
        "1. Cycle Detection\n",
        "2. Topological sorting\n",
        "3. Strongly connected components\n",
        "4. Solving maze and similar puzzles\n",
        "5. path finding"
      ],
      "metadata": {
        "id": "qw9GZ55f-CTo"
      }
    }
  ]
}