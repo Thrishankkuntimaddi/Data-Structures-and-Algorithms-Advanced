{
  "nbformat": 4,
  "nbformat_minor": 0,
  "metadata": {
    "colab": {
      "provenance": [],
      "authorship_tag": "ABX9TyOpt/z0PoyniI6huXuPvXMZ",
      "include_colab_link": true
    },
    "kernelspec": {
      "name": "python3",
      "display_name": "Python 3"
    },
    "language_info": {
      "name": "python"
    }
  },
  "cells": [
    {
      "cell_type": "markdown",
      "metadata": {
        "id": "view-in-github",
        "colab_type": "text"
      },
      "source": [
        "<a href=\"https://colab.research.google.com/github/Thrishankkuntimaddi/Data-Structures-and-Algorithms-Advanced/blob/main/17%20-%20Greedy%20Algorithms.ipynb\" target=\"_parent\"><img src=\"https://colab.research.google.com/assets/colab-badge.svg\" alt=\"Open In Colab\"/></a>"
      ]
    },
    {
      "cell_type": "markdown",
      "source": [
        "# Greedy Algorithms\n",
        "\n",
        "    consider infinite supply of the following value coins\n",
        "    10, 5, 2, 1\n",
        "    If someone asks for an amount, how will you give this amount using minimum coins"
      ],
      "metadata": {
        "id": "Wla-vAfgMa2t"
      }
    },
    {
      "cell_type": "code",
      "execution_count": 1,
      "metadata": {
        "colab": {
          "base_uri": "https://localhost:8080/"
        },
        "id": "_tWIn2HVMXLS",
        "outputId": "61f155b5-1edb-438a-a033-0f47b3340608"
      },
      "outputs": [
        {
          "output_type": "execute_result",
          "data": {
            "text/plain": [
              "6"
            ]
          },
          "metadata": {},
          "execution_count": 1
        }
      ],
      "source": [
        "# Implementation\n",
        "\n",
        "def minCoins(coins, amount):\n",
        "  coins.sort(reverse = True)\n",
        "  res = 0\n",
        "\n",
        "  for x in coins:\n",
        "    if x <= amount:\n",
        "      c = amount // x\n",
        "      res += c\n",
        "      amount -= c * x\n",
        "      if amount == 0:\n",
        "        break\n",
        "\n",
        "  return res\n",
        "\n",
        "minCoins([10, 5, 2, 1], 52)"
      ]
    },
    {
      "cell_type": "markdown",
      "source": [
        "## General Structure of Greedy Algorithm\n",
        "\n",
        "      def getOptimal(arr):\n",
        "        res = 0\n",
        "        while (All Items are not considered):\n",
        "            i = selectanItem()\n",
        "            if (feasible(i)):\n",
        "                res = res + i\n",
        "        return res\n",
        "\n",
        "    Greedy algorithms may not work always\n",
        "\n",
        "    consider = {18, 1, 10}\n",
        "    amount = 20\n",
        "\n",
        "    Greedy : 18, 1, 1 = 3\n",
        "    Actual : 10 10    = 2\n",
        "\n",
        "## Applications\n",
        "\n",
        "    Finding Optimal Solution :\n",
        "\n",
        "        -> Activity Selections\n",
        "        -> Fractional Knapsack\n",
        "        -> Job Sequencing\n",
        "        -> Prim's Algorithm\n",
        "        -> Kruskal's Algorithm\n",
        "        -> Dijkstra's Algorithm\n",
        "        -> Huffman Coding\n",
        "\n",
        "    Finding close to optimal solution, for NP Hard problems like Travelling sales problem"
      ],
      "metadata": {
        "id": "wjlK35oSNsjB"
      }
    },
    {
      "cell_type": "markdown",
      "source": [
        "# Activity Selection Problem\n",
        "\n",
        "I/P : [(2, 3), (1, 4), (5, 8), (6, 10)]\n",
        "\n",
        "O/P : 2\n",
        "\n",
        "    Maximum no.of activities that can happen on a single tasking machine\n",
        "\n",
        "        1. Sort according to finish time\n",
        "        2. Initialize solution as first activity\n",
        "        3. Do following for remaining activities\n",
        "            a. If current activity overlaps with the last picked activity in the solution, ignore the current activity\n",
        "            b. else add the current activity to the solution\n",
        "\n",
        "    Proof :\n",
        "    s1 = {(x1, x2), (x3, x4), ..... }  : n1\n",
        "    s2 = {(y1, y2), (y3, y4), ..... }  : n2 - 1\n",
        "\n",
        "    Time Complexity : O(n logn)\n",
        "\n"
      ],
      "metadata": {
        "id": "VCpQjhVmO4aZ"
      }
    },
    {
      "cell_type": "code",
      "source": [
        "# Implementation\n",
        "\n",
        "def maxAct(arr):\n",
        "  n = len(arr)\n",
        "  arr.sort(key = lambda x:x[1])\n",
        "  prev = 0\n",
        "  res = 1\n",
        "\n",
        "  for curr in range(1, n):\n",
        "    if arr[curr][0] >= arr[prev][1]:\n",
        "      res += 1\n",
        "      prev = curr\n",
        "\n",
        "  return res\n",
        "\n",
        "arr =  [[2, 3], [1, 4], [5, 8], [6, 10]]\n",
        "maxAct(arr)"
      ],
      "metadata": {
        "colab": {
          "base_uri": "https://localhost:8080/"
        },
        "id": "YQKoUCKeNRoH",
        "outputId": "c172f31f-8c29-45f6-98e8-2aadc87524cd"
      },
      "execution_count": 3,
      "outputs": [
        {
          "output_type": "execute_result",
          "data": {
            "text/plain": [
              "2"
            ]
          },
          "metadata": {},
          "execution_count": 3
        }
      ]
    },
    {
      "cell_type": "markdown",
      "source": [
        "# Fractional Knapsack Problem\n",
        "\n",
        "I/P : weight = 50, 20, 30 ; values = 600, 500, 400 ; kc = 70\n",
        "\n",
        "O/P : 1140\n",
        "\n",
        "      Algorithm\n",
        "\n",
        "      1. calculate ratio (value/weight) for every item\n",
        "      2. sort all item in decreasing order of the ratio\n",
        "      3. Initialize res = 0; curr_cap = given_cap\n",
        "      4. Do following for every item I in sorted order\n",
        "          a. else if (I.weight <= curr_cap) {\n",
        "                curr_cap -= I.weight\n",
        "                res += I.value\n",
        "          }\n",
        "          b. else {\n",
        "            res += (I.value) * (curr_cap / I.weight)\n",
        "            return res\n",
        "          }\n",
        "      5. return res\n",
        "\n",
        "      Time Complexity : O(n logn)"
      ],
      "metadata": {
        "id": "gWLGl-M3QrpP"
      }
    },
    {
      "cell_type": "code",
      "source": [
        "# Implementation\n",
        "\n",
        "class Item:\n",
        "    def __init__(self, value, weight):\n",
        "        self.value = value\n",
        "        self.weight = weight\n",
        "        self.ratio = value / weight\n",
        "\n",
        "def knap(W, weights, values):\n",
        "    n = len(weights)\n",
        "    items = []\n",
        "\n",
        "    for i in range(n):\n",
        "        items.append(Item(values[i], weights[i]))\n",
        "\n",
        "    items.sort(key=lambda x: x.ratio, reverse=True)\n",
        "\n",
        "    res = 0\n",
        "    curr_cap = W\n",
        "\n",
        "    for item in items:\n",
        "        if item.weight <= curr_cap:\n",
        "            curr_cap -= item.weight\n",
        "            res += item.value\n",
        "        else:\n",
        "            res += item.value * (curr_cap / item.weight)\n",
        "            break\n",
        "\n",
        "    return res\n",
        "\n",
        "if __name__ == \"__main__\":\n",
        "    weights = [50, 20, 30]\n",
        "    values = [600, 500, 400]\n",
        "    capacity = 70\n",
        "\n",
        "    max_value = knap(capacity, weights, values)\n",
        "    print(\"Maximum value in Knapsack =\", max_value)"
      ],
      "metadata": {
        "colab": {
          "base_uri": "https://localhost:8080/"
        },
        "id": "NXsuBxJvQW7O",
        "outputId": "846051ec-6db2-484d-ad40-b185840a806f"
      },
      "execution_count": 4,
      "outputs": [
        {
          "output_type": "stream",
          "name": "stdout",
          "text": [
            "Maximum value in Knapsack = 1140.0\n"
          ]
        }
      ]
    },
    {
      "cell_type": "markdown",
      "source": [
        "# Job Sequencing Problem\n",
        "\n",
        "Rules :\n",
        "\n",
        "1. One unit per job\n",
        "2. Only one job can be assigned at time\n",
        "3. Time Start with zero"
      ],
      "metadata": {
        "id": "BkH4zK5TT6fZ"
      }
    },
    {
      "cell_type": "code",
      "source": [
        "# Implementation\n",
        "\n",
        "def printJob(arr, t):\n",
        "    n = len(arr)\n",
        "    arr.sort(key=lambda x: x[1], reverse=True)\n",
        "    result = [False] * t\n",
        "    res = 0\n",
        "\n",
        "    for i in range(n):\n",
        "        for j in range(min(t - 1, arr[i][0] - 1), -1, -1):\n",
        "            if result[j] == False:\n",
        "                result[j] = True\n",
        "                res += arr[i][1]\n",
        "                break\n",
        "\n",
        "    return res\n",
        "\n",
        "if __name__ == \"__main__\":\n",
        "    arr = [(2, 100), (1, 19), (2, 27), (1, 25), (3, 15)]\n",
        "    total_slots = 3\n",
        "    max_profit = printJob(arr, total_slots)\n",
        "    print(\"Maximum profit from scheduled jobs:\", max_profit)\n",
        "\n",
        "# Time Complexity : O(nlogn + nt)\n",
        "# Space Complexity : O(t)"
      ],
      "metadata": {
        "colab": {
          "base_uri": "https://localhost:8080/"
        },
        "id": "hYGanLbcTssh",
        "outputId": "33877a73-08bf-41f5-f225-6058b0ed1006"
      },
      "execution_count": 6,
      "outputs": [
        {
          "output_type": "stream",
          "name": "stdout",
          "text": [
            "Maximum profit from scheduled jobs: 142\n"
          ]
        }
      ]
    },
    {
      "cell_type": "markdown",
      "source": [
        "# Huffman Coding\n",
        "\n",
        "-> used for lossless compression\n",
        "\n",
        "-> Variable length coding\n",
        "\n",
        "Example : \"aabbacbababbabbabaab......\" -> 100 characters\n",
        "\n",
        "Freq = a - 70; b - 20; c - 10\n",
        "\n",
        "### variable length Huffman coding\n",
        "\n",
        "-> Greedy Idea : The most frequent character has smallest code\n",
        "\n",
        "-> Prefix Requirement for Decompression : No codem should be prefix of any other\n",
        "\n",
        "\n",
        "## High level Idea\n",
        "\n",
        "      1. Build a Binary Tree : Internal nodes have dummy values\n",
        "\n",
        "            a. Every input character is a leaf\n",
        "            b. Every left child edge is labelled as 0 and right edge as 1\n",
        "            c. Every root to leaf path represents Huffman code of the leaf\n",
        "\n",
        "      2. Traverse the Binary Tree and print the codes\n",
        "\n",
        "## Algorithm : (Built huffman Binary Tree)\n",
        "\n",
        "      1. Create leaf node and build a minHeap h of all the leaves initially\n",
        "\n",
        "      2. while h.size() > 1 :\n",
        "          a. left = h.extractMin()\n",
        "          b. right = h.extractMin()\n",
        "          c. Create a new tree node with\n",
        "              i. character of $\n",
        "             ii. frequency as left.freq + right.freq\n",
        "            iii. left and right children as left and right\n",
        "\n",
        "          d. Insert the new node into h\n",
        "\n",
        "      3. The only node left in h is our required Binary Tree\n",
        "\n",
        "      # Print Huffman codes from the built Binary Tree\n",
        "\n",
        "          void printCodes(root, str = \" \")\n",
        "              if root == null\n",
        "                  return\n",
        "              \n",
        "              if root.ch != '$'\n",
        "                  print(root.ch + \" \" + str)\n",
        "                  return\n",
        "                \n",
        "              printCodes(root.left, str + \"0\")\n",
        "              printCodes(root.right, str + \"1\")"
      ],
      "metadata": {
        "id": "QIed_t7pVFen"
      }
    },
    {
      "cell_type": "code",
      "source": [
        "import heapq\n",
        "\n",
        "class Node:\n",
        "    def __init__(self, char, freq):\n",
        "        self.char = char\n",
        "        self.freq = freq\n",
        "        self.left = None\n",
        "        self.right = None\n",
        "\n",
        "    def __lt__(self, other):\n",
        "        return self.freq < other.freq\n",
        "\n",
        "def build_huffman_tree(char_freq):\n",
        "    heap = [Node(char, freq) for char, freq in char_freq.items()]\n",
        "    heapq.heapify(heap)\n",
        "\n",
        "    while len(heap) > 1:\n",
        "        left = heapq.heappop(heap)\n",
        "        right = heapq.heappop(heap)\n",
        "\n",
        "        merged = Node('$', left.freq + right.freq)\n",
        "        merged.left = left\n",
        "        merged.right = right\n",
        "\n",
        "        heapq.heappush(heap, merged)\n",
        "\n",
        "    return heap[0]\n",
        "\n",
        "def print_codes(node, code=''):\n",
        "    if node is None:\n",
        "        return\n",
        "\n",
        "    if node.char != '$':\n",
        "        print(f\"{node.char}: {code}\")\n",
        "\n",
        "    print_codes(node.left, code + '0')\n",
        "    print_codes(node.right, code + '1')\n",
        "\n",
        "if __name__ == \"__main__\":\n",
        "    char_freq = {\n",
        "        'a': 70,\n",
        "        'b': 20,\n",
        "        'c': 10\n",
        "    }\n",
        "\n",
        "    root = build_huffman_tree(char_freq)\n",
        "\n",
        "    print(\"Huffman Codes:\")\n",
        "    print_codes(root)"
      ],
      "metadata": {
        "colab": {
          "base_uri": "https://localhost:8080/"
        },
        "id": "wL-e5b_xU28D",
        "outputId": "812aeb3a-919e-4b89-94ff-50803d9231d7"
      },
      "execution_count": 7,
      "outputs": [
        {
          "output_type": "stream",
          "name": "stdout",
          "text": [
            "Huffman Codes:\n",
            "c: 00\n",
            "b: 01\n",
            "a: 1\n"
          ]
        }
      ]
    },
    {
      "cell_type": "code",
      "source": [],
      "metadata": {
        "id": "sZjn1jcDXpyt"
      },
      "execution_count": null,
      "outputs": []
    }
  ]
}