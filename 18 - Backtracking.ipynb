{
  "nbformat": 4,
  "nbformat_minor": 0,
  "metadata": {
    "colab": {
      "provenance": [],
      "authorship_tag": "ABX9TyMTM+A97KC8jL5TSJTL9rkM",
      "include_colab_link": true
    },
    "kernelspec": {
      "name": "python3",
      "display_name": "Python 3"
    },
    "language_info": {
      "name": "python"
    }
  },
  "cells": [
    {
      "cell_type": "markdown",
      "metadata": {
        "id": "view-in-github",
        "colab_type": "text"
      },
      "source": [
        "<a href=\"https://colab.research.google.com/github/Thrishankkuntimaddi/Data-Structures-and-Algorithms-Advanced/blob/main/18%20-%20Backtracking.ipynb\" target=\"_parent\"><img src=\"https://colab.research.google.com/assets/colab-badge.svg\" alt=\"Open In Colab\"/></a>"
      ]
    },
    {
      "cell_type": "markdown",
      "source": [
        "# Backtracking\n",
        "\n",
        "-> Given a String, print all those permutation which does not contain \"AB\" as a substring\n",
        "\n",
        "I/P : str = \"ABC\"\n",
        "\n",
        "O/P : \"ACB\" \"BAC\" \"BCA\" \"CBA\""
      ],
      "metadata": {
        "id": "ONtgH8VCX8NU"
      }
    },
    {
      "cell_type": "code",
      "execution_count": 1,
      "metadata": {
        "colab": {
          "base_uri": "https://localhost:8080/"
        },
        "id": "DDc6bOdnX55R",
        "outputId": "0b4c0264-4bbb-4138-d081-ef8228b6d603"
      },
      "outputs": [
        {
          "output_type": "stream",
          "name": "stdout",
          "text": [
            "Permutations of 'ABC' without 'AB':\n",
            "ACB BAC BCA CBA "
          ]
        }
      ],
      "source": [
        "# Implementation\n",
        "\n",
        "def permute(str1, l, r):\n",
        "    if l == r:\n",
        "        if \"AB\" not in \"\".join(str1):\n",
        "            print(\"\".join(str1), end=\" \")\n",
        "    else:\n",
        "        for i in range(l, r + 1):\n",
        "            str1[l], str1[i] = str1[i], str1[l]\n",
        "            permute(str1, l + 1, r)\n",
        "            str1[l], str1[i] = str1[i], str1[l]\n",
        "\n",
        "def generate_permutations(string):\n",
        "    str1 = list(string)\n",
        "    n = len(str1)\n",
        "    permute(str1, 0, n - 1)\n",
        "\n",
        "if __name__ == \"__main__\":\n",
        "    input_string = \"ABC\"\n",
        "    print(f\"Permutations of '{input_string}' without 'AB':\")\n",
        "    generate_permutations(input_string)\n",
        "\n",
        "# Time Complexity : O(n! * n)"
      ]
    },
    {
      "cell_type": "markdown",
      "source": [
        "# Rat in a Maze\n",
        "\n",
        "      I/P : maze = [[1, 0, 0, 0],\n",
        "                    [1, 1, 0, 1],\n",
        "                    [0, 1, 0, 0],\n",
        "                    [0, 1, 1, 1]]\n",
        "\n",
        "      O/P : Yes\n",
        "      ----------------------------\n",
        "\n",
        "      -> Only two moved are allowed from i to j"
      ],
      "metadata": {
        "id": "Y_EUUYhCZUOa"
      }
    },
    {
      "cell_type": "code",
      "source": [
        "def is_safe(maze, x, y):\n",
        "    return 0 <= x < len(maze) and 0 <= y < len(maze[0]) and maze[x][y] == 1\n",
        "\n",
        "def solve_maze(maze):\n",
        "    solution = [[0] * len(maze[0]) for _ in range(len(maze))]\n",
        "\n",
        "    if not solve_maze_util(maze, 0, 0, solution):\n",
        "        print(\"No path exists\")\n",
        "        return\n",
        "\n",
        "    print_solution(solution)\n",
        "\n",
        "def solve_maze_util(maze, x, y, solution):\n",
        "    if x == len(maze) - 1 and y == len(maze[0]) - 1:\n",
        "        solution[x][y] = 1\n",
        "        return True\n",
        "\n",
        "    if is_safe(maze, x, y):\n",
        "        solution[x][y] = 1\n",
        "\n",
        "        if solve_maze_util(maze, x + 1, y, solution):\n",
        "            return True\n",
        "\n",
        "        if solve_maze_util(maze, x, y + 1, solution):\n",
        "            return True\n",
        "\n",
        "        solution[x][y] = 0\n",
        "        return False\n",
        "\n",
        "    return False\n",
        "\n",
        "def print_solution(solution):\n",
        "    for row in solution:\n",
        "        print(\" \".join(str(cell) for cell in row))\n",
        "\n",
        "\n",
        "if __name__ == \"__main__\":\n",
        "    maze = [\n",
        "        [1, 0, 0, 0],\n",
        "        [1, 1, 0, 1],\n",
        "        [0, 1, 0, 0],\n",
        "        [0, 1, 1, 1]\n",
        "    ]\n",
        "\n",
        "    print(\"Maze:\")\n",
        "    for row in maze:\n",
        "        print(\" \".join(str(cell) for cell in row))\n",
        "\n",
        "    print(\"Solution Path:\")\n",
        "    solve_maze(maze)"
      ],
      "metadata": {
        "colab": {
          "base_uri": "https://localhost:8080/"
        },
        "id": "a4vVaVJiZM46",
        "outputId": "a2fc3331-1373-4313-c761-048e36f2df4e"
      },
      "execution_count": 3,
      "outputs": [
        {
          "output_type": "stream",
          "name": "stdout",
          "text": [
            "Maze:\n",
            "1 0 0 0\n",
            "1 1 0 1\n",
            "0 1 0 0\n",
            "0 1 1 1\n",
            "Solution Path:\n",
            "1 0 0 0\n",
            "1 1 0 0\n",
            "0 1 0 0\n",
            "0 1 1 1\n"
          ]
        }
      ]
    },
    {
      "cell_type": "markdown",
      "source": [
        "# N Queens Problems\n",
        "\n",
        "I/P : N = 4\n",
        "\n",
        "O/P : Yes\n",
        "\n",
        "-> Super Naive Solution : Generate n^2 C N possible configurations\n",
        "\n",
        "-> Naive Solution : Generate all permutations of row number\n",
        "\n",
        "-> Backtracking : Cut down recursion Tree as soon as we find infeasibility"
      ],
      "metadata": {
        "id": "d8XTiJcyaEef"
      }
    },
    {
      "cell_type": "code",
      "source": [
        "def print_solution(board):\n",
        "    for row in board:\n",
        "        print(\" \".join(\"Q\" if cell else \".\" for cell in row))\n",
        "    print(\"\\n\")\n",
        "\n",
        "def is_safe(board, row, col, n):\n",
        "    for i in range(row):\n",
        "        if board[i][col]:\n",
        "            return False\n",
        "\n",
        "    for i, j in zip(range(row, -1, -1), range(col, -1, -1)):\n",
        "        if board[i][j]:\n",
        "            return False\n",
        "\n",
        "    for i, j in zip(range(row, -1, -1), range(col, n)):\n",
        "        if board[i][j]:\n",
        "            return False\n",
        "\n",
        "    return True\n",
        "\n",
        "def solve_n_queens_util(board, row, n):\n",
        "    if row >= n:\n",
        "        print_solution(board)\n",
        "        return True\n",
        "\n",
        "    for col in range(n):\n",
        "        if is_safe(board, row, col, n):\n",
        "            board[row][col] = True\n",
        "            solve_n_queens_util(board, row + 1, n)\n",
        "            board[row][col] = False\n",
        "\n",
        "    return False\n",
        "\n",
        "def solve_n_queens(n):\n",
        "    board = [[False] * n for _ in range(n)]\n",
        "    solve_n_queens_util(board, 0, n)\n",
        "\n",
        "if __name__ == \"__main__\":\n",
        "    n = 4\n",
        "    print(f\"Solutions for {n}-Queens Problem:\")\n",
        "    solve_n_queens(n)\n"
      ],
      "metadata": {
        "colab": {
          "base_uri": "https://localhost:8080/"
        },
        "id": "TYIKXcD2Z6ye",
        "outputId": "58902ab5-b4d4-4ca9-c995-33a3d20354ba"
      },
      "execution_count": 4,
      "outputs": [
        {
          "output_type": "stream",
          "name": "stdout",
          "text": [
            "Solutions for 4-Queens Problem:\n",
            ". Q . .\n",
            ". . . Q\n",
            "Q . . .\n",
            ". . Q .\n",
            "\n",
            "\n",
            ". . Q .\n",
            "Q . . .\n",
            ". . . Q\n",
            ". Q . .\n",
            "\n",
            "\n"
          ]
        }
      ]
    },
    {
      "cell_type": "markdown",
      "source": [
        "# Sudoko Problems\n",
        "\n",
        "Rules :\n",
        "\n",
        "-> Distinct Rows\n",
        "\n",
        "-> Distinct Columns\n",
        "\n",
        "-> Sub matrix distinct"
      ],
      "metadata": {
        "id": "KSalxXsyawyB"
      }
    },
    {
      "cell_type": "code",
      "source": [
        "def print_board(board):\n",
        "    for row in board:\n",
        "        print(\" \".join(str(cell) for cell in row))\n",
        "    print(\"\\n\")\n",
        "\n",
        "def is_safe(board, row, col, num):\n",
        "    for x in range(9):\n",
        "        if board[row][x] == num:\n",
        "            return False\n",
        "\n",
        "    for x in range(9):\n",
        "        if board[x][col] == num:\n",
        "            return False\n",
        "\n",
        "    start_row = row - row % 3\n",
        "    start_col = col - col % 3\n",
        "    for i in range(3):\n",
        "        for j in range(3):\n",
        "            if board[i + start_row][j + start_col] == num:\n",
        "                return False\n",
        "\n",
        "    return True\n",
        "\n",
        "def solve_sudoku_util(board):\n",
        "    empty_cell = find_empty_location(board)\n",
        "    if not empty_cell:\n",
        "        return True\n",
        "\n",
        "    row, col = empty_cell\n",
        "\n",
        "    for num in range(1, 10):\n",
        "        if is_safe(board, row, col, num):\n",
        "            board[row][col] = num\n",
        "\n",
        "            if solve_sudoku_util(board):\n",
        "                return True\n",
        "\n",
        "            board[row][col] = 0\n",
        "\n",
        "    return False\n",
        "\n",
        "def find_empty_location(board):\n",
        "    for i in range(9):\n",
        "        for j in range(9):\n",
        "            if board[i][j] == 0:\n",
        "                return (i, j)\n",
        "    return None\n",
        "\n",
        "def solve_sudoku(board):\n",
        "    if solve_sudoku_util(board):\n",
        "        print_board(board)\n",
        "    else:\n",
        "        print(\"No solution exists\")\n",
        "\n",
        "if __name__ == \"__main__\":\n",
        "    board = [\n",
        "        [5, 3, 0, 0, 7, 0, 0, 0, 0],\n",
        "        [6, 0, 0, 1, 9, 5, 0, 0, 0],\n",
        "        [0, 9, 8, 0, 0, 0, 0, 6, 0],\n",
        "        [8, 0, 0, 0, 6, 0, 0, 0, 3],\n",
        "        [4, 0, 0, 8, 0, 3, 0, 0, 1],\n",
        "        [7, 0, 0, 0, 2, 0, 0, 0, 6],\n",
        "        [0, 6, 0, 0, 0, 0, 2, 8, 0],\n",
        "        [0, 0, 0, 4, 1, 9, 0, 0, 5],\n",
        "        [0, 0, 0, 0, 8, 0, 0, 7, 9]\n",
        "    ]\n",
        "\n",
        "    print(\"Sudoku Puzzle:\")\n",
        "    print_board(board)\n",
        "\n",
        "    print(\"Solved Sudoku:\")\n",
        "    solve_sudoku(board)"
      ],
      "metadata": {
        "colab": {
          "base_uri": "https://localhost:8080/"
        },
        "id": "QsE4W29paur0",
        "outputId": "a4df02b9-d5df-4dd6-90a5-278fb79e8e15"
      },
      "execution_count": 5,
      "outputs": [
        {
          "output_type": "stream",
          "name": "stdout",
          "text": [
            "Sudoku Puzzle:\n",
            "5 3 0 0 7 0 0 0 0\n",
            "6 0 0 1 9 5 0 0 0\n",
            "0 9 8 0 0 0 0 6 0\n",
            "8 0 0 0 6 0 0 0 3\n",
            "4 0 0 8 0 3 0 0 1\n",
            "7 0 0 0 2 0 0 0 6\n",
            "0 6 0 0 0 0 2 8 0\n",
            "0 0 0 4 1 9 0 0 5\n",
            "0 0 0 0 8 0 0 7 9\n",
            "\n",
            "\n",
            "Solved Sudoku:\n",
            "5 3 4 6 7 8 9 1 2\n",
            "6 7 2 1 9 5 3 4 8\n",
            "1 9 8 3 4 2 5 6 7\n",
            "8 5 9 7 6 1 4 2 3\n",
            "4 2 6 8 5 3 7 9 1\n",
            "7 1 3 9 2 4 8 5 6\n",
            "9 6 1 5 3 7 2 8 4\n",
            "2 8 7 4 1 9 6 3 5\n",
            "3 4 5 2 8 6 1 7 9\n",
            "\n",
            "\n"
          ]
        }
      ]
    },
    {
      "cell_type": "code",
      "source": [],
      "metadata": {
        "id": "ecfgaQlRbEp1"
      },
      "execution_count": null,
      "outputs": []
    }
  ]
}