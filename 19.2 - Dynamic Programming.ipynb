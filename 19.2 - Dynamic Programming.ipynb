{
  "nbformat": 4,
  "nbformat_minor": 0,
  "metadata": {
    "colab": {
      "provenance": [],
      "authorship_tag": "ABX9TyOhdlSru2ho1xUiUk0Gztyo",
      "include_colab_link": true
    },
    "kernelspec": {
      "name": "python3",
      "display_name": "Python 3"
    },
    "language_info": {
      "name": "python"
    }
  },
  "cells": [
    {
      "cell_type": "markdown",
      "metadata": {
        "id": "view-in-github",
        "colab_type": "text"
      },
      "source": [
        "<a href=\"https://colab.research.google.com/github/Thrishankkuntimaddi/Data-Structures-and-Algorithms-Advanced/blob/main/19.2%20-%20Dynamic%20Programming.ipynb\" target=\"_parent\"><img src=\"https://colab.research.google.com/assets/colab-badge.svg\" alt=\"Open In Colab\"/></a>"
      ]
    },
    {
      "cell_type": "markdown",
      "source": [
        "# Minimum Jumps to Reach End\n",
        "\n",
        "I/P : arr = [3, 4, 2, 1, 2, 1]\n",
        "\n",
        "O/P : 2"
      ],
      "metadata": {
        "id": "pBoC_dTG_PMJ"
      }
    },
    {
      "cell_type": "code",
      "execution_count": 1,
      "metadata": {
        "colab": {
          "base_uri": "https://localhost:8080/"
        },
        "id": "OTgv4yLb_Ly7",
        "outputId": "c40c9416-2ea7-498f-8837-d2acd5b4166f"
      },
      "outputs": [
        {
          "output_type": "execute_result",
          "data": {
            "text/plain": [
              "4"
            ]
          },
          "metadata": {},
          "execution_count": 1
        }
      ],
      "source": [
        "# Recursive\n",
        "\n",
        "import sys\n",
        "\n",
        "def minJumps(arr, n):\n",
        "    if n == 1:\n",
        "        return 0\n",
        "\n",
        "    res = sys.maxsize\n",
        "\n",
        "    for i in range(n-1):\n",
        "        if i + arr[i] >= n - 1:\n",
        "            sub_res = minJumps(arr, i + 1)\n",
        "            if sub_res != sys.maxsize:\n",
        "                res = min(res, sub_res + 1)\n",
        "\n",
        "    return res\n",
        "\n",
        "arr = [2, 3, 1, 1, 2, 4, 2, 0, 1, 1]\n",
        "n = len(arr)\n",
        "\n",
        "minJumps(arr, n)\n",
        "\n",
        "# Time Complexity : O(n^n)"
      ]
    },
    {
      "cell_type": "code",
      "source": [
        "# DP Solution\n",
        "\n",
        "def minJumpsDP(arr):\n",
        "  n = len(arr)\n",
        "  dp = [sys.maxsize] * n\n",
        "  dp[0] = 0\n",
        "\n",
        "  for i in range(1, n):\n",
        "    for j in range(i):\n",
        "      if (i <= j + arr[j]) and (dp[j] != sys.maxsize):\n",
        "        dp[i] = min(dp[i], dp[j] + 1)\n",
        "        break\n",
        "\n",
        "  return dp[n-1]\n",
        "\n",
        "arr = [2, 3, 1, 1, 2, 4, 2, 0, 1, 1]\n",
        "minJumpsDP(arr)\n",
        "\n",
        "# Time Complexity : θ(n^2)"
      ],
      "metadata": {
        "colab": {
          "base_uri": "https://localhost:8080/"
        },
        "id": "_QKoLksbEkgM",
        "outputId": "2a1a3c35-65d6-49f6-f391-761339415851"
      },
      "execution_count": 3,
      "outputs": [
        {
          "output_type": "execute_result",
          "data": {
            "text/plain": [
              "4"
            ]
          },
          "metadata": {},
          "execution_count": 3
        }
      ]
    },
    {
      "cell_type": "markdown",
      "source": [
        "# 0-1 Knapsack Problems\n",
        "\n",
        "I/P : V = [10, 40, 30, 50]; W = [5, 4, 6, 3]; w = 10\n",
        "\n",
        "O/P : 90"
      ],
      "metadata": {
        "id": "Alk6aIVjFMs9"
      }
    },
    {
      "cell_type": "code",
      "source": [
        "# Recursion\n",
        "\n",
        "def knapsack(W, wt, val, n):\n",
        "    if n == 0 or W == 0:\n",
        "        return 0\n",
        "\n",
        "    if wt[n-1] > W:\n",
        "        return knapsack(W, wt, val, n-1)\n",
        "    else:\n",
        "        return max(\n",
        "            val[n-1] + knapsack(W - wt[n-1], wt, val, n-1),\n",
        "            knapsack(W, wt, val, n-1)\n",
        "        )\n",
        "\n",
        "val = [60, 100, 120]\n",
        "wt = [10, 20, 30]\n",
        "W = 50\n",
        "n = len(val)\n",
        "\n",
        "max_value = knapsack(W, wt, val, n)\n",
        "print(max_value)\n",
        "\n",
        "# Time Complexity : O(2^n)"
      ],
      "metadata": {
        "colab": {
          "base_uri": "https://localhost:8080/"
        },
        "id": "brPeoRZlFIqC",
        "outputId": "2404bd5f-ae3b-4309-c572-4f4411148ef3"
      },
      "execution_count": 5,
      "outputs": [
        {
          "output_type": "stream",
          "name": "stdout",
          "text": [
            "220\n"
          ]
        }
      ]
    },
    {
      "cell_type": "code",
      "source": [
        "# DP Solution\n",
        "\n",
        "def knapsack(W, wt, val, n):\n",
        "    dp = [[0 for _ in range(W + 1)] for _ in range(n + 1)]\n",
        "\n",
        "    for i in range(n + 1):\n",
        "        for w in range(W + 1):\n",
        "            if i == 0 or w == 0:\n",
        "                dp[i][w] = 0\n",
        "            elif wt[i-1] <= w:\n",
        "                dp[i][w] = max(val[i-1] + dp[i-1][w-wt[i-1]], dp[i-1][w])\n",
        "            else:\n",
        "                dp[i][w] = dp[i-1][w]\n",
        "\n",
        "    return dp[n][W]\n",
        "\n",
        "val = [60, 100, 120]\n",
        "wt = [10, 20, 30]\n",
        "W = 50\n",
        "n = len(val)\n",
        "\n",
        "max_value = knapsack(W, wt, val, n)\n",
        "print(max_value)\n",
        "\n",
        "# Time Complexity : θ(n * W)"
      ],
      "metadata": {
        "colab": {
          "base_uri": "https://localhost:8080/"
        },
        "id": "eC3e3iTyGBxU",
        "outputId": "d3851bea-0d58-435c-f455-46ae272ab8b0"
      },
      "execution_count": 7,
      "outputs": [
        {
          "output_type": "stream",
          "name": "stdout",
          "text": [
            "220\n"
          ]
        }
      ]
    },
    {
      "cell_type": "markdown",
      "source": [
        "# Optimal Strategy for a Game\n",
        "\n",
        "      1. Two Player Game\n",
        "      2. Both Players get turns one by one\n",
        "      3. Given no.of coins is even initially\n",
        "      4. You always make the first move\n",
        "      5. Both players play optimally\n",
        "\n",
        "I/P : arr = [2, 3, 15, 7]\n",
        "\n",
        "O/P : 17\n",
        "\n",
        "    Idea for recursive solution\n",
        "\n",
        "        1. We find the sum of values before recursive calls\n",
        "        2. we make two recursive calls and take the minimum of two\n",
        "              a. Pick the left corner coin\n",
        "              b. Pick the right corner coin\n",
        "\n",
        "        sum - optimal value that opponent can get with the remaining coins"
      ],
      "metadata": {
        "id": "qECkTrCNGX6o"
      }
    },
    {
      "cell_type": "code",
      "source": [
        "# Recursive Solution 1\n",
        "\n",
        "def maxVal(arr):\n",
        "    return mvRec(arr, 0, len(arr) - 1, sum(arr))\n",
        "\n",
        "def mvRec(arr, i, j, total_sum):\n",
        "    if i == j:\n",
        "        return arr[i]\n",
        "    if i + 1 == j:\n",
        "        return max(arr[i], arr[j])\n",
        "\n",
        "    return max(\n",
        "        total_sum - mvRec(arr, i + 1, j, total_sum - arr[i]),\n",
        "        total_sum - mvRec(arr, i, j - 1, total_sum - arr[j])\n",
        "    )\n",
        "\n",
        "arr = [2, 3, 1, 1, 2, 4, 2, 0, 1, 1]\n",
        "max_value = maxVal(arr)\n",
        "print(max_value)\n",
        "\n",
        "# Time Complexity : O(2^n)"
      ],
      "metadata": {
        "colab": {
          "base_uri": "https://localhost:8080/"
        },
        "id": "GFCf3hnxGSA_",
        "outputId": "c2c8f108-2574-42a0-f786-9a2f7b5edbc2"
      },
      "execution_count": 12,
      "outputs": [
        {
          "output_type": "stream",
          "name": "stdout",
          "text": [
            "9\n"
          ]
        }
      ]
    },
    {
      "cell_type": "code",
      "source": [
        "# Recursive Solution 2\n",
        "\n",
        "def mv(arr, i, j):\n",
        "    if i == j:\n",
        "        return arr[i]\n",
        "    if i + 1 == j:\n",
        "        return max(arr[i], arr[j])\n",
        "\n",
        "    return max(\n",
        "        min(mv(arr, i + 2, j), mv(arr, i + 1, j - 1) + arr[i]),\n",
        "        min(mv(arr, i + 1, j - 1), mv(arr, i, j - 2)) + arr[j]\n",
        "    )\n",
        "\n",
        "arr = [1, 2, 3, 4, 5]\n",
        "mv(arr, 0, len(arr) - 1)\n",
        "\n",
        "# Time Complexity : O(2^n)"
      ],
      "metadata": {
        "colab": {
          "base_uri": "https://localhost:8080/"
        },
        "id": "vEJ0WLsKH4DZ",
        "outputId": "c9c2063d-b7f0-41d3-eb67-86c9071a16d4"
      },
      "execution_count": 16,
      "outputs": [
        {
          "output_type": "execute_result",
          "data": {
            "text/plain": [
              "9"
            ]
          },
          "metadata": {},
          "execution_count": 16
        }
      ]
    },
    {
      "cell_type": "code",
      "source": [
        "# DP Solution\n",
        "\n",
        "def maxValDP(arr):\n",
        "    n = len(arr)\n",
        "    dp = [[0] * n for _ in range(n)]\n",
        "\n",
        "    for length in range(1, n + 1):\n",
        "        for i in range(n - length + 1):\n",
        "            j = i + length - 1\n",
        "            if i == j:\n",
        "                dp[i][j] = arr[i]\n",
        "            elif i + 1 == j:\n",
        "                dp[i][j] = max(arr[i], arr[j])\n",
        "            else:\n",
        "                dp[i][j] = max(\n",
        "                    arr[i] + min(dp[i + 2][j] if i + 2 <= j else 0, dp[i + 1][j - 1]),\n",
        "                    arr[j] + min(dp[i + 1][j - 1], dp[i][j - 2] if j - 2 >= i else 0)\n",
        "                )\n",
        "\n",
        "    return dp[0][n - 1]\n",
        "\n",
        "arr = [2, 3, 1, 1, 2, 4, 2, 0, 1, 1]\n",
        "maxValDP(arr)\n",
        "\n",
        "# Time Complexity : O(n^2)\n",
        "# Space Complexity : θ(n^2)"
      ],
      "metadata": {
        "colab": {
          "base_uri": "https://localhost:8080/"
        },
        "id": "tGtGIUBVJR9Y",
        "outputId": "1c51dd50-3ac2-4f2e-e892-1414fd009250"
      },
      "execution_count": 17,
      "outputs": [
        {
          "output_type": "execute_result",
          "data": {
            "text/plain": [
              "9"
            ]
          },
          "metadata": {},
          "execution_count": 17
        }
      ]
    },
    {
      "cell_type": "markdown",
      "source": [
        "# Egg Dropping Puzzle\n",
        "\n",
        "I/P : e = 1, f = 10\n",
        "\n",
        "O/P : 10\n",
        "\n",
        "I/P : e = 2, f = 10\n",
        "\n",
        "O/P : 4\n",
        "\n",
        "    Rules :\n",
        "\n",
        "        -> Egg may break from 1st floor\n",
        "\n",
        "        -> Egg may not break from the top floor\n",
        "\n",
        "        -> If an egg breaks from a floor it will break from higher floor also\n",
        "\n",
        "    Find minimum Trails in wrost cases\n",
        "\n",
        "    e -> No.of Eggs\n",
        "    f -> No.of floors\n",
        "\n",
        "    Let res(f, e) be the minimum trails in the wrost case for f floors and e eggs\n",
        "\n",
        "    res(f, e) = (x=1 to f) Min(max(Breaks, Does not Break)) + 1\n"
      ],
      "metadata": {
        "id": "5yjjpo69KRgb"
      }
    },
    {
      "cell_type": "code",
      "source": [
        "# Recursion Solution\n",
        "\n",
        "def eggDrop(e, f):\n",
        "    if f == 0:\n",
        "        return 0\n",
        "    if f == 1:\n",
        "        return 1\n",
        "    if e == 1:\n",
        "        return f\n",
        "\n",
        "    min_trials = float('inf')\n",
        "\n",
        "    for x in range(1, f + 1):\n",
        "        breaks = eggDrop(e - 1, x - 1)\n",
        "        does_not_break = eggDrop(e, f - x)\n",
        "        worst_case = max(breaks, does_not_break)\n",
        "\n",
        "        min_trials = min(min_trials, worst_case + 1)\n",
        "\n",
        "    return min_trials\n",
        "\n",
        "print(eggDrop(1, 10))\n",
        "print(eggDrop(2, 10))"
      ],
      "metadata": {
        "colab": {
          "base_uri": "https://localhost:8080/"
        },
        "id": "url_P3duKPn2",
        "outputId": "d9c006b2-1916-4ea3-de4b-c926c2ba5850"
      },
      "execution_count": 2,
      "outputs": [
        {
          "output_type": "stream",
          "name": "stdout",
          "text": [
            "10\n",
            "4\n"
          ]
        }
      ]
    },
    {
      "cell_type": "code",
      "source": [
        "# DP Solution\n",
        "\n",
        "def eggDropDP(e, f):\n",
        "\n",
        "    dp = [[0 for _ in range(f + 1)] for _ in range(e + 1)]\n",
        "\n",
        "    for i in range(1, e + 1):\n",
        "        dp[i][0] = 0\n",
        "        dp[i][1] = 1\n",
        "\n",
        "    for j in range(1, f + 1):\n",
        "        dp[1][j] = j\n",
        "\n",
        "    for i in range(2, e + 1):\n",
        "        for j in range(2, f + 1):\n",
        "            dp[i][j] = float('inf')\n",
        "            for x in range(1, j + 1):\n",
        "                worst_case = 1 + max(dp[i - 1][x - 1], dp[i][j - x])\n",
        "                dp[i][j] = min(dp[i][j], worst_case)\n",
        "\n",
        "    return dp[e][f]\n",
        "\n",
        "print(eggDropDP(1, 10))\n",
        "print(eggDropDP(2, 10))\n",
        "\n",
        "# Time Complexity : O(f^2 * e)\n",
        "# Space Complexity : O(f * e)"
      ],
      "metadata": {
        "colab": {
          "base_uri": "https://localhost:8080/"
        },
        "id": "0aN2WLeNcFKo",
        "outputId": "42718fb7-9aa2-4aa9-c472-b20a3c29ae9a"
      },
      "execution_count": 4,
      "outputs": [
        {
          "output_type": "stream",
          "name": "stdout",
          "text": [
            "10\n",
            "4\n"
          ]
        }
      ]
    },
    {
      "cell_type": "markdown",
      "source": [
        "# Count BSTs with n Keys\n",
        "\n",
        "I/P : n = 1\n",
        "\n",
        "O/P : 1\n",
        "\n",
        "I/P : n = 3\n",
        "\n",
        "O/P : 5"
      ],
      "metadata": {
        "id": "-PmR0ShxcjVb"
      }
    },
    {
      "cell_type": "code",
      "source": [
        "# DP Solution\n",
        "\n",
        "def countBST(n):\n",
        "  dp = [0] * (n + 1)\n",
        "  dp[0] = 1\n",
        "  dp[1] = 1\n",
        "\n",
        "  for i in range(2, n + 1):\n",
        "    for j in range(i):\n",
        "      dp[i] += dp[j] * dp[i - j - 1]\n",
        "\n",
        "  return dp[n]\n",
        "\n",
        "countBST(3)\n",
        "\n",
        "# Time Complexity : Θ(n^2)\n",
        "# Space Complexity : Θ(n)"
      ],
      "metadata": {
        "colab": {
          "base_uri": "https://localhost:8080/"
        },
        "id": "4fxOsLcxcc5E",
        "outputId": "7f8d8313-3b1a-4492-e562-fbe1f9c5aada"
      },
      "execution_count": 10,
      "outputs": [
        {
          "output_type": "execute_result",
          "data": {
            "text/plain": [
              "5"
            ]
          },
          "metadata": {},
          "execution_count": 10
        }
      ]
    },
    {
      "cell_type": "markdown",
      "source": [
        "# Maximum Sum with No Two consecutives\n",
        "\n",
        "I/P : arr = [1, 10, 2]\n",
        "\n",
        "O/P : 10\n",
        "\n",
        "I/P : arr = [8, 7, 6, 10]\n",
        "\n",
        "O/P : 18\n",
        "\n",
        "### Idea for Naive Solution\n",
        "\n",
        "    maxSum(arr, n):\n",
        "\n",
        "    We have two choices for every item:\n",
        "        a. It is part of the result\n",
        "        b. It is not part of the result\n",
        "\n",
        "    We first consider the choices for the last item\n",
        "      a. maxRec(arr, n-2) + arr[n-1]\n",
        "      b. maxRec(arr, n-1)"
      ],
      "metadata": {
        "id": "6ETvFhG7dlxZ"
      }
    },
    {
      "cell_type": "code",
      "source": [
        "# Recursive Solution\n",
        "\n",
        "def maxSum(arr, n):\n",
        "  if n == 1:\n",
        "    return arr[0]\n",
        "\n",
        "  if n == 2:\n",
        "    return max(arr[0], arr[1])\n",
        "\n",
        "  return max(maxSum(arr, n-1), arr[n-1] + maxSum(arr, n-2))\n",
        "\n",
        "arr = [8, 7, 6, 10]\n",
        "maxSum(arr, len(arr))\n",
        "\n",
        "# Time Complexity : O(2^n)"
      ],
      "metadata": {
        "colab": {
          "base_uri": "https://localhost:8080/"
        },
        "id": "c9MLmICAdG2p",
        "outputId": "08b9bb4e-75e5-4cc1-dda5-fa7fe09b6f82"
      },
      "execution_count": 12,
      "outputs": [
        {
          "output_type": "execute_result",
          "data": {
            "text/plain": [
              "18"
            ]
          },
          "metadata": {},
          "execution_count": 12
        }
      ]
    },
    {
      "cell_type": "code",
      "source": [
        "# DP Solution\n",
        "\n",
        "def maxSum(arr):\n",
        "  n = len(arr)\n",
        "  dp = [None] * (n+1)\n",
        "  dp[1] = arr[0]\n",
        "  dp[2] = max(arr[0], arr[1])\n",
        "\n",
        "  for i in range(3, n+1):\n",
        "    dp[i] = max(dp[i-1], dp[i-2] + arr[i-1])\n",
        "\n",
        "  return dp[n]\n",
        "\n",
        "arr = [8, 7, 6, 10]\n",
        "maxSum(arr)\n",
        "\n",
        "# Time Complexity : Θ(n)\n",
        "# Space Complexity : Θ(n)"
      ],
      "metadata": {
        "colab": {
          "base_uri": "https://localhost:8080/"
        },
        "id": "y3TEIDQpetIS",
        "outputId": "2326fb18-964a-4ee3-bf40-7ffe74cc03f5"
      },
      "execution_count": 14,
      "outputs": [
        {
          "output_type": "execute_result",
          "data": {
            "text/plain": [
              "18"
            ]
          },
          "metadata": {},
          "execution_count": 14
        }
      ]
    },
    {
      "cell_type": "code",
      "source": [
        "# Optimized DP Solution\n",
        "\n",
        "def maxSum(arr):\n",
        "  prev_p = arr[0]\n",
        "  prev = max(arr[0], arr[1])\n",
        "  res = prev\n",
        "\n",
        "  for i in range(3, len(arr)+1):\n",
        "    res = max(prev, prev_p + arr[i-1])\n",
        "    prev_p = prev\n",
        "    prev = res\n",
        "\n",
        "  return res\n",
        "\n",
        "arr = [8, 7, 6, 10]\n",
        "maxSum(arr)\n",
        "\n",
        "# Time Complexity : Θ(n)\n",
        "# Space Complexity : Θ(1)"
      ],
      "metadata": {
        "colab": {
          "base_uri": "https://localhost:8080/"
        },
        "id": "UDa7cOEsfLWL",
        "outputId": "5385f11b-263e-4e64-c24f-5595a3950ccb"
      },
      "execution_count": 16,
      "outputs": [
        {
          "output_type": "execute_result",
          "data": {
            "text/plain": [
              "18"
            ]
          },
          "metadata": {},
          "execution_count": 16
        }
      ]
    },
    {
      "cell_type": "markdown",
      "source": [
        "# Subset Sum problem"
      ],
      "metadata": {
        "id": "H0zDBHpOfuOL"
      }
    },
    {
      "cell_type": "code",
      "source": [
        "# DP Solution\n",
        "\n",
        "def countSubsets(arr, target_sum):\n",
        "    n = len(arr)\n",
        "    dp = [[0 for x in range(target_sum + 1)] for x in range(n + 1)]\n",
        "\n",
        "    for i in range(n + 1):\n",
        "        dp[i][0] = 1\n",
        "\n",
        "    for i in range(1, n + 1):\n",
        "        for j in range(1, target_sum + 1):\n",
        "            if arr[i - 1] > j:\n",
        "                dp[i][j] = dp[i - 1][j]\n",
        "            else:\n",
        "                dp[i][j] = dp[i - 1][j] + dp[i - 1][j - arr[i - 1]]\n",
        "\n",
        "    return dp[n][target_sum]\n",
        "\n",
        "arr = [1, 2, 3, 4, 5, 6, 7, 8]\n",
        "target_sum = 10\n",
        "countSubsets(arr, target_sum)\n",
        "\n",
        "# Time Complexity : Θ(n * sum)\n",
        "# Space Complexity : Θ(n * sum)"
      ],
      "metadata": {
        "colab": {
          "base_uri": "https://localhost:8080/"
        },
        "id": "h_iAU-jcfnF_",
        "outputId": "660f09d8-b210-4fd2-fba0-19b63673fef5"
      },
      "execution_count": 20,
      "outputs": [
        {
          "output_type": "execute_result",
          "data": {
            "text/plain": [
              "8"
            ]
          },
          "metadata": {},
          "execution_count": 20
        }
      ]
    },
    {
      "cell_type": "markdown",
      "source": [
        "# Matrix Chain Multiplication\n",
        "\n",
        "I/P : arr = [2, 1, 3]\n",
        "\n",
        "O/P : 6"
      ],
      "metadata": {
        "id": "BuyMbcD6gzuW"
      }
    },
    {
      "cell_type": "code",
      "source": [
        "# Recursion Solution\n",
        "\n",
        "def mchain(arr, i, j):\n",
        "    if i + 1 == j:\n",
        "        return 0\n",
        "\n",
        "    res = float('inf')\n",
        "\n",
        "    for k in range(i + 1, j):\n",
        "        cost = mchain(arr, i, k) + mchain(arr, k, j) + arr[i] * arr[k] * arr[j]\n",
        "        res = min(res, cost)\n",
        "\n",
        "    return res\n",
        "\n",
        "arr = [2, 1, 3]\n",
        "mchain(arr, 0, len(arr) - 1)\n",
        "\n",
        "# Time Complexity : O(2^n)"
      ],
      "metadata": {
        "colab": {
          "base_uri": "https://localhost:8080/"
        },
        "id": "aYjW8mSsga-z",
        "outputId": "38996f10-73b8-4aa7-efa6-687f19ba38dc"
      },
      "execution_count": 25,
      "outputs": [
        {
          "output_type": "execute_result",
          "data": {
            "text/plain": [
              "6"
            ]
          },
          "metadata": {},
          "execution_count": 25
        }
      ]
    },
    {
      "cell_type": "code",
      "source": [
        "# DP Solution\n",
        "\n",
        "def mchain(arr):\n",
        "    n = len(arr)\n",
        "    dp = [[0 for _ in range(n)] for _ in range(n)]\n",
        "\n",
        "    for l in range(2, n):\n",
        "        for i in range(1, n - l + 1):\n",
        "            j = i + l - 1\n",
        "            dp[i][j] = float('inf')\n",
        "            for k in range(i, j):\n",
        "                q = dp[i][k] + dp[k + 1][j] + arr[i - 1] * arr[k] * arr[j]\n",
        "                if q < dp[i][j]:\n",
        "                    dp[i][j] = q\n",
        "\n",
        "    return dp[1][n - 1]\n",
        "\n",
        "arr = [2, 1, 3]\n",
        "mchain(arr)\n",
        "\n",
        "# Time Complexity : O(n^2)"
      ],
      "metadata": {
        "colab": {
          "base_uri": "https://localhost:8080/"
        },
        "id": "aH2qg_OhhonS",
        "outputId": "caffbaa2-2b77-4afa-bbdf-a58234afe174"
      },
      "execution_count": 26,
      "outputs": [
        {
          "output_type": "execute_result",
          "data": {
            "text/plain": [
              "6"
            ]
          },
          "metadata": {},
          "execution_count": 26
        }
      ]
    },
    {
      "cell_type": "markdown",
      "source": [
        "# Palindrome Partioning\n",
        "\n",
        "I/P : str = \"geek\"\n",
        "\n",
        "O/P : 2"
      ],
      "metadata": {
        "id": "nDkC9refiOxz"
      }
    },
    {
      "cell_type": "code",
      "source": [
        "# Base Case : If whole string is palindrome then return 0\n",
        "\n",
        "def ispalin(s, i, j):\n",
        "    while i < j:\n",
        "        if s[i] != s[j]:\n",
        "            return False\n",
        "        i += 1\n",
        "        j -= 1\n",
        "    return True\n",
        "\n",
        "def palpat(s, i, j):\n",
        "    if ispalin(s, i, j):\n",
        "        return 0\n",
        "\n",
        "    res = float('inf')\n",
        "\n",
        "    for k in range(i, j):\n",
        "        cuts = 1 + palpat(s, i, k) + palpat(s, k + 1, j)\n",
        "        res = min(res, cuts)\n",
        "\n",
        "    return res\n",
        "\n",
        "s = \"abbac\"\n",
        "n = len(s)\n",
        "palpat(s, 0, n - 1)\n",
        "\n",
        "# Time Complexity : O(n * 2^n)\n",
        "# Space Complexity: O(n)"
      ],
      "metadata": {
        "colab": {
          "base_uri": "https://localhost:8080/"
        },
        "id": "i7cFsadthut3",
        "outputId": "2d9266f0-9d3a-4c7f-fd0d-488524a388e4"
      },
      "execution_count": 34,
      "outputs": [
        {
          "output_type": "execute_result",
          "data": {
            "text/plain": [
              "1"
            ]
          },
          "metadata": {},
          "execution_count": 34
        }
      ]
    },
    {
      "cell_type": "code",
      "source": [
        "# DP Solution\n",
        "\n",
        "def minCuts(s):\n",
        "    n = len(s)\n",
        "    dp = [0] * n\n",
        "    palin = [[False] * n for _ in range(n)]\n",
        "\n",
        "    for j in range(n):\n",
        "        min_cuts = float('inf')\n",
        "        for i in range(j + 1):\n",
        "            if s[i] == s[j] and (j - i <= 2 or palin[i + 1][j - 1]):\n",
        "                palin[i][j] = True\n",
        "                if i == 0:\n",
        "                    min_cuts = 0\n",
        "                else:\n",
        "                    min_cuts = min(min_cuts, dp[i - 1] + 1)\n",
        "        dp[j] = min_cuts\n",
        "\n",
        "    return dp[n - 1]\n",
        "\n",
        "s = \"abbac\"\n",
        "minCuts(s)\n",
        "\n",
        "# Time Complexity : O(n^3)"
      ],
      "metadata": {
        "colab": {
          "base_uri": "https://localhost:8080/"
        },
        "id": "1yLT32egi3iZ",
        "outputId": "297fdb75-01ba-46e0-c939-c8077690eef8"
      },
      "execution_count": 33,
      "outputs": [
        {
          "output_type": "execute_result",
          "data": {
            "text/plain": [
              "1"
            ]
          },
          "metadata": {},
          "execution_count": 33
        }
      ]
    },
    {
      "cell_type": "markdown",
      "source": [
        "# Allocate Minimum pages\n",
        "\n",
        "dp[i][j] = minimum pages for i people and j books"
      ],
      "metadata": {
        "id": "kKY9iQWgje7Y"
      }
    },
    {
      "cell_type": "code",
      "source": [
        "# DP Solution\n",
        "\n",
        "def minPages(arr, n, k):\n",
        "    dp = [[float('inf')] * (n + 1) for _ in range(k + 1)]\n",
        "\n",
        "    for i in range(1, n + 1):\n",
        "        dp[1][i] = sum(arr[0:i])\n",
        "\n",
        "    for i in range(1, k + 1):\n",
        "        dp[i][1] = arr[0]\n",
        "\n",
        "    for i in range(2, k + 1):\n",
        "        for j in range(2, n + 1):\n",
        "            for p in range(1, j + 1):\n",
        "                dp[i][j] = min(dp[i][j], max(dp[i - 1][p], sum(arr[p - 1:j])))\n",
        "\n",
        "    return dp[k][n]\n",
        "\n",
        "arr = [12, 34, 67, 90]\n",
        "n = len(arr)\n",
        "k = 2\n",
        "minPages(arr, n, k)\n",
        "\n",
        "# Time Complexity : O(n^3 * k)\n",
        "# Space Complexity : Θ(n * k)"
      ],
      "metadata": {
        "colab": {
          "base_uri": "https://localhost:8080/"
        },
        "id": "nd6wWW3QjYOH",
        "outputId": "e290a1ea-8078-41d3-e4c4-f5ee6fae82f6"
      },
      "execution_count": 36,
      "outputs": [
        {
          "output_type": "execute_result",
          "data": {
            "text/plain": [
              "157"
            ]
          },
          "metadata": {},
          "execution_count": 36
        }
      ]
    },
    {
      "cell_type": "code",
      "source": [],
      "metadata": {
        "id": "ddstsjeekUGN"
      },
      "execution_count": null,
      "outputs": []
    }
  ]
}