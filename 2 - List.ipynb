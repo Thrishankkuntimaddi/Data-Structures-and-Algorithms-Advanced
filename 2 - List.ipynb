{
  "nbformat": 4,
  "nbformat_minor": 0,
  "metadata": {
    "colab": {
      "provenance": [],
      "authorship_tag": "ABX9TyOs1Cg40NR71FcS/cjsRCVY",
      "include_colab_link": true
    },
    "kernelspec": {
      "name": "python3",
      "display_name": "Python 3"
    },
    "language_info": {
      "name": "python"
    }
  },
  "cells": [
    {
      "cell_type": "markdown",
      "metadata": {
        "id": "view-in-github",
        "colab_type": "text"
      },
      "source": [
        "<a href=\"https://colab.research.google.com/github/Thrishankkuntimaddi/Data-Structures-and-Algorithms-Advanced-/blob/main/2%20-%20List.ipynb\" target=\"_parent\"><img src=\"https://colab.research.google.com/assets/colab-badge.svg\" alt=\"Open In Colab\"/></a>"
      ]
    },
    {
      "cell_type": "markdown",
      "source": [
        "# List\n",
        "\n",
        "#### Left Rotate by d Place\n",
        "\n",
        "I/P : l = [1, 2, 3, 4]; d = 2\n",
        "\n",
        "O/P : l = [3, 4, 1, 2]"
      ],
      "metadata": {
        "id": "iJroIQiuOv2t"
      }
    },
    {
      "cell_type": "code",
      "execution_count": null,
      "metadata": {
        "colab": {
          "base_uri": "https://localhost:8080/"
        },
        "id": "SLwg5EF-IPNe",
        "outputId": "b839af19-7d70-430a-ee7f-803dc579cf56"
      },
      "outputs": [
        {
          "output_type": "stream",
          "name": "stdout",
          "text": [
            "[30, 40, 50, 10, 20]\n"
          ]
        }
      ],
      "source": [
        "# Direct Method\n",
        "\n",
        "l = [10, 20, 30, 40, 50]\n",
        "d = 2\n",
        "l = l[d:]+l[:d]\n",
        "print(l)"
      ]
    },
    {
      "cell_type": "code",
      "source": [
        "# using deque\n",
        "\n",
        "from collections import deque\n",
        "\n",
        "l = [10, 20, 30, 40, 50]\n",
        "d = 2\n",
        "dq = deque(l)\n",
        "dq.rotate(-d)\n",
        "print(dq)\n",
        "l = list(dq)\n",
        "print(l)"
      ],
      "metadata": {
        "colab": {
          "base_uri": "https://localhost:8080/"
        },
        "id": "LeoHIY4fPK-3",
        "outputId": "5a234d31-37b8-493d-bce3-7dc842ec1e29"
      },
      "execution_count": null,
      "outputs": [
        {
          "output_type": "stream",
          "name": "stdout",
          "text": [
            "deque([30, 40, 50, 10, 20])\n",
            "[30, 40, 50, 10, 20]\n"
          ]
        }
      ]
    },
    {
      "cell_type": "code",
      "source": [
        "# Method 1 (Simple)\n",
        "\n",
        "l = [10, 20, 30, 40, 50]\n",
        "\n",
        "def leftRotate(l, d):\n",
        "  for i in range(0, d):\n",
        "    l.append(l.pop(0))\n",
        "\n",
        "d = 2\n",
        "leftRotate(l, d)\n",
        "print(l)\n",
        "\n",
        "# Time Complexity : O(nd)"
      ],
      "metadata": {
        "colab": {
          "base_uri": "https://localhost:8080/"
        },
        "id": "lyLZjN_4QIzb",
        "outputId": "b499e946-57e3-454a-f46a-e20fe335da26"
      },
      "execution_count": null,
      "outputs": [
        {
          "output_type": "stream",
          "name": "stdout",
          "text": [
            "[30, 40, 50, 10, 20]\n"
          ]
        }
      ]
    },
    {
      "cell_type": "code",
      "source": [
        "# Method 2\n",
        "\n",
        "def leftRotate(l, d):\n",
        "  n = len(l)\n",
        "  reverse(l, 0, d-1)\n",
        "  reverse(l, d, n-1)\n",
        "  reverse(l, 0, n-1)\n",
        "\n",
        "def reverse(l, b, e):\n",
        "  while b < e:\n",
        "    l[b], l[e] = l[e], l[b]\n",
        "    b = b + 1\n",
        "    e = e - 1\n",
        "\n",
        "l = [10, 20, 30, 40, 50]\n",
        "d = 3\n",
        "\n",
        "leftRotate(l, d)\n",
        "print(l)\n",
        "\n",
        "# Time Complexity : θ(n)\n",
        "# Space Complexity : O(1)"
      ],
      "metadata": {
        "colab": {
          "base_uri": "https://localhost:8080/"
        },
        "id": "AYmh2rTTQZ1n",
        "outputId": "448f3eee-ee73-4416-f8c1-571c2a81da70"
      },
      "execution_count": null,
      "outputs": [
        {
          "output_type": "stream",
          "name": "stdout",
          "text": [
            "[40, 50, 10, 20, 30]\n"
          ]
        }
      ]
    },
    {
      "cell_type": "markdown",
      "source": [
        "# Maximum Difference\n",
        "\n",
        "Maximum value of arr[j] - arr[i] such that i < j\n",
        "\n",
        "I/P : arr = [2, 3, 10, 6, 4, 8, 1]\n",
        "\n",
        "O/P : 8"
      ],
      "metadata": {
        "id": "MQrmlvjgTIn0"
      }
    },
    {
      "cell_type": "code",
      "source": [
        "# Naive Solution\n",
        "\n",
        "def maxDiff(arr, n):\n",
        "  res = arr[1] - arr[0]\n",
        "  for i in range(0, n-1):\n",
        "    for j in range(i+1, n):\n",
        "      res = max(res, arr[j] - arr[i])\n",
        "\n",
        "  return res\n",
        "\n",
        "arr =  [2, 3, 10, 6, 4, 8, 1]\n",
        "n = len(arr)\n",
        "\n",
        "maxDiff(arr, n)\n",
        "\n",
        "# Time Complexity : O(n^2)"
      ],
      "metadata": {
        "colab": {
          "base_uri": "https://localhost:8080/"
        },
        "id": "8idzPOyBQ-AZ",
        "outputId": "367cabef-a49f-4e04-b7ca-e268f88243a9"
      },
      "execution_count": null,
      "outputs": [
        {
          "output_type": "execute_result",
          "data": {
            "text/plain": [
              "8"
            ]
          },
          "metadata": {},
          "execution_count": 5
        }
      ]
    },
    {
      "cell_type": "code",
      "source": [
        "# Efficient Solution\n",
        "\n",
        "def maxDiff(arr, n):\n",
        "  res = arr[1] - arr[0]\n",
        "  minval = arr[0]\n",
        "\n",
        "  for j in range(1, n):\n",
        "    res = max(res, arr[j] - minval)\n",
        "    minval = min(arr[j], minval)\n",
        "\n",
        "  return res\n",
        "\n",
        "arr =  [2, 3, 10, 6, 4, 8, 1]\n",
        "n = len(arr)\n",
        "\n",
        "maxDiff(arr, n)\n",
        "\n",
        "# Time Complexity : O(n)"
      ],
      "metadata": {
        "colab": {
          "base_uri": "https://localhost:8080/"
        },
        "id": "Ej4z855jUBAe",
        "outputId": "87dacc6a-8377-44e6-e43b-32e89dfda51d"
      },
      "execution_count": null,
      "outputs": [
        {
          "output_type": "execute_result",
          "data": {
            "text/plain": [
              "8"
            ]
          },
          "metadata": {},
          "execution_count": 6
        }
      ]
    },
    {
      "cell_type": "markdown",
      "source": [
        "# Stock Buy and Sell\n",
        "\n",
        "I/P : [1, 5, 3, 8, 12]\n",
        "\n",
        "O/P : 13\n",
        "\n",
        "I/P : [30, 20, 10]\n",
        "\n",
        "O/P : 0\n",
        "\n",
        "### Idea for Naive\n",
        "\n",
        "x0, x1, x2, x3, ....... xi ..... xj ......... xn-1\n",
        "\n",
        "Consider Every point (xi, xj) such that\n",
        "\n",
        "  a. j > i\n",
        "\n",
        "  b. xj > xi\n",
        "\n",
        "\n",
        "profit with this pair considered is:\n",
        "\n",
        "(xj - xi) + maxProfit(0, j-1) + maxProfit(j+1, n-1)\n",
        "\n",
        "Example\n",
        "\n",
        "l = 1, 5, 3, 8, 12\n",
        "\n",
        "Profit with pair (1, 5) = 4 + 0 + 9 = 13\n",
        "\n",
        "Profit with pair (1, 3) = 2 + 0 + 4 = 6"
      ],
      "metadata": {
        "id": "m16Ce50wU-HJ"
      }
    },
    {
      "cell_type": "code",
      "source": [
        "# Naive Solution\n",
        "\n",
        "def maxProfit(arr, b, e):\n",
        "  if e <= b:\n",
        "    return 0\n",
        "\n",
        "  res = 0\n",
        "  for i in range(b, e):\n",
        "    for j in range(i+1, e+1):\n",
        "      if arr[j] > arr[i]:\n",
        "        curr = arr[j] - arr[i] + maxProfit(arr, b, i-1) + maxProfit(arr, j+1, e)\n",
        "        res = max(res, curr)\n",
        "\n",
        "  return res\n",
        "\n",
        "maxProfit([1, 5, 3, 8, 12], 0, 4)\n",
        "\n",
        "# Time Complexity : O(n^2)"
      ],
      "metadata": {
        "id": "sL39IvDoUfeE",
        "colab": {
          "base_uri": "https://localhost:8080/"
        },
        "outputId": "7d4fd707-277e-420e-bbb9-b27ccb3674f5"
      },
      "execution_count": null,
      "outputs": [
        {
          "output_type": "execute_result",
          "data": {
            "text/plain": [
              "13"
            ]
          },
          "metadata": {},
          "execution_count": 19
        }
      ]
    },
    {
      "cell_type": "code",
      "source": [
        "# Efficient\n",
        "\n",
        "def maxProfit(price, n):\n",
        "  profit = 0\n",
        "  for i in range(1, n):\n",
        "    if price[i] > price[i-1]:\n",
        "      profit += price[i] - price[i-1]\n",
        "\n",
        "  return profit\n",
        "\n",
        "maxProfit([1, 5, 3, 8, 12], 5)\n",
        "\n",
        "# Time Complexity : O(n)\n",
        "# Space Complexity : O(1)"
      ],
      "metadata": {
        "colab": {
          "base_uri": "https://localhost:8080/"
        },
        "id": "pUH0VsRbjuro",
        "outputId": "21702c58-5568-4f09-e107-38c95e1e64d4"
      },
      "execution_count": null,
      "outputs": [
        {
          "output_type": "execute_result",
          "data": {
            "text/plain": [
              "13"
            ]
          },
          "metadata": {},
          "execution_count": 21
        }
      ]
    },
    {
      "cell_type": "markdown",
      "source": [
        "# Trapping Rain Water\n",
        "\n",
        "I/P : arr[] = {2, 0, 2}\n",
        "\n",
        "O/P : 2\n",
        "\n",
        "I/P : arr[] = {3, 0, 1, 2, 5}\n",
        "\n",
        "O/P : 6\n",
        "\n",
        "I/P : arr[] = {1, 2, 3}\n",
        "\n",
        "O/P : 0\n",
        "\n",
        "I/P : arr[] = {3, 2, 1}\n",
        "\n",
        "O/P : 0"
      ],
      "metadata": {
        "id": "vRwTJl6N363K"
      }
    },
    {
      "cell_type": "code",
      "source": [
        "# Naive Solution\n",
        "\n",
        "def getWater(arr, n):\n",
        "  res = 0\n",
        "\n",
        "  for i in range(1, n-1):\n",
        "    lmax = arr[i]\n",
        "    for j in range(0, i):\n",
        "      lmax = max(lmax, arr[j])\n",
        "\n",
        "    rmax = arr[j]\n",
        "    for j in range(i+1, n):\n",
        "      rmax = max(rmax, arr[j])\n",
        "\n",
        "    res = res + (min(lmax, rmax) - arr[i])\n",
        "\n",
        "  return res\n",
        "\n",
        "arr = [3, 0, 1, 2, 5]\n",
        "getWater(arr, len(arr))\n",
        "\n",
        "# Time Complexity : O(n^2)\n",
        "# Space Complexity : O(1)"
      ],
      "metadata": {
        "colab": {
          "base_uri": "https://localhost:8080/"
        },
        "id": "tCo8OC7i3wqk",
        "outputId": "f01f4a09-954a-4f26-8d92-b29369c23c28"
      },
      "execution_count": null,
      "outputs": [
        {
          "output_type": "execute_result",
          "data": {
            "text/plain": [
              "6"
            ]
          },
          "metadata": {},
          "execution_count": 22
        }
      ]
    },
    {
      "cell_type": "code",
      "source": [
        "# Efficient Solution\n",
        "\n",
        "def getWater(arr, n):\n",
        "    res = 0\n",
        "    lmax = [0] * n\n",
        "    rmax = [0] * n\n",
        "\n",
        "    # Compute lmax array\n",
        "    lmax[0] = arr[0]\n",
        "    for i in range(1, n):\n",
        "        lmax[i] = max(arr[i], lmax[i - 1])\n",
        "\n",
        "    # Compute rmax array\n",
        "    rmax[n - 1] = arr[n - 1]\n",
        "    for i in range(n - 2, -1, -1):\n",
        "        rmax[i] = max(arr[i], rmax[i + 1])\n",
        "\n",
        "    # Calculate the accumulated water\n",
        "    for i in range(1, n - 1):\n",
        "        res += min(lmax[i], rmax[i]) - arr[i]\n",
        "\n",
        "    return res\n",
        "\n",
        "arr = [3, 0, 1, 2, 5]\n",
        "print(getWater(arr, len(arr)))\n",
        "\n",
        "# Time Complexity: O(n)\n",
        "# Space Complexity: O(n)"
      ],
      "metadata": {
        "colab": {
          "base_uri": "https://localhost:8080/"
        },
        "id": "cmrDuIVG5Ov9",
        "outputId": "3bc19312-198e-4407-be80-22fe7a78b19f"
      },
      "execution_count": null,
      "outputs": [
        {
          "output_type": "stream",
          "name": "stdout",
          "text": [
            "6\n"
          ]
        }
      ]
    },
    {
      "cell_type": "markdown",
      "source": [
        "# Maximum Subarray Sum\n",
        "\n",
        "I/P : arr[] = {2, 3, -8, 7, -1, 2, 3}\n",
        "\n",
        "O/P : 11\n",
        "\n",
        "I/P : arr[] = {5, 8, 3}\n",
        "\n",
        "O/P : 16\n",
        "\n",
        "I/P : arr[] = {-6, -1, -8}\n",
        "\n",
        "O/P : -1"
      ],
      "metadata": {
        "id": "tEsp3-Hiirs_"
      }
    },
    {
      "cell_type": "code",
      "source": [
        "# Naive Solution\n",
        "\n",
        "def maxSum(arr, n):\n",
        "  res = arr[0]\n",
        "  for i in range(0, n):\n",
        "    curr = 0\n",
        "\n",
        "    for j in range(i, n):\n",
        "      curr = curr + arr[j]\n",
        "      res = max(res, curr)\n",
        "\n",
        "  return res\n",
        "\n",
        "arr = [2, 3, -8, 7, -1, 2, 3]\n",
        "maxSum(arr, len(arr))"
      ],
      "metadata": {
        "id": "bH2k9chV6hz5",
        "colab": {
          "base_uri": "https://localhost:8080/"
        },
        "outputId": "786bde1a-9643-4df4-8a91-6528a2690202"
      },
      "execution_count": null,
      "outputs": [
        {
          "output_type": "execute_result",
          "data": {
            "text/plain": [
              "11"
            ]
          },
          "metadata": {},
          "execution_count": 1
        }
      ]
    },
    {
      "cell_type": "code",
      "source": [
        "# Efficient Solution # Kadane's Algorithm\n",
        "\n",
        "def maxSum(arr, n):\n",
        "  res = arr[0]\n",
        "  maxEnding = arr[0]\n",
        "  for i in range(1, n):\n",
        "    maxEnding = max(maxEnding + arr[i], arr[i])\n",
        "    res = max(maxEnding, res)\n",
        "\n",
        "  return res\n",
        "\n",
        "arr = [2, 3, -8, 7, -1, 2, 3]\n",
        "maxSum(arr, len(arr))\n",
        "\n",
        "# Time Complexity : O(n)\n",
        "# Space Complexity : O(1)"
      ],
      "metadata": {
        "colab": {
          "base_uri": "https://localhost:8080/"
        },
        "id": "x9UKmw6MjlsI",
        "outputId": "a3502aa4-205b-4bb9-f999-835f1bae1c53"
      },
      "execution_count": null,
      "outputs": [
        {
          "output_type": "execute_result",
          "data": {
            "text/plain": [
              "11"
            ]
          },
          "metadata": {},
          "execution_count": 2
        }
      ]
    },
    {
      "cell_type": "markdown",
      "source": [
        "# Maximum Length Even-Odd Subarray\n",
        "\n",
        "I/P : [10, 12, 14, 7, 8]\n",
        "\n",
        "O/P : 3\n",
        "\n",
        "I/P : [7, 10, 13, 14]\n",
        "\n",
        "O/P : 4"
      ],
      "metadata": {
        "id": "mJyCRqHkmb4U"
      }
    },
    {
      "cell_type": "code",
      "source": [
        "# Naive Solution\n",
        "\n",
        "def maxOddEven(arr, n):\n",
        "    max_length = 1\n",
        "\n",
        "    for i in range(n):\n",
        "        current_length = 1\n",
        "\n",
        "        for j in range(i + 1, n):\n",
        "            if (arr[j] % 2 == 0 and arr[j - 1] % 2 != 0) or (arr[j] % 2 != 0 and arr[j - 1] % 2 == 0):\n",
        "                current_length += 1\n",
        "            else:\n",
        "                break\n",
        "\n",
        "        max_length = max(max_length, current_length)\n",
        "\n",
        "    return max_length\n",
        "\n",
        "arr = [10, 12, 14, 7, 8]\n",
        "result = maxOddEven(arr, len(arr))\n",
        "print(result)\n",
        "\n",
        "# Time Complexity : O(n^2)"
      ],
      "metadata": {
        "colab": {
          "base_uri": "https://localhost:8080/"
        },
        "id": "WZNeuPNclVbG",
        "outputId": "ed1da236-96be-40bb-c98b-2729cc48a854"
      },
      "execution_count": null,
      "outputs": [
        {
          "output_type": "stream",
          "name": "stdout",
          "text": [
            "3\n"
          ]
        }
      ]
    },
    {
      "cell_type": "code",
      "source": [
        "# Efficient Solution\n",
        "\n",
        "def maxOddEven(arr, n):\n",
        "    max_length = 1\n",
        "    curr_length = 1\n",
        "\n",
        "    for i in range(1, n):\n",
        "        if (arr[i] % 2 == 0 and arr[i - 1] % 2 != 0) or (arr[i] % 2 != 0 and arr[i - 1] % 2 == 0):\n",
        "            curr_length += 1\n",
        "            max_length = max(max_length, curr_length)\n",
        "        else:\n",
        "            curr_length = 1\n",
        "\n",
        "    return max_length\n",
        "\n",
        "arr = [10, 12, 14, 7, 8]\n",
        "result = maxOddEven(arr, len(arr))\n",
        "print(result)\n",
        "\n",
        "# Time Complexity: O(n)"
      ],
      "metadata": {
        "colab": {
          "base_uri": "https://localhost:8080/"
        },
        "id": "FTUUrYdCnQUd",
        "outputId": "40813644-a381-4793-8ebd-cd8501fd55fc"
      },
      "execution_count": null,
      "outputs": [
        {
          "output_type": "stream",
          "name": "stdout",
          "text": [
            "3\n"
          ]
        }
      ]
    },
    {
      "cell_type": "markdown",
      "source": [
        "# Maximum Circular Sum SubArray\n",
        "\n",
        "{10, 5, -5}\n",
        "\n",
        "All Circular Subarrays\n",
        "\n",
        "{10}, {5}, {-5},\n",
        "\n",
        "{10, 5}, {5, -5},\n",
        "\n",
        "{10, 5, -5}, {5, -5, 10}, {-5, 10}, {-5, 10, 5}\n",
        "\n",
        "\n",
        "I/P : arr[] = {5, -2, 3, 4}\n",
        "\n",
        "O/P : 12"
      ],
      "metadata": {
        "id": "sY1T9tiZqnOU"
      }
    },
    {
      "cell_type": "code",
      "source": [
        "# Naive Solution\n",
        "\n",
        "def maxCircularSum(arr, n):\n",
        "  res = arr[0]\n",
        "\n",
        "  for i in range(0, n):\n",
        "    curr_max = arr[i]\n",
        "    curr_sum = arr[i]\n",
        "\n",
        "    for j in range(1, n):\n",
        "      index = (i+j) % n\n",
        "      curr_sum += arr[index]\n",
        "      curr_max = max(curr_max, curr_sum)\n",
        "\n",
        "    res = max(res, curr_max)\n",
        "\n",
        "  return res\n",
        "\n",
        "arr = [5, -2, 3, 4]\n",
        "maxCircularSum(arr, len(arr))\n",
        "\n",
        "# Time Complexity : O(n^2)\n",
        "# Space Complexity : O(1)"
      ],
      "metadata": {
        "id": "T956zN50rFrP",
        "colab": {
          "base_uri": "https://localhost:8080/"
        },
        "outputId": "c8a72e5e-5bce-4f8e-829a-ba978eab816c"
      },
      "execution_count": null,
      "outputs": [
        {
          "output_type": "execute_result",
          "data": {
            "text/plain": [
              "12"
            ]
          },
          "metadata": {},
          "execution_count": 2
        }
      ]
    },
    {
      "cell_type": "code",
      "source": [
        "# Efficient Solution\n",
        "\n",
        "'''\n",
        "Idea : Take the maximum of the following two\n",
        "1. Maximum sum of a Normal Subarray\n",
        "2. Maximum sum of a circular subarray\n",
        "'''\n",
        "\n",
        "def normalmaxSum(arr, n):\n",
        "  res = arr[0]\n",
        "  maxEnding = arr[0]\n",
        "\n",
        "  for i in range(1, n):\n",
        "    maxEnding = max(maxEnding + arr[i], arr[i])\n",
        "    res = max(maxEnding, res)\n",
        "\n",
        "  return res\n",
        "\n",
        "def overallmaxSum(arr, n):\n",
        "\n",
        "  # Test Case\n",
        "  max_normal = normalmaxSum(arr, n)\n",
        "  if max_normal < 0:\n",
        "    return max_normal\n",
        "\n",
        "  # Actual Procedure\n",
        "  arr_sum = 0\n",
        "\n",
        "  for i in range(0, n):\n",
        "    arr_sum += arr[i]\n",
        "    arr[i] = -(arr[i])\n",
        "\n",
        "  # print(arr)\n",
        "  # print(arr_sum)\n",
        "  # print(normalmaxSum(arr, n))\n",
        "\n",
        "  max_circular = arr_sum + normalmaxSum(arr, n) # Computes for Negative Array\n",
        "\n",
        "  return max(max_circular, max_normal)\n",
        "\n",
        "arr = [5, -2, 3, 4]\n",
        "overallmaxSum(arr, len(arr))\n",
        "\n",
        "# Time Complexity : O(n)\n",
        "# Space Complexity : O(1)"
      ],
      "metadata": {
        "id": "SHIwBrlapgxl",
        "colab": {
          "base_uri": "https://localhost:8080/"
        },
        "outputId": "2cc82a86-e9ad-482d-aae7-b40885d0b07b"
      },
      "execution_count": null,
      "outputs": [
        {
          "output_type": "stream",
          "name": "stdout",
          "text": [
            "10\n"
          ]
        },
        {
          "output_type": "execute_result",
          "data": {
            "text/plain": [
              "12"
            ]
          },
          "metadata": {},
          "execution_count": 8
        }
      ]
    },
    {
      "cell_type": "markdown",
      "source": [
        "# Majority Element\n",
        "\n",
        "The Element should appear more than n/2 times\n",
        "\n",
        "I/P : [8, 3, 4, 8, 8]\n",
        "\n",
        "        0 1 2 3 4\n",
        "\n",
        "O/P : 0 or 3 or 4\n",
        "\n",
        "I/P : [3, 7, 4, 7, 7, 5]\n",
        "\n",
        "O/P : -1 { No Majority }"
      ],
      "metadata": {
        "id": "zGDGUrERsZVV"
      }
    },
    {
      "cell_type": "code",
      "source": [
        "# Naive Solution\n",
        "\n",
        "def findMajority(arr, n):\n",
        "  for i in range(0, n):\n",
        "    count = 1\n",
        "\n",
        "    for j in range(i+1, n):\n",
        "      if arr[i] == arr[j]:\n",
        "        count += 1\n",
        "\n",
        "    if count > n/2:\n",
        "      return i\n",
        "\n",
        "  return -1\n",
        "\n",
        "print(findMajority([8, 3, 4, 8, 8], len([8, 3, 4, 8, 8])))\n",
        "print(findMajority([3, 7, 4, 7, 7, 5] , len([3, 7, 4, 7, 7, 5])))\n",
        "\n",
        "# Time Complexity : O(n^2)\n",
        "# Space Complexity : O(1)"
      ],
      "metadata": {
        "id": "afAcyGox3B1H",
        "colab": {
          "base_uri": "https://localhost:8080/"
        },
        "outputId": "3a618184-6e00-4787-b64e-d8152143ceff"
      },
      "execution_count": null,
      "outputs": [
        {
          "output_type": "stream",
          "name": "stdout",
          "text": [
            "0\n",
            "-1\n"
          ]
        }
      ]
    },
    {
      "cell_type": "code",
      "source": [
        "# Efficient Solution : Boyer-Moore’s Voting Algorithm\n",
        "\n",
        "def findMajority(arr, n):\n",
        "  res = 0\n",
        "  count = 1\n",
        "\n",
        "  for i in range(1, n):\n",
        "    if arr[res] == arr[i]:\n",
        "      count += 1\n",
        "    else:\n",
        "      count -= 1\n",
        "\n",
        "    if count == 0:\n",
        "      res = i\n",
        "      count = 1\n",
        "\n",
        "  count = 0\n",
        "\n",
        "  for i in range(0, n):\n",
        "    if arr[res] == arr[i]:\n",
        "      count += 1\n",
        "\n",
        "  if count <= n//2:\n",
        "    res = -1\n",
        "\n",
        "  return res\n",
        "\n",
        "print(findMajority([8, 3, 8, 4, 8], len([8, 3, 4, 8, 8])))\n",
        "print(findMajority([3, 7, 4, 7, 7, 5] , len([3, 7, 4, 7, 7, 5])))\n",
        "\n",
        "# Time Complexity : O(n)\n",
        "# Space Complexity : O(1)"
      ],
      "metadata": {
        "id": "6IaDyzJStKsz",
        "colab": {
          "base_uri": "https://localhost:8080/"
        },
        "outputId": "a07e4af7-5e94-46ce-b897-ef433ec1eff3"
      },
      "execution_count": null,
      "outputs": [
        {
          "output_type": "stream",
          "name": "stdout",
          "text": [
            "4\n",
            "-1\n"
          ]
        }
      ]
    },
    {
      "cell_type": "markdown",
      "source": [
        "# Minimum Group Flips to Make Same\n",
        "\n",
        "I/P : arr[] = {1, 1, 0, 0, 0, 1}\n",
        "\n",
        "O/P : From 2 to 4\n",
        "\n",
        "I/P : arr[] = {1, 0, 0, 0, 1, 0, 0, 1, 1, 1, 1}\n",
        "\n",
        "O/P : From 1 to 3; From 5 to 6\n",
        "\n",
        "I/P : arr[] = {1, 1, 1}\n",
        "\n",
        "O/P :\n",
        "\n",
        "I/P : arr[] = {0, 1}\n",
        "\n",
        "O/P : From 0 to 0; From 1 to 1"
      ],
      "metadata": {
        "id": "tzD63iDWxDmj"
      }
    },
    {
      "cell_type": "code",
      "source": [
        "def printGroups(arr, n):\n",
        "  for i in range(1, n):\n",
        "    if arr[i] != arr[i-1]:\n",
        "      if arr[i] != arr[0]:\n",
        "        print('From', i, 'to', end = ' ')\n",
        "      else:\n",
        "        print(i-1)\n",
        "\n",
        "  if arr[n-1] != arr[0]:\n",
        "    print(n-1)\n",
        "\n",
        "printGroups([1, 0, 0, 0, 1, 0, 0, 1, 1, 1, 1], len([1, 0, 0, 0, 1, 0, 0, 1, 1, 1, 1]))\n",
        "\n",
        "# Time Complexity : O(n)\n",
        "# Space Complexity : O(1)"
      ],
      "metadata": {
        "colab": {
          "base_uri": "https://localhost:8080/"
        },
        "id": "CP8QTloRvjd8",
        "outputId": "9c3572d5-59f6-4414-be76-3ee5c4e6ecdb"
      },
      "execution_count": null,
      "outputs": [
        {
          "output_type": "stream",
          "name": "stdout",
          "text": [
            "From 1 to 3\n",
            "From 5 to 6\n"
          ]
        }
      ]
    },
    {
      "cell_type": "markdown",
      "source": [
        "# Window Sliding Technique\n",
        "\n",
        "Find the maximum sum of k Consecutive Elements\n",
        "\n",
        "I/P : [1, 8, 30, -5, 20, 7] ; k = 3\n",
        "\n",
        "O/P : 45\n",
        "\n",
        "I/P : [5, -10, 6, 90, 3] ; k = 2\n",
        "\n",
        "O/P : 96"
      ],
      "metadata": {
        "id": "L6BilzsZ1UVy"
      }
    },
    {
      "cell_type": "code",
      "source": [
        "# Naive Solution\n",
        "\n",
        "def maxkSum(arr, k):\n",
        "  res = float(\"-inf\")\n",
        "  i = 0\n",
        "  n = len(arr)\n",
        "\n",
        "  while i+k-1 < n:\n",
        "    curr = 0\n",
        "\n",
        "    for j in range(k):\n",
        "      curr += arr[i+j]\n",
        "\n",
        "    res = max(curr, res)\n",
        "    i += 1\n",
        "\n",
        "  return res\n",
        "\n",
        "maxkSum([1, 8, 30, -5, 20, 7], 3)\n",
        "\n",
        "# Time Complexity : O(n*k)\n",
        "# Space Complexity : O(1)"
      ],
      "metadata": {
        "colab": {
          "base_uri": "https://localhost:8080/"
        },
        "id": "wrOqzWnNyksv",
        "outputId": "12c9726d-0ec6-48a9-cbaa-245947ba25e5"
      },
      "execution_count": null,
      "outputs": [
        {
          "output_type": "execute_result",
          "data": {
            "text/plain": [
              "45"
            ]
          },
          "metadata": {},
          "execution_count": 20
        }
      ]
    },
    {
      "cell_type": "code",
      "source": [
        "# Efficient Solution\n",
        "\n",
        "def maxKsum(arr, k):\n",
        "  curr = 0\n",
        "  for i in range(k):\n",
        "    curr += arr[i]\n",
        "\n",
        "  res = curr\n",
        "  # print(curr)\n",
        "\n",
        "  for i in range(k, len(arr)):\n",
        "    curr = curr + arr[i] - arr[i-k]\n",
        "    res = max(res, curr)\n",
        "\n",
        "  return res\n",
        "\n",
        "print(maxKsum([1, 8, 30, -5, 20, 7], 3))\n",
        "\n",
        "# Time Complexity : Theta(n)\n",
        "# Space Complexity : O(1)"
      ],
      "metadata": {
        "colab": {
          "base_uri": "https://localhost:8080/"
        },
        "id": "OkfsFqSY2Ofs",
        "outputId": "08a8766c-8644-4159-8fde-62793edb6a71"
      },
      "execution_count": null,
      "outputs": [
        {
          "output_type": "stream",
          "name": "stdout",
          "text": [
            "45\n"
          ]
        }
      ]
    },
    {
      "cell_type": "markdown",
      "source": [
        "# Subarray with given Sum\n",
        "\n",
        "I/P : [1, 4, 20, 3, 10, 15] ; Sum = 33\n",
        "\n",
        "O/P : Yes\n",
        "\n",
        "I/P : [2, 4] ; Sum = 3\n",
        "\n",
        "O/P : No"
      ],
      "metadata": {
        "id": "Zq-blKEw7Jp1"
      }
    },
    {
      "cell_type": "code",
      "source": [
        "# Naive Solution\n",
        "\n",
        "def isSum(arr, Sum):\n",
        "  for i in range(len(arr)):\n",
        "    curr = 0\n",
        "\n",
        "    for j in range(i, len(arr)):\n",
        "      curr += arr[j]\n",
        "\n",
        "      if curr == Sum:\n",
        "        return True\n",
        "\n",
        "  return False\n",
        "\n",
        "isSum([1, 4, 20, 3, 10, 15], 33)\n",
        "\n",
        "# Time Complexity : O(n^2)\n",
        "# Space Complexity : O(1)"
      ],
      "metadata": {
        "colab": {
          "base_uri": "https://localhost:8080/"
        },
        "id": "Qu-_0OPy47IA",
        "outputId": "b4774239-f180-4568-eab1-cf040e572031"
      },
      "execution_count": null,
      "outputs": [
        {
          "output_type": "execute_result",
          "data": {
            "text/plain": [
              "True"
            ]
          },
          "metadata": {},
          "execution_count": 27
        }
      ]
    },
    {
      "cell_type": "code",
      "source": [
        "# Efficient Solution\n",
        "\n",
        "def isSum(arr, Sum):\n",
        "  s, curr = 0, 0\n",
        "\n",
        "  for i in range(len(arr)):\n",
        "    curr += arr[i]\n",
        "\n",
        "    while curr > Sum:\n",
        "      curr -= arr[s]\n",
        "      s += 1\n",
        "\n",
        "    if curr == Sum:\n",
        "      return True\n",
        "\n",
        "  return False\n",
        "\n",
        "isSum([1, 4, 20, 3, 10, 15], 33)\n",
        "\n",
        "# Time Complexity : O(n)\n",
        "# Space Complexity : O(1)"
      ],
      "metadata": {
        "colab": {
          "base_uri": "https://localhost:8080/"
        },
        "id": "nYR7wUiY7sRk",
        "outputId": "91334f08-3d61-4779-9802-158008006ca0"
      },
      "execution_count": null,
      "outputs": [
        {
          "output_type": "execute_result",
          "data": {
            "text/plain": [
              "True"
            ]
          },
          "metadata": {},
          "execution_count": 29
        }
      ]
    },
    {
      "cell_type": "markdown",
      "source": [
        "# Prefix Sum\n",
        "\n",
        "I/P : arr[] = [2, 8, 3, 9, 6, 5, 4]\n",
        "\n",
        "getSum(0, 2) # 13\n",
        "getSum(1, 3) # 20\n",
        "getSum(2, 6) # 27"
      ],
      "metadata": {
        "id": "f3hbI56S9qgx"
      }
    },
    {
      "cell_type": "code",
      "source": [
        "# Naive Solution\n",
        "\n",
        "def prefixSum(arr, l, r):\n",
        "  res = 0\n",
        "  for i in range(l, r):\n",
        "    res += arr[i]\n",
        "\n",
        "  return res\n",
        "\n",
        "prefixSum([2, 8, 3, 9, 6, 5, 4] , 0, len([2, 8, 3, 9, 6, 5, 4]))\n",
        "\n",
        "# Time Complexity : Theta(r - l + 1) or O(n)"
      ],
      "metadata": {
        "colab": {
          "base_uri": "https://localhost:8080/"
        },
        "id": "lpIuqtfW85PR",
        "outputId": "62b2282c-98e2-42ee-a08a-3dcd5fe0d025"
      },
      "execution_count": null,
      "outputs": [
        {
          "output_type": "execute_result",
          "data": {
            "text/plain": [
              "37"
            ]
          },
          "metadata": {},
          "execution_count": 32
        }
      ]
    },
    {
      "cell_type": "markdown",
      "source": [
        "### Idea for getSum() in O(1) Time:\n",
        "\n",
        "1. precompute prefixSum Array\n",
        "\n",
        "2. getSum(l, r) = pSum[r] if l == 0\n",
        "\n",
        "    pSum[r] - pSum[l - 1] Otherwise"
      ],
      "metadata": {
        "id": "GYHQKy5n_Fqu"
      }
    },
    {
      "cell_type": "code",
      "source": [
        "arr = [2, 8, 3, 9, 6, 5, 4]\n",
        "\n",
        "n = len(arr)\n",
        "\n",
        "psum = [None] * n\n",
        "\n",
        "psum[0] = arr[0]\n",
        "\n",
        "for i in range(1, n):\n",
        "  psum[i] = psum[i - 1] + arr[i]\n",
        "\n",
        "def getSum(l, r):\n",
        "  if l == 0:\n",
        "    return psum[r]\n",
        "  else:\n",
        "    return psum[r] - psum[l - 1]\n",
        "\n",
        "getSum(0, 6)\n",
        "\n",
        "# Time Complexity : O(1)"
      ],
      "metadata": {
        "colab": {
          "base_uri": "https://localhost:8080/"
        },
        "id": "cdOF1qum-Mjh",
        "outputId": "ccc49a0f-fb6d-4114-94bc-a2d4d1d701db"
      },
      "execution_count": null,
      "outputs": [
        {
          "output_type": "execute_result",
          "data": {
            "text/plain": [
              "37"
            ]
          },
          "metadata": {},
          "execution_count": 37
        }
      ]
    },
    {
      "cell_type": "code",
      "source": [
        "# Efficient Solution\n",
        "\n",
        "def preprocess(arr):\n",
        "    n = len(arr)\n",
        "    P = [0] * n  # Prefix sum array\n",
        "    W = [0] * n  # Weighted prefix sum array\n",
        "\n",
        "    P[0] = arr[0]\n",
        "    W[0] = 0 * arr[0]\n",
        "\n",
        "    for i in range(1, n):\n",
        "        P[i] = P[i-1] + arr[i]\n",
        "        W[i] = W[i-1] + i * arr[i]\n",
        "\n",
        "    return P, W\n",
        "\n",
        "def weighted_sum(L, R, P, W):\n",
        "    if L > 0:\n",
        "        return (W[R] - W[L-1]) - L * (P[R] - P[L-1])\n",
        "    else:\n",
        "        return W[R]\n",
        "\n",
        "arr = [1, 2, 3, 4, 5]\n",
        "P, W = preprocess(arr)\n",
        "L, R = 0, 2\n",
        "print(weighted_sum(L, R, P, W))\n",
        "\n",
        "# Time Complexity : O(n)\n",
        "# Space Complexity : O(1)"
      ],
      "metadata": {
        "colab": {
          "base_uri": "https://localhost:8080/"
        },
        "id": "mNNfxz59AFFX",
        "outputId": "88e7971b-4fe0-4991-80d6-877e4d0b4880"
      },
      "execution_count": null,
      "outputs": [
        {
          "output_type": "stream",
          "name": "stdout",
          "text": [
            "8\n"
          ]
        }
      ]
    },
    {
      "cell_type": "markdown",
      "source": [
        "# Equilibrium Point\n",
        "\n",
        "I/P : arr = [3, 4, 8, -9, 20, 6]\n",
        "\n",
        "O/P : True\n",
        "\n",
        "I/P : arr = [4, 2, -2]\n",
        "\n",
        "O/P : True\n",
        "\n",
        "I/P : arr = [4, 2, 2]\n",
        "\n",
        "O/P : False"
      ],
      "metadata": {
        "id": "VZv7nMuuDvxn"
      }
    },
    {
      "cell_type": "code",
      "source": [
        "def ePoint(arr):\n",
        "  n = len(arr)\n",
        "\n",
        "  for i in range(n):\n",
        "    ls, rs = 0, 0\n",
        "\n",
        "    for j in range(i):\n",
        "      ls += arr[j]\n",
        "\n",
        "    for k in range(i + 1, n):\n",
        "      rs += arr[k]\n",
        "\n",
        "    if ls == rs:\n",
        "      return True\n",
        "\n",
        "  return False\n",
        "\n",
        "ePoint([3, 4, 8, -9, 20, 6])\n",
        "\n",
        "# Time Complexity : O(n^2)"
      ],
      "metadata": {
        "colab": {
          "base_uri": "https://localhost:8080/"
        },
        "id": "ZLvv4Gm5DSmR",
        "outputId": "28882631-590a-4ae9-cfd5-e5ea470697dd"
      },
      "execution_count": null,
      "outputs": [
        {
          "output_type": "execute_result",
          "data": {
            "text/plain": [
              "True"
            ]
          },
          "metadata": {},
          "execution_count": 39
        }
      ]
    },
    {
      "cell_type": "code",
      "source": [
        "def ePoint(arr):\n",
        "  rs = sum(arr)   # Total Sum of Array\n",
        "  ls = 0\n",
        "\n",
        "  for i in range(len(arr)):\n",
        "    rs -= arr[i]\n",
        "\n",
        "    if ls == rs:\n",
        "      return True\n",
        "\n",
        "    ls += arr[i]\n",
        "\n",
        "  return False\n",
        "\n",
        "ePoint([3, 4, 8, -9, 20, 6])\n",
        "\n",
        "# Time Complexity : Theta(n)\n",
        "# Space Complexity : O(1)"
      ],
      "metadata": {
        "colab": {
          "base_uri": "https://localhost:8080/"
        },
        "id": "yPduFXq4Ec5g",
        "outputId": "3ff5de85-e105-4826-a967-283dfb59f706"
      },
      "execution_count": null,
      "outputs": [
        {
          "output_type": "execute_result",
          "data": {
            "text/plain": [
              "True"
            ]
          },
          "metadata": {},
          "execution_count": 41
        }
      ]
    },
    {
      "cell_type": "code",
      "source": [
        "# Can Partition into Three Equal Parts\n",
        "\n",
        "def threeParts(arr):\n",
        "    total_sum = sum(arr)\n",
        "\n",
        "    # Check if total sum is divisible by 3\n",
        "    if total_sum % 3 != 0:\n",
        "        return False\n",
        "\n",
        "    target_sum = total_sum // 3\n",
        "    current_sum = 0\n",
        "    count = 0\n",
        "\n",
        "    for num in arr:\n",
        "        current_sum += num\n",
        "        if current_sum == target_sum:\n",
        "            current_sum = 0\n",
        "            count += 1\n",
        "\n",
        "    # We need exactly 3 partitions with equal sum\n",
        "    return count >= 3\n",
        "\n",
        "arr1 = [1, 2, 3, 0, 3]\n",
        "print(threeParts(arr1))  # True\n",
        "\n",
        "# Time Complexity : O(n)\n",
        "# Space Complexity : O(1)"
      ],
      "metadata": {
        "colab": {
          "base_uri": "https://localhost:8080/"
        },
        "id": "W_yAqwxnE27i",
        "outputId": "f4e0d69f-984b-43e6-dabf-1cc6326ee077"
      },
      "execution_count": null,
      "outputs": [
        {
          "output_type": "stream",
          "name": "stdout",
          "text": [
            "True\n",
            "False\n"
          ]
        }
      ]
    },
    {
      "cell_type": "markdown",
      "source": [
        "# Maximum Appearing Element in Ranges\n",
        "\n",
        "I/P : left = [1, 2, 5, 15]; right = [5, 8, 7, 18]\n",
        "\n",
        "O/P : 5\n",
        "\n",
        "[1, 2, 3, 4, 5], [2, 3, 4, 5, 6, 7, 8], [5, 6, 7], [15, 16, 17, 18]\n",
        "\n",
        "Constrain :\n",
        "\n",
        "1. 0 <= left[i] < right[i] < 100\n",
        "\n",
        "2. 0 <= i < 10^5 - no.of Elements"
      ],
      "metadata": {
        "id": "YtWYEjoWHAjp"
      }
    },
    {
      "cell_type": "code",
      "source": [
        "# Naive Solution\n",
        "\n",
        "def maxAppear(left, right):\n",
        "  freq = [0] * 100\n",
        "\n",
        "  for i in range(len(left)):\n",
        "\n",
        "    for j in range(left[i], right[i] + 1):\n",
        "      freq[j] += 1\n",
        "\n",
        "  return freq.index(max(freq))\n",
        "\n",
        "left = [1, 2, 5, 15]\n",
        "right = [5, 8, 7, 18]\n",
        "maxAppear(left, right)\n",
        "\n",
        "# Time Complexity : O(n * MAX)"
      ],
      "metadata": {
        "colab": {
          "base_uri": "https://localhost:8080/"
        },
        "id": "ea8EIiLyGCc7",
        "outputId": "d1a4031b-4549-483a-8ea8-f4652515c855"
      },
      "execution_count": null,
      "outputs": [
        {
          "output_type": "execute_result",
          "data": {
            "text/plain": [
              "5"
            ]
          },
          "metadata": {},
          "execution_count": 45
        }
      ]
    },
    {
      "cell_type": "code",
      "source": [
        "# Efficient Solution\n",
        "\n",
        "def maxAppear(left, right):\n",
        "  freq = [0] * 101\n",
        "\n",
        "  for i in range(len(left)):\n",
        "    freq[left[i]] += 1\n",
        "    freq[right[i] + 1] -= 1\n",
        "\n",
        "  for i in range(1, 100):\n",
        "    freq[i] = freq[i] + freq[i - 1]\n",
        "\n",
        "  return freq.index(max(freq))\n",
        "\n",
        "left = [1, 2, 5, 15]\n",
        "right = [5, 8, 7, 18]\n",
        "maxAppear(left, right)"
      ],
      "metadata": {
        "colab": {
          "base_uri": "https://localhost:8080/"
        },
        "id": "L5mJF3mOIWNd",
        "outputId": "289b1509-20d6-4065-ef71-9b5c29d030af"
      },
      "execution_count": null,
      "outputs": [
        {
          "output_type": "execute_result",
          "data": {
            "text/plain": [
              "5"
            ]
          },
          "metadata": {},
          "execution_count": 48
        }
      ]
    }
  ]
}