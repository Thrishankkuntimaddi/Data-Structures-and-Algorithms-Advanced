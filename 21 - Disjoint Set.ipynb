{
  "nbformat": 4,
  "nbformat_minor": 0,
  "metadata": {
    "colab": {
      "provenance": [],
      "authorship_tag": "ABX9TyN3zqOOpRMLHi3GCMELxG2j",
      "include_colab_link": true
    },
    "kernelspec": {
      "name": "python3",
      "display_name": "Python 3"
    },
    "language_info": {
      "name": "python"
    }
  },
  "cells": [
    {
      "cell_type": "markdown",
      "metadata": {
        "id": "view-in-github",
        "colab_type": "text"
      },
      "source": [
        "<a href=\"https://colab.research.google.com/github/Thrishankkuntimaddi/Data-Structures-and-Algorithms-Advanced/blob/main/21%20-%20Disjoint%20Set.ipynb\" target=\"_parent\"><img src=\"https://colab.research.google.com/assets/colab-badge.svg\" alt=\"Open In Colab\"/></a>"
      ]
    },
    {
      "cell_type": "markdown",
      "source": [
        "I/P : n = 4\n",
        "\n",
        "makeFri(0, 1), makeFri(1, 3), areFri(0, 2), areFri(0, 1), areFri(0, 3)\n",
        "\n",
        "O/P : No Yes Yes\n",
        "\n",
        "## Simple Solution\n",
        "\n",
        "use Adjacency List or Adjacency matrix Representation\n",
        "\n",
        "Adjacency List : makeFriends(); areFriends() : O(n)\n",
        "\n",
        "Adjacency Matrix : makeFriends() : Θ(n); areFriends() : Θ(1)\n",
        "\n",
        "## Better Solution (use disjoint set)\n",
        "\n",
        "      find(x) : returns a representative of x's set\n",
        "\n",
        "      union(x, y) : combine sets of x and y\n",
        "\n",
        "      boolean areFriends(x, y) {\n",
        "        return find(x) == find(y)\n",
        "      }\n",
        "\n",
        "      makeFriends(x, y) {\n",
        "        union(x, y)\n",
        "      }\n"
      ],
      "metadata": {
        "id": "CSiKTtIHryvd"
      }
    },
    {
      "cell_type": "code",
      "execution_count": 1,
      "metadata": {
        "colab": {
          "base_uri": "https://localhost:8080/"
        },
        "id": "rATHC2UPrv-f",
        "outputId": "d659c092-e9de-4d5b-97b9-cc634b3997e0"
      },
      "outputs": [
        {
          "output_type": "stream",
          "name": "stdout",
          "text": [
            "No\n",
            "Yes\n",
            "Yes\n"
          ]
        }
      ],
      "source": [
        "# Implementation\n",
        "\n",
        "class DisjointSet:\n",
        "    def __init__(self, n):\n",
        "        self.parent = list(range(n))\n",
        "\n",
        "    def find(self, x):\n",
        "        if self.parent[x] != x:\n",
        "            self.parent[x] = self.find(self.parent[x])\n",
        "        return self.parent[x]\n",
        "\n",
        "    def union(self, x, y):\n",
        "        x_rep = self.find(x)\n",
        "        y_rep = self.find(y)\n",
        "        if x_rep != y_rep:\n",
        "            self.parent[y_rep] = x_rep\n",
        "\n",
        "    def areFriends(self, x, y):\n",
        "        return self.find(x) == self.find(y)\n",
        "\n",
        "    def makeFriends(self, x, y):\n",
        "        self.union(x, y)\n",
        "\n",
        "n = 4\n",
        "ds = DisjointSet(n)\n",
        "\n",
        "ds.makeFriends(0, 1)\n",
        "ds.makeFriends(1, 3)\n",
        "\n",
        "print(\"Yes\" if ds.areFriends(0, 2) else \"No\")\n",
        "print(\"Yes\" if ds.areFriends(0, 1) else \"No\")\n",
        "print(\"Yes\" if ds.areFriends(0, 3) else \"No\")"
      ]
    },
    {
      "cell_type": "markdown",
      "source": [
        "# Union by Rank : Array\n",
        "\n",
        "-> we use an extra array, rank in the union operation\n",
        "\n",
        "-> It typically stores heights\n",
        "\n",
        "-> The idea is to make representative of smaller height as child of the other one\n"
      ],
      "metadata": {
        "id": "Gd87ocaGuIYh"
      }
    },
    {
      "cell_type": "code",
      "source": [
        "# Union by Rank : Array\n",
        "\n",
        "class DisjointSet:\n",
        "    def __init__(self, n):\n",
        "        self.parent = list(range(n))\n",
        "        self.rank = [0] * n\n",
        "\n",
        "    def find(self, x):\n",
        "        if self.parent[x] != x:\n",
        "            self.parent[x] = self.find(self.parent[x])\n",
        "        return self.parent[x]\n",
        "\n",
        "    def union(self, x, y):\n",
        "        x_rep = self.find(x)\n",
        "        y_rep = self.find(y)\n",
        "\n",
        "        if x_rep == y_rep:\n",
        "            return\n",
        "\n",
        "        if self.rank[x_rep] < self.rank[y_rep]:\n",
        "            self.parent[x_rep] = y_rep\n",
        "        elif self.rank[x_rep] > self.rank[y_rep]:\n",
        "            self.parent[y_rep] = x_rep\n",
        "        else:\n",
        "            self.parent[y_rep] = x_rep\n",
        "            self.rank[x_rep] += 1\n",
        "\n",
        "    def areFriends(self, x, y):\n",
        "        return self.find(x) == self.find(y)\n",
        "\n",
        "    def makeFriends(self, x, y):\n",
        "        self.union(x, y)\n",
        "\n",
        "n = 4\n",
        "ds = DisjointSet(n)\n",
        "\n",
        "ds.makeFriends(0, 1)\n",
        "ds.makeFriends(1, 3)\n",
        "\n",
        "print(\"Yes\" if ds.areFriends(0, 2) else \"No\")\n",
        "print(\"Yes\" if ds.areFriends(0, 1) else \"No\")\n",
        "print(\"Yes\" if ds.areFriends(0, 3) else \"No\")"
      ],
      "metadata": {
        "colab": {
          "base_uri": "https://localhost:8080/"
        },
        "id": "YkejjLV6t5cw",
        "outputId": "62b50030-7cea-405f-dcf8-a5a97f01c36e"
      },
      "execution_count": 2,
      "outputs": [
        {
          "output_type": "stream",
          "name": "stdout",
          "text": [
            "No\n",
            "Yes\n",
            "Yes\n"
          ]
        }
      ]
    },
    {
      "cell_type": "markdown",
      "source": [
        "# Path Compression\n",
        "\n",
        "The idea is to modify and optimize the true in the find()\n",
        "\n",
        "we make parent of all nodes (on the path from given node to root) as root"
      ],
      "metadata": {
        "id": "2q1cA62bvHNH"
      }
    },
    {
      "cell_type": "code",
      "source": [
        "class DisjointSet:\n",
        "    def __init__(self, n):\n",
        "        self.parent = list(range(n))\n",
        "        self.rank = [0] * n\n",
        "\n",
        "    def find(self, x):\n",
        "        if x != self.parent[x]:\n",
        "            self.parent[x] = self.find(self.parent[x])\n",
        "        return self.parent[x]\n",
        "\n",
        "    def union(self, x, y):\n",
        "        x_rep = self.find(x)\n",
        "        y_rep = self.find(y)\n",
        "\n",
        "        if x_rep == y_rep:\n",
        "            return\n",
        "\n",
        "        if self.rank[x_rep] < self.rank[y_rep]:\n",
        "            self.parent[x_rep] = y_rep\n",
        "        elif self.rank[x_rep] > self.rank[y_rep]:\n",
        "            self.parent[y_rep] = x_rep\n",
        "        else:\n",
        "            self.parent[y_rep] = x_rep\n",
        "            self.rank[x_rep] += 1\n",
        "\n",
        "    def areFriends(self, x, y):\n",
        "        return self.find(x) == self.find(y)\n",
        "\n",
        "    def makeFriends(self, x, y):\n",
        "        self.union(x, y)\n",
        "\n",
        "n = 4\n",
        "ds = DisjointSet(n)\n",
        "\n",
        "ds.makeFriends(0, 1)\n",
        "ds.makeFriends(1, 3)\n",
        "\n",
        "print(\"Yes\" if ds.areFriends(0, 2) else \"No\")\n",
        "print(\"Yes\" if ds.areFriends(0, 1) else \"No\")\n",
        "print(\"Yes\" if ds.areFriends(0, 3) else \"No\")"
      ],
      "metadata": {
        "colab": {
          "base_uri": "https://localhost:8080/"
        },
        "id": "qJWBzNCCvCql",
        "outputId": "e67932a8-22ce-4645-b2c1-201fc4d46d7a"
      },
      "execution_count": 3,
      "outputs": [
        {
          "output_type": "stream",
          "name": "stdout",
          "text": [
            "No\n",
            "Yes\n",
            "Yes\n"
          ]
        }
      ]
    },
    {
      "cell_type": "code",
      "source": [],
      "metadata": {
        "id": "FPChROMSvtTb"
      },
      "execution_count": null,
      "outputs": []
    }
  ]
}