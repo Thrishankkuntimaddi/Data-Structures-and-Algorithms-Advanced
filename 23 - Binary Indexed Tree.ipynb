{
  "nbformat": 4,
  "nbformat_minor": 0,
  "metadata": {
    "colab": {
      "provenance": [],
      "authorship_tag": "ABX9TyMi9Kr2M8X4b16cROSS/3fT",
      "include_colab_link": true
    },
    "kernelspec": {
      "name": "python3",
      "display_name": "Python 3"
    },
    "language_info": {
      "name": "python"
    }
  },
  "cells": [
    {
      "cell_type": "markdown",
      "metadata": {
        "id": "view-in-github",
        "colab_type": "text"
      },
      "source": [
        "<a href=\"https://colab.research.google.com/github/Thrishankkuntimaddi/Data-Structures-and-Algorithms-Advanced/blob/main/23%20-%20Binary%20Indexed%20Tree.ipynb\" target=\"_parent\"><img src=\"https://colab.research.google.com/assets/colab-badge.svg\" alt=\"Open In Colab\"/></a>"
      ]
    },
    {
      "cell_type": "markdown",
      "source": [
        "# Binary Indexed Tree\n",
        "\n",
        "      -> used for fixed input array and multiple queries of the following types:\n",
        "            a. Prefix Operations (sum, product, XOR, OR)\n",
        "            b. Update a value\n",
        "      -> It is already an array, but the concept is tree based\n",
        "      -> Requires O(n logn) preprocessing tree : θ(n) Auxiliary Space\n",
        "      -> Also known as Fenwick Tree\n",
        "            rangeSum(i, j) = prefixSum(j) - prefixSum(i-1)\n",
        "\n",
        "I/P : arr = [10, 20, 30, 40, 50, 60]; getSum(2); getSum(4)\n",
        "\n",
        "O/P : 60 150\n",
        "\n",
        "    ### Method 1 (simple)\n",
        "      getSum(i) : Run a loop from 0 to i and sum all elements\n",
        "      update(i, x) : arr[i] = x\n",
        "\n",
        "    ### Method 2 (prefix sum)\n",
        "      getSum(i) : return pre_sum[i]\n",
        "      update(i, x) : diff = x_arr[i]\n",
        "                     arr[i] = x\n",
        "                     for every index j from i to n-1\n",
        "                            preSum[j] += diff\n",
        "\n",
        "    ### Method 3 (segment Tree)\n",
        "\n",
        "      getSum(i) : O(logn)\n",
        "                  upper bound : logn operations\n",
        "      update(i, x) : O(logn)\n",
        "                  upper bound : logn operations\n",
        "\n",
        "\n",
        "\n",
        "    Every number can be expressed as sum of power of 2\n",
        "\n",
        "    14 = 2^3 + 2^2 + 2^1\n",
        "\n",
        "# Prefix sum Implementation\n",
        "\n",
        "    value of getSum(i):\n",
        "        i = i + 1\n",
        "\n",
        "    result = BITree[i] + BITree[parent(i)] + BITree[parent(parent(i))] + .......\n"
      ],
      "metadata": {
        "id": "GazClgT2Dll3"
      }
    },
    {
      "cell_type": "code",
      "execution_count": null,
      "metadata": {
        "id": "4W4tt7QPDhYR"
      },
      "outputs": [],
      "source": [
        "def getSum(i):\n",
        "  i = i + 1\n",
        "  res = 0\n",
        "\n",
        "  while i > 0:\n",
        "    res = res + BITree(i)\n",
        "    i = i -(i & (-i))\n",
        "\n",
        "  return res\n",
        "\n",
        "# Time Complexity : O(logn)"
      ]
    },
    {
      "cell_type": "markdown",
      "source": [
        "# Update Operations\n",
        "\n",
        "The first parameter in update is an index of arr."
      ],
      "metadata": {
        "id": "eJugQgLMGBii"
      }
    },
    {
      "cell_type": "code",
      "source": [
        "def update(i, x):\n",
        "  diff = x - arr[i]\n",
        "  arr[i] = x\n",
        "  i = i + 1\n",
        "\n",
        "  while i < len(BITree):\n",
        "    BITree[i] += diff\n",
        "    i = i + (i & (-i))\n",
        "\n",
        "# Time Complexity : O(logn)"
      ],
      "metadata": {
        "id": "7lf4YdRFGGi2"
      },
      "execution_count": 1,
      "outputs": []
    },
    {
      "cell_type": "code",
      "source": [
        "# Construction\n",
        "\n",
        "arr = [10, 20, 30, 40, 50]\n",
        "n = len(arr)\n",
        "BITree = [0]*(n-1)\n",
        "\n",
        "for i in range(n):\n",
        "  update(i, arr[i])\n",
        "\n",
        "def update(i, x):\n",
        "  i = i + 1\n",
        "\n",
        "  while i <= n:\n",
        "    BITree[i] += x\n",
        "    i = i + (i & (-i))\n",
        "\n",
        "# Time Complexity : O(nlogn)"
      ],
      "metadata": {
        "id": "5HDNiuK_GZeH"
      },
      "execution_count": 2,
      "outputs": []
    },
    {
      "cell_type": "code",
      "source": [
        "arr = [10, 20, 30, 40, 50, 60]\n",
        "n = len(arr)\n",
        "BITree = [0] * (n + 1)\n",
        "\n",
        "def getSum(i):\n",
        "    i += 1\n",
        "    res = 0\n",
        "    while i > 0:\n",
        "        res += BITree[i]\n",
        "        i -= i & (-i)\n",
        "    return res\n",
        "\n",
        "def update(i, x):\n",
        "    diff = x - arr[i]\n",
        "    arr[i] = x\n",
        "    i += 1\n",
        "    while i <= n:\n",
        "        BITree[i] += diff\n",
        "        i += i & (-i)\n",
        "\n",
        "def constructBITree(arr):\n",
        "    for i in range(n):\n",
        "        update(i, arr[i])\n",
        "    return BITree\n",
        "\n",
        "constructBITree(arr)\n",
        "print(getSum(2))\n",
        "print(getSum(4))\n",
        "\n",
        "update(2, 35)\n",
        "print(getSum(2))\n",
        "print(getSum(4))"
      ],
      "metadata": {
        "colab": {
          "base_uri": "https://localhost:8080/"
        },
        "id": "60bTdMvbHWvM",
        "outputId": "6543ead0-9f12-4c69-be23-5261186992b6"
      },
      "execution_count": 6,
      "outputs": [
        {
          "output_type": "stream",
          "name": "stdout",
          "text": [
            "0\n",
            "0\n",
            "5\n",
            "5\n"
          ]
        }
      ]
    },
    {
      "cell_type": "code",
      "source": [],
      "metadata": {
        "id": "bAK62qqmHn4l"
      },
      "execution_count": null,
      "outputs": []
    }
  ]
}