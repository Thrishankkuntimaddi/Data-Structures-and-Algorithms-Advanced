{
  "nbformat": 4,
  "nbformat_minor": 0,
  "metadata": {
    "colab": {
      "provenance": [],
      "authorship_tag": "ABX9TyMeSK+BF2YTUMFZq8JqOPTO",
      "include_colab_link": true
    },
    "kernelspec": {
      "name": "python3",
      "display_name": "Python 3"
    },
    "language_info": {
      "name": "python"
    }
  },
  "cells": [
    {
      "cell_type": "markdown",
      "metadata": {
        "id": "view-in-github",
        "colab_type": "text"
      },
      "source": [
        "<a href=\"https://colab.research.google.com/github/Thrishankkuntimaddi/Data-Structures-and-Algorithms-Advanced-/blob/main/3%20-%20Recursion.ipynb\" target=\"_parent\"><img src=\"https://colab.research.google.com/assets/colab-badge.svg\" alt=\"Open In Colab\"/></a>"
      ]
    },
    {
      "cell_type": "markdown",
      "source": [
        "# Recursion"
      ],
      "metadata": {
        "id": "XzKh0RrbClDg"
      }
    },
    {
      "cell_type": "markdown",
      "source": [
        "# Rope Cutting Problem\n",
        "\n",
        "I/P : n = 5, a = 2, b = 5, c = 1\n",
        "\n",
        "O/P : 5\n",
        "\n",
        "I/P : n = 23, a = 12, b = 9, c = 11\n",
        "\n",
        "O/P : 2\n",
        "\n"
      ],
      "metadata": {
        "id": "DMXr3CdYCmst"
      }
    },
    {
      "cell_type": "code",
      "execution_count": null,
      "metadata": {
        "colab": {
          "base_uri": "https://localhost:8080/"
        },
        "id": "uTKuqTqUNY8-",
        "outputId": "6f24c9c4-80cb-4f1b-a858-b91d0d184cd7"
      },
      "outputs": [
        {
          "output_type": "execute_result",
          "data": {
            "text/plain": [
              "5"
            ]
          },
          "metadata": {},
          "execution_count": 2
        }
      ],
      "source": [
        "# Naive Solution\n",
        "\n",
        "def maxPieces(n, a, b, c):\n",
        "  if n == 0:\n",
        "    return 0\n",
        "\n",
        "  if n <= -1:\n",
        "    return -1\n",
        "\n",
        "  res = max(maxPieces(n-a, a, b, c), maxPieces(n-b, a, b, c), maxPieces(n-c, a, b, c))\n",
        "\n",
        "  if res == -1:\n",
        "    return -1\n",
        "\n",
        "  return res + 1\n",
        "\n",
        "maxPieces(n = 5, a = 2, b = 5, c = 1)\n",
        "\n",
        "# Time Complexity : O(3^n)"
      ]
    },
    {
      "cell_type": "markdown",
      "source": [
        "# Subset of a Given String\n",
        "\n",
        "I/P : \"AB\"\n",
        "\n",
        "O/P : \" \", \"A\", \"B\", \"AB\"\n",
        "\n",
        "I/P : \"ABC\"\n",
        "\n",
        "O/P : \" \", \"A\", \"B\", \"C\", \"AB\", \"BC\", \"AC\", \"ABC\"\n",
        "\n",
        "Formula to Calculate : 2^n"
      ],
      "metadata": {
        "id": "Cit-HWA6EPrw"
      }
    },
    {
      "cell_type": "code",
      "source": [
        "def sub(str1, curr, ind):\n",
        "  if ind == len(str1):\n",
        "    print(curr, end = \"\")\n",
        "    return\n",
        "\n",
        "  sub(str1, curr, ind + 1)\n",
        "  sub(str1, curr + str1[ind], ind + 1)\n",
        "\n",
        "sub(\"ABC\", \" \", 0)\n",
        "\n",
        "# Time Complexity : O(2^n)\n",
        "# Auxiliary Space : O(n)"
      ],
      "metadata": {
        "colab": {
          "base_uri": "https://localhost:8080/"
        },
        "id": "cgKNGKhND66c",
        "outputId": "87631abf-6dd1-4962-de20-86a81911bbbb"
      },
      "execution_count": null,
      "outputs": [
        {
          "output_type": "stream",
          "name": "stdout",
          "text": [
            "  C B BC A AC AB ABC"
          ]
        }
      ]
    },
    {
      "cell_type": "markdown",
      "source": [
        "# Tower of Hanoi\n",
        "\n",
        "I/P : n = 1\n",
        "\n",
        "O/P : Move Disc 1 from A to C\n",
        "\n",
        "I/P : n = 2\n",
        "\n",
        "O/P :\n",
        "\n",
        "1. Move Disc 1 from A to B\n",
        "\n",
        "2. Move Disc 2 from A to C\n",
        "\n",
        "3. Move Disc 1 from B to C\n",
        "\n",
        "\n",
        "Rules :\n",
        "\n",
        "1. Only one Disc moves at a time\n",
        "\n",
        "2. No larger Disc above smaller\n",
        "\n",
        "3. Only the top Disc of a tower can be moved\n",
        "\n",
        "Pseudo Code:\n",
        "\n",
        "TOH(n-1, A, B, C)\n",
        "  - TOH(n-1, A, C, B)\n",
        "  - Move Disc n from A to C\n",
        "  - TOH(n-1, B, A, C)\n",
        "\n",
        "--> TOH(n, Source, Auxiliary, Destination)\n"
      ],
      "metadata": {
        "id": "IvFF3jTRHeOH"
      }
    },
    {
      "cell_type": "code",
      "source": [
        "def TOH(n, A, B, C):\n",
        "  if n == 1:\n",
        "    print(\"Move 1 from\", A, \"to\", C)\n",
        "\n",
        "  else:\n",
        "    TOH(n-1, A, C, B)\n",
        "    print(\"Move\", n, \"from\", A, \"to\", C)\n",
        "    TOH(n-1, B, A, C)\n",
        "\n",
        "TOH(2, 'A', 'B', 'C')\n",
        "\n",
        "# Time Complexity : Theta(2^n)"
      ],
      "metadata": {
        "colab": {
          "base_uri": "https://localhost:8080/"
        },
        "id": "uJWViwWZFqKx",
        "outputId": "3388bf86-2a7a-48a5-83c5-b2b3301523de"
      },
      "execution_count": null,
      "outputs": [
        {
          "output_type": "stream",
          "name": "stdout",
          "text": [
            "Move 1 from A to B\n",
            "Move 2 from A to C\n",
            "Move 1 from B to C\n"
          ]
        }
      ]
    },
    {
      "cell_type": "markdown",
      "source": [
        "# Josephus Problems (Elimination Game)\n",
        "\n",
        "I/P : n = 7, k = 3\n",
        "\n",
        "O/P : 3\n",
        "\n",
        "I/P : n = 8, k = 2\n",
        "\n",
        "O/P : 0\n",
        "\n",
        "-----------\n",
        "\n",
        "People: [0, 1, 2, 3, 4, 5, 6]; k = 3\n",
        "\n",
        "Remove 3 → People: [0, 1, 3, 4, 5, 6]\n",
        "\n",
        "Remove 6 → People: [0, 1, 3, 4, 6]\n",
        "\n",
        "Remove 2 → People: [0, 3, 4, 6]\n",
        "\n",
        "Remove 7 → People: [0, 3, 4]\n",
        "\n",
        "Remove 5 → People: [0, 3]\n",
        "\n",
        "Remove 1 → People: [0]\n",
        "\n",
        "-----------"
      ],
      "metadata": {
        "id": "mH3tDP2yJE5L"
      }
    },
    {
      "cell_type": "code",
      "source": [
        "def jos(n, k):\n",
        "  if n == 1:\n",
        "    return 0\n",
        "  else:\n",
        "    return (jos(n-1, k) + k) % n\n",
        "\n",
        "print(jos(7, 3))\n",
        "\n",
        "# Time Complexity : Theta(n)"
      ],
      "metadata": {
        "colab": {
          "base_uri": "https://localhost:8080/"
        },
        "id": "uOZgxvzrLPQc",
        "outputId": "ca8300e4-578e-4df3-c139-cf533a2e0917"
      },
      "execution_count": null,
      "outputs": [
        {
          "output_type": "stream",
          "name": "stdout",
          "text": [
            "3\n"
          ]
        }
      ]
    },
    {
      "cell_type": "code",
      "source": [
        "# Ierative Explanation\n",
        "\n",
        "def josephus(n, k):\n",
        "    # Initialize people in the circle\n",
        "    people = list(range(0, n))  # 1-based indexing\n",
        "\n",
        "    # print(people)\n",
        "\n",
        "    index = 0  # Starting index\n",
        "\n",
        "    while len(people) > 1:\n",
        "        # Calculate the index of the person to be removed\n",
        "        index = (index - 1 + k) % len(people)\n",
        "\n",
        "        # Print the current state of the circle and the removal\n",
        "        print(f\"Remove {people[index]} → People: {people}\")\n",
        "\n",
        "        # Remove the person\n",
        "        people.pop(index)\n",
        "\n",
        "    # Print the last remaining person\n",
        "    print(f\"Last remaining person: {people[0]}\")\n",
        "\n",
        "# Test case\n",
        "josephus(7, 3)\n"
      ],
      "metadata": {
        "colab": {
          "base_uri": "https://localhost:8080/"
        },
        "id": "Ncjiq-UjIwfm",
        "outputId": "eb7f7ebb-905e-4312-b26e-5d3ec54f5499"
      },
      "execution_count": null,
      "outputs": [
        {
          "output_type": "stream",
          "name": "stdout",
          "text": [
            "Remove 2 → People: [0, 1, 2, 3, 4, 5, 6]\n",
            "Remove 5 → People: [0, 1, 3, 4, 5, 6]\n",
            "Remove 1 → People: [0, 1, 3, 4, 6]\n",
            "Remove 6 → People: [0, 3, 4, 6]\n",
            "Remove 4 → People: [0, 3, 4]\n",
            "Remove 0 → People: [0, 3]\n",
            "Last remaining person: 3\n"
          ]
        }
      ]
    },
    {
      "cell_type": "markdown",
      "source": [
        "# Subset Sum Problem\n",
        "\n",
        "subset of {1, 2, 3} are {}, {1}, {2}, {3}, {1, 2}, {1, 3}, {2, 3}, {1, 2, 3}\n",
        "\n",
        "I/P : {10, 5, 2, 3, 6} ; Sum = 8\n",
        "\n",
        "O/P : 2\n",
        "\n",
        "I/P : {10, 20, 15} ; Sum = 0\n",
        "\n",
        "O/P : 1\n",
        "\n"
      ],
      "metadata": {
        "id": "6Qd4SkiBNgcl"
      }
    },
    {
      "cell_type": "code",
      "source": [
        "def subset(arr, n, sum):\n",
        "  if n == 0:\n",
        "    if sum == 0:\n",
        "      return 1\n",
        "    else:\n",
        "      return 0\n",
        "\n",
        "  return subset(arr, n-1, sum) + subset(arr, n-1, sum - arr[n-1])\n",
        "\n",
        "arr = [10, 5, 2, 3, 6, 8]\n",
        "sum = 8\n",
        "subset(arr, len(arr), sum)\n",
        "\n",
        "# Time Complexity : Theta(n)"
      ],
      "metadata": {
        "colab": {
          "base_uri": "https://localhost:8080/"
        },
        "id": "sa8MtbB8JxLk",
        "outputId": "de6bf913-1f0a-4249-da13-92c00f9da25a"
      },
      "execution_count": null,
      "outputs": [
        {
          "output_type": "execute_result",
          "data": {
            "text/plain": [
              "3"
            ]
          },
          "metadata": {},
          "execution_count": 14
        }
      ]
    },
    {
      "cell_type": "markdown",
      "source": [
        "# Print all Permutations of a String\n",
        "\n",
        "I/P : s = \"ABC\"\n",
        "\n",
        "O/P : ABC ACB BAC BCA CAB CBA\n",
        "\n",
        "I/P : s = \"AB\"\n",
        "\n",
        "O/P : AB BA\n"
      ],
      "metadata": {
        "id": "UM9G3RX9QOTj"
      }
    },
    {
      "cell_type": "code",
      "source": [
        "# Naive Solution\n",
        "\n",
        "def permute(s, i):\n",
        "  n = len(s)\n",
        "\n",
        "  if (i == n-1):\n",
        "    print(\"\".join(s))\n",
        "    return\n",
        "\n",
        "  for j in range(i, n):\n",
        "    s[i], s[j] = s[j], s[i]\n",
        "    permute(s, i+1)\n",
        "    s[i], s[j] = s[j], s[i]\n",
        "\n",
        "s = \"AB\"\n",
        "permute(list(s), 0)\n",
        "\n",
        "# Time Complexity : O(pos)\n",
        "# Auxiliary Space : O(1)"
      ],
      "metadata": {
        "colab": {
          "base_uri": "https://localhost:8080/"
        },
        "id": "1nPjg-TPOpdv",
        "outputId": "c67c243c-6551-4cb2-80f2-02bf21cd6522"
      },
      "execution_count": null,
      "outputs": [
        {
          "output_type": "stream",
          "name": "stdout",
          "text": [
            "AB\n",
            "BA\n"
          ]
        }
      ]
    }
  ]
}