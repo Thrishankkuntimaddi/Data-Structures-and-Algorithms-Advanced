{
  "nbformat": 4,
  "nbformat_minor": 0,
  "metadata": {
    "colab": {
      "provenance": [],
      "authorship_tag": "ABX9TyNoeNfMhi1pb8v4JnTSCgXM",
      "include_colab_link": true
    },
    "kernelspec": {
      "name": "python3",
      "display_name": "Python 3"
    },
    "language_info": {
      "name": "python"
    }
  },
  "cells": [
    {
      "cell_type": "markdown",
      "metadata": {
        "id": "view-in-github",
        "colab_type": "text"
      },
      "source": [
        "<a href=\"https://colab.research.google.com/github/Thrishankkuntimaddi/Data-Structures-and-Algorithms-Advanced-/blob/main/4%20-%20Searching.ipynb\" target=\"_parent\"><img src=\"https://colab.research.google.com/assets/colab-badge.svg\" alt=\"Open In Colab\"/></a>"
      ]
    },
    {
      "cell_type": "markdown",
      "source": [
        "# Searching\n",
        "\n",
        "\n",
        "# Search in an Infinite Sorted Array\n",
        "\n",
        "I/P : arr[] = {10, 15, 20, 40, 80, 80, 90, 100, 120, ........ }  ; x = 100\n",
        "\n",
        "O/P : 7\n",
        "\n",
        "I/p : arr[] = {20, 40, 10, 30, ........ } ; x = 50\n",
        "\n",
        "O/P : -1"
      ],
      "metadata": {
        "id": "uSiZ_dDwiAVR"
      }
    },
    {
      "cell_type": "code",
      "execution_count": null,
      "metadata": {
        "colab": {
          "base_uri": "https://localhost:8080/"
        },
        "id": "fyEAISUth-VZ",
        "outputId": "aafd1d70-4232-4590-f49e-cad44c3b3572"
      },
      "outputs": [
        {
          "output_type": "stream",
          "name": "stdout",
          "text": [
            "-1\n",
            "4\n"
          ]
        }
      ],
      "source": [
        "# Naive Solution\n",
        "\n",
        "def search(arr, x):\n",
        "  i = 0\n",
        "  while True:\n",
        "    if arr[i] == x:\n",
        "      return i\n",
        "\n",
        "    if arr[i] > x:\n",
        "      return -1\n",
        "\n",
        "    i += 1\n",
        "\n",
        "arr = [10, 15, 20, 40, 80, 80, 90, 100, 120]\n",
        "print(search(arr, 50))\n",
        "print(search(arr, 80))\n",
        "\n",
        "# Time Complexity : O(pos)\n",
        "# Auxiliary Space : O(1)"
      ]
    },
    {
      "cell_type": "code",
      "source": [
        "# Efficient Solution\n",
        "\n",
        "def bsearch(arr, low, high, x):\n",
        "    while low <= high:\n",
        "        mid = (low + high) // 2\n",
        "        if arr[mid] == x:\n",
        "            return mid\n",
        "        elif arr[mid] < x:\n",
        "            low = mid + 1\n",
        "        else:\n",
        "            high = mid - 1\n",
        "    return -1\n",
        "\n",
        "def search(arr, x):\n",
        "  if arr[0] == x:\n",
        "    return 0\n",
        "  i = 1\n",
        "  while arr[i] < x:\n",
        "    i = i * 2\n",
        "    if arr[i] == x:\n",
        "      return i\n",
        "  return bsearch(arr, i//2 + 1, i - 1, x)\n",
        "\n",
        "arr = [10, 15, 20, 40, 80, 80, 90, 100, 120]\n",
        "print(search(arr, 50))\n",
        "print(search(arr, 40))\n",
        "\n",
        "# Time Complexity : O(log(pos))\n",
        "# Auxiliary Space : O(1)"
      ],
      "metadata": {
        "colab": {
          "base_uri": "https://localhost:8080/"
        },
        "id": "SzyWkq0WiIXc",
        "outputId": "2833e419-3372-409f-c781-0c8248f94e2f"
      },
      "execution_count": null,
      "outputs": [
        {
          "output_type": "stream",
          "name": "stdout",
          "text": [
            "-1\n",
            "3\n"
          ]
        }
      ]
    },
    {
      "cell_type": "markdown",
      "source": [
        "# Search in a Sorted Rotated Array\n",
        "\n",
        "I/P : arr[] = {10, 20, 30, 40, 50, 8, 9} ; x = 30\n",
        "\n",
        "O/P : 2\n",
        "\n",
        "I/P : arr[] = {100, 200, 300, 10, 20} ; x = 40\n",
        "\n",
        "O/P : -1"
      ],
      "metadata": {
        "id": "Zjj_qibDiNL5"
      }
    },
    {
      "cell_type": "code",
      "source": [
        "# Naive Solution\n",
        "\n",
        "def search(arr, n, x):\n",
        "  for i in range(n):\n",
        "    if arr[i] == x:\n",
        "      return i\n",
        "\n",
        "  return -1\n",
        "\n",
        "arr = [10, 20, 30, 40, 50, 8, 9]\n",
        "n = len(arr)\n",
        "x = 30\n",
        "\n",
        "search(arr, n, x)\n",
        "\n",
        "# Time Complexity : O(n)\n",
        "# Auxiliary Space : O(1)"
      ],
      "metadata": {
        "colab": {
          "base_uri": "https://localhost:8080/"
        },
        "id": "pp6ZHqMUiLN7",
        "outputId": "f9f05d57-2dd3-4e2d-9c1a-b04de38689d6"
      },
      "execution_count": null,
      "outputs": [
        {
          "output_type": "execute_result",
          "data": {
            "text/plain": [
              "2"
            ]
          },
          "metadata": {},
          "execution_count": 3
        }
      ]
    },
    {
      "cell_type": "code",
      "source": [
        "# Efficient Solution\n",
        "\n",
        "def search(arr, n, x):\n",
        "  low = 0\n",
        "  high = n -1\n",
        "\n",
        "  while low <= high:\n",
        "    mid = (low + high) // 2\n",
        "\n",
        "    if arr[mid] == x:\n",
        "      return mid\n",
        "\n",
        "    if arr[low] < arr[mid]:\n",
        "\n",
        "      if arr[low] <= x and x < arr[mid]:\n",
        "        high = mid - 1\n",
        "      else:\n",
        "        low = mid + 1\n",
        "\n",
        "    else:\n",
        "\n",
        "      if arr[mid] < x and x <= arr[high]:\n",
        "        low = mid + 1\n",
        "      else:\n",
        "        high = mid - 1\n",
        "\n",
        "  return - 1\n",
        "\n",
        "arr = [10, 20, 30, 40, 50, 8, 9]\n",
        "n = len(arr)\n",
        "x = 8\n",
        "search(arr, n, x)\n",
        "\n",
        "# Time Complexity : O(logn)\n",
        "# Auxiliary Space : O(1)"
      ],
      "metadata": {
        "colab": {
          "base_uri": "https://localhost:8080/"
        },
        "id": "Srz97HtxiPpZ",
        "outputId": "917dc758-9c26-4d52-c017-d907229be435"
      },
      "execution_count": null,
      "outputs": [
        {
          "output_type": "execute_result",
          "data": {
            "text/plain": [
              "5"
            ]
          },
          "metadata": {},
          "execution_count": 4
        }
      ]
    },
    {
      "cell_type": "markdown",
      "source": [
        "# Find a Peak Element : Not Smaller than Neighbour\n",
        "\n",
        "I/P : arr[] = {5, 10, 20, 15, 7}\n",
        "\n",
        "O/P : 20\n",
        "\n",
        "I/P : arr[] = {10, 20, 15, 5, 23, 90, 67}\n",
        "\n",
        "O/P : 20 or 90"
      ],
      "metadata": {
        "id": "wuvliou8jXki"
      }
    },
    {
      "cell_type": "code",
      "source": [
        "# Naive Solution\n",
        "\n",
        "def getPeak(arr, n):\n",
        "  if n == 1:\n",
        "    return arr[0]\n",
        "\n",
        "  if arr[0] >= arr[1]:\n",
        "    return arr[0]\n",
        "\n",
        "  if arr[n-1] >= arr[n-2]:\n",
        "    return arr[n-1]\n",
        "\n",
        "  for i in range(1, n - 1):\n",
        "    if arr[i] >= arr[i-1] and arr[i] >= arr[i+1]:\n",
        "      return arr[i]\n",
        "\n",
        "arr = [10, 20, 15, 5, 23, 90, 67]\n",
        "n = len(arr)\n",
        "getPeak(arr, n)\n",
        "\n",
        "# Time Complexity : O(n)\n",
        "# Auxiliary Space : O(1)"
      ],
      "metadata": {
        "colab": {
          "base_uri": "https://localhost:8080/"
        },
        "id": "eNcqFFfriSal",
        "outputId": "4d3330b8-f5e4-4138-d661-4a65209f917e"
      },
      "execution_count": null,
      "outputs": [
        {
          "output_type": "execute_result",
          "data": {
            "text/plain": [
              "20"
            ]
          },
          "metadata": {},
          "execution_count": 5
        }
      ]
    },
    {
      "cell_type": "code",
      "source": [
        "# Efficient Solution\n",
        "\n",
        "def getPeak(arr, n):\n",
        "  low = 0\n",
        "  high = n - 1\n",
        "\n",
        "  while low <= high:\n",
        "\n",
        "    mid = (low + high)//2\n",
        "\n",
        "    if ((mid == 0 or arr[mid-1] <= arr[mid]) and (mid == n-1 or arr[mid+1] <= arr[mid])):\n",
        "      return arr[mid]\n",
        "\n",
        "    elif mid > 0 and arr[mid-1] >= arr[mid]:\n",
        "      high = mid - 1\n",
        "\n",
        "    else:\n",
        "\n",
        "      low = mid + 1\n",
        "\n",
        "arr = [10, 20, 15, 5, 23, 90, 67]\n",
        "n = len(arr)\n",
        "getPeak(arr, n)\n",
        "\n",
        "# Time Complexity : O(logx)\n",
        "# Auxiliary Space : O(1)"
      ],
      "metadata": {
        "colab": {
          "base_uri": "https://localhost:8080/"
        },
        "id": "2CC-qmMAkRor",
        "outputId": "339732e9-d881-4f41-b6c8-beb53a049a69"
      },
      "execution_count": null,
      "outputs": [
        {
          "output_type": "execute_result",
          "data": {
            "text/plain": [
              "20"
            ]
          },
          "metadata": {},
          "execution_count": 8
        }
      ]
    },
    {
      "cell_type": "markdown",
      "source": [
        "# Two Pointer Approach\n",
        "\n",
        "Example : Find if there is a pair with sum in sorted array\n",
        "\n",
        "I/P : arr[] = [2, 5, 8, 12, 30] ; x = 17\n",
        "\n",
        "O/P : True\n",
        "\n",
        "I/P : arr[] = [3, 8, 13, 18] ; x = 14\n",
        "\n",
        "O/P : False"
      ],
      "metadata": {
        "id": "J3O73UVCnZDu"
      }
    },
    {
      "cell_type": "code",
      "source": [
        "# Naive Solution\n",
        "\n",
        "def isPair(arr, x):\n",
        "  n = len(arr)\n",
        "\n",
        "  for i in range(n-1):\n",
        "    for j in range(i+1, n):\n",
        "      if arr[i] + arr[j] == x:\n",
        "        return True\n",
        "\n",
        "  return False\n",
        "\n",
        "arr =  [2, 5, 8, 12, 30]\n",
        "x = 17\n",
        "isPair(arr, x)\n",
        "\n",
        "# Time Complexity : O(n^2)\n",
        "# Auxiliary Space : O(1)"
      ],
      "metadata": {
        "colab": {
          "base_uri": "https://localhost:8080/"
        },
        "id": "Yl8GjoLEk8ZN",
        "outputId": "054f09dc-f2af-4aa3-f225-76528324581c"
      },
      "execution_count": null,
      "outputs": [
        {
          "output_type": "execute_result",
          "data": {
            "text/plain": [
              "True"
            ]
          },
          "metadata": {},
          "execution_count": 10
        }
      ]
    },
    {
      "cell_type": "code",
      "source": [
        "# Idea for Efficient Solution\n",
        "\n",
        "def isPair(arr, x):\n",
        "  i = 0\n",
        "  j = len(arr) - 1\n",
        "\n",
        "  while i < j:\n",
        "    if arr[i] + arr[j] == x:\n",
        "      return True\n",
        "\n",
        "    elif arr[i] + arr[j] < x:\n",
        "      i = i + 1\n",
        "\n",
        "    else:\n",
        "\n",
        "      j = j - 1\n",
        "\n",
        "  return False\n",
        "\n",
        "arr =  [2, 5, 8, 12, 30]\n",
        "x = 17\n",
        "isPair(arr, x)\n",
        "\n",
        "# Time Complexity : O(n)\n",
        "# Auxiliary Space : O(1)"
      ],
      "metadata": {
        "colab": {
          "base_uri": "https://localhost:8080/"
        },
        "id": "A__quc6uoJT5",
        "outputId": "bcb7a6f6-5b51-429a-df91-d2a6414e1584"
      },
      "execution_count": null,
      "outputs": [
        {
          "output_type": "execute_result",
          "data": {
            "text/plain": [
              "True"
            ]
          },
          "metadata": {},
          "execution_count": 11
        }
      ]
    },
    {
      "cell_type": "markdown",
      "source": [
        "# Triplet in a Sorted Array\n",
        "\n",
        "I/P : arr[] = [2, 3, 4, 8, 9, 20, 40] ; x = 32\n",
        "\n",
        "O/P : True\n",
        "\n",
        "I/P : arr[] = [1, 2, 5, 6] ; x = 14\n",
        "\n",
        "O/P : False"
      ],
      "metadata": {
        "id": "VOiNpSQ1o52t"
      }
    },
    {
      "cell_type": "code",
      "source": [
        "# Naive Solution\n",
        "\n",
        "def isTriplet(arr, x):\n",
        "  n = len(arr)\n",
        "\n",
        "  for i in range(n):\n",
        "    for j in range(i+1, n):\n",
        "      for k in range(j+1, n):\n",
        "        if arr[i] + arr[j] + arr[k] == x:\n",
        "          return True\n",
        "\n",
        "  return False\n",
        "\n",
        "arr = [2, 3, 4, 8, 9, 20, 40]\n",
        "x = 9\n",
        "isTriplet(arr, x)\n",
        "\n",
        "# Time Complexity : O(n^3)\n",
        "# Auxiliary Space : O(1)"
      ],
      "metadata": {
        "colab": {
          "base_uri": "https://localhost:8080/"
        },
        "id": "RVQu87bSopgz",
        "outputId": "b95d2731-a522-46b1-d86a-be81523bc650"
      },
      "execution_count": null,
      "outputs": [
        {
          "output_type": "execute_result",
          "data": {
            "text/plain": [
              "True"
            ]
          },
          "metadata": {},
          "execution_count": 15
        }
      ]
    },
    {
      "cell_type": "code",
      "source": [
        "# Efficient Solution\n",
        "'''\n",
        "1. Traverse the array from left to right\n",
        "2. For Every element arr[i], check if there is a pair on right side with sum(x-arr[i])\n",
        "'''\n",
        "\n",
        "def isPair(arr, x, si):\n",
        "  i = si\n",
        "  j = len(arr) - 1\n",
        "\n",
        "  while i < j:\n",
        "    if arr[i] + arr[j] == x:\n",
        "      return True\n",
        "\n",
        "    elif arr[i] + arr[j] < x:\n",
        "      i = i + 1\n",
        "\n",
        "    else:\n",
        "      j = j - 1\n",
        "\n",
        "  return False\n",
        "\n",
        "def isTriplet(arr, x):\n",
        "  for i in range(len(arr) - 2):\n",
        "    if isPair(arr, x-arr[i], i+1):\n",
        "      return True\n",
        "  return False\n",
        "\n",
        "arr = [2, 3, 4, 8, 9, 20, 40]\n",
        "x = 9\n",
        "isTriplet(arr, x)\n",
        "\n",
        "# Time Complexity : O(n^2)\n",
        "# Auxiliary Space : O(1)"
      ],
      "metadata": {
        "colab": {
          "base_uri": "https://localhost:8080/"
        },
        "id": "6uvSUl-Qpdet",
        "outputId": "9d173cc6-13e0-493b-e3a2-b343afad472b"
      },
      "execution_count": null,
      "outputs": [
        {
          "output_type": "execute_result",
          "data": {
            "text/plain": [
              "True"
            ]
          },
          "metadata": {},
          "execution_count": 17
        }
      ]
    },
    {
      "cell_type": "markdown",
      "source": [
        "# Median of Two Sorted Arrays\n",
        "\n",
        "I/P : arr1[] = {10, 20, 30, 40, 50} ; arr2 = {5, 15, 25, 35, 45}\n",
        "\n",
        "O/P : 27.5\n",
        "\n",
        "I/P : arr1[] = {1, 2, 3} ; arr2[] = {4, 5, 6}\n",
        "\n",
        "O/P : 3.5"
      ],
      "metadata": {
        "id": "4mLNDMw1rL3A"
      }
    },
    {
      "cell_type": "code",
      "source": [
        "# Naive Solution\n",
        "\n",
        "def findMedianSortedArrays(A1, A2):\n",
        "    # Step 1: Merge the two sorted arrays\n",
        "    merged = []\n",
        "    i, j = 0, 0\n",
        "    m, n = len(A1), len(A2)\n",
        "\n",
        "    while i < m and j < n:\n",
        "        if A1[i] <= A2[j]:\n",
        "            merged.append(A1[i])\n",
        "            i += 1\n",
        "        else:\n",
        "            merged.append(A2[j])\n",
        "            j += 1\n",
        "\n",
        "    # Append any remaining elements\n",
        "    while i < m:\n",
        "        merged.append(A1[i])\n",
        "        i += 1\n",
        "\n",
        "    while j < n:\n",
        "        merged.append(A2[j])\n",
        "        j += 1\n",
        "\n",
        "    # Step 2: Find the median\n",
        "    total_length = len(merged)\n",
        "    mid = total_length // 2\n",
        "\n",
        "    if total_length % 2 == 1:\n",
        "        # Odd length: return the middle element\n",
        "        return merged[mid]\n",
        "    else:\n",
        "        # Even length: return the average of the two middle elements\n",
        "        return (merged[mid - 1] + merged[mid]) / 2\n",
        "\n",
        "# Example usage\n",
        "A1 = [1, 3, 5]\n",
        "A2 = [2, 4, 6, 8, 10]\n",
        "print(findMedianSortedArrays(A1, A2))  # Output: 4.0\n",
        "\n",
        "# Time Complexity : O((n1 + n2) * log(n1 + n2))"
      ],
      "metadata": {
        "colab": {
          "base_uri": "https://localhost:8080/"
        },
        "id": "9fBe9ATkq_tB",
        "outputId": "404dc8e8-ee5d-434f-ffbd-cdedcaa4e9d3"
      },
      "execution_count": null,
      "outputs": [
        {
          "output_type": "stream",
          "name": "stdout",
          "text": [
            "4.5\n"
          ]
        }
      ]
    },
    {
      "cell_type": "code",
      "source": [
        "# Efficient Solution\n",
        "\n",
        "def getMed(a1, a2):\n",
        "  n1, n2 = len(a1), len(a2)\n",
        "  b1, e1 = 0, n1\n",
        "\n",
        "  while b1 <= e1:\n",
        "    i1 = (b1 + e1) // 2\n",
        "    i2 = (n1 + n2 + 1) // 2 - i1\n",
        "\n",
        "    mnr1 = float(\"inf\") if i1 == n1 else a1[i1]\n",
        "    mxl1 = float(\"inf\") if i1 == 0 else a1[i1-1]\n",
        "\n",
        "    mnr2 = a2[i2]\n",
        "    mxl2 = a2[i2-1]\n",
        "\n",
        "    if mxl1 <= mnr2 and mxl2 <= mnr1:\n",
        "\n",
        "      if (n1 + n2) % 2 == 0:\n",
        "        return (max(mxl1, mxl2) + min(mnr1, mnr2)) / 2\n",
        "      else:\n",
        "        return max(mxl1, mxl2)\n",
        "\n",
        "    elif mxl1 > mnr2:\n",
        "      e1 = i1 - 1\n",
        "\n",
        "    else:\n",
        "      b1 = i1 + 1\n",
        "\n",
        "A1 = [1, 3, 5]\n",
        "A2 = [2, 4, 6, 8, 10]\n",
        "print(getMed(A1, A2))\n",
        "\n",
        "\n",
        "# Time Complexity : O(logn)"
      ],
      "metadata": {
        "colab": {
          "base_uri": "https://localhost:8080/"
        },
        "id": "LnJ9T1-ssNkt",
        "outputId": "76267dd9-2c20-4b7b-e7b2-eee003fd453d"
      },
      "execution_count": null,
      "outputs": [
        {
          "output_type": "stream",
          "name": "stdout",
          "text": [
            "4.5\n"
          ]
        }
      ]
    },
    {
      "cell_type": "markdown",
      "source": [
        "# Repeating Element\n",
        "\n",
        "-> Array Size, n >= 2\n",
        "\n",
        "-> Only one element Repeats (Any number of Times)\n",
        "\n",
        "-> All the Elements from o to max(arr) are present\n",
        "\n",
        "Therefore 0 <= max(arr) <= n-2\n",
        "\n",
        "-------------\n",
        "\n",
        "I/P : arr[] = {0, 2, 1, 3, 2, 2}\n",
        "\n",
        "O/P : 2\n",
        "\n",
        "-------------\n",
        "\n",
        "-> O(n) Time\n",
        "\n",
        "-> O(1) Aux Space\n",
        "\n",
        "-> No Modifications to Original Array"
      ],
      "metadata": {
        "id": "t4vkidZYwO1F"
      }
    },
    {
      "cell_type": "code",
      "source": [
        "# Naive Solution : Sort the Array\n",
        "\n",
        "arr = [0, 1, 2, 2, 2, 3, 2, 4, 6, 6, 6]\n",
        "\n",
        "arr = sorted(arr)\n",
        "print(arr)\n",
        "n = len(arr)\n",
        "\n",
        "for i in range(0, n-2):\n",
        "  if arr[i] == arr[i+1]:\n",
        "    print(arr[i])\n",
        "\n",
        "# Time Complexity : O(nlogn)\n",
        "# Auxiliary Space : O(1)"
      ],
      "metadata": {
        "colab": {
          "base_uri": "https://localhost:8080/"
        },
        "id": "lHuYSitUtqZw",
        "outputId": "7d7f84a9-8856-41b8-e86b-279965cb7cb2"
      },
      "execution_count": 5,
      "outputs": [
        {
          "output_type": "stream",
          "name": "stdout",
          "text": [
            "[0, 1, 2, 2, 2, 2, 3, 4, 6, 6, 6]\n",
            "2\n",
            "2\n",
            "2\n",
            "6\n"
          ]
        }
      ]
    },
    {
      "cell_type": "code",
      "source": [
        "# Super Naive\n",
        "\n",
        "arr = [0, 1, 2, 2, 2, 3, 2, 4, 6, 6, 6]\n",
        "\n",
        "seen = set()\n",
        "duplicates = set()\n",
        "\n",
        "for num in arr:\n",
        "    if num in seen:\n",
        "        duplicates.add(num)\n",
        "    else:\n",
        "        seen.add(num)\n",
        "\n",
        "print(duplicates)\n",
        "\n",
        "# Time Complexity : O(n)\n",
        "# Auxiliary Space : O(1)"
      ],
      "metadata": {
        "colab": {
          "base_uri": "https://localhost:8080/"
        },
        "id": "PRi5izxaxjIo",
        "outputId": "ea35601b-575e-45ad-cb3b-0382b5d340a5"
      },
      "execution_count": 6,
      "outputs": [
        {
          "output_type": "stream",
          "name": "stdout",
          "text": [
            "{2, 6}\n"
          ]
        }
      ]
    },
    {
      "cell_type": "code",
      "source": [
        "# Efficient Solution\n",
        "\n",
        "def repeat(arr, n):\n",
        "  visit = [False] * n\n",
        "  for i in range(n):\n",
        "    if visit[arr[i]]:\n",
        "      return arr[i]\n",
        "    visit[arr[i]] = True\n",
        "\n",
        "  return -1\n",
        "\n",
        "arr = [0, 1, 2, 2, 2, 3, 2, 4, 6, 6, 6]\n",
        "n = len(arr)\n",
        "\n",
        "repeat(arr, n)\n",
        "\n",
        "# Time Complexity : O(n)\n",
        "# Auxiliary Space : O(n)"
      ],
      "metadata": {
        "id": "_LNR9WqOyE86",
        "colab": {
          "base_uri": "https://localhost:8080/"
        },
        "outputId": "a9ab5f62-73c2-4dca-d2d4-3fb677dc06c8"
      },
      "execution_count": 8,
      "outputs": [
        {
          "output_type": "execute_result",
          "data": {
            "text/plain": [
              "2"
            ]
          },
          "metadata": {},
          "execution_count": 8
        }
      ]
    },
    {
      "cell_type": "markdown",
      "source": [
        "# Repeating Element O(n) Time, O(1) Space and No Changes to array\n",
        "\n",
        "I/P : arr[] = {1, 3, 2, 4, 3, 3}\n",
        "\n",
        "O/P : 3\n",
        "\n",
        "I/P : arr[] = {1, 1}\n",
        "\n",
        "O/P : 1"
      ],
      "metadata": {
        "id": "BfMwH8g4yv_q"
      }
    },
    {
      "cell_type": "code",
      "source": [
        "# Method\n",
        "\n",
        "def repeat1(arr, n):\n",
        "    slow = arr[0]\n",
        "    fast = arr[0]\n",
        "\n",
        "    slow = arr[slow]\n",
        "    fast = arr[arr[fast]]\n",
        "\n",
        "    while slow != fast:\n",
        "        slow = arr[slow]\n",
        "        fast = arr[arr[fast]]\n",
        "\n",
        "    slow = arr[0]\n",
        "\n",
        "    while slow != fast:\n",
        "        slow = arr[slow]\n",
        "        fast = arr[fast]\n",
        "\n",
        "    return slow\n",
        "\n",
        "arr = [1, 3, 4, 2, 2]\n",
        "n = len(arr) - 1\n",
        "\n",
        "print(repeat1(arr, n))\n",
        "\n",
        "# Time Complexity: O(n)\n",
        "# Space Complexity: O(1)"
      ],
      "metadata": {
        "id": "hCC6rm9wyk9c",
        "colab": {
          "base_uri": "https://localhost:8080/"
        },
        "outputId": "08c9580c-bd84-437c-af9f-4876c9d8ec21"
      },
      "execution_count": 14,
      "outputs": [
        {
          "output_type": "stream",
          "name": "stdout",
          "text": [
            "2\n"
          ]
        }
      ]
    },
    {
      "cell_type": "markdown",
      "source": [
        "# Allocate Minimum No.of Pages\n",
        "\n",
        "I/P : arr[] = {10, 20, 30, 40} ; k = 2\n",
        "\n",
        "O/P : 60\n",
        "\n",
        "I/P : arr[] = {10, 20, 30} ; k = 1\n",
        "\n",
        "O/P : 60\n",
        "\n",
        "\n",
        "-> Minimize the maximum pages allocated\n",
        "\n",
        "-> Only contiguous pages can be allocated"
      ],
      "metadata": {
        "id": "LiE286w-0Hik"
      }
    },
    {
      "cell_type": "code",
      "source": [
        "# Naive Recursive Solution\n",
        "\n",
        "'''\n",
        "x0 | x1 | x2 | ....... | xi - 1 | xi | ....... | xn-1\n",
        "\n",
        "we need to choose (k-1) cuts out of (n-1) cuts shown above\n",
        "\n",
        "\n",
        "              n-1\n",
        "Total Ways :     C\n",
        "                  k-1\n",
        "\n",
        "Ex: [10, 20, 30, 40] ; k = 2\n",
        "\n",
        "We need to choose 1 cut out of 3 cuts\n",
        "'''\n",
        "\n",
        "def minPages(arr, n, k):\n",
        "  if k == 1:\n",
        "    return sum(arr[0:n])\n",
        "\n",
        "  if n == 1:\n",
        "    return arr[0]\n",
        "\n",
        "  res = float('inf')\n",
        "\n",
        "  for i in range(1, n):\n",
        "    res = min(res, max(minPages(arr, i, k-1), sum(arr[i : n])))\n",
        "\n",
        "  return res\n",
        "\n",
        "arr = [10, 20, 30, 40]\n",
        "k = 2\n",
        "n = len(arr)\n",
        "\n",
        "minPages(arr, n, k)"
      ],
      "metadata": {
        "id": "yFIaQRvq0HVv",
        "colab": {
          "base_uri": "https://localhost:8080/"
        },
        "outputId": "82cc5f49-8394-4895-fc79-8be7dc75194e"
      },
      "execution_count": 18,
      "outputs": [
        {
          "output_type": "execute_result",
          "data": {
            "text/plain": [
              "60"
            ]
          },
          "metadata": {},
          "execution_count": 18
        }
      ]
    },
    {
      "cell_type": "code",
      "source": [
        "# Efficient Solution\n",
        "\n",
        "def minPages(arr, k):\n",
        "  n = len(arr)\n",
        "  s = sum(arr)\n",
        "  mx = max(arr)\n",
        "\n",
        "  low, high = mx, s\n",
        "  res = 0\n",
        "\n",
        "  while low <= high:\n",
        "    mid = (low + high) // 2\n",
        "\n",
        "    if isFeasible(arr, k, mid):\n",
        "      res = mid\n",
        "      high = mid - 1\n",
        "    else:\n",
        "      low = mid + 1\n",
        "\n",
        "  return res\n",
        "\n",
        "def isFeasible(arr, k, ans):\n",
        "  req, s = 1, 0\n",
        "  for i in range(n):\n",
        "    if s + arr[i] > ans:\n",
        "      req += 1\n",
        "      s = arr[i]\n",
        "    else:\n",
        "      s += arr[i]\n",
        "\n",
        "  return req <= k\n",
        "\n",
        "arr = [10, 20, 30, 40]\n",
        "k = 2\n",
        "n = len(arr)\n",
        "\n",
        "minPages(arr, k)\n",
        "\n",
        "# Time Complexity : O(n * log(sum - max))"
      ],
      "metadata": {
        "id": "RarCVLfo3A39",
        "colab": {
          "base_uri": "https://localhost:8080/"
        },
        "outputId": "7b1778d7-4ff2-4729-ed29-bb6cbd7286f9"
      },
      "execution_count": 21,
      "outputs": [
        {
          "output_type": "execute_result",
          "data": {
            "text/plain": [
              "60"
            ]
          },
          "metadata": {},
          "execution_count": 21
        }
      ]
    },
    {
      "cell_type": "code",
      "source": [],
      "metadata": {
        "id": "1Mh759FceiBg"
      },
      "execution_count": null,
      "outputs": []
    }
  ]
}