{
  "nbformat": 4,
  "nbformat_minor": 0,
  "metadata": {
    "colab": {
      "provenance": [],
      "authorship_tag": "ABX9TyOVLMFJAZWb2JssfyUkyUY8",
      "include_colab_link": true
    },
    "kernelspec": {
      "name": "python3",
      "display_name": "Python 3"
    },
    "language_info": {
      "name": "python"
    }
  },
  "cells": [
    {
      "cell_type": "markdown",
      "metadata": {
        "id": "view-in-github",
        "colab_type": "text"
      },
      "source": [
        "<a href=\"https://colab.research.google.com/github/Thrishankkuntimaddi/Data-Structures-and-Algorithms-Advanced-/blob/main/5%20-%20Matrix.ipynb\" target=\"_parent\"><img src=\"https://colab.research.google.com/assets/colab-badge.svg\" alt=\"Open In Colab\"/></a>"
      ]
    },
    {
      "cell_type": "markdown",
      "source": [
        "# Multidimensional Arrays\n",
        "\n",
        "-> A 2D array is simple a list of lists in python"
      ],
      "metadata": {
        "id": "7D24zNbQ358p"
      }
    },
    {
      "cell_type": "code",
      "execution_count": null,
      "metadata": {
        "colab": {
          "base_uri": "https://localhost:8080/"
        },
        "id": "0EC9dg3-33WX",
        "outputId": "7860c9b6-c2b4-44de-de77-ea06d9f6a530"
      },
      "outputs": [
        {
          "output_type": "stream",
          "name": "stdout",
          "text": [
            "1 2 3 \n",
            "4 5 6 \n",
            "No.of Rows :  2\n",
            "Count in First Row :  3\n",
            "Count in Second Row :  3\n"
          ]
        }
      ],
      "source": [
        "arr = [[1,2,3],[4,5,6]]\n",
        "\n",
        "for r in arr:\n",
        "  for x in r:\n",
        "    print(x, end=\" \")\n",
        "  print()\n",
        "\n",
        "print(\"No.of Rows : \", len(arr))\n",
        "print(\"Count in First Row : \", len(arr[0]))\n",
        "print(\"Count in Second Row : \", len(arr[1]))"
      ]
    },
    {
      "cell_type": "code",
      "source": [
        "for i in range(len(arr)):\n",
        "  for j in range(len(arr[i])):\n",
        "    print(arr[i][j], end = \" \")\n",
        "  print()"
      ],
      "metadata": {
        "colab": {
          "base_uri": "https://localhost:8080/"
        },
        "id": "8ELsYbuM4h4s",
        "outputId": "1c131861-d751-43e2-a6f1-25229d5e35d4"
      },
      "execution_count": null,
      "outputs": [
        {
          "output_type": "stream",
          "name": "stdout",
          "text": [
            "1 2 3 \n",
            "4 5 6 \n"
          ]
        }
      ]
    },
    {
      "cell_type": "markdown",
      "source": [
        "# User Specified Dimensions"
      ],
      "metadata": {
        "id": "BqFkcT6P5jpP"
      }
    },
    {
      "cell_type": "code",
      "source": [
        "rows = 3\n",
        "cols = 4\n",
        "arr = [[0] * cols] * rows\n",
        "arr[0][0] = 1\n",
        "\n",
        "for r in arr:\n",
        "  print(r)\n",
        "print()\n",
        "\n",
        "arr = [[0 for i in range(cols)] for j in range(rows)]\n",
        "\n",
        "arr[0][0] = 1\n",
        "\n",
        "for r in arr:\n",
        "  print(r)"
      ],
      "metadata": {
        "colab": {
          "base_uri": "https://localhost:8080/"
        },
        "id": "WN-ErbPK5cjM",
        "outputId": "59740b13-52a3-4843-ccc7-7908945198b8"
      },
      "execution_count": null,
      "outputs": [
        {
          "output_type": "stream",
          "name": "stdout",
          "text": [
            "[1, 0, 0, 0]\n",
            "[1, 0, 0, 0]\n",
            "[1, 0, 0, 0]\n",
            "\n",
            "[1, 0, 0, 0]\n",
            "[0, 0, 0, 0]\n",
            "[0, 0, 0, 0]\n"
          ]
        }
      ]
    },
    {
      "cell_type": "markdown",
      "source": [
        "# Passing a 2D Array as Argument"
      ],
      "metadata": {
        "id": "TCBlibLo6GmW"
      }
    },
    {
      "cell_type": "code",
      "source": [
        "def printMatrix(mat):\n",
        "  M = len(mat)\n",
        "  N = len(mat[0])\n",
        "\n",
        "  for i in range(M):\n",
        "    for j in range(N):\n",
        "      print(mat[i][j], end=\" \")\n",
        "\n",
        "mat = [[10, 20], [30, 40]]\n",
        "printMatrix(mat)"
      ],
      "metadata": {
        "colab": {
          "base_uri": "https://localhost:8080/"
        },
        "id": "KDMjq5mA58JK",
        "outputId": "7ff0da8a-6c77-4f10-bd9a-56e95b860978"
      },
      "execution_count": null,
      "outputs": [
        {
          "output_type": "stream",
          "name": "stdout",
          "text": [
            "10 20 30 40 "
          ]
        }
      ]
    },
    {
      "cell_type": "markdown",
      "source": [
        "# Print a Matrix in Snake Pattern"
      ],
      "metadata": {
        "id": "SIW-yS416gvU"
      }
    },
    {
      "cell_type": "code",
      "source": [
        "def printMatrix(mat):\n",
        "  M = len(mat)\n",
        "  N = len(mat[0])\n",
        "\n",
        "  for i in range(M):\n",
        "    if i%2 == 0:\n",
        "      for j in range(N):\n",
        "        print(mat[i][j], end = \" \")\n",
        "\n",
        "    else:\n",
        "      for j in range(N-1, -1, -1):\n",
        "        print(mat[i][j], end = \" \")\n",
        "\n",
        "printMatrix([[1, 2, 3],\n",
        "             [4, 5, 6],\n",
        "             [7, 8, 9]])\n",
        "\n",
        "# Time Complexity : Theta(M*N)\n",
        "# Auxiliary Space : O(1)"
      ],
      "metadata": {
        "id": "Z3tbPJ9y6eYw",
        "colab": {
          "base_uri": "https://localhost:8080/"
        },
        "outputId": "7b10162c-e8d9-4335-b4d0-3c2bc260cda7"
      },
      "execution_count": 2,
      "outputs": [
        {
          "output_type": "stream",
          "name": "stdout",
          "text": [
            "1 2 3 6 5 4 7 8 9 "
          ]
        }
      ]
    },
    {
      "cell_type": "markdown",
      "source": [
        "# Matrix Boundary Traversal"
      ],
      "metadata": {
        "id": "K8VdYgQq7UQt"
      }
    },
    {
      "cell_type": "code",
      "source": [
        "def bTraversal(mat):\n",
        "  R = len(mat)\n",
        "  C = len(mat[0])\n",
        "\n",
        "  if R == 1:\n",
        "    for i in range(C):\n",
        "      print(mat[0[i]], end = \" \")\n",
        "\n",
        "  elif C == 1:\n",
        "    for i in range(R):\n",
        "      print(mat[i][0], end = \" \")\n",
        "\n",
        "  else:\n",
        "    for i in range(C):\n",
        "      print(mat[0][i], end = \" \")\n",
        "\n",
        "    for i in range(1, R):\n",
        "      print(mat[i][C-1], end = \" \")\n",
        "\n",
        "    for i in range(C-2, -1, -1):\n",
        "      print(mat[R-1][i], end = \" \")\n",
        "\n",
        "    for i in range(R-2, 0, -1):\n",
        "      print(mat[i][0], end = \" \")\n",
        "\n",
        "bTraversal([[1, 2, 3],\n",
        "            [4, 5, 6],\n",
        "            [7, 8, 9]])\n",
        "\n",
        "print()\n",
        "\n",
        "bTraversal([[1], [2], [3]])\n",
        "\n",
        "# Time Complexity : Theta(R+C)"
      ],
      "metadata": {
        "colab": {
          "base_uri": "https://localhost:8080/"
        },
        "id": "nw4xM8F5mRfR",
        "outputId": "44f065c9-a4d8-4f8a-bfc2-e5ffa3d0d5ed"
      },
      "execution_count": 5,
      "outputs": [
        {
          "output_type": "stream",
          "name": "stdout",
          "text": [
            "1 2 3 6 9 8 7 4 \n",
            "1 2 3 "
          ]
        },
        {
          "output_type": "stream",
          "name": "stderr",
          "text": [
            "<>:7: SyntaxWarning: 'int' object is not subscriptable; perhaps you missed a comma?\n",
            "<>:7: SyntaxWarning: 'int' object is not subscriptable; perhaps you missed a comma?\n",
            "<ipython-input-5-2428d3808bc1>:7: SyntaxWarning: 'int' object is not subscriptable; perhaps you missed a comma?\n",
            "  print(mat[0[i]], end = \" \")\n"
          ]
        }
      ]
    },
    {
      "cell_type": "markdown",
      "source": [
        "# Transpose of a Matrix (Rows to Columns and Columns to Rows)\n",
        "\n",
        "I/P :\n",
        "\n",
        "    1   2   3   4\n",
        "    5   6   7   8\n",
        "    9   10  11  12\n",
        "    13  14  15  16\n",
        "\n",
        "O/P :\n",
        "\n",
        "    1   5   9   13\n",
        "    2   6   10  14\n",
        "    3   7   11  15\n",
        "    4   8   12  16\n",
        ""
      ],
      "metadata": {
        "id": "e8Yt-Hspq4vD"
      }
    },
    {
      "cell_type": "code",
      "source": [
        "# Naive Solution\n",
        "\n",
        "def transpose(mat):\n",
        "  N = len(mat)\n",
        "  temp = [[0]*N for i in range(N)]\n",
        "\n",
        "  for i in range(N):\n",
        "    for j in range(N):\n",
        "      temp[i][j] = mat[j][i]\n",
        "\n",
        "  for i in range(N):\n",
        "    for j in range(N):\n",
        "      mat[i][j] = temp[i][j]\n",
        "\n",
        "mat = [[1, 2, 3, 4],\n",
        "       [5, 6, 7, 8],\n",
        "       [9, 10, 11, 12],\n",
        "       [13, 14, 15, 16]]\n",
        "\n",
        "transpose(mat)\n",
        "\n",
        "print(mat)\n",
        "\n",
        "# Time Complexity : O(n^2)"
      ],
      "metadata": {
        "colab": {
          "base_uri": "https://localhost:8080/"
        },
        "id": "CrzaOOfOnlr0",
        "outputId": "70ae4d9d-5fbe-48a4-a55d-0cf74efce505"
      },
      "execution_count": 6,
      "outputs": [
        {
          "output_type": "stream",
          "name": "stdout",
          "text": [
            "[[1, 5, 9, 13], [2, 6, 10, 14], [3, 7, 11, 15], [4, 8, 12, 16]]\n"
          ]
        }
      ]
    },
    {
      "cell_type": "code",
      "source": [
        "# Efficient Solution\n",
        "\n",
        "def transpose(mat):\n",
        "  N = len(mat)\n",
        "\n",
        "  for i in range(N):\n",
        "    for j in range(i+1, N):\n",
        "      if i != j:\n",
        "        mat[i][j], mat[j][i] = mat[j][i], mat[i][j]\n",
        "\n",
        "mat = [[1, 2, 3, 4],\n",
        "       [5, 6, 7, 8],\n",
        "       [9, 10, 11, 12],\n",
        "       [13, 14, 15, 16]]\n",
        "\n",
        "transpose(mat)\n",
        "\n",
        "print(mat)\n",
        "\n",
        "# -> In Place\n",
        "\n",
        "# -> One Traversal"
      ],
      "metadata": {
        "colab": {
          "base_uri": "https://localhost:8080/"
        },
        "id": "-o90OBwasbUx",
        "outputId": "ec903781-0ad2-4ca8-f3e1-ddb47015a987"
      },
      "execution_count": 7,
      "outputs": [
        {
          "output_type": "stream",
          "name": "stdout",
          "text": [
            "[[1, 5, 9, 13], [2, 6, 10, 14], [3, 7, 11, 15], [4, 8, 12, 16]]\n"
          ]
        }
      ]
    },
    {
      "cell_type": "markdown",
      "source": [
        "# Rotate a Matrix by 90 degree\n",
        "\n",
        "I/P :\n",
        "\n",
        "       [1, 2, 3, 4]\n",
        "       [5, 6, 7, 8]\n",
        "       [9, 10, 11, 12]\n",
        "       [13, 14, 15, 16]\n",
        "\n",
        "O/P :\n",
        "\n",
        "       [ 4, 8, 12, 16]\n",
        "       [ 3, 7, 11, 15]\n",
        "       [ 2, 6, 10, 14]\n",
        "       [ 1, 5, 9, 13]\n"
      ],
      "metadata": {
        "id": "77iBm3SxtOkP"
      }
    },
    {
      "cell_type": "code",
      "source": [
        "# Naive Solution\n",
        "'''\n",
        "-> Last Column becomes first row\n",
        "-> Second Last Column becomes second row\n",
        "'''\n",
        "\n",
        "def rotate(mat):\n",
        "  N = len(mat)\n",
        "  temp = [[0]*N for i in range(N)]\n",
        "\n",
        "  for i in range(N):\n",
        "    for j in range(N):\n",
        "      temp[N-j-1][i] = mat[i][j]\n",
        "\n",
        "  for i in range(N):\n",
        "    for j in range(N):\n",
        "      mat[i][j] = temp[i][j]\n",
        "\n",
        "mat = [[1, 2, 3, 4],\n",
        "       [5, 6, 7, 8],\n",
        "       [9, 10, 11, 12],\n",
        "       [13, 14, 15, 16]]\n",
        "\n",
        "rotate(mat)\n",
        "\n",
        "print(mat)\n",
        "\n",
        "# Time Complexity : O(n^2)\n",
        "# Auxiliary Space : O(n^2)"
      ],
      "metadata": {
        "colab": {
          "base_uri": "https://localhost:8080/"
        },
        "id": "T3bUcR9BtIU5",
        "outputId": "f9354fe9-69c6-42a6-d942-715546a328d7"
      },
      "execution_count": 8,
      "outputs": [
        {
          "output_type": "stream",
          "name": "stdout",
          "text": [
            "[[4, 8, 12, 16], [3, 7, 11, 15], [2, 6, 10, 14], [1, 5, 9, 13]]\n"
          ]
        }
      ]
    },
    {
      "cell_type": "code",
      "source": [
        "# Efficient Solution\n",
        "'''\n",
        "-> Find transpose of Matrix\n",
        "-> Reverse individual Columns\n",
        "'''\n",
        "\n",
        "def rotate(mat):\n",
        "  N = len(mat)\n",
        "\n",
        "  # Find transpose of Matrix\n",
        "  transpose(mat)\n",
        "\n",
        "  print(mat)\n",
        "\n",
        "  for j in range(N):\n",
        "    low = 0\n",
        "    high = N-1\n",
        "\n",
        "    while low < high:\n",
        "      mat[low][j], mat[high][j] = mat[high][j], mat[low][j]\n",
        "\n",
        "      low += 1\n",
        "      high -= 1\n",
        "\n",
        "mat = [[1, 2, 3, 4],\n",
        "       [5, 6, 7, 8],\n",
        "       [9, 10, 11, 12],\n",
        "       [13, 14, 15, 16]]\n",
        "\n",
        "rotate(mat)\n",
        "\n",
        "print(mat)\n",
        "\n",
        "# Time Complexity : Theta(n^2)\n",
        "# Auxiliary Space : Theta(1)"
      ],
      "metadata": {
        "colab": {
          "base_uri": "https://localhost:8080/"
        },
        "id": "_BDsIg5aufGy",
        "outputId": "bed6534f-e3c7-4b93-8686-83ec7df1dcc1"
      },
      "execution_count": 12,
      "outputs": [
        {
          "output_type": "stream",
          "name": "stdout",
          "text": [
            "[[1, 5, 9, 13], [2, 6, 10, 14], [3, 7, 11, 15], [4, 8, 12, 16]]\n",
            "[[4, 8, 12, 16], [3, 7, 11, 15], [2, 6, 10, 14], [1, 5, 9, 13]]\n"
          ]
        }
      ]
    },
    {
      "cell_type": "code",
      "source": [
        "# Super Efficient Solution\n",
        "'''\n",
        "-> Find transpose of Matrix\n",
        "-> Reverse individual Columns\n",
        "'''\n",
        "\n",
        "def rotate(mat):\n",
        "  N = len(mat)\n",
        "\n",
        "  # Find transpose of Matrix\n",
        "  transpose(mat)\n",
        "  # print(mat)\n",
        "\n",
        "  low = 0\n",
        "  high = N - 1\n",
        "\n",
        "  while low <= high:\n",
        "    mat[low], mat[high] = mat[high], mat[low]\n",
        "\n",
        "    low += 1\n",
        "    high -= 1\n",
        "\n",
        "mat = [[1, 2, 3, 4],\n",
        "       [5, 6, 7, 8],\n",
        "       [9, 10, 11, 12],\n",
        "       [13, 14, 15, 16]]\n",
        "\n",
        "rotate(mat)\n",
        "\n",
        "print(mat)\n",
        "\n",
        "# Time Complexity : Theta(n^2)\n",
        "# Auxiliary Space : Theta(1)"
      ],
      "metadata": {
        "colab": {
          "base_uri": "https://localhost:8080/"
        },
        "id": "eZd-EWTywiDk",
        "outputId": "7e315028-5959-40e7-eb6c-f32b904e74a8"
      },
      "execution_count": 14,
      "outputs": [
        {
          "output_type": "stream",
          "name": "stdout",
          "text": [
            "[[4, 8, 12, 16], [3, 7, 11, 15], [2, 6, 10, 14], [1, 5, 9, 13]]\n"
          ]
        }
      ]
    },
    {
      "cell_type": "markdown",
      "source": [
        "# Spiral Traversal of Matrix\n",
        "\n",
        "I/P :\n",
        "\n",
        "     1   2   3   4\n",
        "     5   6   7   8\n",
        "     9  10  11  12\n",
        "    13  14  15  16\n",
        "\n",
        "O/P : 1 -> 2 -> 3 -> 4 -> 8 -> 12 -> 16 -> 15 -> 14 -> 13 -> 9 -> 5 -> 6 -> 7 -> 11 -> 10"
      ],
      "metadata": {
        "id": "Hs35cnNdx5qK"
      }
    },
    {
      "cell_type": "code",
      "source": [
        "def printSpiral(mat):\n",
        "  R = len(mat)\n",
        "  C = len(mat[0])\n",
        "\n",
        "  top = 0\n",
        "  left = 0\n",
        "  bottom = R - 1\n",
        "  right = C - 1\n",
        "\n",
        "  while top <= bottom and left <= right:\n",
        "\n",
        "    for i in range(left, right + 1):\n",
        "      print(mat[top][i], end = \" \")\n",
        "    top += 1\n",
        "\n",
        "    for i in range(top, bottom - 1):\n",
        "      print(mat[i][right], end = \" \")\n",
        "    right -= 1\n",
        "\n",
        "    if top <= bottom:\n",
        "      for i in range(right, left-1, -1):\n",
        "        print(mat[bottom][i], end = \" \")\n",
        "      bottom -= 1\n",
        "\n",
        "    if left <= right:\n",
        "      for i in range(bottom, top-1, -1):\n",
        "        print(mat[i][left], end = \" \")\n",
        "      left += 1\n",
        "\n",
        "mat = [[1, 2, 3, 4],\n",
        "       [5, 6, 7, 8],\n",
        "       [9, 10, 11, 12],\n",
        "       [13, 14, 15, 16]]\n",
        "\n",
        "printSpiral(mat)\n",
        "\n",
        "# print(mat)\n",
        "\n",
        "# Time Complexity : Theta(n^2)\n",
        "# Auxiliary Space : O(1)"
      ],
      "metadata": {
        "colab": {
          "base_uri": "https://localhost:8080/"
        },
        "id": "UUxM3rRWxnFH",
        "outputId": "fb471f05-b847-4495-9dfa-3e4cb1d8aa5f"
      },
      "execution_count": 16,
      "outputs": [
        {
          "output_type": "stream",
          "name": "stdout",
          "text": [
            "1 2 3 4 8 15 14 13 9 5 6 7 10 "
          ]
        }
      ]
    },
    {
      "cell_type": "markdown",
      "source": [
        "# Search in a Row - wise and Column - wise Sorted Matrix\n",
        "\n",
        "I/P :  mat =\n",
        "\n",
        "      [1, 2, 3, 4],\n",
        "      [5, 6, 7, 8],\n",
        "      [9, 10, 11, 12],\n",
        "      [13, 14, 15, 16]\n",
        "\n",
        "      x = 11\n",
        "\n",
        "O/P : Found at (2, 2)"
      ],
      "metadata": {
        "id": "1igclZub2WP3"
      }
    },
    {
      "cell_type": "code",
      "source": [
        "# Naive Solution\n",
        "\n",
        "def search(mat, x):\n",
        "  R = len(mat)\n",
        "  C = len(mat[0])\n",
        "\n",
        "  for i in range(R):\n",
        "    for j in range(C):\n",
        "      if mat[i][j] == x:\n",
        "        print(f\"Found at ({i}, {j})\")\n",
        "        return\n",
        "  print(\"Not Found\")\n",
        "\n",
        "mat = [[1, 2, 3, 4],\n",
        "       [5, 6, 7, 8],\n",
        "       [9, 10, 11, 12],\n",
        "       [13, 14, 15, 16]]\n",
        "\n",
        "x = 11\n",
        "\n",
        "search(mat, x)\n",
        "\n",
        "# Time Complexity : O(R*C)"
      ],
      "metadata": {
        "colab": {
          "base_uri": "https://localhost:8080/"
        },
        "id": "zXfzalW00JRw",
        "outputId": "80ba70de-de41-46c6-b48e-8815bd09090d"
      },
      "execution_count": 17,
      "outputs": [
        {
          "output_type": "stream",
          "name": "stdout",
          "text": [
            "Found at (2, 2)\n"
          ]
        }
      ]
    },
    {
      "cell_type": "code",
      "source": [
        "# Efficient Solution\n",
        "'''\n",
        "-> Begin from the Top Right Corner\n",
        "-> If x is same, Print position and return\n",
        "-> If x is smaller, move left\n",
        "-> If x is greater, move Down\n",
        "'''\n",
        "\n",
        "def search(mat, x):\n",
        "  R = len(mat)\n",
        "  C = len(mat[0])\n",
        "\n",
        "  i = 0\n",
        "  j = C - 1\n",
        "\n",
        "  while i < R and j >= 0:\n",
        "    if mat[i][j] == x:\n",
        "      print(f\"Found at ({i}, {j})\")\n",
        "      return\n",
        "\n",
        "    elif mat[i][j] > x:\n",
        "      j -= 1\n",
        "\n",
        "    else:\n",
        "      i += 1\n",
        "\n",
        "  print(\"Not Found\")\n",
        "\n",
        "mat = [[1, 2, 3, 4],\n",
        "       [5, 6, 7, 8],\n",
        "       [9, 10, 11, 12],\n",
        "       [13, 14, 15, 16]]\n",
        "\n",
        "x = 11\n",
        "\n",
        "search(mat, x)\n",
        "\n",
        "# Time Complexity : O(R+C)"
      ],
      "metadata": {
        "colab": {
          "base_uri": "https://localhost:8080/"
        },
        "id": "NL3zdhc-3gK4",
        "outputId": "c1998043-658b-4b65-cc24-093614ac13e9"
      },
      "execution_count": 19,
      "outputs": [
        {
          "output_type": "stream",
          "name": "stdout",
          "text": [
            "Found at (2, 2)\n"
          ]
        }
      ]
    },
    {
      "cell_type": "markdown",
      "source": [
        "# Median of a Row - Wise sorted Matrix\n",
        "\n",
        "Assumptions :\n",
        "\n",
        "-> Odd Sized matrix\n",
        "\n",
        "-> All Distinct Elements\n",
        "\n",
        "I/P : mat =\n",
        "\n",
        "      [1, 2, 3, 4],\n",
        "      [5, 6, 7, 8],\n",
        "      [9, 10, 11, 12],\n",
        "      [13, 14, 15, 16]\n",
        "\n",
        "O/P : 20"
      ],
      "metadata": {
        "id": "FdIUF9CH8j4R"
      }
    },
    {
      "cell_type": "code",
      "source": [
        "# Naive Solution\n",
        "'''\n",
        "1. Put all elements in an array\n",
        "2. Sort the Array\n",
        "3. Return the Middle element of sorted array\n",
        "'''\n",
        "\n",
        "def median(mat):\n",
        "  N = len(mat)\n",
        "  temp = []\n",
        "\n",
        "  for i in range(N):\n",
        "    for j in range(N):\n",
        "      temp.append(mat[i][j])\n",
        "\n",
        "  temp = sorted(temp)\n",
        "  length = len(temp)\n",
        "\n",
        "  if length % 2 != 0:\n",
        "    return temp[length // 2]\n",
        "  else:\n",
        "    mid1 = temp[length // 2 - 1]\n",
        "    mid2 = temp[length // 2]\n",
        "    return (mid1 + mid2) // 2\n",
        "\n",
        "mat = [[1, 2, 3, 4],\n",
        "       [5, 6, 7, 8],\n",
        "       [9, 10, 11, 12],\n",
        "       [13, 14, 15, 16]]\n",
        "\n",
        "print(median(mat))\n",
        "\n",
        "# Time Complexity : O(R*C log R*C)"
      ],
      "metadata": {
        "colab": {
          "base_uri": "https://localhost:8080/"
        },
        "id": "5BxlDOPf4Oh5",
        "outputId": "e6281035-a633-4c53-c49a-042e1c07db59"
      },
      "execution_count": 32,
      "outputs": [
        {
          "output_type": "stream",
          "name": "stdout",
          "text": [
            "8\n"
          ]
        }
      ]
    },
    {
      "cell_type": "code",
      "source": [
        "# Efficient Solution\n",
        "'''\n",
        "1. Find the Minimum Element, mn\n",
        "2. Find the Maximum Element, mx\n",
        "3. Find the target position, tpos = (R*C + 1) / 2\n",
        "4. Do Binary Search Starting from (mn + mx) / 2\n",
        "'''\n",
        "\n",
        "from bisect import bisect\n",
        "\n",
        "def getMed(mat):\n",
        "  r, c = len(mat), len(mat[0])\n",
        "  mn, mx = mat[0][0], mat[0][c-1]\n",
        "\n",
        "  for i in range(1, r):\n",
        "    mn = min(mn, mat[i][0])\n",
        "    mx = max(mx, mat[i][c-1])\n",
        "\n",
        "  tpos = (r*c+1) // 2\n",
        "\n",
        "  while mn <mx:\n",
        "    mid = (mn + mx) // 2\n",
        "    midpos = 0\n",
        "\n",
        "    for i in range(r):\n",
        "      midpos += bisect(mat[i], mid)\n",
        "\n",
        "    if midpos < tpos:\n",
        "      mn = mid + 1\n",
        "\n",
        "    else:\n",
        "      mx = mid\n",
        "\n",
        "  return mn\n",
        "\n",
        "mat = [[1, 2, 3, 4],\n",
        "       [5, 6, 7, 8],\n",
        "       [9, 10, 11, 12],\n",
        "       [13, 14, 15, 16]]\n",
        "\n",
        "print(getMed(mat))"
      ],
      "metadata": {
        "colab": {
          "base_uri": "https://localhost:8080/"
        },
        "id": "aDllxADN98EC",
        "outputId": "868f2913-6492-480d-ba47-938080cb3c47"
      },
      "execution_count": 34,
      "outputs": [
        {
          "output_type": "stream",
          "name": "stdout",
          "text": [
            "8\n"
          ]
        }
      ]
    },
    {
      "cell_type": "code",
      "source": [
        "from bisect import bisect_right\n",
        "\n",
        "def getMed(mat):\n",
        "    r, c = len(mat), len(mat[0])\n",
        "    mn, mx = mat[0][0], mat[0][c-1]\n",
        "\n",
        "    for i in range(1, r):\n",
        "        mn = min(mn, mat[i][0])\n",
        "        mx = max(mx, mat[i][c-1])\n",
        "\n",
        "    tpos1 = (r * c) // 2\n",
        "    tpos2 = tpos1 + 1\n",
        "\n",
        "    def countLessEqual(x):\n",
        "        count = 0\n",
        "        for row in mat:\n",
        "            count += bisect_right(row, x)\n",
        "        return count\n",
        "\n",
        "    while mn < mx:\n",
        "        mid = (mn + mx) // 2\n",
        "        if countLessEqual(mid) < tpos1:\n",
        "            mn = mid + 1\n",
        "        else:\n",
        "            mx = mid\n",
        "\n",
        "    first_median = mn\n",
        "\n",
        "    mn, mx = mat[0][0], mat[0][c-1]\n",
        "    for i in range(1, r):\n",
        "        mn = min(mn, mat[i][0])\n",
        "        mx = max(mx, mat[i][c-1])\n",
        "\n",
        "    while mn < mx:\n",
        "        mid = (mn + mx) // 2\n",
        "        if countLessEqual(mid) < tpos2:\n",
        "            mn = mid + 1\n",
        "        else:\n",
        "            mx = mid\n",
        "\n",
        "    second_median = mn\n",
        "\n",
        "    return (first_median + second_median) / 2\n",
        "\n",
        "\n",
        "mat = [[1, 2, 3, 4],\n",
        "       [5, 6, 7, 8],\n",
        "       [9, 10, 11, 12],\n",
        "       [13, 14, 15, 16]]\n",
        "\n",
        "print(getMed(mat))"
      ],
      "metadata": {
        "colab": {
          "base_uri": "https://localhost:8080/"
        },
        "id": "QLcHCEgHAIoh",
        "outputId": "9b8c7f44-e36f-4cce-88ed-75b145a4f4a6"
      },
      "execution_count": 36,
      "outputs": [
        {
          "output_type": "stream",
          "name": "stdout",
          "text": [
            "8.5\n"
          ]
        }
      ]
    },
    {
      "cell_type": "code",
      "source": [],
      "metadata": {
        "id": "y3ylzQYnAz_x"
      },
      "execution_count": null,
      "outputs": []
    }
  ]
}