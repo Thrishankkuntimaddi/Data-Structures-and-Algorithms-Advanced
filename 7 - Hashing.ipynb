{
  "nbformat": 4,
  "nbformat_minor": 0,
  "metadata": {
    "colab": {
      "provenance": [],
      "authorship_tag": "ABX9TyMEP7Yci/T5OHBEuW0YYINg",
      "include_colab_link": true
    },
    "kernelspec": {
      "name": "python3",
      "display_name": "Python 3"
    },
    "language_info": {
      "name": "python"
    }
  },
  "cells": [
    {
      "cell_type": "markdown",
      "metadata": {
        "id": "view-in-github",
        "colab_type": "text"
      },
      "source": [
        "<a href=\"https://colab.research.google.com/github/Thrishankkuntimaddi/Data-Structures-and-Algorithms-Advanced/blob/main/7%20-%20Hashing.ipynb\" target=\"_parent\"><img src=\"https://colab.research.google.com/assets/colab-badge.svg\" alt=\"Open In Colab\"/></a>"
      ]
    },
    {
      "cell_type": "markdown",
      "source": [
        "# Intersection of Two Arrays\n",
        "\n",
        "I/P : a[] = [10, 15, 20, 5, 20] ; b[] = [30, 5, 30, 80]\n",
        "\n",
        "O/P : 2\n",
        "\n",
        "1 - Initialize res = 0\n",
        "\n",
        "2 - Traverse through Every Element of a[]\n",
        "\n",
        "  2.1 - Check if it has not appeared already\n",
        "  \n",
        "  2.2 - If a new element and also present in b[], do res++\n",
        "\n",
        "3 - return res\n"
      ],
      "metadata": {
        "id": "DenoQ7-IFd7X"
      }
    },
    {
      "cell_type": "code",
      "execution_count": null,
      "metadata": {
        "colab": {
          "base_uri": "https://localhost:8080/"
        },
        "id": "GOmvErJgFTH4",
        "outputId": "63dbe04a-428e-40f6-84bf-7654af709822"
      },
      "outputs": [
        {
          "output_type": "stream",
          "name": "stdout",
          "text": [
            "3\n"
          ]
        }
      ],
      "source": [
        "# Naive Solution\n",
        "\n",
        "def countUniqueInAAlsoInB(a, b):\n",
        "    res = 0\n",
        "    b_set = set(b)\n",
        "    seen = set()\n",
        "\n",
        "    for element in a:\n",
        "        if element not in seen:\n",
        "            if element in b_set:\n",
        "                res += 1\n",
        "            seen.add(element)\n",
        "\n",
        "    return res\n",
        "\n",
        "a = [1, 2, 3, 2, 4, 5]\n",
        "b = [3, 4, 5, 6]\n",
        "print(countUniqueInAAlsoInB(a, b))"
      ]
    },
    {
      "cell_type": "code",
      "source": [
        "# Method 2\n",
        "\n",
        "def intersection(arr1, m, arr2, n):\n",
        "  res = 0\n",
        "  for i in range(i-1):\n",
        "    flag = False\n",
        "    for j in range(i-1):\n",
        "      if arr1[j] == arr1[i]:\n",
        "        flag = True\n",
        "        break\n",
        "\n",
        "    if flag == True:\n",
        "      continue\n",
        "\n",
        "    for j in range(n):\n",
        "      if arr[i] == arr2[j]:\n",
        "        res += 1\n",
        "        break\n",
        "\n",
        "  return res\n",
        "\n",
        "arr1 = [1, 2, 3, 2, 4, 5]\n",
        "arr2 = [3, 4, 5, 6]\n",
        "print(intersection(arr1, len(arr1), arr2, len(arr2)))\n",
        "\n",
        "# Time Complexity : O(m * (m + n))"
      ],
      "metadata": {
        "id": "OM5PCMAvGjrV"
      },
      "execution_count": null,
      "outputs": []
    },
    {
      "cell_type": "code",
      "source": [
        "# Efficient Solution 1\n",
        "\n",
        "a = [1, 2, 3, 4, 5]\n",
        "b = [3, 4, 5, 6, 7]\n",
        "\n",
        "\n",
        "s_a = set(a)\n",
        "s_b = set(b)\n",
        "\n",
        "count = 0\n",
        "for element in s_a:\n",
        "    if element in s_b:\n",
        "        count += 1\n",
        "\n",
        "print(count)\n",
        "\n",
        "# Time Complexity : θ(m+n)"
      ],
      "metadata": {
        "id": "gZqNX9PkHvA7",
        "colab": {
          "base_uri": "https://localhost:8080/"
        },
        "outputId": "ae8fc59c-78b0-4cd8-85b8-41206a7cf429"
      },
      "execution_count": null,
      "outputs": [
        {
          "output_type": "stream",
          "name": "stdout",
          "text": [
            "3\n"
          ]
        }
      ]
    },
    {
      "cell_type": "code",
      "source": [
        "# Efficient Solution 2\n",
        "\n",
        "def intersection(arr1, m, arr2, n):\n",
        "  us = set()\n",
        "  for i in range(m):\n",
        "    us.add(arr1[i])\n",
        "\n",
        "  res = 0\n",
        "\n",
        "  for i in range(n):\n",
        "    if arr2[i] in us:\n",
        "      res += 1\n",
        "      us.remove(arr2[i])\n",
        "\n",
        "  return res\n",
        "\n",
        "a = [1, 2, 3, 2, 4, 5]\n",
        "b = [3, 4, 5, 6]\n",
        "print(intersection(a, len(a), b, len(b)))"
      ],
      "metadata": {
        "id": "v9nOCY3RQane",
        "colab": {
          "base_uri": "https://localhost:8080/"
        },
        "outputId": "44e7a236-6ec3-4e99-8a0e-27a12fa2eebc"
      },
      "execution_count": null,
      "outputs": [
        {
          "output_type": "stream",
          "name": "stdout",
          "text": [
            "3\n"
          ]
        }
      ]
    },
    {
      "cell_type": "markdown",
      "source": [
        "# Union of Two unsorted Arrays\n",
        "\n",
        "I/P : a[] = [15, 20, 5, 15] ; b[] = [15, 15, 15, 20, 10]\n",
        "\n",
        "O/P : 4"
      ],
      "metadata": {
        "id": "nkAVbzjdQuuq"
      }
    },
    {
      "cell_type": "code",
      "source": [
        "# Naive Solution\n",
        "\n",
        "def unionSet(arr1, m, arr2, n):\n",
        "  c = [0]*(m+n)\n",
        "\n",
        "  for i in range(m):\n",
        "    c[i] = arr1[i]\n",
        "\n",
        "  for i in range(n):\n",
        "    c[m+i] = arr2[i]\n",
        "\n",
        "  res = 0\n",
        "\n",
        "  for i in range(m+n):\n",
        "    flag = False\n",
        "    for j in range(i):\n",
        "      if c[i] == c[j]:\n",
        "        flag = True\n",
        "        break\n",
        "    if flag == False:\n",
        "      res += 1\n",
        "\n",
        "  return res\n",
        "\n",
        "a = [1, 2, 3, 2, 4, 5]\n",
        "b = [3, 4, 5, 6]\n",
        "print(unionSet(a, len(a), b, len(b)))\n",
        "\n",
        "# Time Complexity : O((m+n) * (m+n))\n",
        "# Auxiliary Space : O(m+n)"
      ],
      "metadata": {
        "colab": {
          "base_uri": "https://localhost:8080/"
        },
        "id": "i8XkQ2U_QoTG",
        "outputId": "ae2b4070-ca38-4615-c1ce-01a256d8fc6d"
      },
      "execution_count": null,
      "outputs": [
        {
          "output_type": "stream",
          "name": "stdout",
          "text": [
            "6\n"
          ]
        }
      ]
    },
    {
      "cell_type": "code",
      "source": [
        "# Efficient Solution\n",
        "\n",
        "def unionSet(arr1, m, arr2, n):\n",
        "  us = set()\n",
        "  for i in arr1:\n",
        "    us.add(i)\n",
        "\n",
        "  for i in arr2:\n",
        "    us.add(i)\n",
        "\n",
        "  return len(us)\n",
        "\n",
        "a = [1, 2, 3, 2, 4, 5]\n",
        "b = [3, 4, 5, 6]\n",
        "print(unionSet(a, len(a), b, len(b)))\n",
        "\n",
        "# Time Complexity : O(m+n)\n",
        "# Auxiliary Space : O(m+n)"
      ],
      "metadata": {
        "colab": {
          "base_uri": "https://localhost:8080/"
        },
        "id": "5Y_cVaBlRd3V",
        "outputId": "a06501f2-223f-4573-9794-6fc4240f4b33"
      },
      "execution_count": null,
      "outputs": [
        {
          "output_type": "stream",
          "name": "stdout",
          "text": [
            "6\n"
          ]
        }
      ]
    },
    {
      "cell_type": "markdown",
      "source": [
        "# Pair with Given Sum\n",
        "\n",
        "I/P : arr[] = [3, 2, 8, 15, -18] ; sum = 17\n",
        "\n",
        "O/P : True\n",
        "\n",
        "I/P : arr[] = [2, 1, 6, 3] ; sum = 6\n",
        "\n",
        "O/P : False\n"
      ],
      "metadata": {
        "id": "TPVdwXuCUZjX"
      }
    },
    {
      "cell_type": "code",
      "source": [
        "# Naive Solution\n",
        "\n",
        "def pairwithSum(arr, x):\n",
        "  for i in range(len(arr)):\n",
        "    for j in range(i+1, len(arr)):\n",
        "      if arr[i] + arr[j] == x:\n",
        "        return True\n",
        "\n",
        "  return False\n",
        "\n",
        "a = [1, 2, 3, 2, 4, 5]\n",
        "sum = 7\n",
        "pairwithSum(a, sum)\n",
        "\n",
        "# Time Complexity : O(n^2)\n",
        "# Auxiliary Space : O(1)"
      ],
      "metadata": {
        "colab": {
          "base_uri": "https://localhost:8080/"
        },
        "id": "7KT2eC2fUXhX",
        "outputId": "d0a086ca-198d-469c-a72f-540f52905e2c"
      },
      "execution_count": null,
      "outputs": [
        {
          "output_type": "execute_result",
          "data": {
            "text/plain": [
              "True"
            ]
          },
          "metadata": {},
          "execution_count": 8
        }
      ]
    },
    {
      "cell_type": "code",
      "source": [
        "# Efficient Solution\n",
        "\n",
        "def pairwithSum(arr, x):\n",
        "  us = set()\n",
        "\n",
        "  for i in arr:\n",
        "    if x-i in us:\n",
        "      return True\n",
        "    us.add(i)\n",
        "\n",
        "  return False\n",
        "\n",
        "\n",
        "a = [1, 2, 3, 2, 4, 5]\n",
        "sum = 7\n",
        "pairwithSum(a, sum)\n",
        "\n",
        "# Time Complexity : O(n)\n",
        "# Auxiliary Space : O(n)"
      ],
      "metadata": {
        "colab": {
          "base_uri": "https://localhost:8080/"
        },
        "id": "pHzFHIYCVAcJ",
        "outputId": "e41380ad-e56c-478f-fe7a-93706a5ce97a"
      },
      "execution_count": null,
      "outputs": [
        {
          "output_type": "execute_result",
          "data": {
            "text/plain": [
              "True"
            ]
          },
          "metadata": {},
          "execution_count": 10
        }
      ]
    },
    {
      "cell_type": "markdown",
      "source": [
        "# Subarray with 0 Sum\n",
        "\n",
        "I/P : arr = [1, 2, 3, 2, 4, 5]\n",
        "\n",
        "O/P : False\n",
        "\n",
        "I/P : arr = [-1, 4, -3, 5, 1]\n",
        "\n",
        "O/P : True"
      ],
      "metadata": {
        "id": "Vf_ifVkvVeXX"
      }
    },
    {
      "cell_type": "code",
      "source": [
        "# Naive Solution\n",
        "\n",
        "def isZero(l):\n",
        "  n = len(l)\n",
        "\n",
        "  for i in range(n):\n",
        "    for j in range(i+1, n+1):\n",
        "      if sum(l[i:j]) == 0:\n",
        "        return True\n",
        "\n",
        "  return False\n",
        "\n",
        "\n",
        "a = [1, 2, 3, 2, 4, 5]\n",
        "isZero(a)\n",
        "\n",
        "# Time Complexity : O(n^3)"
      ],
      "metadata": {
        "colab": {
          "base_uri": "https://localhost:8080/"
        },
        "id": "MACC4DAbVVjI",
        "outputId": "771da65a-5ee9-437c-988a-6e9241ce9505"
      },
      "execution_count": null,
      "outputs": [
        {
          "output_type": "execute_result",
          "data": {
            "text/plain": [
              "False"
            ]
          },
          "metadata": {},
          "execution_count": 1
        }
      ]
    },
    {
      "cell_type": "code",
      "source": [
        "# Efficient Solution\n",
        "\n",
        "def isZero(l):\n",
        "  preSum = 0\n",
        "  h = set()\n",
        "\n",
        "  for i in range(len(l)):\n",
        "    preSum += l[i]\n",
        "\n",
        "    if preSum == 0 or preSum in h:\n",
        "      return True\n",
        "\n",
        "    h.add(preSum)\n",
        "\n",
        "  return False\n",
        "\n",
        "\n",
        "a = [1, -2, -3, 5, 2, 4, 5]\n",
        "isZero(a)\n",
        "\n",
        "# Time Complexity : O(n)\n",
        "# Auxiliary Space : O(1)"
      ],
      "metadata": {
        "colab": {
          "base_uri": "https://localhost:8080/"
        },
        "id": "oXQuWLi5V_br",
        "outputId": "8edd4e33-c090-42b3-d435-34296c2ea66b"
      },
      "execution_count": null,
      "outputs": [
        {
          "output_type": "execute_result",
          "data": {
            "text/plain": [
              "True"
            ]
          },
          "metadata": {},
          "execution_count": 18
        }
      ]
    },
    {
      "cell_type": "markdown",
      "source": [
        "# Check for Palindrome Permutation\n",
        "\n",
        "I/P : s = \"geek\"\n",
        "\n",
        "O/P : False\n",
        "\n",
        "I/P : \"geegg\"\n",
        "\n",
        "O/P : True || gegeg or eggge"
      ],
      "metadata": {
        "id": "QxFEEAvfYBqr"
      }
    },
    {
      "cell_type": "code",
      "source": [
        "# Naive Solution\n",
        "\n",
        "from itertools import permutations\n",
        "\n",
        "def is_palindrome(s):\n",
        "    return s == s[::-1]\n",
        "\n",
        "def check(s):\n",
        "    perms = permutations(s)\n",
        "\n",
        "    for perm in perms:\n",
        "        if is_palindrome(''.join(perm)):\n",
        "            return True\n",
        "\n",
        "    return False\n",
        "\n",
        "s1 = \"geek\"\n",
        "s2 = \"geegg\"\n",
        "\n",
        "print(check(s1))\n",
        "print(check(s2))\n",
        "\n",
        "# Time Complexity : O(n! * n)"
      ],
      "metadata": {
        "colab": {
          "base_uri": "https://localhost:8080/"
        },
        "id": "dKYk8I6-WXDJ",
        "outputId": "975e6869-4c03-4cbb-9be3-335392c78f4b"
      },
      "execution_count": null,
      "outputs": [
        {
          "output_type": "stream",
          "name": "stdout",
          "text": [
            "False\n",
            "True\n"
          ]
        }
      ]
    },
    {
      "cell_type": "code",
      "source": [
        "# Efficient Solution\n",
        "\n",
        "from collections import Counter\n",
        "\n",
        "def isPalper(s):\n",
        "  cnt = Counter(s)\n",
        "  odd = 0\n",
        "\n",
        "  for freq in cnt.values():\n",
        "    if freq % 2 != 0:\n",
        "      odd = odd + 1\n",
        "\n",
        "      if odd > 1:\n",
        "        return False\n",
        "\n",
        "  return True\n",
        "\n",
        "s = \"ggegg\"\n",
        "isPalper(s)\n",
        "\n",
        "# Time Complexity : Θ(n)"
      ],
      "metadata": {
        "colab": {
          "base_uri": "https://localhost:8080/"
        },
        "id": "1NxlqLLyZcma",
        "outputId": "9770e608-87f9-4714-d9fa-cc8cb67a4582"
      },
      "execution_count": null,
      "outputs": [
        {
          "output_type": "execute_result",
          "data": {
            "text/plain": [
              "True"
            ]
          },
          "metadata": {},
          "execution_count": 24
        }
      ]
    },
    {
      "cell_type": "markdown",
      "source": [
        "# Longest Subarray with Sum\n",
        "\n",
        "I/P : arr[] = [5, 8, -4, -4, 9, -2, 2] ; sum = 0\n",
        "\n",
        "O/P : 3\n",
        "\n",
        "I/P : arr[] = [3, 1, 0, 1, 8, 2, 3, 6] ; sum = 5\n",
        "\n",
        "O/P : 4"
      ],
      "metadata": {
        "id": "HY8VQ_05cNRN"
      }
    },
    {
      "cell_type": "code",
      "source": [
        "# Naive Solution\n",
        "\n",
        "def longestSubarray(arr, sum):\n",
        "  n = len(arr)\n",
        "  res = 0\n",
        "\n",
        "  for i in range(n):\n",
        "    curr_sum = 0\n",
        "    for j in range(i, n):\n",
        "      curr_sum += arr[j]\n",
        "\n",
        "      if curr_sum == sum:\n",
        "        res = max(res, j-i+1)\n",
        "\n",
        "  return res\n",
        "\n",
        "arr = [5, 8, -4, -4, 9, -2, 2]\n",
        "sum = 0\n",
        "longestSubarray(arr, sum)\n",
        "\n",
        "# Time Complexity : O(n^2)\n",
        "# Auxiliary Space : O(1)"
      ],
      "metadata": {
        "colab": {
          "base_uri": "https://localhost:8080/"
        },
        "id": "6-7biy96aQaF",
        "outputId": "e6726e59-ba4c-4e1d-e566-a5908fc73fea"
      },
      "execution_count": null,
      "outputs": [
        {
          "output_type": "execute_result",
          "data": {
            "text/plain": [
              "3"
            ]
          },
          "metadata": {},
          "execution_count": 27
        }
      ]
    },
    {
      "cell_type": "code",
      "source": [
        "# Efficient Solution\n",
        "\n",
        "def longest(arr, sum):\n",
        "  n = len(arr)\n",
        "  mydict = dict()\n",
        "  pre_sum = 0\n",
        "  res = 0\n",
        "\n",
        "  for i in range(n):\n",
        "    pre_sum += arr[i]\n",
        "\n",
        "    if pre_sum == sum:\n",
        "      res = i + 1\n",
        "\n",
        "    if pre_sum not in mydict:\n",
        "      mydict[pre_sum] = i\n",
        "\n",
        "    if pre_sum - sum in mydict:\n",
        "      res = max(res, i-mydict[pre_sum - sum])\n",
        "\n",
        "  return res\n",
        "\n",
        "arr = [5, 8, -4, -4, 9, -2, 2]\n",
        "sum = 0\n",
        "longest(arr, sum)\n",
        "\n",
        "# Time Complexity : O(n)\n",
        "# Space Complexity : O(n)"
      ],
      "metadata": {
        "colab": {
          "base_uri": "https://localhost:8080/"
        },
        "id": "GD0b376-dFA-",
        "outputId": "b65cfe5f-dcfb-484a-fc9e-720bf97a3c89"
      },
      "execution_count": null,
      "outputs": [
        {
          "output_type": "execute_result",
          "data": {
            "text/plain": [
              "3"
            ]
          },
          "metadata": {},
          "execution_count": 29
        }
      ]
    },
    {
      "cell_type": "markdown",
      "source": [
        "# Longest Subarray with equal no.of zero and One\n"
      ],
      "metadata": {
        "id": "tcxzfHqCul0i"
      }
    },
    {
      "cell_type": "code",
      "source": [
        "def findSubArray(arr, n):\n",
        "    maxsize = -1\n",
        "    startindex = 0\n",
        "\n",
        "    for i in range(n):\n",
        "        sum = 0\n",
        "        for j in range(i, n):\n",
        "            sum += -1 if arr[j] == 0 else 1\n",
        "\n",
        "            if sum == 0 and (j - i + 1) > maxsize:\n",
        "                maxsize = j - i + 1\n",
        "                startindex = i\n",
        "\n",
        "    if maxsize == -1:\n",
        "        print(\"No such subarray\")\n",
        "    else:\n",
        "        print(startindex, \"to\", startindex + maxsize - 1)\n",
        "\n",
        "    return maxsize\n",
        "\n",
        "arr = [1, 0, 0, 1, 0, 1, 1]\n",
        "size = len(arr)\n",
        "print(findSubArray(arr, size))\n",
        "\n",
        "# Time Complexity: 𝑂(𝑛^2)\n",
        "# Space Complexity: O(1)"
      ],
      "metadata": {
        "colab": {
          "base_uri": "https://localhost:8080/"
        },
        "id": "bbtdcuqOd-vS",
        "outputId": "dbcd5443-a469-4028-cd6e-e10af01320c9"
      },
      "execution_count": null,
      "outputs": [
        {
          "output_type": "stream",
          "name": "stdout",
          "text": [
            "0 to 5\n",
            "6\n"
          ]
        }
      ]
    },
    {
      "cell_type": "code",
      "source": [
        "# Efficient Solution\n",
        "\n",
        "def largest(arr):\n",
        "  n = len(arr)\n",
        "\n",
        "  for i in range(n):\n",
        "    if arr[i] == 0:\n",
        "      arr[i] = -1\n",
        "\n",
        "  mydict = dict()\n",
        "  sum = 0\n",
        "  maxlen = 0\n",
        "\n",
        "  for i in range(n):\n",
        "    sum += arr[i]\n",
        "\n",
        "    if sum == 0:\n",
        "      maxlen = i + 1\n",
        "\n",
        "    if sum in mydict:\n",
        "      maxlen = max(maxlen, i-mydict[sum])\n",
        "    else:\n",
        "      mydict[sum] = i\n",
        "\n",
        "  return maxlen\n",
        "\n",
        "arr = [1, 0, 0, 1, 0, 1, 1]\n",
        "print(largest(arr))\n",
        "\n",
        "# Time Complexity : O(n)\n",
        "# Auxiliary Space : O(n)"
      ],
      "metadata": {
        "colab": {
          "base_uri": "https://localhost:8080/"
        },
        "id": "e1G4WoCLvPGY",
        "outputId": "14179fdb-99d8-4a09-f35d-d884a6c22f29"
      },
      "execution_count": null,
      "outputs": [
        {
          "output_type": "stream",
          "name": "stdout",
          "text": [
            "6\n"
          ]
        }
      ]
    },
    {
      "cell_type": "markdown",
      "source": [
        "# Longest Common Subarray with Given Sum\n",
        "\n",
        "  I/P : arr1[] = [0, 1, 0, 0, 0, 0] ; arr2[] = [1, 0, 1, 0, 0, 1]\n",
        "\n",
        "  O/P : 4\n",
        "\n",
        "  I/P : arr1[] = [0, 0, 0] ; arr2 = [1, 1, 1]\n",
        "\n",
        "  O/P : 0\n",
        "\n",
        "  we are giving two binary subarrays of same size"
      ],
      "metadata": {
        "id": "XLq0brrT07Id"
      }
    },
    {
      "cell_type": "code",
      "source": [
        "# Naive Solution\n",
        "\n",
        "def longest(arr1, arr2):\n",
        "  res = 0\n",
        "  n = len(arr1)\n",
        "\n",
        "  for i in range(n):\n",
        "    sum1 = 0\n",
        "    sum2 = 0\n",
        "\n",
        "    for j in range(i, n):\n",
        "      sum1 += arr1[j]\n",
        "      sum2 += arr2[j]\n",
        "\n",
        "      if sum1 == sum2:\n",
        "        res = max(res, j-i+1)\n",
        "\n",
        "  return res\n",
        "\n",
        "arr1 = [0, 1, 0, 0, 0, 0]\n",
        "arr2 = [1, 1, 0, 0, 0, 1]\n",
        "longest(arr1, arr2)\n",
        "\n",
        "# Time Complexity : O(n^2)\n",
        "# Auxiliary Space : O(1)"
      ],
      "metadata": {
        "colab": {
          "base_uri": "https://localhost:8080/"
        },
        "id": "QJg83Z-I0dBu",
        "outputId": "1b400444-2d34-4634-8a0c-a7f59ec7d59e"
      },
      "execution_count": null,
      "outputs": [
        {
          "output_type": "execute_result",
          "data": {
            "text/plain": [
              "4"
            ]
          },
          "metadata": {},
          "execution_count": 49
        }
      ]
    },
    {
      "cell_type": "code",
      "source": [
        "def longest(arr1, arr2):\n",
        "    n = len(arr1)\n",
        "\n",
        "    # Create a new array where each element is the difference between arr1 and arr2\n",
        "    arr = [arr1[i] - arr2[i] for i in range(n)]\n",
        "\n",
        "    # Dictionary to store the first occurrence of each cumulative sum\n",
        "    mydict = {}\n",
        "    sum = 0\n",
        "    max_len = 0\n",
        "\n",
        "    for i in range(n):\n",
        "        sum += arr[i]\n",
        "\n",
        "        # If the cumulative sum is zero, it means the subarray from the start to the current index is valid\n",
        "        if sum == 0:\n",
        "            max_len = i + 1\n",
        "\n",
        "        # If the cumulative sum has been seen before, update the max_len\n",
        "        if sum in mydict:\n",
        "            max_len = max(max_len, i - mydict[sum])\n",
        "        else:\n",
        "            # Store the first occurrence of this cumulative sum\n",
        "            mydict[sum] = i\n",
        "\n",
        "    return max_len\n",
        "\n",
        "arr1 = [0, 1, 0, 0, 0, 0]\n",
        "arr2 = [1, 1, 0, 0, 0, 1]\n",
        "print(longest(arr1, arr2))\n",
        "\n",
        "# Time Complexity : O(n)\n",
        "# Auxiliary Space : O(n)"
      ],
      "metadata": {
        "colab": {
          "base_uri": "https://localhost:8080/"
        },
        "id": "gJKqlSVV18_E",
        "outputId": "fa5899a5-8459-4d09-b189-5c10ad1b58a8"
      },
      "execution_count": null,
      "outputs": [
        {
          "output_type": "stream",
          "name": "stdout",
          "text": [
            "4\n"
          ]
        }
      ]
    },
    {
      "cell_type": "markdown",
      "source": [
        "# Longest Consecutive SubSequence\n",
        "\n",
        "I/P : a[] = [1, 9, 3, 4, 2, 20]\n",
        "\n",
        "O/P : 4\n",
        "\n",
        "I/P : arr[] = [8, 20, 7, 30]\n",
        "\n",
        "O/P : 2\n",
        "\n",
        "I/P : arr[] = [20, 30, 40]\n",
        "\n",
        "O/P : 1\n",
        "\n",
        "\n",
        "We need to find the longest subsequence in the form of x, x + 1, x + 2, x + 3 ......... x + i with these elements appearing in any order"
      ],
      "metadata": {
        "id": "S592ygDCCmMc"
      }
    },
    {
      "cell_type": "code",
      "source": [
        "# Naive Solution\n",
        "\n",
        "def findLong(arr):\n",
        "  n = len(arr)\n",
        "  arr.sort()\n",
        "  res = 1\n",
        "  curr = 1\n",
        "\n",
        "  for i in range(1, n):\n",
        "    if arr[i] == arr[i-1] + 1:\n",
        "      curr += 1\n",
        "    else:\n",
        "      res = max(res, curr)\n",
        "      curr = 1\n",
        "\n",
        "  res = max(res, curr)\n",
        "\n",
        "  return res\n",
        "\n",
        "arr = [1, 9, 3, 4, 2, 20]\n",
        "findLong(arr)\n",
        "\n",
        "# Time Complexity : O(nlogn)\n",
        "# Space Complexity : O(1)"
      ],
      "metadata": {
        "id": "jFewNmVB3bzM",
        "colab": {
          "base_uri": "https://localhost:8080/"
        },
        "outputId": "7af5226c-565f-45da-c583-3b749ebb47f6"
      },
      "execution_count": null,
      "outputs": [
        {
          "output_type": "execute_result",
          "data": {
            "text/plain": [
              "4"
            ]
          },
          "metadata": {},
          "execution_count": 2
        }
      ]
    },
    {
      "cell_type": "code",
      "source": [
        "# Efficient Solution\n",
        "'''\n",
        "We first insert all elements in a hash table. Then with 2n lookups, we find the result\n",
        "\n",
        "arr[] = {1, 3, 4, 3, 3, 2, 9, 10}\n",
        "h = {1, 3, 4, 2, 9, 10}\n",
        "'''\n",
        "\n",
        "def findLong(arr):\n",
        "  s = set()\n",
        "  res = 0\n",
        "\n",
        "  for i in arr:\n",
        "    s.add(i)\n",
        "\n",
        "  for i in arr:\n",
        "    if (i-1) not in s:\n",
        "      curr = 1\n",
        "\n",
        "      while (curr + i) in s:\n",
        "        curr += 1\n",
        "\n",
        "      res = max(res, curr)\n",
        "\n",
        "  return res\n",
        "\n",
        "arr = [1, 9, 3, 4, 2, 20]\n",
        "findLong(arr)\n",
        "\n",
        "# Time Complexity : O(n)\n",
        "# Auxiliary Space : O(n)"
      ],
      "metadata": {
        "colab": {
          "base_uri": "https://localhost:8080/"
        },
        "id": "qu-ISk16Dq6M",
        "outputId": "ed57cad9-97cf-4380-9d35-4b327f0185d7"
      },
      "execution_count": null,
      "outputs": [
        {
          "output_type": "execute_result",
          "data": {
            "text/plain": [
              "4"
            ]
          },
          "metadata": {},
          "execution_count": 3
        }
      ]
    },
    {
      "cell_type": "markdown",
      "source": [
        "# Count Distinct Elements in Every Window\n",
        "\n",
        "I/P : arr = [10, 20, 20, 10, 30, 40, 10] ; k = 4\n",
        "\n",
        "O/P : 2 3 4 3\n",
        "\n",
        "I/P : arr = [10, 20, 30, 40] ; k = 3\n",
        "\n",
        "O/P : 3 3\n",
        "\n",
        "\n",
        "### Idea for Naive Solution Algorithm\n",
        "\n",
        "1) There will be (n-k+1) windows\n",
        "\n",
        "2) There through every window and count distinct elements in it\n"
      ],
      "metadata": {
        "id": "rrNgo-DBEiZT"
      }
    },
    {
      "cell_type": "code",
      "source": [
        "# Naive Solution\n",
        "\n",
        "def printDis(arr, k):\n",
        "  n = len(arr)\n",
        "  for i in range(n - k + 1):\n",
        "    print(len(set(arr[i : i +k ])))\n",
        "\n",
        "arr = [10, 20, 20, 10, 30, 40, 10]\n",
        "k = 4\n",
        "printDis(arr, k)\n",
        "\n",
        "# Time Complexity : O((n-k+1) * k)\n",
        "# Space Complexity : O(k)"
      ],
      "metadata": {
        "colab": {
          "base_uri": "https://localhost:8080/"
        },
        "id": "wtIcCouOEhlS",
        "outputId": "65eb045f-4d7f-4ed3-b344-9cfb016ac9f3"
      },
      "execution_count": null,
      "outputs": [
        {
          "output_type": "stream",
          "name": "stdout",
          "text": [
            "2\n",
            "3\n",
            "4\n",
            "3\n"
          ]
        }
      ]
    },
    {
      "cell_type": "code",
      "source": [
        "# Efficient Solution\n",
        "\n",
        "# The Idea is to use count of previous window to get the current count\n",
        "\n",
        "from collections import Counter\n",
        "\n",
        "def countDis(arr, k):\n",
        "  mp = Counter(arr[0:k])\n",
        "  print(len(mp))\n",
        "\n",
        "  for i in range(k, len(arr)):\n",
        "    x = arr[i-k]\n",
        "    mp[x] -= 1\n",
        "    mp[arr[i]] += 1\n",
        "\n",
        "    if mp[x] == 0:\n",
        "      del mp[x]\n",
        "\n",
        "    print(len(mp))\n",
        "\n",
        "arr = [10, 20, 20, 10, 30, 40, 10]\n",
        "k = 4\n",
        "countDis(arr, k)\n",
        "\n",
        "# Time Complexity : O(n)\n",
        "# Auxiliary Space : O(k)"
      ],
      "metadata": {
        "colab": {
          "base_uri": "https://localhost:8080/"
        },
        "id": "gX2SEeR8Fmmo",
        "outputId": "d1d2c2dc-539e-430f-da53-b92be664425e"
      },
      "execution_count": null,
      "outputs": [
        {
          "output_type": "stream",
          "name": "stdout",
          "text": [
            "2\n",
            "3\n",
            "4\n",
            "3\n"
          ]
        }
      ]
    },
    {
      "cell_type": "markdown",
      "source": [
        "# More than n/k Occurrences\n",
        "\n",
        "I/P : arr[] = [30, 10, 20, 20, 10, 20, 30, 30] ; k = 4\n",
        "\n",
        "O/P : 20 30\n",
        "\n",
        "Note : n = 8, n/k = 8/4 = 2 : Occurrences more than"
      ],
      "metadata": {
        "id": "TnZxb5jeHRZe"
      }
    },
    {
      "cell_type": "code",
      "source": [
        "# Naive Solution\n",
        "\n",
        "def NbyK(arr, k):\n",
        "  arr.sort()\n",
        "  i = 1\n",
        "  count = 1\n",
        "  n = len(arr)\n",
        "\n",
        "  while i < len(arr):\n",
        "    while i < len(arr) and arr[i] == arr[i-1]:\n",
        "      count += 1\n",
        "      i += 1\n",
        "\n",
        "    if count > n//k:\n",
        "      print(arr[i-1], end = \" \")\n",
        "\n",
        "    count = 1\n",
        "    i = i + 1\n",
        "\n",
        "arr = [30, 10, 20, 20, 10, 20, 30, 30]\n",
        "k = 4\n",
        "NbyK(arr, k)\n",
        "\n",
        "# Time Complexity : O(nlogn)\n",
        "# Auxiliary Space : O(1)"
      ],
      "metadata": {
        "colab": {
          "base_uri": "https://localhost:8080/"
        },
        "id": "vTTJcc9EGl23",
        "outputId": "46014766-96de-4135-efe1-ffab969234e4"
      },
      "execution_count": null,
      "outputs": [
        {
          "output_type": "stream",
          "name": "stdout",
          "text": [
            "20 30 "
          ]
        }
      ]
    },
    {
      "cell_type": "code",
      "source": [
        "# Efficient Solution\n",
        "\n",
        "from collections import Counter\n",
        "\n",
        "def NbyK(arr, k):\n",
        "  c = Counter(arr)\n",
        "  n = len(arr)\n",
        "\n",
        "  for x in c:\n",
        "    if c[x] > n//k:\n",
        "      print(x, end = \" \")\n",
        "\n",
        "arr = [30, 10, 20, 20, 10, 20, 30, 30]\n",
        "k = 4\n",
        "NbyK(arr, k)\n",
        "\n",
        "# Time Complexity : O(n)\n",
        "# Auxiliary Space : O(n)"
      ],
      "metadata": {
        "colab": {
          "base_uri": "https://localhost:8080/"
        },
        "id": "TtgXhA3PJ156",
        "outputId": "aefa349f-86de-4969-b6d6-92fcdfce98c0"
      },
      "execution_count": null,
      "outputs": [
        {
          "output_type": "stream",
          "name": "stdout",
          "text": [
            "30 20 "
          ]
        }
      ]
    },
    {
      "cell_type": "markdown",
      "source": [
        "# More than n/k Occurences"
      ],
      "metadata": {
        "id": "E-gULhf3KcRM"
      }
    },
    {
      "cell_type": "code",
      "source": [
        "def more_than_n_by_k(arr, n, k):\n",
        "\n",
        "    m = {}\n",
        "\n",
        "    for i in range(n):\n",
        "        if arr[i] in m:\n",
        "            m[arr[i]] += 1\n",
        "        elif len(m) < k - 1:\n",
        "            m[arr[i]] = 1\n",
        "        else:\n",
        "            keys_to_remove = []\n",
        "            for key in m:\n",
        "                m[key] -= 1\n",
        "                if m[key] == 0:\n",
        "                    keys_to_remove.append(key)\n",
        "\n",
        "            for key in keys_to_remove:\n",
        "                del m[key]\n",
        "\n",
        "    for key in m.keys():\n",
        "        m[key] = 0\n",
        "\n",
        "    for i in range(n):\n",
        "        if arr[i] in m:\n",
        "            m[arr[i]] += 1\n",
        "\n",
        "    result = []\n",
        "    for key, count in m.items():\n",
        "        if count > n // k:\n",
        "            result.append(key)\n",
        "\n",
        "    return result\n",
        "\n",
        "arr = [3, 1, 2, 2, 1, 2, 3, 3]\n",
        "n = len(arr)\n",
        "k = 4\n",
        "print(more_than_n_by_k(arr, n, k))\n",
        "\n",
        "# Time Complexity : O(n*k)\n",
        "# Space Complexity : O(k)"
      ],
      "metadata": {
        "id": "KrSY5_mlKSU9",
        "colab": {
          "base_uri": "https://localhost:8080/"
        },
        "outputId": "7f8e216a-92cb-4886-95c2-b3f3ace39d6a"
      },
      "execution_count": 1,
      "outputs": [
        {
          "output_type": "stream",
          "name": "stdout",
          "text": [
            "[3, 2]\n"
          ]
        }
      ]
    },
    {
      "cell_type": "code",
      "source": [],
      "metadata": {
        "id": "HLbArxOmul8y"
      },
      "execution_count": null,
      "outputs": []
    }
  ]
}