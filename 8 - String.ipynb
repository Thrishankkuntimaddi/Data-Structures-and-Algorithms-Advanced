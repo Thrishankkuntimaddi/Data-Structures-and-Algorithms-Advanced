{
  "nbformat": 4,
  "nbformat_minor": 0,
  "metadata": {
    "colab": {
      "provenance": [],
      "authorship_tag": "ABX9TyPnth6VRau3DRVxer7dC2eq",
      "include_colab_link": true
    },
    "kernelspec": {
      "name": "python3",
      "display_name": "Python 3"
    },
    "language_info": {
      "name": "python"
    }
  },
  "cells": [
    {
      "cell_type": "markdown",
      "metadata": {
        "id": "view-in-github",
        "colab_type": "text"
      },
      "source": [
        "<a href=\"https://colab.research.google.com/github/Thrishankkuntimaddi/Data-Structures-and-Algorithms-Advanced/blob/main/8%20-%20String.ipynb\" target=\"_parent\"><img src=\"https://colab.research.google.com/assets/colab-badge.svg\" alt=\"Open In Colab\"/></a>"
      ]
    },
    {
      "cell_type": "markdown",
      "source": [
        "# Overview of Pattern Searching\n",
        "\n",
        "I/P : txt = \"GEEKSFORGEEKS\" ; pat = \"EKS\"\n",
        "\n",
        "O/P : 2 10\n",
        "\n",
        "I/P : txt = \"AAAA\" ; pat = \"AAA\"\n",
        "\n",
        "O/P : 0 1\n",
        "\n",
        "m -> pattern length\n",
        "\n",
        "n -> Text length\n",
        "\n",
        "1 <= m <= n\n",
        "\n",
        "----------------\n",
        "\n",
        "-> No Prepocessing\n",
        "\n",
        "Naive : O((n-m+1) * m)\n",
        "\n",
        "Naive when all characters of pattern are Distinct : O(n)\n",
        "\n",
        "----------------\n",
        "\n",
        "-> Preprocessing Pattern\n",
        "\n",
        "Rabin karp : O((n-m+1)*m) But Better than Naive on Average\n",
        "\n",
        "----------------\n",
        "\n",
        "-> Preprocessing Text\n",
        "\n",
        "Suffix Tree : O(m)"
      ],
      "metadata": {
        "id": "XAT1iCHFvzjS"
      }
    },
    {
      "cell_type": "markdown",
      "source": [
        "# Pattern Searching\n",
        "\n",
        "I/P : text = \"geeks for geeks\" ; pat = \"geeks\"\n",
        "\n",
        "O/P : 0 10"
      ],
      "metadata": {
        "id": "72T2Cqz1x3sH"
      }
    },
    {
      "cell_type": "code",
      "execution_count": null,
      "metadata": {
        "colab": {
          "base_uri": "https://localhost:8080/"
        },
        "id": "P8VRPYm1vrjr",
        "outputId": "f3cc864d-11c1-4e75-8944-83b065948485"
      },
      "outputs": [
        {
          "output_type": "stream",
          "name": "stdout",
          "text": [
            "0\n",
            "10\n"
          ]
        }
      ],
      "source": [
        "# Naive Solution\n",
        "\n",
        "def find(txt, pat):\n",
        "  pos = txt.find(pat)\n",
        "\n",
        "  while pos >= 0:\n",
        "    print(pos)\n",
        "    pos = txt.find(pat, pos + 1)\n",
        "\n",
        "text = \"geeks for geeks\"\n",
        "pat = \"geeks\"\n",
        "find(text, pat)\n",
        "\n",
        "# Time Complexity : O(n×(n−m+1))\n",
        "# Space Complexity : O(n+m)"
      ]
    },
    {
      "cell_type": "code",
      "source": [
        "# Super Naive\n",
        "\n",
        "def naivepat(txt, pat):\n",
        "  m = len(pat)\n",
        "  n = len(txt)\n",
        "\n",
        "  for i in range(n-m+1):\n",
        "    j = 0\n",
        "\n",
        "    while j < m:\n",
        "      if pat[j] != txt[j+i]:\n",
        "        break\n",
        "      j = j + 1\n",
        "\n",
        "      if j == m:\n",
        "        print(i, end = \" \")\n",
        "\n",
        "text = \"geeks for geeks\"\n",
        "pat = \"geeks\"\n",
        "find(text, pat)\n",
        "\n",
        "# Time Complexity : O((n−m+1) * m)\n",
        "# Space Complexity : O(1)"
      ],
      "metadata": {
        "colab": {
          "base_uri": "https://localhost:8080/"
        },
        "id": "WKw4WJkAyXJA",
        "outputId": "7389f29f-bda0-4c1e-d910-e232014890a1"
      },
      "execution_count": null,
      "outputs": [
        {
          "output_type": "stream",
          "name": "stdout",
          "text": [
            "0\n",
            "10\n"
          ]
        }
      ]
    },
    {
      "cell_type": "code",
      "source": [
        "# Improved Naive for Distinct in Pattern\n",
        "\n",
        "def distpat(txt, pat):\n",
        "  m, n = len(pat), len(txt)\n",
        "  i = 0\n",
        "\n",
        "  while i <= (n-m):\n",
        "    for j in range(m):\n",
        "      if pat[j] != txt[i+j]:\n",
        "        break\n",
        "    if j == m:\n",
        "      print(i, end = ' ')\n",
        "\n",
        "    if j == 0:\n",
        "      i += 1\n",
        "\n",
        "    else:\n",
        "      i += j\n",
        "\n",
        "text = \"geeks for geeks\"\n",
        "pat = \"geeks\"\n",
        "find(text, pat)\n",
        "\n",
        "# Time Complexity : O(n−m+1)\n",
        "# Space Complexity : O(1)"
      ],
      "metadata": {
        "colab": {
          "base_uri": "https://localhost:8080/"
        },
        "id": "ZmDF9oeq0CAM",
        "outputId": "6d3f4fd6-8476-43e0-98a6-2f72a23ef8fe"
      },
      "execution_count": null,
      "outputs": [
        {
          "output_type": "stream",
          "name": "stdout",
          "text": [
            "0\n",
            "10\n"
          ]
        }
      ]
    },
    {
      "cell_type": "markdown",
      "source": [
        "# Rabin Karp Algorithm\n",
        "\n",
        "1) Like Naive Algorithm, slide the pattern one by one\n",
        "\n",
        "2) Compare hash value of pattern and current text window. If hash values match, then only comapare individual characters\n",
        "\n",
        "p : Hash Value of pattern\n",
        "t : Hash Value of current window of text\n",
        "\n",
        "### Rolling Hash\n",
        "\n",
        "ti+1 = ti + txt[i + m] - txt[i]\n",
        "\n",
        "m = length of pattern\n",
        "\n",
        "### Improved hash\n",
        "\n",
        "h(\"abc\") = 1 * d^2 + 2 * d^1 + 3 * d^0 = 1 * 5^2 + 2 * 5^1 + 3 * 5^0 = 38\n",
        "\n",
        "h(\"dab\") = 4 * d^2 + 1 * d^1 + 2 * d^0 = 4 * 5^2 + 1 * 5^1 + 2 * 5^0 = 107\n",
        "\n",
        "### Rolling\n",
        "\n",
        "ti+1 = d(ti - txt[i] * d^(m-1)) + txt[i + m ]\n",
        "\n",
        "m -> length of pattern"
      ],
      "metadata": {
        "id": "T2-3krvV04BB"
      }
    },
    {
      "cell_type": "code",
      "source": [
        "d = 256\n",
        "\n",
        "def RKSearch(pat, txt, q):\n",
        "    m, n = len(pat), len(txt)\n",
        "    h = 1\n",
        "\n",
        "    for i in range(m-1):\n",
        "        h = (h * d) % q\n",
        "\n",
        "    p, t = 0, 0\n",
        "\n",
        "    for i in range(m):\n",
        "        p = (p * d + ord(pat[i])) % q\n",
        "        t = (t * d + ord(txt[i])) % q\n",
        "\n",
        "    for i in range(n - m + 1):\n",
        "        if p == t:\n",
        "            match = True\n",
        "            for j in range(m):\n",
        "                if txt[i + j] != pat[j]:\n",
        "                    match = False\n",
        "                    break\n",
        "            if match:\n",
        "                print(i, end=\" \")\n",
        "\n",
        "        if i < n - m:\n",
        "            t = (d * (t - ord(txt[i]) * h) + ord(txt[i + m])) % q\n",
        "\n",
        "            if t < 0:\n",
        "                t = t + q\n",
        "\n",
        "text = \"geeks for geeks\"\n",
        "pat = \"geeks\"\n",
        "q = 101\n",
        "RKSearch(pat, text, q)\n",
        "\n",
        "# Time Complexity : O((n-m+1) * m)"
      ],
      "metadata": {
        "colab": {
          "base_uri": "https://localhost:8080/"
        },
        "id": "ibG616N20x8s",
        "outputId": "55a3c32d-636e-47ef-e62a-c5e3394b4564"
      },
      "execution_count": null,
      "outputs": [
        {
          "output_type": "stream",
          "name": "stdout",
          "text": [
            "0 10 "
          ]
        }
      ]
    },
    {
      "cell_type": "markdown",
      "source": [
        "# KMP Algorithm (Constructing Longest Prefix Suffix Array)\n",
        "\n",
        "Proper prefixes of 'abc' : \" \", \"a\", \"ab\"\n",
        "\n",
        "Proper suffixes of 'abc' : \" \", \"c\", \"bc\", \"abc\"\n",
        "\n",
        "I/P : str = \"ababc\"\n",
        "\n",
        "O/P : lps[] = [0, 0, 1, 2, 0]\n",
        "\n",
        "I/P : str = \"aaaa\"\n",
        "\n",
        "O/P : lps[] = [0, 1, 2, 3]\n",
        "\n",
        "I/P : str = \"abacabad\"\n",
        "\n",
        "O/P : lps[] = [0, 0, 1, 0, 1, 2, 3, 0]\n"
      ],
      "metadata": {
        "id": "qmu0CPWv5-fU"
      }
    },
    {
      "cell_type": "code",
      "source": [
        "def longProperPrefixSuffix(str1, n):\n",
        "  for len in range(n-1, -1, -1):\n",
        "    for j in range(len):\n",
        "      if str1[j] != str1[n - len + j]:\n",
        "        break\n",
        "    else:\n",
        "      return len\n",
        "  return 0\n",
        "\n",
        "def fillLps(str1, lps):\n",
        "  lps[0] = 0\n",
        "  for i in range(1, len(str1)):\n",
        "    lps[i] = longProperPrefixSuffix(str1, i + 1)\n",
        "\n",
        "str1 = \"ababc\"\n",
        "lps = [i for i in range(len(str1))]\n",
        "fillLps(str1, lps)\n",
        "print(lps)\n",
        "\n",
        "# Time Complexity : O(n^2)\n",
        "# Space Complexity : O(n)"
      ],
      "metadata": {
        "colab": {
          "base_uri": "https://localhost:8080/"
        },
        "id": "LU5Z9_QK44Zz",
        "outputId": "193ccb49-a2a7-4059-b267-0239ff3ac99b"
      },
      "execution_count": null,
      "outputs": [
        {
          "output_type": "stream",
          "name": "stdout",
          "text": [
            "[0, 0, 1, 2, 0]\n"
          ]
        }
      ]
    },
    {
      "cell_type": "code",
      "source": [
        "# Efficient Solution\n",
        "\n",
        "#     If len = lpe[i-1] and str[len] and str[i] are same, then lps[i] = len + 1\n",
        "#     If str[i] and str[len] are not Same\n",
        "#          a) if len == 0\n",
        "#          b) else, we recursively apply lps[]\n",
        "#                         len = lps[len-1]\n",
        "#                   then comapare str[i] with str[len]"
      ],
      "metadata": {
        "id": "Y4UTMS8t7mxP"
      },
      "execution_count": null,
      "outputs": []
    },
    {
      "cell_type": "code",
      "source": [
        "def fillLps(str1, lps):\n",
        "    lps[0] = 0\n",
        "    i = 1\n",
        "    length = 0\n",
        "    n = len(list(str1))\n",
        "\n",
        "    while i < n:\n",
        "        if str1[i] == str1[length]:\n",
        "            length += 1\n",
        "            lps[i] = length\n",
        "            i += 1\n",
        "        else:\n",
        "            if length == 0:\n",
        "                lps[i] = 0\n",
        "                i += 1\n",
        "            else:\n",
        "                length = lps[length - 1]\n",
        "\n",
        "str1 = \"ababc\"\n",
        "lps = [0] * len(str1)\n",
        "fillLps(str1, lps)\n",
        "print(lps)\n",
        "\n",
        "# Time Complexity : O(n)\n",
        "# Space Complexity : O(n)"
      ],
      "metadata": {
        "colab": {
          "base_uri": "https://localhost:8080/"
        },
        "id": "Dr_oawHh9w6u",
        "outputId": "2304ff8c-11b8-401c-e26d-bd79592391c9"
      },
      "execution_count": 2,
      "outputs": [
        {
          "output_type": "stream",
          "name": "stdout",
          "text": [
            "[0, 0, 1, 2, 0]\n"
          ]
        }
      ]
    },
    {
      "cell_type": "markdown",
      "source": [
        "# KMP String Matching\n",
        "\n",
        "I/P : txt = \"abcdefg\" ; pat = \"bcd\"\n",
        "\n",
        "O/P : 1\n",
        "\n",
        "I/P : txt = \"aaaaab\" ; pat = \"aaaa\"\n",
        "\n",
        "O/P : 0 1"
      ],
      "metadata": {
        "id": "nsjcUvgw6XJN"
      }
    },
    {
      "cell_type": "code",
      "source": [
        "# Naive Solution\n",
        "\n",
        "def naiveStringMatching(txt, pat):\n",
        "    n = len(txt)\n",
        "    m = len(pat)\n",
        "\n",
        "    for i in range(n - m + 1):\n",
        "        j = 0\n",
        "        while j < m and txt[i + j] == pat[j]:\n",
        "            j += 1\n",
        "\n",
        "        if j == m:\n",
        "            print(i, end=\" \")\n",
        "\n",
        "txt = \"abcdefg\"\n",
        "pat = \"bcd\"\n",
        "naiveStringMatching(txt, pat)\n",
        "print()\n",
        "\n",
        "txt = \"aaaaab\"\n",
        "pat = \"aaaa\"\n",
        "naiveStringMatching(txt, pat)\n",
        "\n",
        "# Time Complexity : O((n-m)*m)\n",
        "# Space Complexity : O(1)"
      ],
      "metadata": {
        "id": "rrzgbjuz-PGE",
        "colab": {
          "base_uri": "https://localhost:8080/"
        },
        "outputId": "d24c2daf-3408-42c9-d0fa-6f79dec75615"
      },
      "execution_count": 3,
      "outputs": [
        {
          "output_type": "stream",
          "name": "stdout",
          "text": [
            "1 \n",
            "0 1 "
          ]
        }
      ]
    },
    {
      "cell_type": "code",
      "source": [
        "# Rabin Karp Algorithm\n",
        "\n",
        "d = 256\n",
        "\n",
        "def rabinKarp(txt, pat, q):\n",
        "    n = len(txt)\n",
        "    m = len(pat)\n",
        "    p_hash = 0\n",
        "    t_hash = 0\n",
        "    h = 1\n",
        "    results = []\n",
        "\n",
        "    for i in range(m - 1):\n",
        "        h = (h * d) % q\n",
        "\n",
        "    for i in range(m):\n",
        "        p_hash = (d * p_hash + ord(pat[i])) % q\n",
        "        t_hash = (d * t_hash + ord(txt[i])) % q\n",
        "\n",
        "    for i in range(n - m + 1):\n",
        "        if p_hash == t_hash:\n",
        "            match = True\n",
        "            for j in range(m):\n",
        "                if txt[i + j] != pat[j]:\n",
        "                    match = False\n",
        "                    break\n",
        "            if match:\n",
        "                results.append(i)\n",
        "\n",
        "        if i < n - m:\n",
        "            t_hash = (d * (t_hash - ord(txt[i]) * h) + ord(txt[i + m])) % q\n",
        "\n",
        "            if t_hash < 0:\n",
        "                t_hash = t_hash + q\n",
        "\n",
        "    return results\n",
        "\n",
        "txt = \"abcdefg\"\n",
        "pat = \"bcd\"\n",
        "q = 101\n",
        "result = rabinKarp(txt, pat, q)\n",
        "print(result)\n",
        "\n",
        "txt = \"aaaaab\"\n",
        "pat = \"aaaa\"\n",
        "result = rabinKarp(txt, pat, q)\n",
        "print(result)\n",
        "\n",
        "# Time Complexity : O(n + m)\n",
        "# Space Complexity : O(1)"
      ],
      "metadata": {
        "colab": {
          "base_uri": "https://localhost:8080/"
        },
        "id": "-m4DJXzg7BFz",
        "outputId": "0ef1421d-8ddc-4c5b-9648-a71b7978f2fe"
      },
      "execution_count": 4,
      "outputs": [
        {
          "output_type": "stream",
          "name": "stdout",
          "text": [
            "[1]\n",
            "[0, 1]\n"
          ]
        }
      ]
    },
    {
      "cell_type": "code",
      "source": [
        "# KMP : Knuth-Morris-Pratt\n",
        "\n",
        "def fillLPS(pat, lps):\n",
        "    M = len(pat)\n",
        "    length = 0\n",
        "    lps[0] = 0\n",
        "    i = 1\n",
        "\n",
        "    while i < M:\n",
        "        if pat[i] == pat[length]:\n",
        "            length += 1\n",
        "            lps[i] = length\n",
        "            i += 1\n",
        "        else:\n",
        "            if length != 0:\n",
        "                length = lps[length - 1]\n",
        "            else:\n",
        "                lps[i] = 0\n",
        "                i += 1\n",
        "\n",
        "def KMP(pat, txt):\n",
        "    N = len(txt)\n",
        "    M = len(pat)\n",
        "\n",
        "    lps = [0] * M\n",
        "    fillLPS(pat, lps)\n",
        "\n",
        "    i = 0\n",
        "    j = 0\n",
        "\n",
        "    while i < N:\n",
        "        if pat[j] == txt[i]:\n",
        "            i += 1\n",
        "            j += 1\n",
        "\n",
        "        if j == M:\n",
        "            print(\"Pattern found at index\", i - j)\n",
        "            j = lps[j - 1]\n",
        "\n",
        "        elif i < N and pat[j] != txt[i]:\n",
        "            if j != 0:\n",
        "                j = lps[j - 1]\n",
        "            else:\n",
        "                i += 1\n",
        "\n",
        "txt = \"aaaaabaaaaac\"\n",
        "pat = \"aaaa\"\n",
        "KMP(pat, txt)\n",
        "\n",
        "# Time Complexity : O(2^n)"
      ],
      "metadata": {
        "colab": {
          "base_uri": "https://localhost:8080/"
        },
        "id": "sg0xrFfF8VYu",
        "outputId": "2b930180-727c-4ab0-bec6-fcb701d44054"
      },
      "execution_count": 5,
      "outputs": [
        {
          "output_type": "stream",
          "name": "stdout",
          "text": [
            "Pattern found at index 0\n",
            "Pattern found at index 1\n",
            "Pattern found at index 6\n",
            "Pattern found at index 7\n"
          ]
        }
      ]
    },
    {
      "cell_type": "markdown",
      "source": [
        "# Anagram Search\n",
        "\n",
        "I/P : txt = \"geeksforgeeks\" ; pat = \"forg\"\n",
        "\n",
        "O/P : Yes\n",
        "\n",
        "I/P : txt = \"geeksforgeeks\" ; pat = \"rseek\"\n",
        "\n",
        "O/P : No"
      ],
      "metadata": {
        "id": "G1vhe9AE9_8G"
      }
    },
    {
      "cell_type": "code",
      "source": [
        "# Naive Solution\n",
        "\n",
        "CHAR = 256\n",
        "\n",
        "def areAnagram(pat, txt, i):\n",
        "  count = [0] * CHAR\n",
        "\n",
        "  for j in range(len(pat)):\n",
        "    count[ord(pat[j])] += 1\n",
        "    count[ord(txt[i+j])] -= 1\n",
        "\n",
        "  for j in range(CHAR):\n",
        "    if count[j] != 0:\n",
        "      return False\n",
        "\n",
        "  return True\n",
        "\n",
        "def ispresent(txt, pat):\n",
        "  n = len(txt)\n",
        "  m = len(pat)\n",
        "\n",
        "  for i in range(n-m+1):\n",
        "    if areAnagram(pat, txt, i):\n",
        "      return True\n",
        "  return False\n",
        "\n",
        "txt = \"geeksforgeeks\"\n",
        "pat = \"forg\"\n",
        "\n",
        "ispresent(txt, pat)\n",
        "\n",
        "# Time Complexity : O((n-m+1)*m)\n",
        "# Space Complexity : O(1)"
      ],
      "metadata": {
        "colab": {
          "base_uri": "https://localhost:8080/"
        },
        "id": "uP_fmUZP9PHo",
        "outputId": "3cb2b84d-fe18-4b38-f2b7-7c5093c2bbc1"
      },
      "execution_count": 7,
      "outputs": [
        {
          "output_type": "execute_result",
          "data": {
            "text/plain": [
              "True"
            ]
          },
          "metadata": {},
          "execution_count": 7
        }
      ]
    },
    {
      "cell_type": "code",
      "source": [
        "# Efficient Solution\n",
        "\n",
        "CHAR = 256\n",
        "\n",
        "def areAnagram(CT, CP):\n",
        "  for i in range(CHAR):\n",
        "    if CT[i] != CP[i]:\n",
        "      return False\n",
        "\n",
        "  return True\n",
        "\n",
        "def isPresent(txt, pat):\n",
        "  n = len(txt)\n",
        "  m = len(pat)\n",
        "\n",
        "  CT = [0] * CHAR\n",
        "  CP = [0] * CHAR\n",
        "\n",
        "  for i in range(m):\n",
        "    CT[ord(txt[i])] += 1\n",
        "    CP[ord(pat[i])] += 1\n",
        "\n",
        "  for i in range(m, n):\n",
        "    if areAnagram(CT, CP):\n",
        "      return True\n",
        "\n",
        "    CT[ord(txt[i])] += 1\n",
        "    CT[ord(txt[i - m])] -= 1\n",
        "\n",
        "  return False\n",
        "\n",
        "txt = \"geeksforgeeks\"\n",
        "pat = \"forg\"\n",
        "\n",
        "isPresent(txt, pat)\n",
        "\n",
        "# Time Complexity : O(n * CHAR)\n",
        "# Space Complexity : O(CHAR)"
      ],
      "metadata": {
        "colab": {
          "base_uri": "https://localhost:8080/"
        },
        "id": "0qsL8h5B--0a",
        "outputId": "bb8dba66-ce73-4111-dba2-491d2d1d1d9c"
      },
      "execution_count": 9,
      "outputs": [
        {
          "output_type": "execute_result",
          "data": {
            "text/plain": [
              "True"
            ]
          },
          "metadata": {},
          "execution_count": 9
        }
      ]
    },
    {
      "cell_type": "markdown",
      "source": [
        "# Lexicographic rank of a string\n",
        "\n",
        "    String   Rank\n",
        "\n",
        "    ABC       1\n",
        "    ACB       2\n",
        "    BAC       3\n",
        "    BCA       4\n",
        "    CAB       5\n",
        "    CBA       6\n",
        "\n",
        "I/P : str = \"ABC\"\n",
        "\n",
        "O/P : 1\n",
        "\n",
        "I/P : str = \"BAC\"\n",
        "\n",
        "O/P : 3\n",
        "\n",
        "\n",
        "### Naive Solution\n",
        "\n",
        "Pen & Paper Method : O(n * n!)"
      ],
      "metadata": {
        "id": "8TYg68FWAVO3"
      }
    },
    {
      "cell_type": "code",
      "source": [
        "# Efficient Solution\n",
        "\n",
        "CHAR = 256\n",
        "\n",
        "def fact(n):\n",
        "    result = 1\n",
        "    for i in range(2, n + 1):\n",
        "        result *= i\n",
        "    return result\n",
        "\n",
        "def lesRank(str1):\n",
        "  res = 1\n",
        "  n = len(str1)\n",
        "  mul = fact(n)\n",
        "  count = [0] * CHAR\n",
        "\n",
        "  for i in range(n):\n",
        "    count[ord(str1[i])] += 1\n",
        "\n",
        "  for i in range(1, CHAR):\n",
        "    count[i] += count[i-1]\n",
        "\n",
        "  for i in range(n-1):\n",
        "    mul = mul//(n-i)\n",
        "\n",
        "    res += count[ord(str1[i]) - 1] * mul\n",
        "\n",
        "    for j in range(ord(str1[i]), CHAR):\n",
        "      count[j] -= 1\n",
        "\n",
        "  return res\n",
        "\n",
        "str1 = \"BAC\"\n",
        "lesRank(str1)\n",
        "\n",
        "# Time Complexity : O(n * CHAR) = O(n)"
      ],
      "metadata": {
        "colab": {
          "base_uri": "https://localhost:8080/"
        },
        "id": "20wB5eqJAQCi",
        "outputId": "47e77502-dbd1-455d-f642-2919d0c28086"
      },
      "execution_count": 11,
      "outputs": [
        {
          "output_type": "execute_result",
          "data": {
            "text/plain": [
              "3"
            ]
          },
          "metadata": {},
          "execution_count": 11
        }
      ]
    },
    {
      "cell_type": "markdown",
      "source": [
        "# Longest SubString with Distinct Characters\n",
        "\n",
        "I/P : str = \"abcdabc\"\n",
        "\n",
        "O/P : 4\n",
        "\n",
        "I/P : str = \"aaa\"\n",
        "\n",
        "O/P : 1"
      ],
      "metadata": {
        "id": "gVdHECHCCHYy"
      }
    },
    {
      "cell_type": "code",
      "source": [
        "# Naive Solution\n",
        "\n",
        "def areDistinct(str1, i, j):\n",
        "  visited = [0] * 256\n",
        "\n",
        "  for k in range(i, j+1):\n",
        "    if visited[ord(str1[k])] == True:\n",
        "      return False\n",
        "\n",
        "    visited[ord(str1[k])] = True\n",
        "\n",
        "  return True\n",
        "\n",
        "def longestDistinct(str1):\n",
        "  n = len(str1)\n",
        "  res = 0\n",
        "\n",
        "  for i in range(n):\n",
        "    for j in range(i, n):\n",
        "      if areDistinct(str1, i, j):\n",
        "        res = max(res, j - i + 1)\n",
        "\n",
        "  return res\n",
        "\n",
        "str1 = \"abcdabc\"\n",
        "longestDistinct(str1)\n",
        "\n",
        "# Time Complexity : O(n^3)"
      ],
      "metadata": {
        "colab": {
          "base_uri": "https://localhost:8080/"
        },
        "id": "8UL65E-iB5AR",
        "outputId": "e5e89441-1947-4440-bed0-e91084687b9d"
      },
      "execution_count": 12,
      "outputs": [
        {
          "output_type": "execute_result",
          "data": {
            "text/plain": [
              "4"
            ]
          },
          "metadata": {},
          "execution_count": 12
        }
      ]
    },
    {
      "cell_type": "code",
      "source": [
        "# Better Solution\n",
        "\n",
        "def longestDistinct(str1):\n",
        "  n = len(str1)\n",
        "  res = 0\n",
        "\n",
        "  for i in range(n):\n",
        "    visited = [0] * 256\n",
        "\n",
        "    for j in range(i, n):\n",
        "      if visited[ord(str1[j])] == True:\n",
        "        break\n",
        "      else:\n",
        "        res = max(res, j - i + 1)\n",
        "        visited[ord(str1[j])] = True\n",
        "\n",
        "  return res\n",
        "\n",
        "vstr1 = \"abcdabc\"\n",
        "longestDistinct(str1)\n",
        "\n",
        "# Time Complexity : O(n^2)"
      ],
      "metadata": {
        "colab": {
          "base_uri": "https://localhost:8080/"
        },
        "id": "aL1GXvZ3C1TZ",
        "outputId": "0553787f-adfa-4cbb-c53f-8ea02b124a7d"
      },
      "execution_count": 14,
      "outputs": [
        {
          "output_type": "execute_result",
          "data": {
            "text/plain": [
              "4"
            ]
          },
          "metadata": {},
          "execution_count": 14
        }
      ]
    },
    {
      "cell_type": "code",
      "source": [
        "# Efficient Solution\n",
        "\n",
        "def longestDistinct(str1):\n",
        "  n = len(str1)\n",
        "  res = 0\n",
        "  prev = [-1] * 256\n",
        "  i = 0\n",
        "\n",
        "  for j in range(n):\n",
        "    i = max(i, prev[ord(str1[j])] + 1)\n",
        "    maxEnd = j - i + 1\n",
        "    res = max(res, maxEnd)\n",
        "    prev[ord(str1[j])] = j\n",
        "\n",
        "  return res\n",
        "\n",
        "vstr1 = \"abcdabc\"\n",
        "longestDistinct(str1)\n",
        "\n",
        "# Time Complexity : O(n)"
      ],
      "metadata": {
        "colab": {
          "base_uri": "https://localhost:8080/"
        },
        "id": "zadmqP8tDTGk",
        "outputId": "33c0542f-bbd4-4a6d-a204-9a5391c8c710"
      },
      "execution_count": 15,
      "outputs": [
        {
          "output_type": "execute_result",
          "data": {
            "text/plain": [
              "4"
            ]
          },
          "metadata": {},
          "execution_count": 15
        }
      ]
    },
    {
      "cell_type": "code",
      "source": [],
      "metadata": {
        "id": "UvZNnQhJEJrF"
      },
      "execution_count": null,
      "outputs": []
    }
  ]
}