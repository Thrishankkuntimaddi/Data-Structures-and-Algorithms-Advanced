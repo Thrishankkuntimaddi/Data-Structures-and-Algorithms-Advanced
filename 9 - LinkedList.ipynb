{
  "nbformat": 4,
  "nbformat_minor": 0,
  "metadata": {
    "colab": {
      "provenance": [],
      "authorship_tag": "ABX9TyPQ8nkabOG8la6WGWM0IGbi",
      "include_colab_link": true
    },
    "kernelspec": {
      "name": "python3",
      "display_name": "Python 3"
    },
    "language_info": {
      "name": "python"
    }
  },
  "cells": [
    {
      "cell_type": "markdown",
      "metadata": {
        "id": "view-in-github",
        "colab_type": "text"
      },
      "source": [
        "<a href=\"https://colab.research.google.com/github/Thrishankkuntimaddi/Data-Structures-and-Algorithms-Advanced/blob/main/9%20-%20LinkedList.ipynb\" target=\"_parent\"><img src=\"https://colab.research.google.com/assets/colab-badge.svg\" alt=\"Open In Colab\"/></a>"
      ]
    },
    {
      "cell_type": "markdown",
      "source": [
        "# Reverse First K Nodes\n",
        "\n",
        "I/P : 10 -> 20 -> 30 -> 40 -> 50 -> 60 ; k = 3\n",
        "\n",
        "O/P : 30 -> 20 -> 10 -> 60 -> 50 -> 40\n",
        "\n",
        "I/P : 10 -> 20 -> 30 -> 40 -> 50 ; k = 3\n",
        "\n",
        "O/P : 30 -> 20 -> 10 -> 50 -> 40"
      ],
      "metadata": {
        "id": "CaK3wm5sG1wj"
      }
    },
    {
      "cell_type": "code",
      "execution_count": 6,
      "metadata": {
        "colab": {
          "base_uri": "https://localhost:8080/"
        },
        "id": "G_k6133KEewd",
        "outputId": "8e6da83f-3a27-4d87-b095-94facbaa8e51"
      },
      "outputs": [
        {
          "output_type": "stream",
          "name": "stdout",
          "text": [
            "3 -> 2 -> 1 -> 5 -> 4 -> None\n"
          ]
        }
      ],
      "source": [
        "# Recursive Solution\n",
        "\n",
        "class ListNode:\n",
        "    def __init__(self, value=0, next=None):\n",
        "        self.value = value\n",
        "        self.next = next\n",
        "\n",
        "def printList(head):\n",
        "    curr = head\n",
        "    while curr:\n",
        "        print(curr.value, end=\" -> \")\n",
        "        curr = curr.next\n",
        "    print(\"None\")\n",
        "\n",
        "def recRevK(head, k):\n",
        "  curr = head\n",
        "  prev, next = None, None\n",
        "  count = 0\n",
        "\n",
        "  while curr != None and count < k:\n",
        "    next = curr.next\n",
        "    curr.next = prev\n",
        "    prev = curr\n",
        "    curr = next\n",
        "    count += 1\n",
        "\n",
        "  if next != None:\n",
        "    rem_head = recRevK(curr, k)\n",
        "    head.next = rem_head\n",
        "\n",
        "  return prev\n",
        "\n",
        "head = ListNode(1)\n",
        "head.next = ListNode(2)\n",
        "head.next.next = ListNode(3)\n",
        "head.next.next.next = ListNode(4)\n",
        "head.next.next.next.next = ListNode(5)\n",
        "\n",
        "\n",
        "curr = head\n",
        "new_head = recRevK(curr, 3)\n",
        "printList(new_head)"
      ]
    },
    {
      "cell_type": "code",
      "source": [
        "# Iterative Solution\n",
        "\n",
        "class ListNode:\n",
        "    def __init__(self, value=0, next=None):\n",
        "        self.value = value\n",
        "        self.next = next\n",
        "\n",
        "def iteRevK(head, k):\n",
        "    curr = head\n",
        "    prev_first = None\n",
        "    first_pass = True\n",
        "\n",
        "    while curr is not None:\n",
        "        first, prev = curr, None\n",
        "        count = 0\n",
        "\n",
        "        while curr is not None and count < k:\n",
        "            next_node = curr.next\n",
        "            curr.next = prev\n",
        "            prev = curr\n",
        "            curr = next_node\n",
        "            count += 1\n",
        "\n",
        "        if first_pass:\n",
        "            head = prev\n",
        "            first_pass = False\n",
        "        else:\n",
        "            prev_first.next = prev\n",
        "\n",
        "        prev_first = first\n",
        "\n",
        "    return head\n",
        "\n",
        "def printList(head):\n",
        "    curr = head\n",
        "    while curr:\n",
        "        print(curr.value, end=\" -> \")\n",
        "        curr = curr.next\n",
        "    print(\"None\")\n",
        "\n",
        "head = ListNode(1)\n",
        "head.next = ListNode(2)\n",
        "head.next.next = ListNode(3)\n",
        "head.next.next.next = ListNode(4)\n",
        "head.next.next.next.next = ListNode(5)\n",
        "\n",
        "k = 3\n",
        "new_head = iteRevK(head, k)\n",
        "\n",
        "printList(new_head)"
      ],
      "metadata": {
        "colab": {
          "base_uri": "https://localhost:8080/"
        },
        "id": "omhlqeO-IMJN",
        "outputId": "c0daa593-5395-4129-de2b-4e7aec4adb0d"
      },
      "execution_count": 7,
      "outputs": [
        {
          "output_type": "stream",
          "name": "stdout",
          "text": [
            "3 -> 2 -> 1 -> 5 -> 4 -> None\n"
          ]
        }
      ]
    },
    {
      "cell_type": "markdown",
      "source": [
        "# Detect Loop using Floyd's Cycle Detection\n",
        "\n",
        "I/P : 10 -> 20 -> 30 -> 40 -> 50 ; 50 connected to 30\n",
        "\n",
        "O/P : Yes\n",
        "\n",
        "\n",
        "\n",
        "Algorithm:\n",
        "\n",
        "1. Intialize slow = head & fast = head\n",
        "\n",
        "2. Move slow one by one and fast by two; if these pointers meet then there is a loop\n",
        "\n",
        "\n",
        "### How does the Algorithm work..?\n",
        "\n",
        "-> fast_p will enter into the loop before (or at same time as slow)\n",
        "\n",
        "-> Let fast_p be k distance ahead of slow_p when slow_p enters the loop where k>=0\n",
        "\n",
        "-> This distance keeps on increasing by one in every movement of both pointers\n",
        "\n",
        "-> When distance becomes length of cycle, they meet"
      ],
      "metadata": {
        "id": "ahCT0z8gc8LL"
      }
    },
    {
      "cell_type": "code",
      "source": [
        "class ListNode:\n",
        "    def __init__(self, value=0, next=None):\n",
        "        self.value = value\n",
        "        self.next = next\n",
        "\n",
        "def isLoop(head):\n",
        "  slow = head\n",
        "  fast = head\n",
        "\n",
        "  while fast != None and fast.next != None:\n",
        "    slow = slow.next\n",
        "    fast = fast.next.next\n",
        "\n",
        "    if slow == fast:\n",
        "      return True\n",
        "\n",
        "  return False\n",
        "\n",
        "head = ListNode(1)\n",
        "head.next = ListNode(2)\n",
        "head.next.next = ListNode(3)\n",
        "head.next.next.next = ListNode(4)\n",
        "head.next.next.next.next = ListNode(5)\n",
        "\n",
        "print(isLoop(head))\n",
        "\n",
        "head = ListNode(1)\n",
        "head.next = ListNode(2)\n",
        "head.next.next = ListNode(3)\n",
        "head.next.next.next = ListNode(4)\n",
        "head.next.next.next.next = ListNode(5)\n",
        "head.next.next.next.next = head.next.next\n",
        "\n",
        "print(isLoop(head))\n",
        "\n",
        "# Time Complexity : O(m+n)"
      ],
      "metadata": {
        "id": "WhStW1tHJE9j",
        "colab": {
          "base_uri": "https://localhost:8080/"
        },
        "outputId": "3b476392-1b0f-44c1-9e4f-9033a3481119"
      },
      "execution_count": 4,
      "outputs": [
        {
          "output_type": "stream",
          "name": "stdout",
          "text": [
            "False\n",
            "True\n"
          ]
        }
      ]
    },
    {
      "cell_type": "markdown",
      "source": [
        "# Delete and Remove loop in a LinkedList\n",
        "\n",
        "I/P : 10 -> 15 -> 5 -> 20 ; 20 connected to 15\n",
        "\n",
        "O/p : 10 -> 15 -> 5 -> 20\n",
        "\n",
        "\n",
        "### Solution\n",
        "\n",
        "-> Detect loop using Floyd's detection algorithm\n",
        "\n",
        "-> Move \"slow\" to the beginning of linkedlist and keep \"fast\" at the meeting point\n",
        "\n",
        "-> Now one by one move slow and fast (at same speed), The point where they meet now is the first node of the loop\n",
        "\n",
        "\n",
        "\n",
        "### How does Algorithm work..?\n",
        "\n",
        "Before the first meeting point.\n",
        "\n",
        "(Distance Travelled by slow) * 2 = Distanve Travelled by Fast\n",
        "\n",
        "(m + k + x * n) * 2 = (m + k + y * n)\n",
        "\n",
        "(m + k ) = n (y - 2 * x)\n",
        "\n",
        "Therefore, m + k is multiple of n\n",
        "\n",
        "x -> no.of iterations made by slow before the first meeting point\n",
        "\n",
        "y -> no.of iterations made by fast before the first meeting point\n",
        "\n",
        "If (m + k) is a multiple of n, then second meeting point is going to be the first node of loop\n",
        "\n",
        "### Variations\n",
        "\n",
        "1. Find length of a loop\n",
        "\n",
        "2. Find the first node of loop"
      ],
      "metadata": {
        "id": "_NOWgfVXen_W"
      }
    },
    {
      "cell_type": "code",
      "source": [
        "class ListNode:\n",
        "    def __init__(self, value=0, next=None):\n",
        "        self.value = value\n",
        "        self.next = next\n",
        "\n",
        "def detectRemove(head):\n",
        "    if not head:\n",
        "        return\n",
        "\n",
        "    slow = head\n",
        "    fast = head\n",
        "\n",
        "    while fast and fast.next:\n",
        "        slow = slow.next\n",
        "        fast = fast.next.next\n",
        "        if slow == fast:\n",
        "            break\n",
        "\n",
        "    if slow != fast:\n",
        "        return\n",
        "\n",
        "    slow = head\n",
        "    if slow == fast:\n",
        "        while fast.next != slow:\n",
        "            fast = fast.next\n",
        "    else:\n",
        "        while slow.next != fast.next:\n",
        "            slow = slow.next\n",
        "            fast = fast.next\n",
        "\n",
        "    fast.next = None\n",
        "\n",
        "def printList(head):\n",
        "    curr = head\n",
        "    while curr:\n",
        "        print(curr.value, end=\" -> \")\n",
        "        curr = curr.next\n",
        "    print(\"None\")\n",
        "\n",
        "head = ListNode(1)\n",
        "head.next = ListNode(2)\n",
        "head.next.next = ListNode(3)\n",
        "head.next.next.next = ListNode(4)\n",
        "head.next.next.next.next = ListNode(5)\n",
        "head.next.next.next.next.next = head.next.next\n",
        "\n",
        "detectRemove(head)\n",
        "\n",
        "printList(head)"
      ],
      "metadata": {
        "colab": {
          "base_uri": "https://localhost:8080/"
        },
        "id": "skWJX-utdusV",
        "outputId": "5de2b847-e8d0-4c64-8ccd-f9d18f33dec2"
      },
      "execution_count": 18,
      "outputs": [
        {
          "output_type": "stream",
          "name": "stdout",
          "text": [
            "1 -> 2 -> 3 -> 4 -> 5 -> None\n"
          ]
        }
      ]
    },
    {
      "cell_type": "markdown",
      "source": [
        "# Intersection point of Two Linked Lists\n",
        "\n",
        "I/P : 5 -> 8 -> 7 -> 10 -> 12 -> 15 -> None ; 9\n",
        "\n",
        "O/P : 10"
      ],
      "metadata": {
        "id": "BQUCr3MAjU-j"
      }
    },
    {
      "cell_type": "code",
      "source": [
        "# Method 1\n",
        "\n",
        "class ListNode:\n",
        "    def __init__(self, value=0, next=None):\n",
        "        self.value = value\n",
        "        self.next = next\n",
        "\n",
        "def getIntersection(head1, head2):\n",
        "    nodes_set = set()\n",
        "    curr = head1\n",
        "\n",
        "    while curr:\n",
        "        nodes_set.add(curr)\n",
        "        curr = curr.next\n",
        "\n",
        "    curr = head2\n",
        "\n",
        "    while curr:\n",
        "        if curr in nodes_set:\n",
        "            return curr.value\n",
        "        curr = curr.next\n",
        "\n",
        "    return -1\n",
        "\n",
        "def printList(head):\n",
        "    curr = head\n",
        "    while curr:\n",
        "        print(curr.value, end=\" -> \")\n",
        "        curr = curr.next\n",
        "    print(\"None\")\n",
        "\n",
        "head1 = ListNode(1)\n",
        "head1.next = ListNode(2)\n",
        "head1.next.next = ListNode(3)\n",
        "head1.next.next.next = ListNode(4)\n",
        "head1.next.next.next.next = ListNode(5)\n",
        "\n",
        "head2 = ListNode(9)\n",
        "head2.next = ListNode(10)\n",
        "head2.next.next = head1.next.next.next.next\n",
        "\n",
        "intersection_data = getIntersection(head1, head2)\n",
        "print(f\"The intersection point data is: {intersection_data}\")\n",
        "\n",
        "# Time Complexity : O(m + n)\n",
        "# Space Complexity : O(m)"
      ],
      "metadata": {
        "colab": {
          "base_uri": "https://localhost:8080/"
        },
        "id": "hTjNcZW1gjfS",
        "outputId": "4f4035d7-7b06-4041-a5a7-008736eb59a5"
      },
      "execution_count": 20,
      "outputs": [
        {
          "output_type": "stream",
          "name": "stdout",
          "text": [
            "The intersection point data is: 5\n"
          ]
        }
      ]
    },
    {
      "cell_type": "code",
      "source": [
        "# Method 2\n",
        "\n",
        "class ListNode:\n",
        "    def __init__(self, value=0, next=None):\n",
        "        self.value = value\n",
        "        self.next = next\n",
        "\n",
        "def getLength(head):\n",
        "    length = 0\n",
        "    curr = head\n",
        "    while curr:\n",
        "        length += 1\n",
        "        curr = curr.next\n",
        "    return length\n",
        "\n",
        "def getIntersection(d, head1, head2):\n",
        "    curr1 = head1\n",
        "    curr2 = head2\n",
        "\n",
        "    for i in range(d):\n",
        "        if curr1 is None:\n",
        "            return -1\n",
        "        curr1 = curr1.next\n",
        "\n",
        "    while curr1 and curr2:\n",
        "        if curr1 == curr2:\n",
        "            return curr1.value\n",
        "        curr1 = curr1.next\n",
        "        curr2 = curr2.next\n",
        "\n",
        "    return -1\n",
        "\n",
        "def findIntersection(head1, head2):\n",
        "    len1 = getLength(head1)\n",
        "    len2 = getLength(head2)\n",
        "\n",
        "    if len1 > len2:\n",
        "        return getIntersection(len1 - len2, head1, head2)\n",
        "    else:\n",
        "        return getIntersection(len2 - len1, head2, head1)\n",
        "\n",
        "head1 = ListNode(1)\n",
        "head1.next = ListNode(2)\n",
        "head1.next.next = ListNode(3)\n",
        "head1.next.next.next = ListNode(4)\n",
        "head1.next.next.next.next = ListNode(5)\n",
        "\n",
        "head2 = ListNode(9)\n",
        "head2.next = ListNode(10)\n",
        "head2.next.next = head1.next.next.next.next\n",
        "\n",
        "intersection_data = findIntersection(head1, head2)\n",
        "print(f\"The intersection point data is: {intersection_data}\")\n",
        "\n",
        "# Time Complexity : O(m + n)\n",
        "# Space Complexity : O(1)"
      ],
      "metadata": {
        "colab": {
          "base_uri": "https://localhost:8080/"
        },
        "id": "OtGRTxPUkj9t",
        "outputId": "270ed8fe-f378-4144-e943-97cc01d22243"
      },
      "execution_count": 24,
      "outputs": [
        {
          "output_type": "stream",
          "name": "stdout",
          "text": [
            "The intersection point data is: 5\n"
          ]
        }
      ]
    },
    {
      "cell_type": "markdown",
      "source": [
        "# Segregate Even and Odd Nodes\n",
        "\n",
        "I/P : 17 -> 15 -> 8 -> 12 -> 5\n",
        "\n",
        "O/P : 8 -> 12 -> 17 -> 15 -> 5\n",
        "\n",
        "### Naive Solution\n",
        "\n",
        "-> Find the last node reference/pointer bby doing a traversal\n",
        "\n",
        "-> Traverse the linkedlist again, For every odd node, insert it after the last node and make the newly inserted node as the new last node"
      ],
      "metadata": {
        "id": "Z3Mczuhxzmlv"
      }
    },
    {
      "cell_type": "code",
      "source": [
        "# Naive Solution\n",
        "\n",
        "class ListNode:\n",
        "    def __init__(self, value=0, next=None):\n",
        "        self.value = value\n",
        "        self.next = next\n",
        "\n",
        "def segregateEvenOdd(head):\n",
        "    if head is None:\n",
        "        return None\n",
        "\n",
        "    last = head\n",
        "    while last.next:\n",
        "        last = last.next\n",
        "\n",
        "    original_last = last\n",
        "\n",
        "    curr = head\n",
        "    prev = None\n",
        "\n",
        "    while curr != original_last:\n",
        "        if curr.value % 2 != 0:\n",
        "            if prev:\n",
        "                prev.next = curr.next\n",
        "            else:\n",
        "                head = curr.next\n",
        "\n",
        "            last.next = curr\n",
        "            last = curr\n",
        "            curr = curr.next\n",
        "            last.next = None\n",
        "        else:\n",
        "            prev = curr\n",
        "            curr = curr.next\n",
        "\n",
        "    if original_last.value % 2 != 0:\n",
        "        if prev:\n",
        "            prev.next = original_last.next\n",
        "        last.next = original_last\n",
        "        last = original_last\n",
        "        last.next = None\n",
        "\n",
        "    return head\n",
        "\n",
        "def printList(head):\n",
        "    curr = head\n",
        "    while curr:\n",
        "        print(curr.value, end=\" -> \")\n",
        "        curr = curr.next\n",
        "    print(\"None\")\n",
        "\n",
        "head = ListNode(17)\n",
        "head.next = ListNode(15)\n",
        "head.next.next = ListNode(8)\n",
        "head.next.next.next = ListNode(12)\n",
        "head.next.next.next.next = ListNode(5)\n",
        "\n",
        "print(\"Original list:\")\n",
        "printList(head)\n",
        "\n",
        "head = segregateEvenOdd(head)\n",
        "\n",
        "print(\"Segregated Even and Odd list:\")\n",
        "printList(head)"
      ],
      "metadata": {
        "colab": {
          "base_uri": "https://localhost:8080/"
        },
        "id": "Knwoxu63lRhY",
        "outputId": "51fb38f5-4d9a-438a-b54e-d652c4e88c49"
      },
      "execution_count": 25,
      "outputs": [
        {
          "output_type": "stream",
          "name": "stdout",
          "text": [
            "Original list:\n",
            "17 -> 15 -> 8 -> 12 -> 5 -> None\n",
            "Segregated Even and Odd list:\n",
            "8 -> 12 -> 17 -> 15 -> 5 -> None\n"
          ]
        }
      ]
    },
    {
      "cell_type": "code",
      "source": [
        "'''\n",
        "Idea for the One Traversal Solution\n",
        "\n",
        "we maintain 4 variables\n",
        "\n",
        "es -> reference/pointer to start of the even sublist\n",
        "ee -> reference/pointer to end of the even sublist\n",
        "os -> reference/pointer to start of the odd sublist\n",
        "oe -> reference/pointer to end of the odd sublist\n",
        "\n",
        "All of the above are initialized as Null/None\n",
        "\n",
        "While Traversing\n",
        "\n",
        "a) If current node is even, we insert it after ee and update ee. Also update es if this is the first node\n",
        "\n",
        "b) Similar to (a) for odd nodes\n",
        "\n",
        "After the loop, connect the two lists\n",
        "\n",
        "'''"
      ],
      "metadata": {
        "colab": {
          "base_uri": "https://localhost:8080/",
          "height": 89
        },
        "id": "0PALoa9A1qJi",
        "outputId": "9e5efb88-022c-4963-cd1d-75bae7bbbe8e"
      },
      "execution_count": 26,
      "outputs": [
        {
          "output_type": "execute_result",
          "data": {
            "text/plain": [
              "' \\nIdea for the One Traversal Solution \\n\\nwe maintain 4 variables \\n\\nes -> reference/pointer to start of the even sublist \\nee -> reference/pointer to end of the even sublist \\nos -> reference/pointer to start of the odd sublist \\noe -> reference/pointer to end of the odd sublist \\n\\nAll of the above are initialized as Null/None \\n\\nWhile Traversing \\n\\na) If current node is even, we insert it after ee and update ee. Also update es if this is the first node \\n\\nb) Similar to (a) for odd nodes \\n\\nAfter the loop, connect the two lists\\n\\n'"
            ],
            "application/vnd.google.colaboratory.intrinsic+json": {
              "type": "string"
            }
          },
          "metadata": {},
          "execution_count": 26
        }
      ]
    },
    {
      "cell_type": "code",
      "source": [
        "class ListNode:\n",
        "    def __init__(self, value=0, next=None):\n",
        "        self.data = value\n",
        "        self.next = next\n",
        "\n",
        "def segregate(head):\n",
        "    even_start, even_end = None, None\n",
        "    odd_start, odd_end = None, None\n",
        "    curr = head\n",
        "\n",
        "    while curr:\n",
        "        x = curr.data\n",
        "\n",
        "        if x % 2 == 0:\n",
        "            if even_start is None:\n",
        "                even_start = curr\n",
        "                even_end = even_start\n",
        "            else:\n",
        "                even_end.next = curr\n",
        "                even_end = even_end.next\n",
        "        else:\n",
        "            if odd_start is None:\n",
        "                odd_start = curr\n",
        "                odd_end = odd_start\n",
        "            else:\n",
        "                odd_end.next = curr\n",
        "                odd_end = odd_end.next\n",
        "\n",
        "        curr = curr.next\n",
        "\n",
        "    if odd_start is None or even_start is None:\n",
        "        return head\n",
        "\n",
        "    even_end.next = odd_start\n",
        "    odd_end.next = None\n",
        "\n",
        "    return even_start\n",
        "\n",
        "def printList(head):\n",
        "    curr = head\n",
        "    while curr:\n",
        "        print(curr.data, end=\" -> \")\n",
        "        curr = curr.next\n",
        "    print(\"None\")\n",
        "\n",
        "head = ListNode(17)\n",
        "head.next = ListNode(15)\n",
        "head.next.next = ListNode(8)\n",
        "head.next.next.next = ListNode(12)\n",
        "head.next.next.next.next = ListNode(5)\n",
        "\n",
        "print(\"Original list:\")\n",
        "printList(head)\n",
        "\n",
        "head = segregate(head)\n",
        "\n",
        "print(\"Segregated Even and Odd list:\")\n",
        "printList(head)\n"
      ],
      "metadata": {
        "colab": {
          "base_uri": "https://localhost:8080/"
        },
        "id": "t_GKb9TU2WV8",
        "outputId": "9347d938-b800-4f32-9a9f-5fb186622831"
      },
      "execution_count": 31,
      "outputs": [
        {
          "output_type": "stream",
          "name": "stdout",
          "text": [
            "Original list:\n",
            "17 -> 15 -> 8 -> 12 -> 5 -> None\n",
            "Segregated Even and Odd list:\n",
            "8 -> 12 -> 17 -> 15 -> 5 -> None\n"
          ]
        }
      ]
    },
    {
      "cell_type": "markdown",
      "source": [
        "# Pairwise Swap Nodes\n",
        "\n",
        "I/P : 1 -> 2 -> 3 -> 4\n",
        "\n",
        "O/P : 2 -> 1 -> 4 -> 3\n"
      ],
      "metadata": {
        "id": "WO7tCISs3lNs"
      }
    },
    {
      "cell_type": "code",
      "source": [
        "# Naive Solution\n",
        "'''\n",
        "Run a loop while we have atleast one node ahead\n",
        "\n",
        "  a) Swap data of current node with its next data\n",
        "\n",
        "  b) Move current two nodes ahead\n",
        "\n",
        "'''\n",
        "\n",
        "class ListNode:\n",
        "    def __init__(self, value=0, next=None):\n",
        "        self.data = value\n",
        "        self.next = next\n",
        "\n",
        "def pairwiseSwap(head):\n",
        "  curr = head\n",
        "\n",
        "  while curr != None and curr.next != None:\n",
        "    curr.data, curr.next.data = curr.next.data, curr.data\n",
        "    curr = curr.next.next\n",
        "  return head\n",
        "\n",
        "def printList(head):\n",
        "    curr = head\n",
        "    while curr:\n",
        "        print(curr.data, end=\" -> \")\n",
        "        curr = curr.next\n",
        "    print(\"None\")\n",
        "\n",
        "head = ListNode(17)\n",
        "head.next = ListNode(15)\n",
        "head.next.next = ListNode(8)\n",
        "head.next.next.next = ListNode(12)\n",
        "\n",
        "printList(head)\n",
        "curr = head\n",
        "pairwiseSwap(curr)\n",
        "printList(curr)"
      ],
      "metadata": {
        "colab": {
          "base_uri": "https://localhost:8080/"
        },
        "id": "zQ7jOQAD3NQs",
        "outputId": "11cf9c08-4628-4778-9307-f7769bfacfb5"
      },
      "execution_count": 34,
      "outputs": [
        {
          "output_type": "stream",
          "name": "stdout",
          "text": [
            "17 -> 15 -> 8 -> 12 -> None\n",
            "15 -> 17 -> 12 -> 8 -> None\n"
          ]
        }
      ]
    },
    {
      "cell_type": "code",
      "source": [
        "# Efficient Solution\n",
        "\n",
        "class ListNode:\n",
        "    def __init__(self, value=0, next=None):\n",
        "        self.data = value\n",
        "        self.next = next\n",
        "\n",
        "def pairwiseSwap(head):\n",
        "    if head == None or head.next == None:\n",
        "        return head\n",
        "\n",
        "    curr = head.next.next\n",
        "    prev = head\n",
        "\n",
        "    head = head.next\n",
        "    head.next = prev\n",
        "\n",
        "    while curr != None and curr.next != None:\n",
        "        prev.next = curr.next\n",
        "        prev = curr\n",
        "        next_node = curr.next.next\n",
        "        curr.next.next = curr\n",
        "        curr = next_node\n",
        "\n",
        "    prev.next = curr\n",
        "\n",
        "    return head\n",
        "\n",
        "def printList(head):\n",
        "    curr = head\n",
        "    while curr:\n",
        "        print(curr.data, end=\" -> \")\n",
        "        curr = curr.next\n",
        "    print(\"None\")\n",
        "\n",
        "\n",
        "head = ListNode(17)\n",
        "head.next = ListNode(15)\n",
        "head.next.next = ListNode(8)\n",
        "head.next.next.next = ListNode(12)\n",
        "\n",
        "print(\"Original list:\")\n",
        "printList(head)\n",
        "\n",
        "head = pairwiseSwap(head)\n",
        "\n",
        "print(\"List after pairwise swap:\")\n",
        "printList(head)\n"
      ],
      "metadata": {
        "colab": {
          "base_uri": "https://localhost:8080/"
        },
        "id": "Xhp8yNtM4Xum",
        "outputId": "571081d6-edd4-4bba-c4a7-84c27e9c6616"
      },
      "execution_count": 5,
      "outputs": [
        {
          "output_type": "stream",
          "name": "stdout",
          "text": [
            "Original list:\n",
            "17 -> 15 -> 8 -> 12 -> None\n",
            "List after pairwise swap:\n",
            "15 -> 17 -> 12 -> 8 -> None\n"
          ]
        }
      ]
    },
    {
      "cell_type": "markdown",
      "source": [
        "# Clone a LinkedList with Random Connections\n",
        "\n",
        "![PHOTO-2024-09-24-22-12-16.jpg](data:image/jpeg;base64,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)"
      ],
      "metadata": {
        "id": "JQiDQwNh5_Tl"
      }
    },
    {
      "cell_type": "markdown",
      "source": [
        "## Method 1 (Use Dictionary)\n",
        "\n",
        "-> Create an empty Dictionary\n",
        "\n",
        "-> Traverse through the list and do the following\n",
        "\n",
        "      for everynode:\n",
        "        d[curr] = Node(curr.data)\n",
        "\n",
        "-> Traverse through the list again and do:\n",
        "\n",
        "      d[curr].next = d[curr.next]\n",
        "      d[curr].random = d[curr.random]\n",
        "\n",
        "-> return d[h1]"
      ],
      "metadata": {
        "id": "4x3xDulo6nTl"
      }
    },
    {
      "cell_type": "code",
      "source": [
        "# Implementation\n",
        "\n",
        "class Node:\n",
        "    def __init__(self, data=0, next=None, random=None):\n",
        "        self.data = data\n",
        "        self.next = next\n",
        "        self.random = random\n",
        "\n",
        "def clone(head):\n",
        "    if head is None:\n",
        "        return None\n",
        "\n",
        "    d = {None: None}\n",
        "    curr = head\n",
        "\n",
        "    # Create a mapping from original nodes to their clones\n",
        "    while curr is not None:\n",
        "        d[curr] = Node(curr.data)\n",
        "        curr = curr.next\n",
        "\n",
        "    curr = head\n",
        "\n",
        "    # Set next and random pointers for the cloned nodes\n",
        "    while curr is not None:\n",
        "        d[curr].next = d[curr.next]\n",
        "        d[curr].random = d[curr.random]\n",
        "        curr = curr.next\n",
        "\n",
        "    return d[head]\n",
        "\n",
        "def printList(head):\n",
        "    curr = head\n",
        "    while curr:\n",
        "        random_data = curr.random.data if curr.random else None\n",
        "        print(f\"Node data: {curr.data}, Random points to: {random_data}\")\n",
        "        curr = curr.next\n",
        "\n",
        "# Example usage:\n",
        "# Creating a linked list with random pointers\n",
        "node1 = Node(1)\n",
        "node2 = Node(2)\n",
        "node3 = Node(3)\n",
        "node4 = Node(4)\n",
        "\n",
        "node1.next = node2\n",
        "node2.next = node3\n",
        "node3.next = node4\n",
        "\n",
        "node1.random = node3  # 1's random points to 3\n",
        "node2.random = node1  # 2's random points to 1\n",
        "node3.random = node4  # 3's random points to 4\n",
        "node4.random = node2  # 4's random points to 2\n",
        "\n",
        "print(\"Original list:\")\n",
        "printList(node1)\n",
        "\n",
        "# Cloning the list\n",
        "cloned_head = clone(node1)\n",
        "\n",
        "print(\"\\nCloned list:\")\n",
        "printList(cloned_head)\n",
        "\n",
        "\n",
        "# Time Complexity : θ(n)\n",
        "# Space Complexity : θ(n)"
      ],
      "metadata": {
        "colab": {
          "base_uri": "https://localhost:8080/"
        },
        "id": "7s71MnGL5Ce7",
        "outputId": "c8c8e78b-df20-4dec-d257-27978a487acf"
      },
      "execution_count": 6,
      "outputs": [
        {
          "output_type": "stream",
          "name": "stdout",
          "text": [
            "Original list:\n",
            "Node data: 1, Random points to: 3\n",
            "Node data: 2, Random points to: 1\n",
            "Node data: 3, Random points to: 4\n",
            "Node data: 4, Random points to: 2\n",
            "\n",
            "Cloned list:\n",
            "Node data: 1, Random points to: 3\n",
            "Node data: 2, Random points to: 1\n",
            "Node data: 3, Random points to: 4\n",
            "Node data: 4, Random points to: 2\n"
          ]
        }
      ]
    },
    {
      "cell_type": "code",
      "source": [
        "# Idea for Efficient Solution\n",
        "'''\n",
        "-> Create clone Nodes and Insert in given list at alternate postions\n",
        "\n",
        "-> Connect the clone nodes\n",
        "\n",
        "-> Separate the original and clone nodes\n",
        "\n",
        "'''"
      ],
      "metadata": {
        "colab": {
          "base_uri": "https://localhost:8080/",
          "height": 35
        },
        "id": "S_qMpmtp7zYC",
        "outputId": "e6dbb415-7ad3-41c6-cc45-9fbe49427975"
      },
      "execution_count": 7,
      "outputs": [
        {
          "output_type": "execute_result",
          "data": {
            "text/plain": [
              "'\\n-> Create clone Nodes and Insert in given list at alternate postions \\n\\n-> Connect the clone nodes \\n\\n-> Separate the original and clone nodes \\n\\n'"
            ],
            "application/vnd.google.colaboratory.intrinsic+json": {
              "type": "string"
            }
          },
          "metadata": {},
          "execution_count": 7
        }
      ]
    },
    {
      "cell_type": "code",
      "source": [
        "# Efficient Solution\n",
        "\n",
        "class Node:\n",
        "    def __init__(self, data=0, next=None, random=None):\n",
        "        self.data = data\n",
        "        self.next = next\n",
        "        self.random = random\n",
        "\n",
        "def clone(h1):\n",
        "  curr = h1\n",
        "\n",
        "  while curr != None:\n",
        "    next = curr.next\n",
        "    curr.next = Node(curr.data)\n",
        "    curr.next.next = next\n",
        "    curr = next\n",
        "\n",
        "  curr = h1\n",
        "\n",
        "  while curr != None:\n",
        "    curr.next.random = curr.random.next\n",
        "    curr = curr.next.next\n",
        "\n",
        "  h2 = h1.next\n",
        "  clone = h2\n",
        "  curr = h1\n",
        "\n",
        "  while curr != None:\n",
        "    curr.next = curr.next.next\n",
        "\n",
        "    if clone.next == None:\n",
        "      clone.next = None\n",
        "\n",
        "    else:\n",
        "      clone.next = clone.next.next\n",
        "\n",
        "    clone = clone.next\n",
        "    curr = curr.next\n",
        "\n",
        "  return h2\n",
        "\n",
        "def printList(head):\n",
        "    curr = head\n",
        "    while curr:\n",
        "        random_data = curr.random.data if curr.random else None\n",
        "        print(f\"Node data: {curr.data}, Random points to: {random_data}\")\n",
        "        curr = curr.next\n",
        "\n",
        "node1 = Node(1)\n",
        "node2 = Node(2)\n",
        "node3 = Node(3)\n",
        "node4 = Node(4)\n",
        "\n",
        "node1.next = node2\n",
        "node2.next = node3\n",
        "node3.next = node4\n",
        "\n",
        "node1.random = node3  # 1's random points to 3\n",
        "node2.random = node1  # 2's random points to 1\n",
        "node3.random = node4  # 3's random points to 4\n",
        "node4.random = node2  # 4's random points to 2\n",
        "\n",
        "print(\"Original list:\")\n",
        "printList(node1)\n",
        "\n",
        "# Cloning the list\n",
        "cloned_head = clone(node1)\n",
        "\n",
        "print(\"\\nCloned list:\")\n",
        "printList(cloned_head)\n",
        "\n",
        "# Time Complexity : O(1)"
      ],
      "metadata": {
        "colab": {
          "base_uri": "https://localhost:8080/"
        },
        "id": "BXw0Mzr38LsD",
        "outputId": "54a6b2af-ef6f-471e-f1c1-e797a3de3de0"
      },
      "execution_count": 8,
      "outputs": [
        {
          "output_type": "stream",
          "name": "stdout",
          "text": [
            "Original list:\n",
            "Node data: 1, Random points to: 3\n",
            "Node data: 2, Random points to: 1\n",
            "Node data: 3, Random points to: 4\n",
            "Node data: 4, Random points to: 2\n",
            "\n",
            "Cloned list:\n",
            "Node data: 1, Random points to: 3\n",
            "Node data: 2, Random points to: 1\n",
            "Node data: 3, Random points to: 4\n",
            "Node data: 4, Random points to: 2\n"
          ]
        }
      ]
    },
    {
      "cell_type": "markdown",
      "source": [
        "# Merge Two Sorted LinkedLists\n",
        "\n",
        "I/P : 10 -> 20 -> 30 ; 5 -> 25\n",
        "\n",
        "O/P : 5 -> 10 -> 20 -> 25 -> 30\n",
        "\n",
        "\n",
        "### Idea : Comparing both Linked List at Same"
      ],
      "metadata": {
        "id": "1XJ8Js5Y9J__"
      }
    },
    {
      "cell_type": "code",
      "source": [
        "# Implementation\n",
        "\n",
        "class Node:\n",
        "    def __init__(self, data=0, next=None):\n",
        "        self.data = data\n",
        "        self.next = next\n",
        "\n",
        "def sortedMerge(a, b):\n",
        "  if a == None:\n",
        "    return b\n",
        "\n",
        "  if b == None:\n",
        "    return a\n",
        "\n",
        "  head, tail = None, None\n",
        "\n",
        "  if a.data <= b.data:\n",
        "    head = tail = a\n",
        "    a = a.next\n",
        "\n",
        "  else:\n",
        "    head = tail = b\n",
        "    b = b.next\n",
        "\n",
        "  while a != None and b != None:\n",
        "    if a.data <= b.data:\n",
        "      tail.next = a\n",
        "      tail = a\n",
        "      a = a.next\n",
        "    else:\n",
        "      tail.next = b\n",
        "      tail = b\n",
        "      b = b.next\n",
        "\n",
        "  if a == None:\n",
        "    tail.next = b\n",
        "  else:\n",
        "    tail.next = a\n",
        "\n",
        "  return head\n",
        "\n",
        "def printList(head):\n",
        "    curr = head\n",
        "    while curr:\n",
        "        print(curr.data, end=\" -> \")\n",
        "        curr = curr.next\n",
        "    print(\"None\")\n",
        "\n",
        "list1 = Node(1)\n",
        "list1.next = Node(3)\n",
        "list1.next.next = Node(5)\n",
        "\n",
        "list2 = Node(2)\n",
        "list2.next = Node(4)\n",
        "list2.next.next = Node(6)\n",
        "\n",
        "print(\"List 1:\")\n",
        "printList(list1)\n",
        "\n",
        "print(\"List 2:\")\n",
        "printList(list2)\n",
        "\n",
        "merged_head = sortedMerge(list1, list2)\n",
        "\n",
        "print()\n",
        "print(\"Merged sorted list:\")\n",
        "printList(merged_head)\n",
        "\n",
        "\n",
        "# Time Complexity : O(m + n)\n",
        "# Space Complexity : O(1)"
      ],
      "metadata": {
        "colab": {
          "base_uri": "https://localhost:8080/"
        },
        "id": "lRc867D88_i0",
        "outputId": "19e40536-b602-45dc-a81f-ef1700183bc0"
      },
      "execution_count": 10,
      "outputs": [
        {
          "output_type": "stream",
          "name": "stdout",
          "text": [
            "List 1:\n",
            "1 -> 3 -> 5 -> None\n",
            "List 2:\n",
            "2 -> 4 -> 6 -> None\n",
            "\n",
            "Merged sorted list:\n",
            "1 -> 2 -> 3 -> 4 -> 5 -> 6 -> None\n"
          ]
        }
      ]
    },
    {
      "cell_type": "markdown",
      "source": [
        "# Palindrome Linked List\n",
        "\n",
        "I/P : R -> A -> D -> A -> R\n",
        "\n",
        "O/P : yes"
      ],
      "metadata": {
        "id": "odxNKw8A-cpi"
      }
    },
    {
      "cell_type": "code",
      "source": [
        "# Naive Solution\n",
        "\n",
        "class Node:\n",
        "    def __init__(self, data=0, next=None):\n",
        "        self.data = data\n",
        "        self.next = next\n",
        "\n",
        "def isPalin(head):\n",
        "  stack = []\n",
        "  curr = head\n",
        "\n",
        "  while curr != None:\n",
        "    stack.append(curr.data)\n",
        "    curr = curr.next\n",
        "\n",
        "  curr = head\n",
        "\n",
        "  while curr != None:\n",
        "    if stack.pop() != curr.data:\n",
        "      return False\n",
        "\n",
        "    curr = curr.next\n",
        "\n",
        "  return True\n",
        "\n",
        "def printList(head):\n",
        "    curr = head\n",
        "    while curr:\n",
        "        print(curr.data, end=\" -> \")\n",
        "        curr = curr.next\n",
        "    print(\"None\")\n",
        "\n",
        "palindrome_list = Node(1)\n",
        "palindrome_list.next = Node(2)\n",
        "palindrome_list.next.next = Node(3)\n",
        "palindrome_list.next.next.next = Node(2)\n",
        "palindrome_list.next.next.next.next = Node(1)\n",
        "\n",
        "print(\"Palindrome List:\")\n",
        "printList(palindrome_list)\n",
        "\n",
        "result = isPalin(palindrome_list)\n",
        "print(f\"Is the list a palindrome? {result}\")\n",
        "\n",
        "non_palindrome_list = Node(1)\n",
        "non_palindrome_list.next = Node(2)\n",
        "non_palindrome_list.next.next = Node(3)\n",
        "non_palindrome_list.next.next.next = Node(4)\n",
        "\n",
        "print(\"\\nNon-Palindrome List:\")\n",
        "printList(non_palindrome_list)\n",
        "\n",
        "result = isPalin(non_palindrome_list)\n",
        "print(f\"Is the list a palindrome? {result}\")\n",
        "\n",
        "# Time Complexity : O(n)\n",
        "# Space Complexity : O(n)"
      ],
      "metadata": {
        "colab": {
          "base_uri": "https://localhost:8080/"
        },
        "id": "7xdN7Ty9-QD4",
        "outputId": "8b746d36-878d-446a-ec60-e722918e3390"
      },
      "execution_count": 11,
      "outputs": [
        {
          "output_type": "stream",
          "name": "stdout",
          "text": [
            "Palindrome List:\n",
            "1 -> 2 -> 3 -> 2 -> 1 -> None\n",
            "Is the list a palindrome? True\n",
            "\n",
            "Non-Palindrome List:\n",
            "1 -> 2 -> 3 -> 4 -> None\n",
            "Is the list a palindrome? False\n"
          ]
        }
      ]
    },
    {
      "cell_type": "code",
      "source": [
        "# Efficient Solution\n",
        "\n",
        "class Node:\n",
        "    def __init__(self, data=0, next=None):\n",
        "        self.data = data\n",
        "        self.next = next\n",
        "\n",
        "def reverseList(head):\n",
        "    prev = None\n",
        "    curr = head\n",
        "\n",
        "    while curr != None:\n",
        "        next_node = curr.next\n",
        "        curr.next = prev\n",
        "        prev = curr\n",
        "        curr = next_node\n",
        "\n",
        "    return prev\n",
        "\n",
        "def isPalin(head):\n",
        "    if head is None:\n",
        "        return True\n",
        "\n",
        "    slow, fast = head, head\n",
        "\n",
        "    while fast.next != None and fast.next.next != None:\n",
        "        slow = slow.next\n",
        "        fast = fast.next.next\n",
        "\n",
        "    rev = reverseList(slow.next)\n",
        "    curr = head\n",
        "\n",
        "    while rev != None:\n",
        "        if rev.data != curr.data:\n",
        "            return False\n",
        "        rev = rev.next\n",
        "        curr = curr.next\n",
        "\n",
        "    return True\n",
        "\n",
        "def printList(head):\n",
        "    curr = head\n",
        "    while curr:\n",
        "        print(curr.data, end=\" -> \")\n",
        "        curr = curr.next\n",
        "    print(\"None\")\n",
        "\n",
        "palindrome_list = Node(1)\n",
        "palindrome_list.next = Node(2)\n",
        "palindrome_list.next.next = Node(3)\n",
        "palindrome_list.next.next.next = Node(2)\n",
        "palindrome_list.next.next.next.next = Node(1)\n",
        "\n",
        "print(\"Palindrome List:\")\n",
        "printList(palindrome_list)\n",
        "result = isPalin(palindrome_list)\n",
        "print(f\"Is the list a palindrome? {result}\")\n",
        "\n",
        "non_palindrome_list = Node(1)\n",
        "non_palindrome_list.next = Node(2)\n",
        "non_palindrome_list.next.next = Node(3)\n",
        "non_palindrome_list.next.next.next = Node(4)\n",
        "\n",
        "print(\"\\nNon-Palindrome List:\")\n",
        "printList(non_palindrome_list)\n",
        "result = isPalin(non_palindrome_list)\n",
        "print(f\"Is the list a palindrome? {result}\")\n",
        "\n",
        "# Time Complexity : O(n)\n",
        "# Space Complexity : O(1)"
      ],
      "metadata": {
        "colab": {
          "base_uri": "https://localhost:8080/"
        },
        "id": "s6YEDGIb_dVO",
        "outputId": "a0a30880-7cb0-4b4a-d747-24a088aa0ca4"
      },
      "execution_count": 14,
      "outputs": [
        {
          "output_type": "stream",
          "name": "stdout",
          "text": [
            "Palindrome List:\n",
            "1 -> 2 -> 3 -> 2 -> 1 -> None\n",
            "Is the list a palindrome? True\n",
            "\n",
            "Non-Palindrome List:\n",
            "1 -> 2 -> 3 -> 4 -> None\n",
            "Is the list a palindrome? False\n"
          ]
        }
      ]
    },
    {
      "cell_type": "code",
      "source": [],
      "metadata": {
        "id": "ig00IX11AEJx"
      },
      "execution_count": null,
      "outputs": []
    }
  ]
}